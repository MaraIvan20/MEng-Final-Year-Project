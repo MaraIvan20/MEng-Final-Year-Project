{
 "cells": [
  {
   "cell_type": "code",
   "execution_count": 1,
   "metadata": {},
   "outputs": [],
   "source": [
    "import os \n",
    "\n",
    "from CURBD.curbd import *\n",
    "from PyalData.pyaldata import *"
   ]
  },
  {
   "cell_type": "code",
   "execution_count": null,
   "metadata": {},
   "outputs": [],
   "source": [
    "data_dir = \"datasets/autism data/AS-M351/\"\n",
    "fname = os.path.join(data_dir, \"all_pez_data.mat\")"
   ]
  },
  {
   "cell_type": "code",
   "execution_count": 3,
   "metadata": {},
   "outputs": [
    {
     "name": "stdout",
     "output_type": "stream",
     "text": [
      "field acc could not be converted to int.\n",
      "field acc_nosmooth could not be converted to int.\n",
      "field da could not be converted to int.\n",
      "field da_nosmooth could not be converted to int.\n",
      "field dcn could not be converted to int.\n",
      "field digit1 could not be converted to int.\n",
      "field digit3 could not be converted to int.\n",
      "field ga could not be converted to int.\n",
      "field ga_nosmooth could not be converted to int.\n",
      "field grab could not be converted to int.\n",
      "field hand could not be converted to int.\n",
      "field m1 could not be converted to int.\n",
      "field max_ga could not be converted to int.\n",
      "field max_vel could not be converted to int.\n",
      "field mend could not be converted to int.\n",
      "field min_pd could not be converted to int.\n",
      "field mo could not be converted to int.\n",
      "field pd could not be converted to int.\n",
      "field pd_nosmooth could not be converted to int.\n",
      "field str could not be converted to int.\n",
      "field success could not be converted to int.\n",
      "field sup could not be converted to int.\n",
      "field thal could not be converted to int.\n",
      "field vel could not be converted to int.\n",
      "field vel_nosmooth could not be converted to int.\n"
     ]
    }
   ],
   "source": [
    "# load TrialData .mat file into a DataFrame\n",
    "df = mat2dataframe(fname, shift_idx_fields=True)"
   ]
  },
  {
   "cell_type": "code",
   "execution_count": 4,
   "metadata": {},
   "outputs": [
    {
     "data": {
      "text/plain": [
       "(338, 26)"
      ]
     },
     "execution_count": 4,
     "metadata": {},
     "output_type": "execute_result"
    }
   ],
   "source": [
    "df.shape"
   ]
  },
  {
   "cell_type": "code",
   "execution_count": 5,
   "metadata": {},
   "outputs": [],
   "source": [
    "df_successful = select_trials(df, \"success == 1\")"
   ]
  },
  {
   "cell_type": "code",
   "execution_count": 6,
   "metadata": {},
   "outputs": [
    {
     "data": {
      "text/plain": [
       "(91, 26)"
      ]
     },
     "execution_count": 6,
     "metadata": {},
     "output_type": "execute_result"
    }
   ],
   "source": [
    "df_successful.shape"
   ]
  },
  {
   "cell_type": "code",
   "execution_count": 7,
   "metadata": {},
   "outputs": [],
   "source": [
    "df_unsuccessful = select_trials(df, \"success == 0\")"
   ]
  },
  {
   "cell_type": "code",
   "execution_count": 8,
   "metadata": {},
   "outputs": [
    {
     "data": {
      "text/plain": [
       "(169, 26)"
      ]
     },
     "execution_count": 8,
     "metadata": {},
     "output_type": "execute_result"
    }
   ],
   "source": [
    "df_unsuccessful.shape"
   ]
  },
  {
   "cell_type": "code",
   "execution_count": 2,
   "metadata": {},
   "outputs": [],
   "source": [
    "data_dir = \"datasets/autism data/PS-M365/\"\n",
    "fname = os.path.join(data_dir, \"all_pez_data.mat\")"
   ]
  },
  {
   "cell_type": "code",
   "execution_count": 3,
   "metadata": {},
   "outputs": [
    {
     "name": "stdout",
     "output_type": "stream",
     "text": [
      "array field acc could not be converted to int.\n",
      "array field acc_nosmooth could not be converted to int.\n",
      "array field da could not be converted to int.\n",
      "array field da_nosmooth could not be converted to int.\n",
      "array field dcn could not be converted to int.\n",
      "array field digit1 could not be converted to int.\n",
      "array field digit3 could not be converted to int.\n",
      "array field ga could not be converted to int.\n",
      "array field ga_nosmooth could not be converted to int.\n",
      "array field grab could not be converted to int.\n",
      "array field hand could not be converted to int.\n",
      "array field m1 could not be converted to int.\n",
      "array field max_ga could not be converted to int.\n",
      "array field max_vel could not be converted to int.\n",
      "array field mend could not be converted to int.\n",
      "array field min_pd could not be converted to int.\n",
      "array field mo could not be converted to int.\n",
      "array field pd could not be converted to int.\n",
      "array field pd_nosmooth could not be converted to int.\n",
      "array field str could not be converted to int.\n",
      "array field success could not be converted to int.\n",
      "field sup could not be converted to int.\n",
      "array field thal could not be converted to int.\n",
      "array field vel could not be converted to int.\n",
      "array field vel_nosmooth could not be converted to int.\n"
     ]
    }
   ],
   "source": [
    "# load TrialData .mat file into a DataFrame\n",
    "df_wt_m355 = mat2dataframe(fname, shift_idx_fields=True)"
   ]
  },
  {
   "cell_type": "code",
   "execution_count": 4,
   "metadata": {},
   "outputs": [
    {
     "data": {
      "text/plain": [
       "(1020, 26)"
      ]
     },
     "execution_count": 4,
     "metadata": {},
     "output_type": "execute_result"
    }
   ],
   "source": [
    "df_wt_m355.shape"
   ]
  },
  {
   "cell_type": "code",
   "execution_count": 6,
   "metadata": {},
   "outputs": [],
   "source": [
    "df_m355_successful = select_trials(df_wt_m355, \"success == 1\")"
   ]
  },
  {
   "cell_type": "code",
   "execution_count": 7,
   "metadata": {},
   "outputs": [
    {
     "data": {
      "text/plain": [
       "(116, 26)"
      ]
     },
     "execution_count": 7,
     "metadata": {},
     "output_type": "execute_result"
    }
   ],
   "source": [
    "df_m355_successful.shape"
   ]
  },
  {
   "cell_type": "code",
   "execution_count": 8,
   "metadata": {},
   "outputs": [],
   "source": [
    "df_m355_unsuccessful = select_trials(df_wt_m355, \"success == 0\")"
   ]
  },
  {
   "cell_type": "code",
   "execution_count": 9,
   "metadata": {},
   "outputs": [
    {
     "data": {
      "text/plain": [
       "(424, 26)"
      ]
     },
     "execution_count": 9,
     "metadata": {},
     "output_type": "execute_result"
    }
   ],
   "source": [
    "df_m355_unsuccessful.shape"
   ]
  },
  {
   "cell_type": "code",
   "execution_count": 11,
   "metadata": {},
   "outputs": [],
   "source": [
    "data_dir = \"datasets/autism data/WT-M350/\"\n",
    "fname = os.path.join(data_dir, \"all_pez_data.mat\")"
   ]
  },
  {
   "cell_type": "code",
   "execution_count": 12,
   "metadata": {},
   "outputs": [
    {
     "name": "stdout",
     "output_type": "stream",
     "text": [
      "array field acc could not be converted to int.\n",
      "array field acc_nosmooth could not be converted to int.\n",
      "array field da could not be converted to int.\n",
      "array field da_nosmooth could not be converted to int.\n",
      "array field dcn could not be converted to int.\n",
      "array field digit1 could not be converted to int.\n",
      "array field digit3 could not be converted to int.\n",
      "array field ga could not be converted to int.\n",
      "array field ga_nosmooth could not be converted to int.\n",
      "array field grab could not be converted to int.\n",
      "array field hand could not be converted to int.\n",
      "array field m1 could not be converted to int.\n",
      "array field max_acc could not be converted to int.\n",
      "array field max_ga could not be converted to int.\n",
      "array field max_vel could not be converted to int.\n",
      "array field mend could not be converted to int.\n",
      "array field min_acc could not be converted to int.\n",
      "array field min_pd could not be converted to int.\n",
      "array field mo could not be converted to int.\n",
      "array field pd could not be converted to int.\n",
      "array field pd_nosmooth could not be converted to int.\n",
      "array field session could not be converted to int.\n",
      "array field str could not be converted to int.\n",
      "array field success could not be converted to int.\n",
      "field sup could not be converted to int.\n",
      "array field vel could not be converted to int.\n",
      "array field vel_nosmooth could not be converted to int.\n"
     ]
    }
   ],
   "source": [
    "# load TrialData .mat file into a DataFrame\n",
    "df_wt_m355 = mat2dataframe(fname, shift_idx_fields=True)"
   ]
  },
  {
   "cell_type": "code",
   "execution_count": 13,
   "metadata": {},
   "outputs": [
    {
     "data": {
      "text/plain": [
       "(424, 27)"
      ]
     },
     "execution_count": 13,
     "metadata": {},
     "output_type": "execute_result"
    }
   ],
   "source": [
    "df_wt_m355.shape"
   ]
  },
  {
   "cell_type": "code",
   "execution_count": 14,
   "metadata": {},
   "outputs": [],
   "source": [
    "df_m355_successful = select_trials(df_wt_m355, \"success == 1\")"
   ]
  },
  {
   "cell_type": "code",
   "execution_count": 15,
   "metadata": {},
   "outputs": [
    {
     "data": {
      "text/plain": [
       "(179, 27)"
      ]
     },
     "execution_count": 15,
     "metadata": {},
     "output_type": "execute_result"
    }
   ],
   "source": [
    "df_m355_successful.shape"
   ]
  },
  {
   "cell_type": "code",
   "execution_count": 16,
   "metadata": {},
   "outputs": [],
   "source": [
    "df_m355_unsuccessful = select_trials(df_wt_m355, \"success == 0\")"
   ]
  },
  {
   "cell_type": "code",
   "execution_count": 17,
   "metadata": {},
   "outputs": [
    {
     "data": {
      "text/plain": [
       "(159, 27)"
      ]
     },
     "execution_count": 17,
     "metadata": {},
     "output_type": "execute_result"
    }
   ],
   "source": [
    "df_m355_unsuccessful.shape"
   ]
  },
  {
   "cell_type": "code",
   "execution_count": 18,
   "metadata": {},
   "outputs": [],
   "source": [
    "data_dir = \"datasets/autism data/AS-M354/\"\n",
    "fname = os.path.join(data_dir, \"all_pez_data.mat\")"
   ]
  },
  {
   "cell_type": "code",
   "execution_count": 19,
   "metadata": {},
   "outputs": [
    {
     "name": "stdout",
     "output_type": "stream",
     "text": [
      "array field acc could not be converted to int.\n",
      "array field acc_nosmooth could not be converted to int.\n",
      "array field da could not be converted to int.\n",
      "array field da_nosmooth could not be converted to int.\n",
      "array field dcn could not be converted to int.\n",
      "array field digit1 could not be converted to int.\n",
      "array field digit3 could not be converted to int.\n",
      "array field ga could not be converted to int.\n",
      "array field ga_nosmooth could not be converted to int.\n",
      "array field grab could not be converted to int.\n",
      "array field hand could not be converted to int.\n",
      "array field m1 could not be converted to int.\n",
      "array field max_ga could not be converted to int.\n",
      "array field max_vel could not be converted to int.\n",
      "array field mend could not be converted to int.\n",
      "array field min_pd could not be converted to int.\n",
      "array field mo could not be converted to int.\n",
      "array field pd could not be converted to int.\n",
      "array field pd_nosmooth could not be converted to int.\n",
      "array field str could not be converted to int.\n",
      "array field success could not be converted to int.\n",
      "field sup could not be converted to int.\n",
      "array field vel could not be converted to int.\n",
      "array field vel_nosmooth could not be converted to int.\n"
     ]
    }
   ],
   "source": [
    "# load TrialData .mat file into a DataFrame\n",
    "df = mat2dataframe(fname, shift_idx_fields=True)"
   ]
  },
  {
   "cell_type": "code",
   "execution_count": 20,
   "metadata": {},
   "outputs": [],
   "source": [
    "df_successful = select_trials(df, \"success == 1\")"
   ]
  },
  {
   "cell_type": "code",
   "execution_count": 21,
   "metadata": {},
   "outputs": [],
   "source": [
    "df_unsuccessful = select_trials(df, \"success == 0\")"
   ]
  },
  {
   "cell_type": "code",
   "execution_count": 22,
   "metadata": {},
   "outputs": [
    {
     "data": {
      "text/plain": [
       "(144, 25)"
      ]
     },
     "execution_count": 22,
     "metadata": {},
     "output_type": "execute_result"
    }
   ],
   "source": [
    "df_successful.shape"
   ]
  },
  {
   "cell_type": "code",
   "execution_count": 24,
   "metadata": {},
   "outputs": [
    {
     "data": {
      "text/plain": [
       "(137, 25)"
      ]
     },
     "execution_count": 24,
     "metadata": {},
     "output_type": "execute_result"
    }
   ],
   "source": [
    "df_unsuccessful.shape"
   ]
  },
  {
   "cell_type": "code",
   "execution_count": null,
   "metadata": {},
   "outputs": [],
   "source": []
  },
  {
   "cell_type": "code",
   "execution_count": 2,
   "metadata": {},
   "outputs": [],
   "source": [
    "data_dir = \"datasets/autism data/PS-M366/\"\n",
    "fname = os.path.join(data_dir, \"all_pez_data.mat\")"
   ]
  },
  {
   "cell_type": "code",
   "execution_count": 3,
   "metadata": {},
   "outputs": [
    {
     "name": "stdout",
     "output_type": "stream",
     "text": [
      "array field acc could not be converted to int.\n",
      "array field acc_nosmooth could not be converted to int.\n",
      "array field da could not be converted to int.\n",
      "array field da_nosmooth could not be converted to int.\n",
      "array field dcn could not be converted to int.\n",
      "array field digit1 could not be converted to int.\n",
      "array field digit3 could not be converted to int.\n",
      "array field ga could not be converted to int.\n",
      "array field ga_nosmooth could not be converted to int.\n",
      "array field grab could not be converted to int.\n",
      "array field hand could not be converted to int.\n",
      "array field m1 could not be converted to int.\n",
      "array field max_ga could not be converted to int.\n",
      "array field max_vel could not be converted to int.\n",
      "array field mend could not be converted to int.\n",
      "array field min_pd could not be converted to int.\n",
      "array field mo could not be converted to int.\n",
      "array field pd could not be converted to int.\n",
      "array field pd_nosmooth could not be converted to int.\n",
      "array field str could not be converted to int.\n",
      "array field success could not be converted to int.\n",
      "field sup could not be converted to int.\n",
      "array field thal could not be converted to int.\n",
      "array field vel could not be converted to int.\n",
      "array field vel_nosmooth could not be converted to int.\n"
     ]
    }
   ],
   "source": [
    "# load TrialData .mat file into a DataFrame\n",
    "df = mat2dataframe(fname, shift_idx_fields=True)"
   ]
  },
  {
   "cell_type": "code",
   "execution_count": 4,
   "metadata": {},
   "outputs": [],
   "source": [
    "df_successful = select_trials(df, \"success == 1\")"
   ]
  },
  {
   "cell_type": "code",
   "execution_count": 5,
   "metadata": {},
   "outputs": [],
   "source": [
    "df_unsuccessful = select_trials(df, \"success == 0\")"
   ]
  },
  {
   "cell_type": "code",
   "execution_count": 6,
   "metadata": {},
   "outputs": [
    {
     "data": {
      "text/plain": [
       "(331, 26)"
      ]
     },
     "execution_count": 6,
     "metadata": {},
     "output_type": "execute_result"
    }
   ],
   "source": [
    "df_successful.shape"
   ]
  },
  {
   "cell_type": "code",
   "execution_count": 7,
   "metadata": {},
   "outputs": [
    {
     "data": {
      "text/plain": [
       "(201, 26)"
      ]
     },
     "execution_count": 7,
     "metadata": {},
     "output_type": "execute_result"
    }
   ],
   "source": [
    "df_unsuccessful.shape"
   ]
  },
  {
   "cell_type": "code",
   "execution_count": 2,
   "metadata": {},
   "outputs": [],
   "source": [
    "data_dir = \"datasets/autism data/WT-M355/\"\n",
    "fname = os.path.join(data_dir, \"all_pez_data.mat\")"
   ]
  },
  {
   "cell_type": "code",
   "execution_count": 3,
   "metadata": {},
   "outputs": [
    {
     "name": "stdout",
     "output_type": "stream",
     "text": [
      "array field acc could not be converted to int.\n",
      "array field acc_nosmooth could not be converted to int.\n",
      "array field da could not be converted to int.\n",
      "array field da_nosmooth could not be converted to int.\n",
      "array field dcn could not be converted to int.\n",
      "array field digit1 could not be converted to int.\n",
      "array field digit3 could not be converted to int.\n",
      "array field ga could not be converted to int.\n",
      "array field ga_nosmooth could not be converted to int.\n",
      "array field grab could not be converted to int.\n",
      "array field hand could not be converted to int.\n",
      "array field m1 could not be converted to int.\n",
      "array field max_ga could not be converted to int.\n",
      "array field max_vel could not be converted to int.\n",
      "array field mend could not be converted to int.\n",
      "array field min_pd could not be converted to int.\n",
      "array field mo could not be converted to int.\n",
      "array field pd could not be converted to int.\n",
      "array field pd_nosmooth could not be converted to int.\n",
      "array field str could not be converted to int.\n",
      "array field success could not be converted to int.\n",
      "array field sup could not be converted to int.\n",
      "array field thal could not be converted to int.\n",
      "array field vel could not be converted to int.\n",
      "array field vel_nosmooth could not be converted to int.\n"
     ]
    }
   ],
   "source": [
    "# load TrialData .mat file into a DataFrame\n",
    "df = mat2dataframe(fname, shift_idx_fields=True)"
   ]
  },
  {
   "cell_type": "code",
   "execution_count": 4,
   "metadata": {},
   "outputs": [],
   "source": [
    "df_successful = select_trials(df, \"success == 1\")"
   ]
  },
  {
   "cell_type": "code",
   "execution_count": 5,
   "metadata": {},
   "outputs": [
    {
     "data": {
      "text/plain": [
       "(619, 26)"
      ]
     },
     "execution_count": 5,
     "metadata": {},
     "output_type": "execute_result"
    }
   ],
   "source": [
    "df_successful.shape"
   ]
  },
  {
   "cell_type": "code",
   "execution_count": 6,
   "metadata": {},
   "outputs": [],
   "source": [
    "df_unsuccessful = select_trials(df, \"success == 0\")"
   ]
  },
  {
   "cell_type": "code",
   "execution_count": 7,
   "metadata": {},
   "outputs": [
    {
     "data": {
      "text/plain": [
       "(250, 26)"
      ]
     },
     "execution_count": 7,
     "metadata": {},
     "output_type": "execute_result"
    }
   ],
   "source": [
    "df_unsuccessful.shape"
   ]
  },
  {
   "cell_type": "code",
   "execution_count": 8,
   "metadata": {},
   "outputs": [
    {
     "data": {
      "text/plain": [
       "(1135, 26)"
      ]
     },
     "execution_count": 8,
     "metadata": {},
     "output_type": "execute_result"
    }
   ],
   "source": [
    "df.shape"
   ]
  }
 ],
 "metadata": {
  "kernelspec": {
   "display_name": "Python 3",
   "language": "python",
   "name": "python3"
  },
  "language_info": {
   "codemirror_mode": {
    "name": "ipython",
    "version": 3
   },
   "file_extension": ".py",
   "mimetype": "text/x-python",
   "name": "python",
   "nbconvert_exporter": "python",
   "pygments_lexer": "ipython3",
   "version": "3.10.5"
  }
 },
 "nbformat": 4,
 "nbformat_minor": 2
}
