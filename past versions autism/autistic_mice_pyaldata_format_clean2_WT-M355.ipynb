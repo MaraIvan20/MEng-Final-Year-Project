{
 "cells": [
  {
   "cell_type": "code",
   "execution_count": 1,
   "metadata": {},
   "outputs": [],
   "source": [
    "import os\n",
    "import hdf5storage\n",
    "import mat73\n",
    "import pandas as pd\n",
    "import numpy as np"
   ]
  },
  {
   "cell_type": "code",
   "execution_count": 2,
   "metadata": {},
   "outputs": [],
   "source": [
    "data_dir = \"datasets/autism data/WT-M355/\"\n",
    "fname = os.path.join(data_dir, \"all_pez_data.mat\")\n",
    "mat = mat73.loadmat(fname)\n",
    "real_keys = [k for k in mat.keys() if not (k.startswith(\"__\") and k.endswith(\"__\"))]\n",
    "td_name = real_keys[0]\n",
    "df = pd.DataFrame(mat[td_name])"
   ]
  },
  {
   "cell_type": "code",
   "execution_count": 3,
   "metadata": {},
   "outputs": [
    {
     "data": {
      "text/plain": [
       "0      0.0\n",
       "1      1.0\n",
       "2      0.0\n",
       "3      1.0\n",
       "4      1.0\n",
       "      ... \n",
       "864    1.0\n",
       "865    1.0\n",
       "866    1.0\n",
       "867    0.0\n",
       "868    0.0\n",
       "Name: success, Length: 869, dtype: object"
      ]
     },
     "execution_count": 3,
     "metadata": {},
     "output_type": "execute_result"
    }
   ],
   "source": [
    "# Keep only rows with data: (get rid of rows full of None)\n",
    "df_new = df[df['success'] <= 1]\n",
    "# Re-indexing to consecutive indices\n",
    "df_new.index = range(len(df_new))\n",
    "df_new[\"success\"]"
   ]
  },
  {
   "cell_type": "code",
   "execution_count": 4,
   "metadata": {},
   "outputs": [
    {
     "data": {
      "text/plain": [
       "(869, 26)"
      ]
     },
     "execution_count": 4,
     "metadata": {},
     "output_type": "execute_result"
    }
   ],
   "source": [
    "df_new.shape"
   ]
  },
  {
   "cell_type": "code",
   "execution_count": 5,
   "metadata": {},
   "outputs": [
    {
     "name": "stderr",
     "output_type": "stream",
     "text": [
      "C:\\Users\\MARA\\AppData\\Local\\Temp\\ipykernel_14944\\2801494275.py:9: SettingWithCopyWarning: \n",
      "A value is trying to be set on a copy of a slice from a DataFrame\n",
      "\n",
      "See the caveats in the documentation: https://pandas.pydata.org/pandas-docs/stable/user_guide/indexing.html#returning-a-view-versus-a-copy\n",
      "  df_new.vel[no_trial] = np.pad(df_new.vel[no_trial], (0, length_diff), mode='constant', constant_values=0)\n",
      "C:\\Users\\MARA\\AppData\\Local\\Temp\\ipykernel_14944\\2801494275.py:15: SettingWithCopyWarning: \n",
      "A value is trying to be set on a copy of a slice from a DataFrame\n",
      "\n",
      "See the caveats in the documentation: https://pandas.pydata.org/pandas-docs/stable/user_guide/indexing.html#returning-a-view-versus-a-copy\n",
      "  df_new.acc[no_trial] = np.pad(df_new.acc[no_trial], (0, length_diff), mode='constant', constant_values=0)\n"
     ]
    }
   ],
   "source": [
    "# padd the velocity and acceleration to have same size (same number of timesteps) as trajectory (hand in our dataset):\n",
    "# padd with zeros at the end because we consider that the hand is back on perch-- end of movement; also we know that velocity at timestep t is calculated wrt to positions at (t+1) and t, same for the acc; so end of the arrays vel and acc need to be padded\n",
    "i = 0\n",
    "\n",
    "for no_trial in range(len(df_new)):\n",
    "    try:\n",
    "        if df_new.vel[no_trial].shape[0] < df_new.hand[no_trial].shape[1]:\n",
    "            length_diff = df_new.hand[no_trial].shape[1] - df_new.vel[no_trial].shape[0]\n",
    "            df_new.vel[no_trial] = np.pad(df_new.vel[no_trial], (0, length_diff), mode='constant', constant_values=0)\n",
    "        elif df_new.vel[no_trial].shape[0] > df_new.hand[no_trial].shape[1]:\n",
    "            df_new.vel[no_trial] = df_new.vel[no_trial][:len(df_new.hand[no_trial])]\n",
    "\n",
    "        if df_new.acc[no_trial].shape[0] < df_new.hand[no_trial].shape[1]:\n",
    "            length_diff = df_new.hand[no_trial].shape[1] - df_new.acc[no_trial].shape[0]\n",
    "            df_new.acc[no_trial] = np.pad(df_new.acc[no_trial], (0, length_diff), mode='constant', constant_values=0)\n",
    "        elif df_new.acc[no_trial].shape[0] > df_new.hand[no_trial].shape[1]:\n",
    "            df_new.acc[no_trial] = df_new.acc[no_trial][:len(df_new.hand[no_trial])]\n",
    "\n",
    "\n",
    "    except:\n",
    "        print(\"exception\")\n",
    "        i +=1\n",
    "        print(df_new.vel[no_trial].shape)\n",
    "        df_new = df_new.drop(no_trial)\n",
    "        # Re-indexing to consecutive indices\n",
    "        df_new.index = range(len(df_new))\n",
    "\n",
    "\n",
    "# TO DO: LOOK INTO HOW TO PAD OR REMOVE VALUES and also transpose!!!!!! FROM OTHER FIELDS SUCH AS digit1 etc TO MAKE EVERYTHING THE SAME SIZE AS THE hand FIELD.\n"
   ]
  },
  {
   "cell_type": "code",
   "execution_count": 6,
   "metadata": {},
   "outputs": [
    {
     "name": "stderr",
     "output_type": "stream",
     "text": [
      "C:\\Users\\MARA\\AppData\\Local\\Temp\\ipykernel_14944\\3963034535.py:4: SettingWithCopyWarning: \n",
      "A value is trying to be set on a copy of a slice from a DataFrame\n",
      "\n",
      "See the caveats in the documentation: https://pandas.pydata.org/pandas-docs/stable/user_guide/indexing.html#returning-a-view-versus-a-copy\n",
      "  df_new.hand[trial_no] = np.transpose(df_new.hand[trial_no])\n"
     ]
    }
   ],
   "source": [
    "# Transpose the hand trajectory to be timesteps x dimensions, because when searching for time-varying fields in pyaldata for e.g. in combine_time_bins, we account for shape[0]\n",
    "\n",
    "for trial_no in range(len(df_new.hand)):\n",
    "    df_new.hand[trial_no] = np.transpose(df_new.hand[trial_no])\n",
    "\n",
    "# TO DO: TRANSPOSE OTHER FIELDS AS WELL, E.G. DIGIT1?"
   ]
  },
  {
   "cell_type": "code",
   "execution_count": 7,
   "metadata": {},
   "outputs": [
    {
     "data": {
      "text/plain": [
       "(2498, 3)"
      ]
     },
     "execution_count": 7,
     "metadata": {},
     "output_type": "execute_result"
    }
   ],
   "source": [
    "df_new.hand[77].shape"
   ]
  },
  {
   "cell_type": "code",
   "execution_count": 8,
   "metadata": {},
   "outputs": [
    {
     "data": {
      "text/plain": [
       "(869, 26)"
      ]
     },
     "execution_count": 8,
     "metadata": {},
     "output_type": "execute_result"
    }
   ],
   "source": [
    "df_new.shape"
   ]
  },
  {
   "cell_type": "code",
   "execution_count": 9,
   "metadata": {},
   "outputs": [
    {
     "name": "stderr",
     "output_type": "stream",
     "text": [
      "C:\\Users\\MARA\\AppData\\Local\\Temp\\ipykernel_14944\\1567369540.py:2: SettingWithCopyWarning: \n",
      "A value is trying to be set on a copy of a slice from a DataFrame\n",
      "\n",
      "See the caveats in the documentation: https://pandas.pydata.org/pandas-docs/stable/user_guide/indexing.html#returning-a-view-versus-a-copy\n",
      "  df_new.rename(columns={'m1':'m1_spikes'}, inplace=True)\n",
      "C:\\Users\\MARA\\AppData\\Local\\Temp\\ipykernel_14944\\1567369540.py:7: SettingWithCopyWarning: \n",
      "A value is trying to be set on a copy of a slice from a DataFrame\n",
      "\n",
      "See the caveats in the documentation: https://pandas.pydata.org/pandas-docs/stable/user_guide/indexing.html#returning-a-view-versus-a-copy\n",
      "  df_new.m1_spikes[no_trial] = np.delete(df_new.m1_spikes[no_trial], list(range(2500))+list(range(2500+df_new.hand[no_trial].shape[0], df_new.m1_spikes[no_trial].shape[1])), 1)\n"
     ]
    },
    {
     "name": "stderr",
     "output_type": "stream",
     "text": [
      "C:\\Users\\MARA\\AppData\\Local\\Temp\\ipykernel_14944\\1567369540.py:17: SettingWithCopyWarning: \n",
      "A value is trying to be set on a copy of a slice from a DataFrame\n",
      "\n",
      "See the caveats in the documentation: https://pandas.pydata.org/pandas-docs/stable/user_guide/indexing.html#returning-a-view-versus-a-copy\n",
      "  df_new.rename(columns={'dcn':'dcn_spikes'}, inplace=True)\n",
      "C:\\Users\\MARA\\AppData\\Local\\Temp\\ipykernel_14944\\1567369540.py:22: SettingWithCopyWarning: \n",
      "A value is trying to be set on a copy of a slice from a DataFrame\n",
      "\n",
      "See the caveats in the documentation: https://pandas.pydata.org/pandas-docs/stable/user_guide/indexing.html#returning-a-view-versus-a-copy\n",
      "  df_new.dcn_spikes[no_trial] = np.delete(df_new.dcn_spikes[no_trial], list(range(2500))+list(range(2500+df_new.hand[no_trial].shape[0], df_new.dcn_spikes[no_trial].shape[1])), 1)\n",
      "C:\\Users\\MARA\\AppData\\Local\\Temp\\ipykernel_14944\\1567369540.py:31: SettingWithCopyWarning: \n",
      "A value is trying to be set on a copy of a slice from a DataFrame\n",
      "\n",
      "See the caveats in the documentation: https://pandas.pydata.org/pandas-docs/stable/user_guide/indexing.html#returning-a-view-versus-a-copy\n",
      "  df_new.rename(columns={'str':'str_spikes'}, inplace=True)\n",
      "C:\\Users\\MARA\\AppData\\Local\\Temp\\ipykernel_14944\\1567369540.py:36: SettingWithCopyWarning: \n",
      "A value is trying to be set on a copy of a slice from a DataFrame\n",
      "\n",
      "See the caveats in the documentation: https://pandas.pydata.org/pandas-docs/stable/user_guide/indexing.html#returning-a-view-versus-a-copy\n",
      "  df_new.str_spikes[no_trial] = np.delete(df_new.str_spikes[no_trial], list(range(2500))+list(range(2500+df_new.hand[no_trial].shape[0], df_new.str_spikes[no_trial].shape[1])), 1)\n",
      "C:\\Users\\MARA\\AppData\\Local\\Temp\\ipykernel_14944\\1567369540.py:46: SettingWithCopyWarning: \n",
      "A value is trying to be set on a copy of a slice from a DataFrame\n",
      "\n",
      "See the caveats in the documentation: https://pandas.pydata.org/pandas-docs/stable/user_guide/indexing.html#returning-a-view-versus-a-copy\n",
      "  df_new.rename(columns={'thal':'thal_spikes'}, inplace=True)\n",
      "C:\\Users\\MARA\\AppData\\Local\\Temp\\ipykernel_14944\\1567369540.py:51: SettingWithCopyWarning: \n",
      "A value is trying to be set on a copy of a slice from a DataFrame\n",
      "\n",
      "See the caveats in the documentation: https://pandas.pydata.org/pandas-docs/stable/user_guide/indexing.html#returning-a-view-versus-a-copy\n",
      "  df_new.thal_spikes[no_trial] = np.delete(df_new.thal_spikes[no_trial], list(range(2500))+list(range(2500+df_new.hand[no_trial].shape[0], df_new.thal_spikes[no_trial].shape[1])), 1)\n"
     ]
    },
    {
     "name": "stdout",
     "output_type": "stream",
     "text": [
      "exception\n"
     ]
    }
   ],
   "source": [
    "if 'm1' in df_new.columns:\n",
    "    df_new.rename(columns={'m1':'m1_spikes'}, inplace=True)\n",
    "\n",
    "    # Cut intertrial recordings from neural data, ie only keep the neural data for which we have recorded trajectories:\n",
    "    try:\n",
    "        for no_trial in range(len(df_new)):\n",
    "            df_new.m1_spikes[no_trial] = np.delete(df_new.m1_spikes[no_trial], list(range(2500))+list(range(2500+df_new.hand[no_trial].shape[0], df_new.m1_spikes[no_trial].shape[1])), 1)\n",
    "    except:\n",
    "        print(\"exception\")\n",
    "        df_new = df_new.drop(no_trial)\n",
    "        # Re-indexing to consecutive indices\n",
    "        df_new.index = range(len(df_new))\n",
    "        \n",
    "        \n",
    "\n",
    "if 'dcn' in df_new.columns:\n",
    "    df_new.rename(columns={'dcn':'dcn_spikes'}, inplace=True)\n",
    "\n",
    "        # Cut intertrial recordings from neural data, ie only keep the neural data for which we have recorded trajectories:\n",
    "    try:\n",
    "        for no_trial in range(len(df_new)):\n",
    "            df_new.dcn_spikes[no_trial] = np.delete(df_new.dcn_spikes[no_trial], list(range(2500))+list(range(2500+df_new.hand[no_trial].shape[0], df_new.dcn_spikes[no_trial].shape[1])), 1)\n",
    "    except:\n",
    "        print(\"exception\")\n",
    "        df_new = df_new.drop(no_trial)\n",
    "        # Re-indexing to consecutive indices\n",
    "        df_new.index = range(len(df_new))\n",
    "\n",
    "\n",
    "if 'str' in df_new.columns:\n",
    "    df_new.rename(columns={'str':'str_spikes'}, inplace=True)\n",
    "\n",
    "        # Cut intertrial recordings from neural data, ie only keep the neural data for which we have recorded trajectories:\n",
    "    try:\n",
    "        for no_trial in range(len(df_new)):\n",
    "            df_new.str_spikes[no_trial] = np.delete(df_new.str_spikes[no_trial], list(range(2500))+list(range(2500+df_new.hand[no_trial].shape[0], df_new.str_spikes[no_trial].shape[1])), 1)\n",
    "    except:\n",
    "        print(\"exception\")\n",
    "        df_new = df_new.drop(no_trial)\n",
    "        # Re-indexing to consecutive indices\n",
    "        df_new.index = range(len(df_new))\n",
    "    \n",
    "\n",
    "\n",
    "if 'thal' in df_new.columns:\n",
    "    df_new.rename(columns={'thal':'thal_spikes'}, inplace=True)\n",
    "\n",
    "        # Cut intertrial recordings from neural data, ie only keep the neural data for which we have recorded trajectories:\n",
    "    try:\n",
    "        for no_trial in range(len(df_new)):\n",
    "            df_new.thal_spikes[no_trial] = np.delete(df_new.thal_spikes[no_trial], list(range(2500))+list(range(2500+df_new.hand[no_trial].shape[0], df_new.thal_spikes[no_trial].shape[1])), 1)\n",
    "    except:\n",
    "        print(\"exception\")\n",
    "        df_new = df_new.drop(no_trial)\n",
    "        # Re-indexing to consecutive indices\n",
    "        df_new.index = range(len(df_new))\n",
    "        "
   ]
  },
  {
   "cell_type": "code",
   "execution_count": 10,
   "metadata": {},
   "outputs": [
    {
     "data": {
      "text/plain": [
       "(868, 26)"
      ]
     },
     "execution_count": 10,
     "metadata": {},
     "output_type": "execute_result"
    }
   ],
   "source": [
    "df_new.shape"
   ]
  },
  {
   "cell_type": "code",
   "execution_count": 11,
   "metadata": {},
   "outputs": [
    {
     "data": {
      "text/plain": [
       "(34, 2498)"
      ]
     },
     "execution_count": 11,
     "metadata": {},
     "output_type": "execute_result"
    }
   ],
   "source": [
    "df_new.str_spikes[0].shape"
   ]
  },
  {
   "cell_type": "code",
   "execution_count": 12,
   "metadata": {},
   "outputs": [
    {
     "data": {
      "text/plain": [
       "(50, 2498)"
      ]
     },
     "execution_count": 12,
     "metadata": {},
     "output_type": "execute_result"
    }
   ],
   "source": [
    "df_new.m1_spikes[0].shape"
   ]
  },
  {
   "cell_type": "code",
   "execution_count": 13,
   "metadata": {},
   "outputs": [],
   "source": [
    "df_new[\"bin_size\"] = 0.002"
   ]
  },
  {
   "cell_type": "code",
   "execution_count": 14,
   "metadata": {},
   "outputs": [
    {
     "name": "stderr",
     "output_type": "stream",
     "text": [
      "C:\\Users\\MARA\\AppData\\Local\\Temp\\ipykernel_14944\\2428299202.py:9: SettingWithCopyWarning: \n",
      "A value is trying to be set on a copy of a slice from a DataFrame\n",
      "\n",
      "See the caveats in the documentation: https://pandas.pydata.org/pandas-docs/stable/user_guide/indexing.html#returning-a-view-versus-a-copy\n",
      "  df_new[col][i] = np.asarray([-2600.])\n"
     ]
    }
   ],
   "source": [
    "# Replace None with numpy.ndarray with element -2.: (to avoid errors later and allow preprocessing in pyaldata that is mostly performed on numpy.ndarray)\n",
    "\n",
    "a = None\n",
    "b = type(None)\n",
    "\n",
    "for col in df_new.columns:\n",
    "    for i in range(len(df_new[col])):\n",
    "        if type(df_new[col][i]) == b:\n",
    "            df_new[col][i] = np.asarray([-2600.])"
   ]
  },
  {
   "cell_type": "code",
   "execution_count": 15,
   "metadata": {},
   "outputs": [
    {
     "data": {
      "text/plain": [
       "Index(['acc', 'acc_nosmooth', 'da', 'da_nosmooth', 'dcn_spikes', 'digit1',\n",
       "       'digit3', 'ga', 'ga_nosmooth', 'idx_grab', 'hand', 'm1_spikes',\n",
       "       'idx_max_ga', 'idx_max_vel', 'idx_mend', 'idx_min_pd', 'idx_mo', 'pd',\n",
       "       'pd_nosmooth', 'session', 'str_spikes', 'success', 'idx_sup',\n",
       "       'thal_spikes', 'vel', 'vel_nosmooth', 'bin_size'],\n",
       "      dtype='object')"
      ]
     },
     "execution_count": 15,
     "metadata": {},
     "output_type": "execute_result"
    }
   ],
   "source": [
    "# Rename time index fields to contain idx:\n",
    "time_index_fields = [time_index for time_index in [\"mo\", \"mend\", \"max_vel\", \"max_acc\", \"min_acc\", \"max_ga\", \"min_pd\", \"grab\", \"sup\"] if time_index in df_new.columns]\n",
    "for time_index in time_index_fields:\n",
    "    df_new.rename(columns={time_index:\"idx_\"+time_index}, inplace=True)\n",
    "\n",
    "df_new.columns"
   ]
  },
  {
   "cell_type": "code",
   "execution_count": 16,
   "metadata": {},
   "outputs": [
    {
     "name": "stderr",
     "output_type": "stream",
     "text": [
      "C:\\Users\\MARA\\AppData\\Local\\Temp\\ipykernel_14944\\1845384996.py:6: SettingWithCopyWarning: \n",
      "A value is trying to be set on a copy of a slice from a DataFrame\n",
      "\n",
      "See the caveats in the documentation: https://pandas.pydata.org/pandas-docs/stable/user_guide/indexing.html#returning-a-view-versus-a-copy\n",
      "  df_new[col][idx] = np.transpose(df_new[col][idx])\n"
     ]
    }
   ],
   "source": [
    "# Transpose the spikes cells:\n",
    "\n",
    "spike_fields = [col for col in df_new.columns if col.endswith(\"spikes\")]\n",
    "for col in spike_fields:\n",
    "    for idx in range(len(df_new[col])):\n",
    "        df_new[col][idx] = np.transpose(df_new[col][idx])"
   ]
  },
  {
   "cell_type": "code",
   "execution_count": 17,
   "metadata": {},
   "outputs": [],
   "source": [
    "# Split in sessions and save a file for each session, with all sessions of an animal in a folder:\n",
    "\n",
    "data_dir = \"datasets/autism data/WT-M355/WT-M355-pyaldata2\"\n",
    "df_session_list = []\n",
    "\n",
    "for session in range (1, int(max(df_new[\"session\"]))+1):\n",
    "    df_session_list.append(df_new[df_new[\"session\"] == session])\n",
    "    hdf5storage.savemat(os.path.join(data_dir, f\"WT-M355_session{session}.mat\"), {\"trial_class\": {name: col.values for name, col in df_session_list[session-1].items()}}, format=\"7.3\")"
   ]
  }
 ],
 "metadata": {
  "kernelspec": {
   "display_name": "Python 3",
   "language": "python",
   "name": "python3"
  },
  "language_info": {
   "codemirror_mode": {
    "name": "ipython",
    "version": 3
   },
   "file_extension": ".py",
   "mimetype": "text/x-python",
   "name": "python",
   "nbconvert_exporter": "python",
   "pygments_lexer": "ipython3",
   "version": "3.10.5"
  }
 },
 "nbformat": 4,
 "nbformat_minor": 2
}
