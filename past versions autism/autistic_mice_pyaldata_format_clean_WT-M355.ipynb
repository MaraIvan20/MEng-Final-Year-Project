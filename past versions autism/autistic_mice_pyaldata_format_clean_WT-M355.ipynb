{
 "cells": [
  {
   "cell_type": "code",
   "execution_count": null,
   "metadata": {},
   "outputs": [],
   "source": []
  },
  {
   "cell_type": "code",
   "execution_count": null,
   "metadata": {},
   "outputs": [],
   "source": []
  },
  {
   "cell_type": "code",
   "execution_count": 1,
   "metadata": {},
   "outputs": [],
   "source": [
    "import os\n",
    "import hdf5storage\n",
    "import mat73\n",
    "import pandas as pd\n",
    "import numpy as np"
   ]
  },
  {
   "cell_type": "code",
   "execution_count": 2,
   "metadata": {},
   "outputs": [],
   "source": [
    "data_dir = \"datasets/autism data/WT-M355/\"\n",
    "fname = os.path.join(data_dir, \"all_pez_data.mat\")\n",
    "mat = mat73.loadmat(fname)\n",
    "real_keys = [k for k in mat.keys() if not (k.startswith(\"__\") and k.endswith(\"__\"))]\n",
    "td_name = real_keys[0]\n",
    "df = pd.DataFrame(mat[td_name])"
   ]
  },
  {
   "cell_type": "code",
   "execution_count": 3,
   "metadata": {},
   "outputs": [
    {
     "data": {
      "text/plain": [
       "0      0.0\n",
       "1      1.0\n",
       "2      0.0\n",
       "3      1.0\n",
       "4      1.0\n",
       "      ... \n",
       "864    1.0\n",
       "865    1.0\n",
       "866    1.0\n",
       "867    0.0\n",
       "868    0.0\n",
       "Name: success, Length: 869, dtype: object"
      ]
     },
     "execution_count": 3,
     "metadata": {},
     "output_type": "execute_result"
    }
   ],
   "source": [
    "# Keep only rows with data: (get rid of rows full of None)\n",
    "df_new = df[df['success'] <= 1]\n",
    "# Re-indexing to consecutive indices\n",
    "df_new.index = range(len(df_new))\n",
    "df_new[\"success\"]"
   ]
  },
  {
   "cell_type": "code",
   "execution_count": 4,
   "metadata": {},
   "outputs": [
    {
     "name": "stderr",
     "output_type": "stream",
     "text": [
      "C:\\Users\\MARA\\AppData\\Local\\Temp\\ipykernel_19260\\3079413884.py:2: SettingWithCopyWarning: \n",
      "A value is trying to be set on a copy of a slice from a DataFrame\n",
      "\n",
      "See the caveats in the documentation: https://pandas.pydata.org/pandas-docs/stable/user_guide/indexing.html#returning-a-view-versus-a-copy\n",
      "  df_new.rename(columns={'m1':'m1_spikes'}, inplace=True)\n",
      "C:\\Users\\MARA\\AppData\\Local\\Temp\\ipykernel_19260\\3079413884.py:5: SettingWithCopyWarning: \n",
      "A value is trying to be set on a copy of a slice from a DataFrame\n",
      "\n",
      "See the caveats in the documentation: https://pandas.pydata.org/pandas-docs/stable/user_guide/indexing.html#returning-a-view-versus-a-copy\n",
      "  df_new.rename(columns={'dcn':'dcn_spikes'}, inplace=True)\n",
      "C:\\Users\\MARA\\AppData\\Local\\Temp\\ipykernel_19260\\3079413884.py:8: SettingWithCopyWarning: \n",
      "A value is trying to be set on a copy of a slice from a DataFrame\n",
      "\n",
      "See the caveats in the documentation: https://pandas.pydata.org/pandas-docs/stable/user_guide/indexing.html#returning-a-view-versus-a-copy\n",
      "  df_new.rename(columns={'str':'str_spikes'}, inplace=True)\n",
      "C:\\Users\\MARA\\AppData\\Local\\Temp\\ipykernel_19260\\3079413884.py:11: SettingWithCopyWarning: \n",
      "A value is trying to be set on a copy of a slice from a DataFrame\n",
      "\n",
      "See the caveats in the documentation: https://pandas.pydata.org/pandas-docs/stable/user_guide/indexing.html#returning-a-view-versus-a-copy\n",
      "  df_new.rename(columns={'thal':'thal_spikes'}, inplace=True)\n"
     ]
    }
   ],
   "source": [
    "if 'm1' in df_new.columns:\n",
    "    df_new.rename(columns={'m1':'m1_spikes'}, inplace=True)\n",
    "\n",
    "if 'dcn' in df_new.columns:\n",
    "    df_new.rename(columns={'dcn':'dcn_spikes'}, inplace=True)\n",
    "\n",
    "if 'str' in df_new.columns:\n",
    "    df_new.rename(columns={'str':'str_spikes'}, inplace=True)\n",
    "\n",
    "if 'thal' in df_new.columns:\n",
    "    df_new.rename(columns={'thal':'thal_spikes'}, inplace=True)"
   ]
  },
  {
   "cell_type": "code",
   "execution_count": 5,
   "metadata": {},
   "outputs": [],
   "source": [
    "if 'm1' in df_new.columns:\n",
    "    df_new.rename(columns={'m1':'m1_spikes'}, inplace=True)\n",
    "\n",
    "if 'dcn' in df_new.columns:\n",
    "    df_new.rename(columns={'dcn':'dcn_spikes'}, inplace=True)\n",
    "\n",
    "if 'str' in df_new.columns:\n",
    "    df_new.rename(columns={'str':'str_spikes'}, inplace=True)\n",
    "\n",
    "if 'thal' in df_new.columns:\n",
    "    df_new.rename(columns={'thal':'thal_spikes'}, inplace=True)"
   ]
  },
  {
   "cell_type": "code",
   "execution_count": 6,
   "metadata": {},
   "outputs": [
    {
     "name": "stderr",
     "output_type": "stream",
     "text": [
      "C:\\Users\\MARA\\AppData\\Local\\Temp\\ipykernel_19260\\2830865515.py:1: SettingWithCopyWarning: \n",
      "A value is trying to be set on a copy of a slice from a DataFrame.\n",
      "Try using .loc[row_indexer,col_indexer] = value instead\n",
      "\n",
      "See the caveats in the documentation: https://pandas.pydata.org/pandas-docs/stable/user_guide/indexing.html#returning-a-view-versus-a-copy\n",
      "  df_new[\"bin_size\"] = 0.002\n"
     ]
    }
   ],
   "source": [
    "df_new[\"bin_size\"] = 0.002"
   ]
  },
  {
   "cell_type": "code",
   "execution_count": 7,
   "metadata": {},
   "outputs": [
    {
     "name": "stderr",
     "output_type": "stream",
     "text": [
      "C:\\Users\\MARA\\AppData\\Local\\Temp\\ipykernel_19260\\699716087.py:9: SettingWithCopyWarning: \n",
      "A value is trying to be set on a copy of a slice from a DataFrame\n",
      "\n",
      "See the caveats in the documentation: https://pandas.pydata.org/pandas-docs/stable/user_guide/indexing.html#returning-a-view-versus-a-copy\n",
      "  df_new[col][i] = np.asarray([-2600.])\n"
     ]
    }
   ],
   "source": [
    "# Replace None with numpy.ndarray with ellement -2.: (to avoid errors later and allow preprocessing in pyaldata that is mostly performed on numpy.ndarray)\n",
    "\n",
    "a = None\n",
    "b = type(None)\n",
    "\n",
    "for col in df_new.columns:\n",
    "    for i in range(len(df_new[col])):\n",
    "        if type(df_new[col][i]) == b:\n",
    "            df_new[col][i] = np.asarray([-2600.])"
   ]
  },
  {
   "cell_type": "code",
   "execution_count": 8,
   "metadata": {},
   "outputs": [
    {
     "name": "stderr",
     "output_type": "stream",
     "text": [
      "C:\\Users\\MARA\\AppData\\Local\\Temp\\ipykernel_19260\\1506152650.py:4: SettingWithCopyWarning: \n",
      "A value is trying to be set on a copy of a slice from a DataFrame\n",
      "\n",
      "See the caveats in the documentation: https://pandas.pydata.org/pandas-docs/stable/user_guide/indexing.html#returning-a-view-versus-a-copy\n",
      "  df_new.rename(columns={time_index:\"idx_\"+time_index+\"_behaviour\"}, inplace=True)\n",
      "C:\\Users\\MARA\\AppData\\Local\\Temp\\ipykernel_19260\\1506152650.py:5: SettingWithCopyWarning: \n",
      "A value is trying to be set on a copy of a slice from a DataFrame.\n",
      "Try using .loc[row_indexer,col_indexer] = value instead\n",
      "\n",
      "See the caveats in the documentation: https://pandas.pydata.org/pandas-docs/stable/user_guide/indexing.html#returning-a-view-versus-a-copy\n",
      "  df_new[\"idx_\"+time_index+\"_neural\"] = df_new[\"idx_\"+time_index+\"_behaviour\"] + 2500\n",
      "C:\\Users\\MARA\\AppData\\Local\\Temp\\ipykernel_19260\\1506152650.py:4: SettingWithCopyWarning: \n",
      "A value is trying to be set on a copy of a slice from a DataFrame\n",
      "\n",
      "See the caveats in the documentation: https://pandas.pydata.org/pandas-docs/stable/user_guide/indexing.html#returning-a-view-versus-a-copy\n",
      "  df_new.rename(columns={time_index:\"idx_\"+time_index+\"_behaviour\"}, inplace=True)\n",
      "C:\\Users\\MARA\\AppData\\Local\\Temp\\ipykernel_19260\\1506152650.py:5: SettingWithCopyWarning: \n",
      "A value is trying to be set on a copy of a slice from a DataFrame.\n",
      "Try using .loc[row_indexer,col_indexer] = value instead\n",
      "\n",
      "See the caveats in the documentation: https://pandas.pydata.org/pandas-docs/stable/user_guide/indexing.html#returning-a-view-versus-a-copy\n",
      "  df_new[\"idx_\"+time_index+\"_neural\"] = df_new[\"idx_\"+time_index+\"_behaviour\"] + 2500\n",
      "C:\\Users\\MARA\\AppData\\Local\\Temp\\ipykernel_19260\\1506152650.py:4: SettingWithCopyWarning: \n",
      "A value is trying to be set on a copy of a slice from a DataFrame\n",
      "\n",
      "See the caveats in the documentation: https://pandas.pydata.org/pandas-docs/stable/user_guide/indexing.html#returning-a-view-versus-a-copy\n",
      "  df_new.rename(columns={time_index:\"idx_\"+time_index+\"_behaviour\"}, inplace=True)\n",
      "C:\\Users\\MARA\\AppData\\Local\\Temp\\ipykernel_19260\\1506152650.py:5: SettingWithCopyWarning: \n",
      "A value is trying to be set on a copy of a slice from a DataFrame.\n",
      "Try using .loc[row_indexer,col_indexer] = value instead\n",
      "\n",
      "See the caveats in the documentation: https://pandas.pydata.org/pandas-docs/stable/user_guide/indexing.html#returning-a-view-versus-a-copy\n",
      "  df_new[\"idx_\"+time_index+\"_neural\"] = df_new[\"idx_\"+time_index+\"_behaviour\"] + 2500\n",
      "C:\\Users\\MARA\\AppData\\Local\\Temp\\ipykernel_19260\\1506152650.py:4: SettingWithCopyWarning: \n",
      "A value is trying to be set on a copy of a slice from a DataFrame\n",
      "\n",
      "See the caveats in the documentation: https://pandas.pydata.org/pandas-docs/stable/user_guide/indexing.html#returning-a-view-versus-a-copy\n",
      "  df_new.rename(columns={time_index:\"idx_\"+time_index+\"_behaviour\"}, inplace=True)\n",
      "C:\\Users\\MARA\\AppData\\Local\\Temp\\ipykernel_19260\\1506152650.py:5: SettingWithCopyWarning: \n",
      "A value is trying to be set on a copy of a slice from a DataFrame.\n",
      "Try using .loc[row_indexer,col_indexer] = value instead\n",
      "\n",
      "See the caveats in the documentation: https://pandas.pydata.org/pandas-docs/stable/user_guide/indexing.html#returning-a-view-versus-a-copy\n",
      "  df_new[\"idx_\"+time_index+\"_neural\"] = df_new[\"idx_\"+time_index+\"_behaviour\"] + 2500\n",
      "C:\\Users\\MARA\\AppData\\Local\\Temp\\ipykernel_19260\\1506152650.py:4: SettingWithCopyWarning: \n",
      "A value is trying to be set on a copy of a slice from a DataFrame\n",
      "\n",
      "See the caveats in the documentation: https://pandas.pydata.org/pandas-docs/stable/user_guide/indexing.html#returning-a-view-versus-a-copy\n",
      "  df_new.rename(columns={time_index:\"idx_\"+time_index+\"_behaviour\"}, inplace=True)\n",
      "C:\\Users\\MARA\\AppData\\Local\\Temp\\ipykernel_19260\\1506152650.py:5: SettingWithCopyWarning: \n",
      "A value is trying to be set on a copy of a slice from a DataFrame.\n",
      "Try using .loc[row_indexer,col_indexer] = value instead\n",
      "\n",
      "See the caveats in the documentation: https://pandas.pydata.org/pandas-docs/stable/user_guide/indexing.html#returning-a-view-versus-a-copy\n",
      "  df_new[\"idx_\"+time_index+\"_neural\"] = df_new[\"idx_\"+time_index+\"_behaviour\"] + 2500\n",
      "C:\\Users\\MARA\\AppData\\Local\\Temp\\ipykernel_19260\\1506152650.py:4: SettingWithCopyWarning: \n",
      "A value is trying to be set on a copy of a slice from a DataFrame\n",
      "\n",
      "See the caveats in the documentation: https://pandas.pydata.org/pandas-docs/stable/user_guide/indexing.html#returning-a-view-versus-a-copy\n",
      "  df_new.rename(columns={time_index:\"idx_\"+time_index+\"_behaviour\"}, inplace=True)\n",
      "C:\\Users\\MARA\\AppData\\Local\\Temp\\ipykernel_19260\\1506152650.py:5: SettingWithCopyWarning: \n",
      "A value is trying to be set on a copy of a slice from a DataFrame.\n",
      "Try using .loc[row_indexer,col_indexer] = value instead\n",
      "\n",
      "See the caveats in the documentation: https://pandas.pydata.org/pandas-docs/stable/user_guide/indexing.html#returning-a-view-versus-a-copy\n",
      "  df_new[\"idx_\"+time_index+\"_neural\"] = df_new[\"idx_\"+time_index+\"_behaviour\"] + 2500\n",
      "C:\\Users\\MARA\\AppData\\Local\\Temp\\ipykernel_19260\\1506152650.py:4: SettingWithCopyWarning: \n",
      "A value is trying to be set on a copy of a slice from a DataFrame\n",
      "\n",
      "See the caveats in the documentation: https://pandas.pydata.org/pandas-docs/stable/user_guide/indexing.html#returning-a-view-versus-a-copy\n",
      "  df_new.rename(columns={time_index:\"idx_\"+time_index+\"_behaviour\"}, inplace=True)\n",
      "C:\\Users\\MARA\\AppData\\Local\\Temp\\ipykernel_19260\\1506152650.py:5: SettingWithCopyWarning: \n",
      "A value is trying to be set on a copy of a slice from a DataFrame.\n",
      "Try using .loc[row_indexer,col_indexer] = value instead\n",
      "\n",
      "See the caveats in the documentation: https://pandas.pydata.org/pandas-docs/stable/user_guide/indexing.html#returning-a-view-versus-a-copy\n",
      "  df_new[\"idx_\"+time_index+\"_neural\"] = df_new[\"idx_\"+time_index+\"_behaviour\"] + 2500\n"
     ]
    },
    {
     "data": {
      "text/plain": [
       "Index(['acc', 'acc_nosmooth', 'da', 'da_nosmooth', 'dcn_spikes', 'digit1',\n",
       "       'digit3', 'ga', 'ga_nosmooth', 'idx_grab_behaviour', 'hand',\n",
       "       'm1_spikes', 'idx_max_ga_behaviour', 'idx_max_vel_behaviour',\n",
       "       'idx_mend_behaviour', 'idx_min_pd_behaviour', 'idx_mo_behaviour', 'pd',\n",
       "       'pd_nosmooth', 'session', 'str_spikes', 'success', 'idx_sup_behaviour',\n",
       "       'thal_spikes', 'vel', 'vel_nosmooth', 'bin_size', 'idx_mo_neural',\n",
       "       'idx_mend_neural', 'idx_max_vel_neural', 'idx_max_ga_neural',\n",
       "       'idx_min_pd_neural', 'idx_grab_neural', 'idx_sup_neural'],\n",
       "      dtype='object')"
      ]
     },
     "execution_count": 8,
     "metadata": {},
     "output_type": "execute_result"
    }
   ],
   "source": [
    "# Rename time index fields to contain idx and separate them into behaviour and neural(=behaviour+2500):\n",
    "time_index_fields = [time_index for time_index in [\"mo\", \"mend\", \"max_vel\", \"max_acc\", \"min_acc\", \"max_ga\", \"min_pd\", \"grab\", \"sup\"] if time_index in df_new.columns]\n",
    "for time_index in time_index_fields:\n",
    "    df_new.rename(columns={time_index:\"idx_\"+time_index+\"_behaviour\"}, inplace=True)\n",
    "    df_new[\"idx_\"+time_index+\"_neural\"] = df_new[\"idx_\"+time_index+\"_behaviour\"] + 2500\n",
    "\n",
    "df_new.columns"
   ]
  },
  {
   "cell_type": "code",
   "execution_count": 9,
   "metadata": {},
   "outputs": [
    {
     "name": "stderr",
     "output_type": "stream",
     "text": [
      "C:\\Users\\MARA\\AppData\\Local\\Temp\\ipykernel_19260\\1845384996.py:6: SettingWithCopyWarning: \n",
      "A value is trying to be set on a copy of a slice from a DataFrame\n",
      "\n",
      "See the caveats in the documentation: https://pandas.pydata.org/pandas-docs/stable/user_guide/indexing.html#returning-a-view-versus-a-copy\n",
      "  df_new[col][idx] = np.transpose(df_new[col][idx])\n"
     ]
    }
   ],
   "source": [
    "# Transpose the spikes cells:\n",
    "\n",
    "spike_fields = [col for col in df_new.columns if col.endswith(\"spikes\")]\n",
    "for col in spike_fields:\n",
    "    for idx in range(len(df_new[col])):\n",
    "        df_new[col][idx] = np.transpose(df_new[col][idx])"
   ]
  },
  {
   "cell_type": "code",
   "execution_count": 10,
   "metadata": {},
   "outputs": [],
   "source": [
    "# Split in sessions and save a file for each session, with all sessions of an animal in a folder:\n",
    "\n",
    "data_dir = \"datasets/autism data/WT-M355/WT-M355-pyaldata\"\n",
    "df_session_list = []\n",
    "\n",
    "for session in range (1, int(max(df_new[\"session\"]))+1):\n",
    "    df_session_list.append(df_new[df_new[\"session\"] == session])\n",
    "    hdf5storage.savemat(os.path.join(data_dir, f\"WT-M355_session{session}.mat\"), {\"trial_class\": {name: col.values for name, col in df_session_list[session-1].items()}}, format=\"7.3\")"
   ]
  },
  {
   "cell_type": "code",
   "execution_count": null,
   "metadata": {},
   "outputs": [],
   "source": []
  },
  {
   "cell_type": "code",
   "execution_count": null,
   "metadata": {},
   "outputs": [],
   "source": []
  }
 ],
 "metadata": {
  "kernelspec": {
   "display_name": "Python 3",
   "language": "python",
   "name": "python3"
  },
  "language_info": {
   "codemirror_mode": {
    "name": "ipython",
    "version": 3
   },
   "file_extension": ".py",
   "mimetype": "text/x-python",
   "name": "python",
   "nbconvert_exporter": "python",
   "pygments_lexer": "ipython3",
   "version": "3.10.5"
  }
 },
 "nbformat": 4,
 "nbformat_minor": 2
}
