{
 "cells": [
  {
   "cell_type": "code",
   "execution_count": null,
   "metadata": {},
   "outputs": [],
   "source": []
  },
  {
   "cell_type": "code",
   "execution_count": 2,
   "metadata": {},
   "outputs": [],
   "source": [
    "import os \n",
    "\n",
    "from CURBD.curbd import *\n",
    "from PyalData.pyaldata import *"
   ]
  },
  {
   "cell_type": "code",
   "execution_count": 3,
   "metadata": {},
   "outputs": [],
   "source": [
    "data_dir = \"datasets/autism data/AS-M351/\"\n",
    "fname = os.path.join(data_dir, \"all_session_trial_data.mat\")"
   ]
  },
  {
   "cell_type": "code",
   "execution_count": 4,
   "metadata": {},
   "outputs": [
    {
     "name": "stdout",
     "output_type": "stream",
     "text": [
      "array field back_at_perch could not be converted to int.\n",
      "array field reach_success_time could not be converted to int.\n",
      "array field reach_fail_time could not be converted to int.\n",
      "array field reach_success_time_wend could not be converted to int.\n"
     ]
    }
   ],
   "source": [
    "# load TrialData .mat file into a DataFrame\n",
    "df = mat2dataframe(fname, shift_idx_fields=True)"
   ]
  },
  {
   "cell_type": "code",
   "execution_count": 5,
   "metadata": {},
   "outputs": [
    {
     "data": {
      "text/plain": [
       "(573, 40)"
      ]
     },
     "execution_count": 5,
     "metadata": {},
     "output_type": "execute_result"
    }
   ],
   "source": [
    "df.shape"
   ]
  },
  {
   "cell_type": "code",
   "execution_count": 6,
   "metadata": {},
   "outputs": [],
   "source": [
    "df_successful = select_trials(df, \"reach_success == 1\")"
   ]
  },
  {
   "cell_type": "code",
   "execution_count": 7,
   "metadata": {},
   "outputs": [
    {
     "data": {
      "text/plain": [
       "(188, 40)"
      ]
     },
     "execution_count": 7,
     "metadata": {},
     "output_type": "execute_result"
    }
   ],
   "source": [
    "df_successful.shape"
   ]
  },
  {
   "cell_type": "code",
   "execution_count": 8,
   "metadata": {},
   "outputs": [
    {
     "name": "stdout",
     "output_type": "stream",
     "text": [
      "array field back_at_perch could not be converted to int.\n",
      "field sub_reaches could not be converted to int.\n",
      "field reach_success_time could not be converted to int.\n",
      "field reach_fail_time could not be converted to int.\n",
      "field reach_success_time_wend could not be converted to int.\n",
      "field reach_fail_time_wend could not be converted to int.\n",
      "(355, 40)\n",
      "(147, 40)\n"
     ]
    }
   ],
   "source": [
    "data_dir = \"datasets/autism data/AS-M354/\"\n",
    "fname = os.path.join(data_dir, \"all_session_trial_data.mat\")\n",
    "df = mat2dataframe(fname, shift_idx_fields=True)\n",
    "df_successful = select_trials(df, \"reach_success == 1\")\n",
    "print(df.shape)\n",
    "print(df_successful.shape)"
   ]
  },
  {
   "cell_type": "code",
   "execution_count": 9,
   "metadata": {},
   "outputs": [
    {
     "name": "stdout",
     "output_type": "stream",
     "text": [
      "field movement_onsets could not be converted to int.\n",
      "field back_at_perch could not be converted to int.\n",
      "field sub_reaches could not be converted to int.\n",
      "field reach_success_time could not be converted to int.\n",
      "field reach_fail_time could not be converted to int.\n",
      "field reach_success_time_wend could not be converted to int.\n",
      "field reach_fail_time_wend could not be converted to int.\n",
      "(1020, 40)\n",
      "(118, 40)\n"
     ]
    }
   ],
   "source": [
    "data_dir = \"datasets/autism data/PS-M365/\"\n",
    "fname = os.path.join(data_dir, \"all_session_trial_data.mat\")\n",
    "df = mat2dataframe(fname, shift_idx_fields=True)\n",
    "df_successful = select_trials(df, \"reach_success == 1\")\n",
    "print(df.shape)\n",
    "print(df_successful.shape)"
   ]
  },
  {
   "cell_type": "code",
   "execution_count": 10,
   "metadata": {},
   "outputs": [
    {
     "name": "stdout",
     "output_type": "stream",
     "text": [
      "field movement_onsets could not be converted to int.\n",
      "field back_at_perch could not be converted to int.\n",
      "field sub_reaches could not be converted to int.\n",
      "field hand_opens could not be converted to int.\n",
      "field reach_success_time could not be converted to int.\n",
      "field reach_fail_time could not be converted to int.\n",
      "field reach_success_time_wend could not be converted to int.\n",
      "field reach_fail_time_wend could not be converted to int.\n",
      "(581, 40)\n",
      "(331, 40)\n"
     ]
    }
   ],
   "source": [
    "data_dir = \"datasets/autism data/PS-M366/\"\n",
    "fname = os.path.join(data_dir, \"all_session_trial_data.mat\")\n",
    "df = mat2dataframe(fname, shift_idx_fields=True)\n",
    "df_successful = select_trials(df, \"reach_success == 1\")\n",
    "print(df.shape)\n",
    "print(df_successful.shape)"
   ]
  },
  {
   "cell_type": "code",
   "execution_count": 11,
   "metadata": {},
   "outputs": [
    {
     "name": "stdout",
     "output_type": "stream",
     "text": [
      "field movement_onsets could not be converted to int.\n",
      "field back_at_perch could not be converted to int.\n",
      "field reach_success_time could not be converted to int.\n",
      "field reach_fail_time could not be converted to int.\n",
      "field reach_success_time_wend could not be converted to int.\n",
      "field reach_fail_time_wend could not be converted to int.\n",
      "(425, 40)\n",
      "(211, 40)\n"
     ]
    }
   ],
   "source": [
    "data_dir = \"datasets/autism data/WT-M350/\"\n",
    "fname = os.path.join(data_dir, \"all_session_trial_data.mat\")\n",
    "df = mat2dataframe(fname, shift_idx_fields=True)\n",
    "df_successful = select_trials(df, \"reach_success == 1\")\n",
    "print(df.shape)\n",
    "print(df_successful.shape)"
   ]
  },
  {
   "cell_type": "code",
   "execution_count": 12,
   "metadata": {},
   "outputs": [
    {
     "name": "stdout",
     "output_type": "stream",
     "text": [
      "field movement_onsets could not be converted to int.\n",
      "field back_at_perch could not be converted to int.\n",
      "field supinations could not be converted to int.\n",
      "field reach_success_time could not be converted to int.\n",
      "field reach_fail_time could not be converted to int.\n",
      "field reach_success_time_wend could not be converted to int.\n",
      "field reach_fail_time_wend could not be converted to int.\n",
      "(1135, 40)\n",
      "(751, 40)\n"
     ]
    }
   ],
   "source": [
    "data_dir = \"datasets/autism data/WT-M355/\"\n",
    "fname = os.path.join(data_dir, \"all_session_trial_data.mat\")\n",
    "df = mat2dataframe(fname, shift_idx_fields=True)\n",
    "df_successful = select_trials(df, \"reach_success == 1\")\n",
    "print(df.shape)\n",
    "print(df_successful.shape)"
   ]
  },
  {
   "cell_type": "code",
   "execution_count": null,
   "metadata": {},
   "outputs": [],
   "source": []
  },
  {
   "cell_type": "code",
   "execution_count": null,
   "metadata": {},
   "outputs": [],
   "source": []
  },
  {
   "cell_type": "code",
   "execution_count": null,
   "metadata": {},
   "outputs": [],
   "source": []
  },
  {
   "cell_type": "code",
   "execution_count": null,
   "metadata": {},
   "outputs": [],
   "source": []
  },
  {
   "cell_type": "code",
   "execution_count": null,
   "metadata": {},
   "outputs": [],
   "source": []
  },
  {
   "cell_type": "code",
   "execution_count": null,
   "metadata": {},
   "outputs": [
    {
     "data": {
      "text/plain": [
       "(91, 26)"
      ]
     },
     "metadata": {},
     "output_type": "display_data"
    }
   ],
   "source": [
    "df_successful.shape"
   ]
  },
  {
   "cell_type": "code",
   "execution_count": null,
   "metadata": {},
   "outputs": [],
   "source": [
    "df_unsuccessful = select_trials(df, \"success == 0\")"
   ]
  },
  {
   "cell_type": "code",
   "execution_count": null,
   "metadata": {},
   "outputs": [
    {
     "data": {
      "text/plain": [
       "(169, 26)"
      ]
     },
     "metadata": {},
     "output_type": "display_data"
    }
   ],
   "source": [
    "df_unsuccessful.shape"
   ]
  },
  {
   "cell_type": "code",
   "execution_count": null,
   "metadata": {},
   "outputs": [],
   "source": [
    "data_dir = \"datasets/autism data/PS-M365/\"\n",
    "fname = os.path.join(data_dir, \"all_pez_data.mat\")"
   ]
  },
  {
   "cell_type": "code",
   "execution_count": null,
   "metadata": {},
   "outputs": [
    {
     "name": "stdout",
     "output_type": "stream",
     "text": [
      "array field acc could not be converted to int.\n",
      "array field acc_nosmooth could not be converted to int.\n",
      "array field da could not be converted to int.\n",
      "array field da_nosmooth could not be converted to int.\n",
      "array field dcn could not be converted to int.\n",
      "array field digit1 could not be converted to int.\n",
      "array field digit3 could not be converted to int.\n",
      "array field ga could not be converted to int.\n",
      "array field ga_nosmooth could not be converted to int.\n",
      "array field grab could not be converted to int.\n",
      "array field hand could not be converted to int.\n",
      "array field m1 could not be converted to int.\n",
      "array field max_ga could not be converted to int.\n",
      "array field max_vel could not be converted to int.\n",
      "array field mend could not be converted to int.\n",
      "array field min_pd could not be converted to int.\n",
      "array field mo could not be converted to int.\n",
      "array field pd could not be converted to int.\n",
      "array field pd_nosmooth could not be converted to int.\n",
      "array field str could not be converted to int.\n",
      "array field success could not be converted to int.\n",
      "field sup could not be converted to int.\n",
      "array field thal could not be converted to int.\n",
      "array field vel could not be converted to int.\n",
      "array field vel_nosmooth could not be converted to int.\n"
     ]
    }
   ],
   "source": [
    "# load TrialData .mat file into a DataFrame\n",
    "df_wt_m355 = mat2dataframe(fname, shift_idx_fields=True)"
   ]
  },
  {
   "cell_type": "code",
   "execution_count": null,
   "metadata": {},
   "outputs": [
    {
     "data": {
      "text/plain": [
       "(1020, 26)"
      ]
     },
     "metadata": {},
     "output_type": "display_data"
    }
   ],
   "source": [
    "df_wt_m355.shape"
   ]
  },
  {
   "cell_type": "code",
   "execution_count": null,
   "metadata": {},
   "outputs": [],
   "source": [
    "df_m355_successful = select_trials(df_wt_m355, \"success == 1\")"
   ]
  },
  {
   "cell_type": "code",
   "execution_count": null,
   "metadata": {},
   "outputs": [
    {
     "data": {
      "text/plain": [
       "(116, 26)"
      ]
     },
     "metadata": {},
     "output_type": "display_data"
    }
   ],
   "source": [
    "df_m355_successful.shape"
   ]
  },
  {
   "cell_type": "code",
   "execution_count": null,
   "metadata": {},
   "outputs": [],
   "source": [
    "df_m355_unsuccessful = select_trials(df_wt_m355, \"success == 0\")"
   ]
  },
  {
   "cell_type": "code",
   "execution_count": null,
   "metadata": {},
   "outputs": [
    {
     "data": {
      "text/plain": [
       "(424, 26)"
      ]
     },
     "metadata": {},
     "output_type": "display_data"
    }
   ],
   "source": [
    "df_m355_unsuccessful.shape"
   ]
  },
  {
   "cell_type": "code",
   "execution_count": null,
   "metadata": {},
   "outputs": [],
   "source": [
    "data_dir = \"datasets/autism data/WT-M350/\"\n",
    "fname = os.path.join(data_dir, \"all_pez_data.mat\")"
   ]
  },
  {
   "cell_type": "code",
   "execution_count": null,
   "metadata": {},
   "outputs": [
    {
     "name": "stdout",
     "output_type": "stream",
     "text": [
      "array field acc could not be converted to int.\n",
      "array field acc_nosmooth could not be converted to int.\n",
      "array field da could not be converted to int.\n",
      "array field da_nosmooth could not be converted to int.\n",
      "array field dcn could not be converted to int.\n",
      "array field digit1 could not be converted to int.\n",
      "array field digit3 could not be converted to int.\n",
      "array field ga could not be converted to int.\n",
      "array field ga_nosmooth could not be converted to int.\n",
      "array field grab could not be converted to int.\n",
      "array field hand could not be converted to int.\n",
      "array field m1 could not be converted to int.\n",
      "array field max_acc could not be converted to int.\n",
      "array field max_ga could not be converted to int.\n",
      "array field max_vel could not be converted to int.\n",
      "array field mend could not be converted to int.\n",
      "array field min_acc could not be converted to int.\n",
      "array field min_pd could not be converted to int.\n",
      "array field mo could not be converted to int.\n",
      "array field pd could not be converted to int.\n",
      "array field pd_nosmooth could not be converted to int.\n",
      "array field session could not be converted to int.\n",
      "array field str could not be converted to int.\n",
      "array field success could not be converted to int.\n",
      "field sup could not be converted to int.\n",
      "array field vel could not be converted to int.\n",
      "array field vel_nosmooth could not be converted to int.\n"
     ]
    }
   ],
   "source": [
    "# load TrialData .mat file into a DataFrame\n",
    "df_wt_m355 = mat2dataframe(fname, shift_idx_fields=True)"
   ]
  },
  {
   "cell_type": "code",
   "execution_count": null,
   "metadata": {},
   "outputs": [
    {
     "data": {
      "text/plain": [
       "(424, 27)"
      ]
     },
     "metadata": {},
     "output_type": "display_data"
    }
   ],
   "source": [
    "df_wt_m355.shape"
   ]
  },
  {
   "cell_type": "code",
   "execution_count": null,
   "metadata": {},
   "outputs": [],
   "source": [
    "df_m355_successful = select_trials(df_wt_m355, \"success == 1\")"
   ]
  },
  {
   "cell_type": "code",
   "execution_count": null,
   "metadata": {},
   "outputs": [
    {
     "data": {
      "text/plain": [
       "(179, 27)"
      ]
     },
     "metadata": {},
     "output_type": "display_data"
    }
   ],
   "source": [
    "df_m355_successful.shape"
   ]
  },
  {
   "cell_type": "code",
   "execution_count": null,
   "metadata": {},
   "outputs": [],
   "source": [
    "df_m355_unsuccessful = select_trials(df_wt_m355, \"success == 0\")"
   ]
  },
  {
   "cell_type": "code",
   "execution_count": null,
   "metadata": {},
   "outputs": [
    {
     "data": {
      "text/plain": [
       "(159, 27)"
      ]
     },
     "metadata": {},
     "output_type": "display_data"
    }
   ],
   "source": [
    "df_m355_unsuccessful.shape"
   ]
  },
  {
   "cell_type": "code",
   "execution_count": null,
   "metadata": {},
   "outputs": [],
   "source": [
    "data_dir = \"datasets/autism data/AS-M354/\"\n",
    "fname = os.path.join(data_dir, \"all_pez_data.mat\")"
   ]
  },
  {
   "cell_type": "code",
   "execution_count": null,
   "metadata": {},
   "outputs": [
    {
     "name": "stdout",
     "output_type": "stream",
     "text": [
      "array field acc could not be converted to int.\n",
      "array field acc_nosmooth could not be converted to int.\n",
      "array field da could not be converted to int.\n",
      "array field da_nosmooth could not be converted to int.\n",
      "array field dcn could not be converted to int.\n",
      "array field digit1 could not be converted to int.\n",
      "array field digit3 could not be converted to int.\n",
      "array field ga could not be converted to int.\n",
      "array field ga_nosmooth could not be converted to int.\n",
      "array field grab could not be converted to int.\n",
      "array field hand could not be converted to int.\n",
      "array field m1 could not be converted to int.\n",
      "array field max_ga could not be converted to int.\n",
      "array field max_vel could not be converted to int.\n",
      "array field mend could not be converted to int.\n",
      "array field min_pd could not be converted to int.\n",
      "array field mo could not be converted to int.\n",
      "array field pd could not be converted to int.\n",
      "array field pd_nosmooth could not be converted to int.\n",
      "array field str could not be converted to int.\n",
      "array field success could not be converted to int.\n",
      "field sup could not be converted to int.\n",
      "array field vel could not be converted to int.\n",
      "array field vel_nosmooth could not be converted to int.\n"
     ]
    }
   ],
   "source": [
    "# load TrialData .mat file into a DataFrame\n",
    "df = mat2dataframe(fname, shift_idx_fields=True)"
   ]
  },
  {
   "cell_type": "code",
   "execution_count": null,
   "metadata": {},
   "outputs": [],
   "source": [
    "df_successful = select_trials(df, \"success == 1\")"
   ]
  },
  {
   "cell_type": "code",
   "execution_count": null,
   "metadata": {},
   "outputs": [],
   "source": [
    "df_unsuccessful = select_trials(df, \"success == 0\")"
   ]
  },
  {
   "cell_type": "code",
   "execution_count": null,
   "metadata": {},
   "outputs": [
    {
     "data": {
      "text/plain": [
       "(144, 25)"
      ]
     },
     "metadata": {},
     "output_type": "display_data"
    }
   ],
   "source": [
    "df_successful.shape"
   ]
  },
  {
   "cell_type": "code",
   "execution_count": null,
   "metadata": {},
   "outputs": [
    {
     "data": {
      "text/plain": [
       "(137, 25)"
      ]
     },
     "metadata": {},
     "output_type": "display_data"
    }
   ],
   "source": [
    "df_unsuccessful.shape"
   ]
  },
  {
   "cell_type": "code",
   "execution_count": null,
   "metadata": {},
   "outputs": [],
   "source": []
  },
  {
   "cell_type": "code",
   "execution_count": null,
   "metadata": {},
   "outputs": [],
   "source": [
    "data_dir = \"datasets/autism data/PS-M366/\"\n",
    "fname = os.path.join(data_dir, \"all_pez_data.mat\")"
   ]
  },
  {
   "cell_type": "code",
   "execution_count": null,
   "metadata": {},
   "outputs": [
    {
     "name": "stdout",
     "output_type": "stream",
     "text": [
      "array field acc could not be converted to int.\n",
      "array field acc_nosmooth could not be converted to int.\n",
      "array field da could not be converted to int.\n",
      "array field da_nosmooth could not be converted to int.\n",
      "array field dcn could not be converted to int.\n",
      "array field digit1 could not be converted to int.\n",
      "array field digit3 could not be converted to int.\n",
      "array field ga could not be converted to int.\n",
      "array field ga_nosmooth could not be converted to int.\n",
      "array field grab could not be converted to int.\n",
      "array field hand could not be converted to int.\n",
      "array field m1 could not be converted to int.\n",
      "array field max_ga could not be converted to int.\n",
      "array field max_vel could not be converted to int.\n",
      "array field mend could not be converted to int.\n",
      "array field min_pd could not be converted to int.\n",
      "array field mo could not be converted to int.\n",
      "array field pd could not be converted to int.\n",
      "array field pd_nosmooth could not be converted to int.\n",
      "array field str could not be converted to int.\n",
      "array field success could not be converted to int.\n",
      "field sup could not be converted to int.\n",
      "array field thal could not be converted to int.\n",
      "array field vel could not be converted to int.\n",
      "array field vel_nosmooth could not be converted to int.\n"
     ]
    }
   ],
   "source": [
    "# load TrialData .mat file into a DataFrame\n",
    "df = mat2dataframe(fname, shift_idx_fields=True)"
   ]
  },
  {
   "cell_type": "code",
   "execution_count": null,
   "metadata": {},
   "outputs": [],
   "source": [
    "df_successful = select_trials(df, \"success == 1\")"
   ]
  },
  {
   "cell_type": "code",
   "execution_count": null,
   "metadata": {},
   "outputs": [],
   "source": [
    "df_unsuccessful = select_trials(df, \"success == 0\")"
   ]
  },
  {
   "cell_type": "code",
   "execution_count": null,
   "metadata": {},
   "outputs": [
    {
     "data": {
      "text/plain": [
       "(331, 26)"
      ]
     },
     "metadata": {},
     "output_type": "display_data"
    }
   ],
   "source": [
    "df_successful.shape"
   ]
  },
  {
   "cell_type": "code",
   "execution_count": null,
   "metadata": {},
   "outputs": [
    {
     "data": {
      "text/plain": [
       "(201, 26)"
      ]
     },
     "metadata": {},
     "output_type": "display_data"
    }
   ],
   "source": [
    "df_unsuccessful.shape"
   ]
  },
  {
   "cell_type": "code",
   "execution_count": null,
   "metadata": {},
   "outputs": [],
   "source": [
    "data_dir = \"datasets/autism data/WT-M355/\"\n",
    "fname = os.path.join(data_dir, \"all_pez_data.mat\")"
   ]
  },
  {
   "cell_type": "code",
   "execution_count": null,
   "metadata": {},
   "outputs": [
    {
     "name": "stdout",
     "output_type": "stream",
     "text": [
      "array field acc could not be converted to int.\n",
      "array field acc_nosmooth could not be converted to int.\n",
      "array field da could not be converted to int.\n",
      "array field da_nosmooth could not be converted to int.\n",
      "array field dcn could not be converted to int.\n",
      "array field digit1 could not be converted to int.\n",
      "array field digit3 could not be converted to int.\n",
      "array field ga could not be converted to int.\n",
      "array field ga_nosmooth could not be converted to int.\n",
      "array field grab could not be converted to int.\n",
      "array field hand could not be converted to int.\n",
      "array field m1 could not be converted to int.\n",
      "array field max_ga could not be converted to int.\n",
      "array field max_vel could not be converted to int.\n",
      "array field mend could not be converted to int.\n",
      "array field min_pd could not be converted to int.\n",
      "array field mo could not be converted to int.\n",
      "array field pd could not be converted to int.\n",
      "array field pd_nosmooth could not be converted to int.\n",
      "array field str could not be converted to int.\n",
      "array field success could not be converted to int.\n",
      "array field sup could not be converted to int.\n",
      "array field thal could not be converted to int.\n",
      "array field vel could not be converted to int.\n",
      "array field vel_nosmooth could not be converted to int.\n"
     ]
    }
   ],
   "source": [
    "# load TrialData .mat file into a DataFrame\n",
    "df = mat2dataframe(fname, shift_idx_fields=True)"
   ]
  },
  {
   "cell_type": "code",
   "execution_count": null,
   "metadata": {},
   "outputs": [],
   "source": [
    "df_successful = select_trials(df, \"success == 1\")"
   ]
  },
  {
   "cell_type": "code",
   "execution_count": null,
   "metadata": {},
   "outputs": [
    {
     "data": {
      "text/plain": [
       "(619, 26)"
      ]
     },
     "metadata": {},
     "output_type": "display_data"
    }
   ],
   "source": [
    "df_successful.shape"
   ]
  },
  {
   "cell_type": "code",
   "execution_count": null,
   "metadata": {},
   "outputs": [],
   "source": [
    "df_unsuccessful = select_trials(df, \"success == 0\")"
   ]
  },
  {
   "cell_type": "code",
   "execution_count": null,
   "metadata": {},
   "outputs": [
    {
     "data": {
      "text/plain": [
       "(250, 26)"
      ]
     },
     "metadata": {},
     "output_type": "display_data"
    }
   ],
   "source": [
    "df_unsuccessful.shape"
   ]
  },
  {
   "cell_type": "code",
   "execution_count": null,
   "metadata": {},
   "outputs": [
    {
     "data": {
      "text/plain": [
       "(1135, 26)"
      ]
     },
     "metadata": {},
     "output_type": "display_data"
    }
   ],
   "source": [
    "df.shape"
   ]
  }
 ],
 "metadata": {
  "kernelspec": {
   "display_name": "Python 3",
   "language": "python",
   "name": "python3"
  },
  "language_info": {
   "codemirror_mode": {
    "name": "ipython",
    "version": 3
   },
   "file_extension": ".py",
   "mimetype": "text/x-python",
   "name": "python",
   "nbconvert_exporter": "python",
   "pygments_lexer": "ipython3",
   "version": "3.10.5"
  }
 },
 "nbformat": 4,
 "nbformat_minor": 2
}
