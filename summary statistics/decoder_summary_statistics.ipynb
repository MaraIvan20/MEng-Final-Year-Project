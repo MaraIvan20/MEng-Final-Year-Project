{
 "cells": [
  {
   "cell_type": "code",
   "execution_count": 1,
   "metadata": {},
   "outputs": [],
   "source": [
    "import sys\n",
    "import os\n",
    "sys.path.append(os.path.abspath(\"C:/Users/MARA/Desktop/IMPERIAL YEAR 4/Final year project/code\"))\n",
    "\n",
    " \n",
    "import numpy as np\n",
    "import matplotlib.pyplot as plt\n",
    "\n",
    "\n",
    "import CURBD.curbd as curbd\n",
    "import PyalData.pyaldata as pyaldata\n",
    "\n",
    "from sklearn.linear_model import Ridge, LinearRegression\n",
    "from sklearn.model_selection import cross_val_score, KFold\n",
    "from sklearn.decomposition import PCA, FactorAnalysis"
   ]
  },
  {
   "cell_type": "code",
   "execution_count": 2,
   "metadata": {},
   "outputs": [
    {
     "data": {
      "text/plain": [
       "['WT-M355_session1.mat',\n",
       " 'WT-M355_session10.mat',\n",
       " 'WT-M355_session11.mat',\n",
       " 'WT-M355_session12.mat',\n",
       " 'WT-M355_session13.mat',\n",
       " 'WT-M355_session14.mat',\n",
       " 'WT-M355_session15.mat',\n",
       " 'WT-M355_session16.mat',\n",
       " 'WT-M355_session17.mat',\n",
       " 'WT-M355_session18.mat',\n",
       " 'WT-M355_session19.mat',\n",
       " 'WT-M355_session2.mat',\n",
       " 'WT-M355_session20.mat',\n",
       " 'WT-M355_session21.mat',\n",
       " 'WT-M355_session3.mat',\n",
       " 'WT-M355_session4.mat',\n",
       " 'WT-M355_session5.mat',\n",
       " 'WT-M355_session6.mat',\n",
       " 'WT-M355_session7.mat',\n",
       " 'WT-M355_session8.mat',\n",
       " 'WT-M355_session9.mat']"
      ]
     },
     "execution_count": 2,
     "metadata": {},
     "output_type": "execute_result"
    }
   ],
   "source": [
    "data_dir_WTM355 = \"C:/Users/MARA/Desktop/IMPERIAL YEAR 4/Final year project/code/datasets/autism data/WT-M355/WT-M355-pyaldata2\"  # place here absolute path towards folder with session files for the WT-M355 model in pyaldata format\n",
    "files_WTM355 = os.listdir(data_dir_WTM355)\n",
    "\n",
    "files_WTM355.remove('WT-M355_session22.mat')  # give error for merge_signals, have to deal with this in preprocessing when we put in pyaldata format!\n",
    "files_WTM355.remove('WT-M355_session23.mat')\n",
    "files_WTM355"
   ]
  },
  {
   "cell_type": "code",
   "execution_count": 3,
   "metadata": {},
   "outputs": [
    {
     "name": "stderr",
     "output_type": "stream",
     "text": [
      "C:\\Users\\MARA\\Desktop\\IMPERIAL YEAR 4\\Final year project\\code\\PyalData\\pyaldata\\firing_rates.py:91: UserWarning: Assuming spikes are actually spikes and dividing by bin size.\n",
      "  utils.warnings.warn(\"Assuming spikes are actually spikes and dividing by bin size.\")\n",
      "C:\\Users\\MARA\\Desktop\\IMPERIAL YEAR 4\\Final year project\\code\\PyalData\\pyaldata\\firing_rates.py:91: UserWarning: Assuming spikes are actually spikes and dividing by bin size.\n",
      "  utils.warnings.warn(\"Assuming spikes are actually spikes and dividing by bin size.\")\n",
      "C:\\Users\\MARA\\Desktop\\IMPERIAL YEAR 4\\Final year project\\code\\PyalData\\pyaldata\\firing_rates.py:91: UserWarning: Assuming spikes are actually spikes and dividing by bin size.\n",
      "  utils.warnings.warn(\"Assuming spikes are actually spikes and dividing by bin size.\")\n",
      "C:\\Users\\MARA\\Desktop\\IMPERIAL YEAR 4\\Final year project\\code\\PyalData\\pyaldata\\firing_rates.py:91: UserWarning: Assuming spikes are actually spikes and dividing by bin size.\n",
      "  utils.warnings.warn(\"Assuming spikes are actually spikes and dividing by bin size.\")\n"
     ]
    },
    {
     "name": "stdout",
     "output_type": "stream",
     "text": [
      "(9396, 45)\n",
      "m1_rates:\t0.8015531519011473\n",
      "(9396, 129)\n",
      "thal_rates:\t0.878615832650382\n",
      "(9396, 28)\n",
      "str_rates:\t0.614077237844193\n",
      "(9396, 364)\n",
      "dcn_rates:\t0.9877237575507116\n",
      "(9396, 566)\n",
      "all_rates:\t0.9944721617484976\n",
      "(9396, 437)\n",
      "nothal_rates:\t0.9911264855337093\n",
      "(9396, 10)\n",
      "nothal_pca:\t0.809607079228242\n",
      "(9396, 2)\n",
      "nothal_fa:\t0.5701545814046495\n"
     ]
    },
    {
     "name": "stderr",
     "output_type": "stream",
     "text": [
      "C:\\Users\\MARA\\Desktop\\IMPERIAL YEAR 4\\Final year project\\code\\PyalData\\pyaldata\\firing_rates.py:91: UserWarning: Assuming spikes are actually spikes and dividing by bin size.\n",
      "  utils.warnings.warn(\"Assuming spikes are actually spikes and dividing by bin size.\")\n",
      "C:\\Users\\MARA\\Desktop\\IMPERIAL YEAR 4\\Final year project\\code\\PyalData\\pyaldata\\firing_rates.py:91: UserWarning: Assuming spikes are actually spikes and dividing by bin size.\n",
      "  utils.warnings.warn(\"Assuming spikes are actually spikes and dividing by bin size.\")\n",
      "C:\\Users\\MARA\\Desktop\\IMPERIAL YEAR 4\\Final year project\\code\\PyalData\\pyaldata\\firing_rates.py:91: UserWarning: Assuming spikes are actually spikes and dividing by bin size.\n",
      "  utils.warnings.warn(\"Assuming spikes are actually spikes and dividing by bin size.\")\n",
      "C:\\Users\\MARA\\Desktop\\IMPERIAL YEAR 4\\Final year project\\code\\PyalData\\pyaldata\\firing_rates.py:91: UserWarning: Assuming spikes are actually spikes and dividing by bin size.\n",
      "  utils.warnings.warn(\"Assuming spikes are actually spikes and dividing by bin size.\")\n"
     ]
    },
    {
     "name": "stdout",
     "output_type": "stream",
     "text": [
      "(2610, 49)\n",
      "m1_rates:\t0.8950998087172927\n",
      "(2610, 19)\n",
      "thal_rates:\t0.5335346022652712\n",
      "(2610, 16)\n",
      "str_rates:\t0.6122817550422777\n",
      "(2610, 53)\n",
      "dcn_rates:\t0.8972912457050247\n",
      "(2610, 137)\n",
      "all_rates:\t0.9931866437526242\n",
      "(2610, 118)\n",
      "nothal_rates:\t0.9914994006905957\n",
      "(2610, 10)\n",
      "nothal_pca:\t0.7032998982910221\n",
      "(2610, 2)\n",
      "nothal_fa:\t0.5866054341484334\n"
     ]
    },
    {
     "name": "stderr",
     "output_type": "stream",
     "text": [
      "C:\\Users\\MARA\\Desktop\\IMPERIAL YEAR 4\\Final year project\\code\\PyalData\\pyaldata\\firing_rates.py:91: UserWarning: Assuming spikes are actually spikes and dividing by bin size.\n",
      "  utils.warnings.warn(\"Assuming spikes are actually spikes and dividing by bin size.\")\n",
      "C:\\Users\\MARA\\Desktop\\IMPERIAL YEAR 4\\Final year project\\code\\PyalData\\pyaldata\\firing_rates.py:91: UserWarning: Assuming spikes are actually spikes and dividing by bin size.\n",
      "  utils.warnings.warn(\"Assuming spikes are actually spikes and dividing by bin size.\")\n",
      "C:\\Users\\MARA\\Desktop\\IMPERIAL YEAR 4\\Final year project\\code\\PyalData\\pyaldata\\firing_rates.py:91: UserWarning: Assuming spikes are actually spikes and dividing by bin size.\n",
      "  utils.warnings.warn(\"Assuming spikes are actually spikes and dividing by bin size.\")\n",
      "C:\\Users\\MARA\\Desktop\\IMPERIAL YEAR 4\\Final year project\\code\\PyalData\\pyaldata\\firing_rates.py:91: UserWarning: Assuming spikes are actually spikes and dividing by bin size.\n",
      "  utils.warnings.warn(\"Assuming spikes are actually spikes and dividing by bin size.\")\n"
     ]
    },
    {
     "name": "stdout",
     "output_type": "stream",
     "text": [
      "(1566, 43)\n",
      "m1_rates:\t0.9462000954550677\n",
      "(1566, 22)\n",
      "thal_rates:\t0.6995168314704079\n",
      "(1566, 8)\n",
      "str_rates:\t0.1389301491950925\n",
      "(1566, 35)\n",
      "dcn_rates:\t0.8656039642774715\n",
      "(1566, 108)\n",
      "all_rates:\t0.9959434037121138\n",
      "(1566, 86)\n",
      "nothal_rates:\t0.9936096054050502\n",
      "(1566, 10)\n",
      "nothal_pca:\t0.50344684901109\n",
      "(1566, 2)\n",
      "nothal_fa:\t0.06125005175607934\n"
     ]
    },
    {
     "name": "stderr",
     "output_type": "stream",
     "text": [
      "C:\\Users\\MARA\\Desktop\\IMPERIAL YEAR 4\\Final year project\\code\\PyalData\\pyaldata\\firing_rates.py:91: UserWarning: Assuming spikes are actually spikes and dividing by bin size.\n",
      "  utils.warnings.warn(\"Assuming spikes are actually spikes and dividing by bin size.\")\n",
      "C:\\Users\\MARA\\Desktop\\IMPERIAL YEAR 4\\Final year project\\code\\PyalData\\pyaldata\\firing_rates.py:91: UserWarning: Assuming spikes are actually spikes and dividing by bin size.\n",
      "  utils.warnings.warn(\"Assuming spikes are actually spikes and dividing by bin size.\")\n",
      "C:\\Users\\MARA\\Desktop\\IMPERIAL YEAR 4\\Final year project\\code\\PyalData\\pyaldata\\firing_rates.py:91: UserWarning: Assuming spikes are actually spikes and dividing by bin size.\n",
      "  utils.warnings.warn(\"Assuming spikes are actually spikes and dividing by bin size.\")\n",
      "C:\\Users\\MARA\\Desktop\\IMPERIAL YEAR 4\\Final year project\\code\\PyalData\\pyaldata\\firing_rates.py:91: UserWarning: Assuming spikes are actually spikes and dividing by bin size.\n",
      "  utils.warnings.warn(\"Assuming spikes are actually spikes and dividing by bin size.\")\n"
     ]
    },
    {
     "name": "stdout",
     "output_type": "stream",
     "text": [
      "(8352, 70)\n",
      "m1_rates:\t0.8214114332106075\n",
      "(8352, 77)\n",
      "thal_rates:\t0.8006043648140017\n",
      "(8352, 48)\n",
      "str_rates:\t0.5775990242269662\n",
      "(8352, 166)\n",
      "dcn_rates:\t0.9048354620704302\n",
      "(8352, 361)\n",
      "all_rates:\t0.9856165508526917\n",
      "(8352, 284)\n",
      "nothal_rates:\t0.9750466889947077\n",
      "(8352, 10)\n",
      "nothal_pca:\t0.6206367594977578\n",
      "(8352, 2)\n",
      "nothal_fa:\t0.42753046583898124\n"
     ]
    },
    {
     "name": "stderr",
     "output_type": "stream",
     "text": [
      "C:\\Users\\MARA\\Desktop\\IMPERIAL YEAR 4\\Final year project\\code\\PyalData\\pyaldata\\firing_rates.py:91: UserWarning: Assuming spikes are actually spikes and dividing by bin size.\n",
      "  utils.warnings.warn(\"Assuming spikes are actually spikes and dividing by bin size.\")\n",
      "C:\\Users\\MARA\\Desktop\\IMPERIAL YEAR 4\\Final year project\\code\\PyalData\\pyaldata\\firing_rates.py:91: UserWarning: Assuming spikes are actually spikes and dividing by bin size.\n",
      "  utils.warnings.warn(\"Assuming spikes are actually spikes and dividing by bin size.\")\n",
      "C:\\Users\\MARA\\Desktop\\IMPERIAL YEAR 4\\Final year project\\code\\PyalData\\pyaldata\\firing_rates.py:91: UserWarning: Assuming spikes are actually spikes and dividing by bin size.\n",
      "  utils.warnings.warn(\"Assuming spikes are actually spikes and dividing by bin size.\")\n",
      "C:\\Users\\MARA\\Desktop\\IMPERIAL YEAR 4\\Final year project\\code\\PyalData\\pyaldata\\firing_rates.py:91: UserWarning: Assuming spikes are actually spikes and dividing by bin size.\n",
      "  utils.warnings.warn(\"Assuming spikes are actually spikes and dividing by bin size.\")\n"
     ]
    },
    {
     "name": "stdout",
     "output_type": "stream",
     "text": [
      "(12006, 54)\n",
      "m1_rates:\t0.8139430836236589\n",
      "(12006, 68)\n",
      "thal_rates:\t0.8046157743704379\n",
      "(12006, 46)\n",
      "str_rates:\t0.6369491975338406\n",
      "(12006, 162)\n",
      "dcn_rates:\t0.8743556248459556\n",
      "(12006, 330)\n",
      "all_rates:\t0.9741517288672987\n",
      "(12006, 262)\n",
      "nothal_rates:\t0.9531940358544603\n",
      "(12006, 10)\n",
      "nothal_pca:\t0.7103237525157373\n",
      "(12006, 2)\n",
      "nothal_fa:\t0.6002213517270117\n"
     ]
    },
    {
     "name": "stderr",
     "output_type": "stream",
     "text": [
      "C:\\Users\\MARA\\Desktop\\IMPERIAL YEAR 4\\Final year project\\code\\PyalData\\pyaldata\\firing_rates.py:91: UserWarning: Assuming spikes are actually spikes and dividing by bin size.\n",
      "  utils.warnings.warn(\"Assuming spikes are actually spikes and dividing by bin size.\")\n",
      "C:\\Users\\MARA\\Desktop\\IMPERIAL YEAR 4\\Final year project\\code\\PyalData\\pyaldata\\firing_rates.py:91: UserWarning: Assuming spikes are actually spikes and dividing by bin size.\n",
      "  utils.warnings.warn(\"Assuming spikes are actually spikes and dividing by bin size.\")\n",
      "C:\\Users\\MARA\\Desktop\\IMPERIAL YEAR 4\\Final year project\\code\\PyalData\\pyaldata\\firing_rates.py:91: UserWarning: Assuming spikes are actually spikes and dividing by bin size.\n",
      "  utils.warnings.warn(\"Assuming spikes are actually spikes and dividing by bin size.\")\n",
      "C:\\Users\\MARA\\Desktop\\IMPERIAL YEAR 4\\Final year project\\code\\PyalData\\pyaldata\\firing_rates.py:91: UserWarning: Assuming spikes are actually spikes and dividing by bin size.\n",
      "  utils.warnings.warn(\"Assuming spikes are actually spikes and dividing by bin size.\")\n"
     ]
    },
    {
     "name": "stdout",
     "output_type": "stream",
     "text": [
      "(5220, 46)\n",
      "m1_rates:\t0.8550285991743198\n",
      "(5220, 3)\n",
      "thal_rates:\t0.10616675228181922\n",
      "(5220, 55)\n",
      "str_rates:\t0.8621467136929291\n",
      "(5220, 16)\n",
      "dcn_rates:\t0.5904748070649408\n",
      "(5220, 120)\n",
      "all_rates:\t0.9645602097397934\n",
      "(5220, 117)\n",
      "nothal_rates:\t0.9629695315331892\n",
      "(5220, 10)\n",
      "nothal_pca:\t0.6956908967087765\n",
      "(5220, 2)\n",
      "nothal_fa:\t0.6233889477809655\n"
     ]
    },
    {
     "name": "stderr",
     "output_type": "stream",
     "text": [
      "C:\\Users\\MARA\\Desktop\\IMPERIAL YEAR 4\\Final year project\\code\\PyalData\\pyaldata\\firing_rates.py:91: UserWarning: Assuming spikes are actually spikes and dividing by bin size.\n",
      "  utils.warnings.warn(\"Assuming spikes are actually spikes and dividing by bin size.\")\n",
      "C:\\Users\\MARA\\Desktop\\IMPERIAL YEAR 4\\Final year project\\code\\PyalData\\pyaldata\\firing_rates.py:91: UserWarning: Assuming spikes are actually spikes and dividing by bin size.\n",
      "  utils.warnings.warn(\"Assuming spikes are actually spikes and dividing by bin size.\")\n",
      "C:\\Users\\MARA\\Desktop\\IMPERIAL YEAR 4\\Final year project\\code\\PyalData\\pyaldata\\firing_rates.py:91: UserWarning: Assuming spikes are actually spikes and dividing by bin size.\n",
      "  utils.warnings.warn(\"Assuming spikes are actually spikes and dividing by bin size.\")\n",
      "C:\\Users\\MARA\\Desktop\\IMPERIAL YEAR 4\\Final year project\\code\\PyalData\\pyaldata\\firing_rates.py:91: UserWarning: Assuming spikes are actually spikes and dividing by bin size.\n",
      "  utils.warnings.warn(\"Assuming spikes are actually spikes and dividing by bin size.\")\n"
     ]
    },
    {
     "name": "stdout",
     "output_type": "stream",
     "text": [
      "(4698, 21)\n",
      "m1_rates:\t0.7164386001348129\n",
      "(4698, 8)\n",
      "thal_rates:\t0.6957888906390406\n",
      "(4698, 33)\n",
      "str_rates:\t0.7714504695370399\n",
      "(4698, 33)\n",
      "dcn_rates:\t0.7470109150264649\n",
      "(4698, 95)\n",
      "all_rates:\t0.9564174173261316\n",
      "(4698, 87)\n",
      "nothal_rates:\t0.9447871215036756\n",
      "(4698, 10)\n",
      "nothal_pca:\t0.6618748517109334\n",
      "(4698, 2)\n",
      "nothal_fa:\t0.6132328634225476\n"
     ]
    },
    {
     "name": "stderr",
     "output_type": "stream",
     "text": [
      "C:\\Users\\MARA\\Desktop\\IMPERIAL YEAR 4\\Final year project\\code\\PyalData\\pyaldata\\firing_rates.py:91: UserWarning: Assuming spikes are actually spikes and dividing by bin size.\n",
      "  utils.warnings.warn(\"Assuming spikes are actually spikes and dividing by bin size.\")\n",
      "C:\\Users\\MARA\\Desktop\\IMPERIAL YEAR 4\\Final year project\\code\\PyalData\\pyaldata\\firing_rates.py:91: UserWarning: Assuming spikes are actually spikes and dividing by bin size.\n",
      "  utils.warnings.warn(\"Assuming spikes are actually spikes and dividing by bin size.\")\n",
      "C:\\Users\\MARA\\Desktop\\IMPERIAL YEAR 4\\Final year project\\code\\PyalData\\pyaldata\\firing_rates.py:91: UserWarning: Assuming spikes are actually spikes and dividing by bin size.\n",
      "  utils.warnings.warn(\"Assuming spikes are actually spikes and dividing by bin size.\")\n",
      "C:\\Users\\MARA\\Desktop\\IMPERIAL YEAR 4\\Final year project\\code\\PyalData\\pyaldata\\firing_rates.py:91: UserWarning: Assuming spikes are actually spikes and dividing by bin size.\n",
      "  utils.warnings.warn(\"Assuming spikes are actually spikes and dividing by bin size.\")\n"
     ]
    },
    {
     "name": "stdout",
     "output_type": "stream",
     "text": [
      "(1044, 34)\n",
      "m1_rates:\t0.9831739505160544\n",
      "(1044, 22)\n",
      "thal_rates:\t0.9270822985794673\n",
      "(1044, 38)\n",
      "str_rates:\t0.9836931045565874\n",
      "(1044, 37)\n",
      "dcn_rates:\t0.978906205824039\n",
      "(1044, 131)\n",
      "all_rates:\t0.9941678001235573\n",
      "(1044, 109)\n",
      "nothal_rates:\t0.9929409744912533\n",
      "(1044, 10)\n",
      "nothal_pca:\t0.7404975797011458\n",
      "(1044, 2)\n",
      "nothal_fa:\t0.21745414385540102\n"
     ]
    },
    {
     "name": "stderr",
     "output_type": "stream",
     "text": [
      "C:\\Users\\MARA\\Desktop\\IMPERIAL YEAR 4\\Final year project\\code\\PyalData\\pyaldata\\firing_rates.py:91: UserWarning: Assuming spikes are actually spikes and dividing by bin size.\n",
      "  utils.warnings.warn(\"Assuming spikes are actually spikes and dividing by bin size.\")\n",
      "C:\\Users\\MARA\\Desktop\\IMPERIAL YEAR 4\\Final year project\\code\\PyalData\\pyaldata\\firing_rates.py:91: UserWarning: Assuming spikes are actually spikes and dividing by bin size.\n",
      "  utils.warnings.warn(\"Assuming spikes are actually spikes and dividing by bin size.\")\n",
      "C:\\Users\\MARA\\Desktop\\IMPERIAL YEAR 4\\Final year project\\code\\PyalData\\pyaldata\\firing_rates.py:91: UserWarning: Assuming spikes are actually spikes and dividing by bin size.\n",
      "  utils.warnings.warn(\"Assuming spikes are actually spikes and dividing by bin size.\")\n",
      "C:\\Users\\MARA\\Desktop\\IMPERIAL YEAR 4\\Final year project\\code\\PyalData\\pyaldata\\firing_rates.py:91: UserWarning: Assuming spikes are actually spikes and dividing by bin size.\n",
      "  utils.warnings.warn(\"Assuming spikes are actually spikes and dividing by bin size.\")\n"
     ]
    },
    {
     "name": "stdout",
     "output_type": "stream",
     "text": [
      "(5220, 30)\n",
      "m1_rates:\t0.8044976432387946\n",
      "(5220, 17)\n",
      "thal_rates:\t0.6654630118833182\n",
      "(5220, 9)\n",
      "str_rates:\t0.1628444393940652\n",
      "(5220, 54)\n",
      "dcn_rates:\t0.8208551951708856\n",
      "(5220, 110)\n",
      "all_rates:\t0.957705159304537\n",
      "(5220, 93)\n",
      "nothal_rates:\t0.9421890176637586\n",
      "(5220, 10)\n",
      "nothal_pca:\t0.7397862780407333\n",
      "(5220, 2)\n",
      "nothal_fa:\t0.6811088330091349\n"
     ]
    },
    {
     "name": "stderr",
     "output_type": "stream",
     "text": [
      "C:\\Users\\MARA\\Desktop\\IMPERIAL YEAR 4\\Final year project\\code\\PyalData\\pyaldata\\firing_rates.py:91: UserWarning: Assuming spikes are actually spikes and dividing by bin size.\n",
      "  utils.warnings.warn(\"Assuming spikes are actually spikes and dividing by bin size.\")\n",
      "C:\\Users\\MARA\\Desktop\\IMPERIAL YEAR 4\\Final year project\\code\\PyalData\\pyaldata\\firing_rates.py:91: UserWarning: Assuming spikes are actually spikes and dividing by bin size.\n",
      "  utils.warnings.warn(\"Assuming spikes are actually spikes and dividing by bin size.\")\n",
      "C:\\Users\\MARA\\Desktop\\IMPERIAL YEAR 4\\Final year project\\code\\PyalData\\pyaldata\\firing_rates.py:91: UserWarning: Assuming spikes are actually spikes and dividing by bin size.\n",
      "  utils.warnings.warn(\"Assuming spikes are actually spikes and dividing by bin size.\")\n",
      "C:\\Users\\MARA\\Desktop\\IMPERIAL YEAR 4\\Final year project\\code\\PyalData\\pyaldata\\firing_rates.py:91: UserWarning: Assuming spikes are actually spikes and dividing by bin size.\n",
      "  utils.warnings.warn(\"Assuming spikes are actually spikes and dividing by bin size.\")\n"
     ]
    },
    {
     "name": "stdout",
     "output_type": "stream",
     "text": [
      "(15399, 108)\n",
      "m1_rates:\t0.8848109219994834\n",
      "(15399, 30)\n",
      "thal_rates:\t0.6628341646992383\n",
      "(15399, 45)\n",
      "str_rates:\t0.6862008328782205\n",
      "(15399, 170)\n",
      "dcn_rates:\t0.8857401003250371\n",
      "(15399, 353)\n",
      "all_rates:\t0.9671766369667072\n",
      "(15399, 323)\n",
      "nothal_rates:\t0.9606435058283976\n",
      "(15399, 10)\n",
      "nothal_pca:\t0.8260733151603137\n",
      "(15399, 2)\n",
      "nothal_fa:\t0.570049870114482\n"
     ]
    },
    {
     "name": "stderr",
     "output_type": "stream",
     "text": [
      "C:\\Users\\MARA\\Desktop\\IMPERIAL YEAR 4\\Final year project\\code\\PyalData\\pyaldata\\firing_rates.py:91: UserWarning: Assuming spikes are actually spikes and dividing by bin size.\n",
      "  utils.warnings.warn(\"Assuming spikes are actually spikes and dividing by bin size.\")\n",
      "C:\\Users\\MARA\\Desktop\\IMPERIAL YEAR 4\\Final year project\\code\\PyalData\\pyaldata\\firing_rates.py:91: UserWarning: Assuming spikes are actually spikes and dividing by bin size.\n",
      "  utils.warnings.warn(\"Assuming spikes are actually spikes and dividing by bin size.\")\n",
      "C:\\Users\\MARA\\Desktop\\IMPERIAL YEAR 4\\Final year project\\code\\PyalData\\pyaldata\\firing_rates.py:91: UserWarning: Assuming spikes are actually spikes and dividing by bin size.\n",
      "  utils.warnings.warn(\"Assuming spikes are actually spikes and dividing by bin size.\")\n",
      "C:\\Users\\MARA\\Desktop\\IMPERIAL YEAR 4\\Final year project\\code\\PyalData\\pyaldata\\firing_rates.py:91: UserWarning: Assuming spikes are actually spikes and dividing by bin size.\n",
      "  utils.warnings.warn(\"Assuming spikes are actually spikes and dividing by bin size.\")\n"
     ]
    },
    {
     "name": "stdout",
     "output_type": "stream",
     "text": [
      "(20097, 94)\n",
      "m1_rates:\t0.8744671342134032\n",
      "(20097, 39)\n",
      "thal_rates:\t0.5968013825276195\n",
      "(20097, 29)\n",
      "str_rates:\t0.6064824502560504\n",
      "(20097, 166)\n",
      "dcn_rates:\t0.871570934209922\n",
      "(20097, 328)\n",
      "all_rates:\t0.9515494461211247\n",
      "(20097, 289)\n",
      "nothal_rates:\t0.9422207804572323\n",
      "(20097, 10)\n",
      "nothal_pca:\t0.7981813040652929\n",
      "(20097, 2)\n",
      "nothal_fa:\t0.6204708695167767\n"
     ]
    },
    {
     "name": "stderr",
     "output_type": "stream",
     "text": [
      "C:\\Users\\MARA\\Desktop\\IMPERIAL YEAR 4\\Final year project\\code\\PyalData\\pyaldata\\firing_rates.py:91: UserWarning: Assuming spikes are actually spikes and dividing by bin size.\n",
      "  utils.warnings.warn(\"Assuming spikes are actually spikes and dividing by bin size.\")\n",
      "C:\\Users\\MARA\\Desktop\\IMPERIAL YEAR 4\\Final year project\\code\\PyalData\\pyaldata\\firing_rates.py:91: UserWarning: Assuming spikes are actually spikes and dividing by bin size.\n",
      "  utils.warnings.warn(\"Assuming spikes are actually spikes and dividing by bin size.\")\n",
      "C:\\Users\\MARA\\Desktop\\IMPERIAL YEAR 4\\Final year project\\code\\PyalData\\pyaldata\\firing_rates.py:91: UserWarning: Assuming spikes are actually spikes and dividing by bin size.\n",
      "  utils.warnings.warn(\"Assuming spikes are actually spikes and dividing by bin size.\")\n",
      "C:\\Users\\MARA\\Desktop\\IMPERIAL YEAR 4\\Final year project\\code\\PyalData\\pyaldata\\firing_rates.py:91: UserWarning: Assuming spikes are actually spikes and dividing by bin size.\n",
      "  utils.warnings.warn(\"Assuming spikes are actually spikes and dividing by bin size.\")\n"
     ]
    },
    {
     "name": "stdout",
     "output_type": "stream",
     "text": [
      "(7308, 59)\n",
      "m1_rates:\t0.8600569218801422\n",
      "(7308, 123)\n",
      "thal_rates:\t0.9064485653759069\n",
      "(7308, 12)\n",
      "str_rates:\t0.4780849726059744\n",
      "(7308, 392)\n",
      "dcn_rates:\t0.9927934666654435\n",
      "(7308, 586)\n",
      "all_rates:\t0.9951661359917093\n",
      "(7308, 463)\n",
      "nothal_rates:\t0.994303802987411\n",
      "(7308, 10)\n",
      "nothal_pca:\t0.8452664670592916\n",
      "(7308, 2)\n",
      "nothal_fa:\t0.6088068261208146\n"
     ]
    },
    {
     "name": "stderr",
     "output_type": "stream",
     "text": [
      "C:\\Users\\MARA\\Desktop\\IMPERIAL YEAR 4\\Final year project\\code\\PyalData\\pyaldata\\firing_rates.py:91: UserWarning: Assuming spikes are actually spikes and dividing by bin size.\n",
      "  utils.warnings.warn(\"Assuming spikes are actually spikes and dividing by bin size.\")\n",
      "C:\\Users\\MARA\\Desktop\\IMPERIAL YEAR 4\\Final year project\\code\\PyalData\\pyaldata\\firing_rates.py:91: UserWarning: Assuming spikes are actually spikes and dividing by bin size.\n",
      "  utils.warnings.warn(\"Assuming spikes are actually spikes and dividing by bin size.\")\n",
      "C:\\Users\\MARA\\Desktop\\IMPERIAL YEAR 4\\Final year project\\code\\PyalData\\pyaldata\\firing_rates.py:91: UserWarning: Assuming spikes are actually spikes and dividing by bin size.\n",
      "  utils.warnings.warn(\"Assuming spikes are actually spikes and dividing by bin size.\")\n",
      "C:\\Users\\MARA\\Desktop\\IMPERIAL YEAR 4\\Final year project\\code\\PyalData\\pyaldata\\firing_rates.py:91: UserWarning: Assuming spikes are actually spikes and dividing by bin size.\n",
      "  utils.warnings.warn(\"Assuming spikes are actually spikes and dividing by bin size.\")\n"
     ]
    },
    {
     "name": "stdout",
     "output_type": "stream",
     "text": [
      "(4959, 38)\n",
      "m1_rates:\t0.8671972303318686\n",
      "(4959, 14)\n",
      "thal_rates:\t0.45326022614371364\n",
      "(4959, 24)\n",
      "str_rates:\t0.8098453422029086\n",
      "(4959, 20)\n",
      "dcn_rates:\t0.7463490964352798\n",
      "(4959, 96)\n",
      "all_rates:\t0.9606657747838611\n",
      "(4959, 82)\n",
      "nothal_rates:\t0.9485767491276313\n",
      "(4959, 10)\n",
      "nothal_pca:\t0.816688811097524\n",
      "(4959, 2)\n",
      "nothal_fa:\t0.7082687502705911\n"
     ]
    },
    {
     "name": "stderr",
     "output_type": "stream",
     "text": [
      "C:\\Users\\MARA\\Desktop\\IMPERIAL YEAR 4\\Final year project\\code\\PyalData\\pyaldata\\firing_rates.py:91: UserWarning: Assuming spikes are actually spikes and dividing by bin size.\n",
      "  utils.warnings.warn(\"Assuming spikes are actually spikes and dividing by bin size.\")\n",
      "C:\\Users\\MARA\\Desktop\\IMPERIAL YEAR 4\\Final year project\\code\\PyalData\\pyaldata\\firing_rates.py:91: UserWarning: Assuming spikes are actually spikes and dividing by bin size.\n",
      "  utils.warnings.warn(\"Assuming spikes are actually spikes and dividing by bin size.\")\n",
      "C:\\Users\\MARA\\Desktop\\IMPERIAL YEAR 4\\Final year project\\code\\PyalData\\pyaldata\\firing_rates.py:91: UserWarning: Assuming spikes are actually spikes and dividing by bin size.\n",
      "  utils.warnings.warn(\"Assuming spikes are actually spikes and dividing by bin size.\")\n",
      "C:\\Users\\MARA\\Desktop\\IMPERIAL YEAR 4\\Final year project\\code\\PyalData\\pyaldata\\firing_rates.py:91: UserWarning: Assuming spikes are actually spikes and dividing by bin size.\n",
      "  utils.warnings.warn(\"Assuming spikes are actually spikes and dividing by bin size.\")\n"
     ]
    },
    {
     "name": "stdout",
     "output_type": "stream",
     "text": [
      "(3915, 44)\n",
      "m1_rates:\t0.8793554743920918\n",
      "(3915, 7)\n",
      "thal_rates:\t0.4512534344355929\n",
      "(3915, 32)\n",
      "str_rates:\t0.7946600527458889\n",
      "(3915, 35)\n",
      "dcn_rates:\t0.8487716555185199\n",
      "(3915, 118)\n",
      "all_rates:\t0.9834517847067049\n",
      "(3915, 111)\n",
      "nothal_rates:\t0.9813257171286349\n",
      "(3915, 10)\n",
      "nothal_pca:\t0.785124387839055\n",
      "(3915, 2)\n",
      "nothal_fa:\t0.5963640802910117\n"
     ]
    },
    {
     "name": "stderr",
     "output_type": "stream",
     "text": [
      "C:\\Users\\MARA\\Desktop\\IMPERIAL YEAR 4\\Final year project\\code\\PyalData\\pyaldata\\firing_rates.py:91: UserWarning: Assuming spikes are actually spikes and dividing by bin size.\n",
      "  utils.warnings.warn(\"Assuming spikes are actually spikes and dividing by bin size.\")\n",
      "C:\\Users\\MARA\\Desktop\\IMPERIAL YEAR 4\\Final year project\\code\\PyalData\\pyaldata\\firing_rates.py:91: UserWarning: Assuming spikes are actually spikes and dividing by bin size.\n",
      "  utils.warnings.warn(\"Assuming spikes are actually spikes and dividing by bin size.\")\n",
      "C:\\Users\\MARA\\Desktop\\IMPERIAL YEAR 4\\Final year project\\code\\PyalData\\pyaldata\\firing_rates.py:91: UserWarning: Assuming spikes are actually spikes and dividing by bin size.\n",
      "  utils.warnings.warn(\"Assuming spikes are actually spikes and dividing by bin size.\")\n",
      "C:\\Users\\MARA\\Desktop\\IMPERIAL YEAR 4\\Final year project\\code\\PyalData\\pyaldata\\firing_rates.py:91: UserWarning: Assuming spikes are actually spikes and dividing by bin size.\n",
      "  utils.warnings.warn(\"Assuming spikes are actually spikes and dividing by bin size.\")\n"
     ]
    },
    {
     "name": "stdout",
     "output_type": "stream",
     "text": [
      "(2088, 44)\n",
      "m1_rates:\t0.9272052520601672\n",
      "(2088, 115)\n",
      "thal_rates:\t0.9919880013124474\n",
      "(2088, 38)\n",
      "str_rates:\t0.8852354370369918\n",
      "(2088, 352)\n",
      "dcn_rates:\t0.9929115915413995\n",
      "(2088, 549)\n",
      "all_rates:\t0.9884645679488155\n",
      "(2088, 434)\n",
      "nothal_rates:\t0.9933950918706398\n",
      "(2088, 10)\n",
      "nothal_pca:\t0.795699749938614\n",
      "(2088, 2)\n",
      "nothal_fa:\t0.5460300042173641\n"
     ]
    },
    {
     "name": "stderr",
     "output_type": "stream",
     "text": [
      "C:\\Users\\MARA\\Desktop\\IMPERIAL YEAR 4\\Final year project\\code\\PyalData\\pyaldata\\firing_rates.py:91: UserWarning: Assuming spikes are actually spikes and dividing by bin size.\n",
      "  utils.warnings.warn(\"Assuming spikes are actually spikes and dividing by bin size.\")\n",
      "C:\\Users\\MARA\\Desktop\\IMPERIAL YEAR 4\\Final year project\\code\\PyalData\\pyaldata\\firing_rates.py:91: UserWarning: Assuming spikes are actually spikes and dividing by bin size.\n",
      "  utils.warnings.warn(\"Assuming spikes are actually spikes and dividing by bin size.\")\n",
      "C:\\Users\\MARA\\Desktop\\IMPERIAL YEAR 4\\Final year project\\code\\PyalData\\pyaldata\\firing_rates.py:91: UserWarning: Assuming spikes are actually spikes and dividing by bin size.\n",
      "  utils.warnings.warn(\"Assuming spikes are actually spikes and dividing by bin size.\")\n",
      "C:\\Users\\MARA\\Desktop\\IMPERIAL YEAR 4\\Final year project\\code\\PyalData\\pyaldata\\firing_rates.py:91: UserWarning: Assuming spikes are actually spikes and dividing by bin size.\n",
      "  utils.warnings.warn(\"Assuming spikes are actually spikes and dividing by bin size.\")\n"
     ]
    },
    {
     "name": "stdout",
     "output_type": "stream",
     "text": [
      "(12267, 58)\n",
      "m1_rates:\t0.8105002565173454\n",
      "(12267, 150)\n",
      "thal_rates:\t0.8903142814007522\n",
      "(12267, 45)\n",
      "str_rates:\t0.6273943315783496\n",
      "(12267, 368)\n",
      "dcn_rates:\t0.9759975207697508\n",
      "(12267, 621)\n",
      "all_rates:\t0.9923570732933076\n",
      "(12267, 471)\n",
      "nothal_rates:\t0.9876789028535784\n",
      "(12267, 10)\n",
      "nothal_pca:\t0.7172375870317759\n",
      "(12267, 2)\n",
      "nothal_fa:\t0.5735915943414518\n"
     ]
    },
    {
     "name": "stderr",
     "output_type": "stream",
     "text": [
      "C:\\Users\\MARA\\Desktop\\IMPERIAL YEAR 4\\Final year project\\code\\PyalData\\pyaldata\\firing_rates.py:91: UserWarning: Assuming spikes are actually spikes and dividing by bin size.\n",
      "  utils.warnings.warn(\"Assuming spikes are actually spikes and dividing by bin size.\")\n",
      "C:\\Users\\MARA\\Desktop\\IMPERIAL YEAR 4\\Final year project\\code\\PyalData\\pyaldata\\firing_rates.py:91: UserWarning: Assuming spikes are actually spikes and dividing by bin size.\n",
      "  utils.warnings.warn(\"Assuming spikes are actually spikes and dividing by bin size.\")\n",
      "C:\\Users\\MARA\\Desktop\\IMPERIAL YEAR 4\\Final year project\\code\\PyalData\\pyaldata\\firing_rates.py:91: UserWarning: Assuming spikes are actually spikes and dividing by bin size.\n",
      "  utils.warnings.warn(\"Assuming spikes are actually spikes and dividing by bin size.\")\n",
      "C:\\Users\\MARA\\Desktop\\IMPERIAL YEAR 4\\Final year project\\code\\PyalData\\pyaldata\\firing_rates.py:91: UserWarning: Assuming spikes are actually spikes and dividing by bin size.\n",
      "  utils.warnings.warn(\"Assuming spikes are actually spikes and dividing by bin size.\")\n"
     ]
    },
    {
     "name": "stdout",
     "output_type": "stream",
     "text": [
      "(12789, 56)\n",
      "m1_rates:\t0.7986614359342534\n",
      "(12789, 126)\n",
      "thal_rates:\t0.8787550263058064\n",
      "(12789, 50)\n",
      "str_rates:\t0.6843895632815652\n",
      "(12789, 345)\n",
      "dcn_rates:\t0.9738233525084297\n",
      "(12789, 577)\n",
      "all_rates:\t0.9924359629100948\n",
      "(12789, 451)\n",
      "nothal_rates:\t0.98786555195703\n",
      "(12789, 10)\n",
      "nothal_pca:\t0.7754237031171863\n",
      "(12789, 2)\n",
      "nothal_fa:\t0.6066626232568674\n"
     ]
    },
    {
     "name": "stderr",
     "output_type": "stream",
     "text": [
      "C:\\Users\\MARA\\Desktop\\IMPERIAL YEAR 4\\Final year project\\code\\PyalData\\pyaldata\\firing_rates.py:91: UserWarning: Assuming spikes are actually spikes and dividing by bin size.\n",
      "  utils.warnings.warn(\"Assuming spikes are actually spikes and dividing by bin size.\")\n",
      "C:\\Users\\MARA\\Desktop\\IMPERIAL YEAR 4\\Final year project\\code\\PyalData\\pyaldata\\firing_rates.py:91: UserWarning: Assuming spikes are actually spikes and dividing by bin size.\n",
      "  utils.warnings.warn(\"Assuming spikes are actually spikes and dividing by bin size.\")\n",
      "C:\\Users\\MARA\\Desktop\\IMPERIAL YEAR 4\\Final year project\\code\\PyalData\\pyaldata\\firing_rates.py:91: UserWarning: Assuming spikes are actually spikes and dividing by bin size.\n",
      "  utils.warnings.warn(\"Assuming spikes are actually spikes and dividing by bin size.\")\n",
      "C:\\Users\\MARA\\Desktop\\IMPERIAL YEAR 4\\Final year project\\code\\PyalData\\pyaldata\\firing_rates.py:91: UserWarning: Assuming spikes are actually spikes and dividing by bin size.\n",
      "  utils.warnings.warn(\"Assuming spikes are actually spikes and dividing by bin size.\")\n"
     ]
    },
    {
     "name": "stdout",
     "output_type": "stream",
     "text": [
      "(8874, 57)\n",
      "m1_rates:\t0.8201523897800019\n",
      "(8874, 122)\n",
      "thal_rates:\t0.8318266690416868\n",
      "(8874, 28)\n",
      "str_rates:\t0.5968773341944449\n",
      "(8874, 199)\n",
      "dcn_rates:\t0.9391223853791221\n",
      "(8874, 406)\n",
      "all_rates:\t0.9910845058464997\n",
      "(8874, 284)\n",
      "nothal_rates:\t0.9802122723376044\n",
      "(8874, 10)\n",
      "nothal_pca:\t0.677958487967891\n",
      "(8874, 2)\n",
      "nothal_fa:\t0.5859958178483036\n"
     ]
    },
    {
     "name": "stderr",
     "output_type": "stream",
     "text": [
      "C:\\Users\\MARA\\Desktop\\IMPERIAL YEAR 4\\Final year project\\code\\PyalData\\pyaldata\\firing_rates.py:91: UserWarning: Assuming spikes are actually spikes and dividing by bin size.\n",
      "  utils.warnings.warn(\"Assuming spikes are actually spikes and dividing by bin size.\")\n",
      "C:\\Users\\MARA\\Desktop\\IMPERIAL YEAR 4\\Final year project\\code\\PyalData\\pyaldata\\firing_rates.py:91: UserWarning: Assuming spikes are actually spikes and dividing by bin size.\n",
      "  utils.warnings.warn(\"Assuming spikes are actually spikes and dividing by bin size.\")\n",
      "C:\\Users\\MARA\\Desktop\\IMPERIAL YEAR 4\\Final year project\\code\\PyalData\\pyaldata\\firing_rates.py:91: UserWarning: Assuming spikes are actually spikes and dividing by bin size.\n",
      "  utils.warnings.warn(\"Assuming spikes are actually spikes and dividing by bin size.\")\n",
      "C:\\Users\\MARA\\Desktop\\IMPERIAL YEAR 4\\Final year project\\code\\PyalData\\pyaldata\\firing_rates.py:91: UserWarning: Assuming spikes are actually spikes and dividing by bin size.\n",
      "  utils.warnings.warn(\"Assuming spikes are actually spikes and dividing by bin size.\")\n"
     ]
    },
    {
     "name": "stdout",
     "output_type": "stream",
     "text": [
      "(7830, 42)\n",
      "m1_rates:\t0.7943149549838467\n",
      "(7830, 95)\n",
      "thal_rates:\t0.7910167200754541\n",
      "(7830, 25)\n",
      "str_rates:\t0.4616515731563653\n",
      "(7830, 178)\n",
      "dcn_rates:\t0.9448808447936123\n",
      "(7830, 340)\n",
      "all_rates:\t0.9892137076135381\n",
      "(7830, 245)\n",
      "nothal_rates:\t0.9767107317598922\n",
      "(7830, 10)\n",
      "nothal_pca:\t0.6991056412631205\n",
      "(7830, 2)\n",
      "nothal_fa:\t0.5945469932382034\n"
     ]
    },
    {
     "name": "stderr",
     "output_type": "stream",
     "text": [
      "C:\\Users\\MARA\\Desktop\\IMPERIAL YEAR 4\\Final year project\\code\\PyalData\\pyaldata\\firing_rates.py:91: UserWarning: Assuming spikes are actually spikes and dividing by bin size.\n",
      "  utils.warnings.warn(\"Assuming spikes are actually spikes and dividing by bin size.\")\n",
      "C:\\Users\\MARA\\Desktop\\IMPERIAL YEAR 4\\Final year project\\code\\PyalData\\pyaldata\\firing_rates.py:91: UserWarning: Assuming spikes are actually spikes and dividing by bin size.\n",
      "  utils.warnings.warn(\"Assuming spikes are actually spikes and dividing by bin size.\")\n",
      "C:\\Users\\MARA\\Desktop\\IMPERIAL YEAR 4\\Final year project\\code\\PyalData\\pyaldata\\firing_rates.py:91: UserWarning: Assuming spikes are actually spikes and dividing by bin size.\n",
      "  utils.warnings.warn(\"Assuming spikes are actually spikes and dividing by bin size.\")\n",
      "C:\\Users\\MARA\\Desktop\\IMPERIAL YEAR 4\\Final year project\\code\\PyalData\\pyaldata\\firing_rates.py:91: UserWarning: Assuming spikes are actually spikes and dividing by bin size.\n",
      "  utils.warnings.warn(\"Assuming spikes are actually spikes and dividing by bin size.\")\n"
     ]
    },
    {
     "name": "stdout",
     "output_type": "stream",
     "text": [
      "(2871, 7)\n",
      "m1_rates:\t0.5288875828767834\n",
      "(2871, 16)\n",
      "thal_rates:\t0.53954152224974\n",
      "(2871, 21)\n",
      "str_rates:\t0.5359714785955408\n",
      "(2871, 20)\n",
      "dcn_rates:\t0.5171535871308561\n",
      "(2871, 64)\n",
      "all_rates:\t0.9360290150748831\n",
      "(2871, 48)\n",
      "nothal_rates:\t0.8865208375091338\n",
      "(2871, 10)\n",
      "nothal_pca:\t0.5617217345710454\n",
      "(2871, 2)\n",
      "nothal_fa:\t0.2550710510106819\n"
     ]
    },
    {
     "name": "stderr",
     "output_type": "stream",
     "text": [
      "C:\\Users\\MARA\\Desktop\\IMPERIAL YEAR 4\\Final year project\\code\\PyalData\\pyaldata\\firing_rates.py:91: UserWarning: Assuming spikes are actually spikes and dividing by bin size.\n",
      "  utils.warnings.warn(\"Assuming spikes are actually spikes and dividing by bin size.\")\n",
      "C:\\Users\\MARA\\Desktop\\IMPERIAL YEAR 4\\Final year project\\code\\PyalData\\pyaldata\\firing_rates.py:91: UserWarning: Assuming spikes are actually spikes and dividing by bin size.\n",
      "  utils.warnings.warn(\"Assuming spikes are actually spikes and dividing by bin size.\")\n",
      "C:\\Users\\MARA\\Desktop\\IMPERIAL YEAR 4\\Final year project\\code\\PyalData\\pyaldata\\firing_rates.py:91: UserWarning: Assuming spikes are actually spikes and dividing by bin size.\n",
      "  utils.warnings.warn(\"Assuming spikes are actually spikes and dividing by bin size.\")\n",
      "C:\\Users\\MARA\\Desktop\\IMPERIAL YEAR 4\\Final year project\\code\\PyalData\\pyaldata\\firing_rates.py:91: UserWarning: Assuming spikes are actually spikes and dividing by bin size.\n",
      "  utils.warnings.warn(\"Assuming spikes are actually spikes and dividing by bin size.\")\n"
     ]
    },
    {
     "name": "stdout",
     "output_type": "stream",
     "text": [
      "(3654, 20)\n",
      "m1_rates:\t0.6967401796318148\n",
      "(3654, 29)\n",
      "thal_rates:\t0.6483152818847042\n",
      "(3654, 23)\n",
      "str_rates:\t0.6198258687528315\n",
      "(3654, 52)\n",
      "dcn_rates:\t0.83808756438811\n",
      "(3654, 124)\n",
      "all_rates:\t0.9809099995501981\n",
      "(3654, 95)\n",
      "nothal_rates:\t0.9618474770927469\n",
      "(3654, 10)\n",
      "nothal_pca:\t0.650487362392652\n",
      "(3654, 2)\n",
      "nothal_fa:\t0.5314570177023202\n"
     ]
    }
   ],
   "source": [
    "pca_dims = 10\n",
    "fa_dims = 2\n",
    "\n",
    "m1_score_list = []\n",
    "thal_score_list = []\n",
    "str_score_list = []\n",
    "dcn_score_list = []\n",
    "all_score_list = []\n",
    "nothal_score_list = []\n",
    "nothal_pca_score_list = []\n",
    "nothal_fa_score_list = []\n",
    "\n",
    "for fname in files_WTM355:\n",
    "\n",
    "    fpath = os.path.join(data_dir_WTM355, fname)  # change to the session you want\n",
    "    # load TrialData .mat file into a DataFrame\n",
    "    df_uncombined = pyaldata.mat2dataframe(fpath, shift_idx_fields=True)\n",
    "    df_uncombined = pyaldata.select_trials(df_uncombined, \"success == 1\")\n",
    "\n",
    "    spike_fields = [col for col in df_uncombined.columns if col.endswith(\"spikes\")]\n",
    "    nothal_spike_fields = [\"dcn_spikes\",\"m1_spikes\",\"str_spikes\"]\n",
    "\n",
    "    for col in spike_fields:\n",
    "        df_uncombined = pyaldata.remove_low_firing_neurons(df_uncombined, col,  1)\n",
    "        df_uncombined = pyaldata.transform_signal(df_uncombined, col,  'sqrt')\n",
    "\n",
    "    df_uncombined = pyaldata.merge_signals(df_uncombined, spike_fields, \"all_spikes\")\n",
    "    df_uncombined = pyaldata.merge_signals(df_uncombined, nothal_spike_fields, \"nothal_spikes\")\n",
    "    df_uncombined = pyaldata.add_firing_rates(df_uncombined, 'smooth')\n",
    "\n",
    "    df_uncombined = pyaldata.restrict_to_interval(df_uncombined, \"idx_mo\", end_point_name=None, rel_start=-2*5, rel_end=50*5)\n",
    "    \n",
    "    df_uncombined = pyaldata.dim_reduce(df_uncombined, PCA(pca_dims), \"nothal_rates\", \"nothal_pca\")\n",
    "    df_uncombined = pyaldata.dim_reduce(df_uncombined, FactorAnalysis(fa_dims), \"nothal_rates\", \"nothal_fa\")\n",
    "\n",
    "    for input_field in [\"m1_rates\", \"thal_rates\", \"str_rates\", \"dcn_rates\", \"all_rates\", \"nothal_rates\", \"nothal_pca\", \"nothal_fa\"]:\n",
    "        X = pyaldata.concat_trials(df_uncombined, input_field)\n",
    "        y = pyaldata.concat_trials(df_uncombined, \"hand\")\n",
    "        print(X.shape)\n",
    "\n",
    "        cv_scores = cross_val_score(LinearRegression(), X, y, cv = KFold(5, shuffle=True))\n",
    "    \n",
    "        print(f\"{input_field}:\\t{cv_scores.mean()}\")\n",
    "\n",
    "        if input_field == \"m1_rates\":\n",
    "            m1_score_list.append(cv_scores.mean())\n",
    "        elif input_field == \"thal_rates\":\n",
    "            thal_score_list.append(cv_scores.mean())\n",
    "        elif input_field == \"str_rates\":\n",
    "            str_score_list.append(cv_scores.mean())\n",
    "        elif input_field == \"dcn_rates\":\n",
    "            dcn_score_list.append(cv_scores.mean())\n",
    "        elif input_field == \"all_rates\":\n",
    "            all_score_list.append(cv_scores.mean())\n",
    "        elif input_field == \"nothal_rates\":\n",
    "            nothal_score_list.append(cv_scores.mean())\n",
    "        elif input_field == \"nothal_pca\":\n",
    "            nothal_pca_score_list.append(cv_scores.mean())\n",
    "        elif input_field == \"nothal_fa\":\n",
    "            nothal_fa_score_list.append(cv_scores.mean())\n"
   ]
  },
  {
   "cell_type": "code",
   "execution_count": 4,
   "metadata": {},
   "outputs": [],
   "source": [
    "data_dir_WTM350 = \"C:/Users/MARA/Desktop/IMPERIAL YEAR 4/Final year project/code/datasets/autism data/WT-M350/WT-M350-pyaldata2\"  # place here absolute path towards folder with session files for the WT-M355 model in pyaldata format\n",
    "files_WTM350 = os.listdir(data_dir_WTM350)"
   ]
  },
  {
   "cell_type": "code",
   "execution_count": 5,
   "metadata": {},
   "outputs": [
    {
     "name": "stderr",
     "output_type": "stream",
     "text": [
      "C:\\Users\\MARA\\Desktop\\IMPERIAL YEAR 4\\Final year project\\code\\PyalData\\pyaldata\\firing_rates.py:91: UserWarning: Assuming spikes are actually spikes and dividing by bin size.\n",
      "  utils.warnings.warn(\"Assuming spikes are actually spikes and dividing by bin size.\")\n",
      "C:\\Users\\MARA\\Desktop\\IMPERIAL YEAR 4\\Final year project\\code\\PyalData\\pyaldata\\firing_rates.py:91: UserWarning: Assuming spikes are actually spikes and dividing by bin size.\n",
      "  utils.warnings.warn(\"Assuming spikes are actually spikes and dividing by bin size.\")\n",
      "C:\\Users\\MARA\\Desktop\\IMPERIAL YEAR 4\\Final year project\\code\\PyalData\\pyaldata\\firing_rates.py:91: UserWarning: Assuming spikes are actually spikes and dividing by bin size.\n",
      "  utils.warnings.warn(\"Assuming spikes are actually spikes and dividing by bin size.\")\n"
     ]
    },
    {
     "name": "stdout",
     "output_type": "stream",
     "text": [
      "(4698, 14)\n",
      "m1_rates:\t0.4802646472367478\n",
      "(4698, 10)\n",
      "str_rates:\t0.48547409194306945\n",
      "(4698, 39)\n",
      "dcn_rates:\t0.7429430845418399\n",
      "(4698, 63)\n",
      "nothal_rates:\t0.8518200774778342\n",
      "(4698, 10)\n",
      "nothal_pca:\t0.5773106650403709\n",
      "(4698, 2)\n",
      "nothal_fa:\t0.3214579669052433\n"
     ]
    },
    {
     "name": "stderr",
     "output_type": "stream",
     "text": [
      "C:\\Users\\MARA\\Desktop\\IMPERIAL YEAR 4\\Final year project\\code\\PyalData\\pyaldata\\firing_rates.py:91: UserWarning: Assuming spikes are actually spikes and dividing by bin size.\n",
      "  utils.warnings.warn(\"Assuming spikes are actually spikes and dividing by bin size.\")\n",
      "C:\\Users\\MARA\\Desktop\\IMPERIAL YEAR 4\\Final year project\\code\\PyalData\\pyaldata\\firing_rates.py:91: UserWarning: Assuming spikes are actually spikes and dividing by bin size.\n",
      "  utils.warnings.warn(\"Assuming spikes are actually spikes and dividing by bin size.\")\n",
      "C:\\Users\\MARA\\Desktop\\IMPERIAL YEAR 4\\Final year project\\code\\PyalData\\pyaldata\\firing_rates.py:91: UserWarning: Assuming spikes are actually spikes and dividing by bin size.\n",
      "  utils.warnings.warn(\"Assuming spikes are actually spikes and dividing by bin size.\")\n"
     ]
    },
    {
     "name": "stdout",
     "output_type": "stream",
     "text": [
      "(6525, 20)\n",
      "m1_rates:\t0.6059769112879125\n",
      "(6525, 24)\n",
      "str_rates:\t0.6696901182122299\n",
      "(6525, 38)\n",
      "dcn_rates:\t0.7723180931377869\n",
      "(6525, 82)\n",
      "nothal_rates:\t0.89828717606357\n",
      "(6525, 10)\n",
      "nothal_pca:\t0.7109389624209934\n",
      "(6525, 2)\n",
      "nothal_fa:\t0.5522827318564089\n"
     ]
    },
    {
     "name": "stderr",
     "output_type": "stream",
     "text": [
      "C:\\Users\\MARA\\Desktop\\IMPERIAL YEAR 4\\Final year project\\code\\PyalData\\pyaldata\\firing_rates.py:91: UserWarning: Assuming spikes are actually spikes and dividing by bin size.\n",
      "  utils.warnings.warn(\"Assuming spikes are actually spikes and dividing by bin size.\")\n",
      "C:\\Users\\MARA\\Desktop\\IMPERIAL YEAR 4\\Final year project\\code\\PyalData\\pyaldata\\firing_rates.py:91: UserWarning: Assuming spikes are actually spikes and dividing by bin size.\n",
      "  utils.warnings.warn(\"Assuming spikes are actually spikes and dividing by bin size.\")\n",
      "C:\\Users\\MARA\\Desktop\\IMPERIAL YEAR 4\\Final year project\\code\\PyalData\\pyaldata\\firing_rates.py:91: UserWarning: Assuming spikes are actually spikes and dividing by bin size.\n",
      "  utils.warnings.warn(\"Assuming spikes are actually spikes and dividing by bin size.\")\n"
     ]
    },
    {
     "name": "stdout",
     "output_type": "stream",
     "text": [
      "(2349, 15)\n",
      "m1_rates:\t0.561972393816434\n",
      "(2349, 58)\n",
      "str_rates:\t0.9140460774724154\n",
      "(2349, 47)\n",
      "dcn_rates:\t0.8382868232838856\n",
      "(2349, 120)\n",
      "nothal_rates:\t0.9877171029693754\n",
      "(2349, 10)\n",
      "nothal_pca:\t0.635883619468398\n",
      "(2349, 2)\n",
      "nothal_fa:\t0.4104183593914522\n"
     ]
    },
    {
     "name": "stderr",
     "output_type": "stream",
     "text": [
      "C:\\Users\\MARA\\Desktop\\IMPERIAL YEAR 4\\Final year project\\code\\PyalData\\pyaldata\\firing_rates.py:91: UserWarning: Assuming spikes are actually spikes and dividing by bin size.\n",
      "  utils.warnings.warn(\"Assuming spikes are actually spikes and dividing by bin size.\")\n",
      "C:\\Users\\MARA\\Desktop\\IMPERIAL YEAR 4\\Final year project\\code\\PyalData\\pyaldata\\firing_rates.py:91: UserWarning: Assuming spikes are actually spikes and dividing by bin size.\n",
      "  utils.warnings.warn(\"Assuming spikes are actually spikes and dividing by bin size.\")\n",
      "C:\\Users\\MARA\\Desktop\\IMPERIAL YEAR 4\\Final year project\\code\\PyalData\\pyaldata\\firing_rates.py:91: UserWarning: Assuming spikes are actually spikes and dividing by bin size.\n",
      "  utils.warnings.warn(\"Assuming spikes are actually spikes and dividing by bin size.\")\n"
     ]
    },
    {
     "name": "stdout",
     "output_type": "stream",
     "text": [
      "(1566, 16)\n",
      "m1_rates:\t0.7954765489263753\n",
      "(1566, 35)\n",
      "str_rates:\t0.9060136258138887\n",
      "(1566, 40)\n",
      "dcn_rates:\t0.9166784526083239\n",
      "(1566, 91)\n",
      "nothal_rates:\t0.9902122106298513\n",
      "(1566, 10)\n",
      "nothal_pca:\t0.8010247636040505\n",
      "(1566, 2)\n",
      "nothal_fa:\t0.6726636648439551\n"
     ]
    },
    {
     "name": "stderr",
     "output_type": "stream",
     "text": [
      "C:\\Users\\MARA\\Desktop\\IMPERIAL YEAR 4\\Final year project\\code\\PyalData\\pyaldata\\firing_rates.py:91: UserWarning: Assuming spikes are actually spikes and dividing by bin size.\n",
      "  utils.warnings.warn(\"Assuming spikes are actually spikes and dividing by bin size.\")\n",
      "C:\\Users\\MARA\\Desktop\\IMPERIAL YEAR 4\\Final year project\\code\\PyalData\\pyaldata\\firing_rates.py:91: UserWarning: Assuming spikes are actually spikes and dividing by bin size.\n",
      "  utils.warnings.warn(\"Assuming spikes are actually spikes and dividing by bin size.\")\n",
      "C:\\Users\\MARA\\Desktop\\IMPERIAL YEAR 4\\Final year project\\code\\PyalData\\pyaldata\\firing_rates.py:91: UserWarning: Assuming spikes are actually spikes and dividing by bin size.\n",
      "  utils.warnings.warn(\"Assuming spikes are actually spikes and dividing by bin size.\")\n"
     ]
    },
    {
     "name": "stdout",
     "output_type": "stream",
     "text": [
      "(6264, 29)\n",
      "m1_rates:\t0.7080198303866594\n",
      "(6264, 27)\n",
      "str_rates:\t0.7323680743409267\n",
      "(6264, 28)\n",
      "dcn_rates:\t0.7197358131727789\n",
      "(6264, 84)\n",
      "nothal_rates:\t0.8924422217331486\n",
      "(6264, 10)\n",
      "nothal_pca:\t0.7342510314832182\n",
      "(6264, 2)\n",
      "nothal_fa:\t0.6199482964609959\n"
     ]
    },
    {
     "name": "stderr",
     "output_type": "stream",
     "text": [
      "C:\\Users\\MARA\\Desktop\\IMPERIAL YEAR 4\\Final year project\\code\\PyalData\\pyaldata\\firing_rates.py:91: UserWarning: Assuming spikes are actually spikes and dividing by bin size.\n",
      "  utils.warnings.warn(\"Assuming spikes are actually spikes and dividing by bin size.\")\n",
      "C:\\Users\\MARA\\Desktop\\IMPERIAL YEAR 4\\Final year project\\code\\PyalData\\pyaldata\\firing_rates.py:91: UserWarning: Assuming spikes are actually spikes and dividing by bin size.\n",
      "  utils.warnings.warn(\"Assuming spikes are actually spikes and dividing by bin size.\")\n",
      "C:\\Users\\MARA\\Desktop\\IMPERIAL YEAR 4\\Final year project\\code\\PyalData\\pyaldata\\firing_rates.py:91: UserWarning: Assuming spikes are actually spikes and dividing by bin size.\n",
      "  utils.warnings.warn(\"Assuming spikes are actually spikes and dividing by bin size.\")\n"
     ]
    },
    {
     "name": "stdout",
     "output_type": "stream",
     "text": [
      "(9657, 26)\n",
      "m1_rates:\t0.7807773413996407\n",
      "(9657, 51)\n",
      "str_rates:\t0.742020511732646\n",
      "(9657, 28)\n",
      "dcn_rates:\t0.6284106956050125\n",
      "(9657, 105)\n",
      "nothal_rates:\t0.8903609895018171\n",
      "(9657, 10)\n",
      "nothal_pca:\t0.7427246865611019\n",
      "(9657, 2)\n",
      "nothal_fa:\t0.6431351405174743\n"
     ]
    },
    {
     "name": "stderr",
     "output_type": "stream",
     "text": [
      "C:\\Users\\MARA\\Desktop\\IMPERIAL YEAR 4\\Final year project\\code\\PyalData\\pyaldata\\firing_rates.py:91: UserWarning: Assuming spikes are actually spikes and dividing by bin size.\n",
      "  utils.warnings.warn(\"Assuming spikes are actually spikes and dividing by bin size.\")\n",
      "C:\\Users\\MARA\\Desktop\\IMPERIAL YEAR 4\\Final year project\\code\\PyalData\\pyaldata\\firing_rates.py:91: UserWarning: Assuming spikes are actually spikes and dividing by bin size.\n",
      "  utils.warnings.warn(\"Assuming spikes are actually spikes and dividing by bin size.\")\n",
      "C:\\Users\\MARA\\Desktop\\IMPERIAL YEAR 4\\Final year project\\code\\PyalData\\pyaldata\\firing_rates.py:91: UserWarning: Assuming spikes are actually spikes and dividing by bin size.\n",
      "  utils.warnings.warn(\"Assuming spikes are actually spikes and dividing by bin size.\")\n"
     ]
    },
    {
     "name": "stdout",
     "output_type": "stream",
     "text": [
      "(7830, 44)\n",
      "m1_rates:\t0.8354690229911317\n",
      "(7830, 3)\n",
      "str_rates:\t0.40228467138091356\n",
      "(7830, 20)\n",
      "dcn_rates:\t0.707004457798399\n",
      "(7830, 67)\n",
      "nothal_rates:\t0.8865726567137392\n",
      "(7830, 10)\n",
      "nothal_pca:\t0.7931262278343105\n",
      "(7830, 2)\n",
      "nothal_fa:\t0.6790643901689398\n"
     ]
    },
    {
     "name": "stderr",
     "output_type": "stream",
     "text": [
      "C:\\Users\\MARA\\Desktop\\IMPERIAL YEAR 4\\Final year project\\code\\PyalData\\pyaldata\\firing_rates.py:91: UserWarning: Assuming spikes are actually spikes and dividing by bin size.\n",
      "  utils.warnings.warn(\"Assuming spikes are actually spikes and dividing by bin size.\")\n",
      "C:\\Users\\MARA\\Desktop\\IMPERIAL YEAR 4\\Final year project\\code\\PyalData\\pyaldata\\firing_rates.py:91: UserWarning: Assuming spikes are actually spikes and dividing by bin size.\n",
      "  utils.warnings.warn(\"Assuming spikes are actually spikes and dividing by bin size.\")\n",
      "C:\\Users\\MARA\\Desktop\\IMPERIAL YEAR 4\\Final year project\\code\\PyalData\\pyaldata\\firing_rates.py:91: UserWarning: Assuming spikes are actually spikes and dividing by bin size.\n",
      "  utils.warnings.warn(\"Assuming spikes are actually spikes and dividing by bin size.\")\n"
     ]
    },
    {
     "name": "stdout",
     "output_type": "stream",
     "text": [
      "(7830, 42)\n",
      "m1_rates:\t0.8093568211401816\n",
      "(7830, 9)\n",
      "str_rates:\t0.5485174346724957\n",
      "(7830, 20)\n",
      "dcn_rates:\t0.5921499770759933\n",
      "(7830, 71)\n",
      "nothal_rates:\t0.8836198474424568\n",
      "(7830, 10)\n",
      "nothal_pca:\t0.7299999414817281\n",
      "(7830, 2)\n",
      "nothal_fa:\t0.693813072544475\n"
     ]
    }
   ],
   "source": [
    "pca_dims = 10\n",
    "fa_dims = 2\n",
    "\n",
    "WTM350_m1_score_list = []\n",
    "WTM350_str_score_list = []\n",
    "WTM350_dcn_score_list = []\n",
    "WTM350_nothal_score_list = []\n",
    "WTM350_nothal_pca_score_list = []\n",
    "WTM350_nothal_fa_score_list = []\n",
    "\n",
    "for fname in files_WTM350:\n",
    "\n",
    "    fpath = os.path.join(data_dir_WTM350, fname)  # change to the session you want\n",
    "    # load TrialData .mat file into a DataFrame\n",
    "    df_uncombined = pyaldata.mat2dataframe(fpath, shift_idx_fields=True)\n",
    "    df_uncombined = pyaldata.select_trials(df_uncombined, \"success == 1\")\n",
    "\n",
    "    spike_fields = [col for col in df_uncombined.columns if col.endswith(\"spikes\")]\n",
    "\n",
    "    for col in spike_fields:\n",
    "        df_uncombined = pyaldata.remove_low_firing_neurons(df_uncombined, col,  1)\n",
    "        df_uncombined = pyaldata.transform_signal(df_uncombined, col,  'sqrt')\n",
    "\n",
    "    df_uncombined = pyaldata.merge_signals(df_uncombined, spike_fields, \"nothal_spikes\")\n",
    "    df_uncombined = pyaldata.add_firing_rates(df_uncombined, 'smooth')\n",
    "\n",
    "    df_uncombined = pyaldata.restrict_to_interval(df_uncombined, \"idx_mo\", end_point_name=None, rel_start=-2*5, rel_end=50*5)\n",
    "    \n",
    "    df_uncombined = pyaldata.dim_reduce(df_uncombined, PCA(pca_dims), \"nothal_rates\", \"nothal_pca\")\n",
    "    df_uncombined = pyaldata.dim_reduce(df_uncombined, FactorAnalysis(fa_dims), \"nothal_rates\", \"nothal_fa\")\n",
    "\n",
    "    for input_field in [\"m1_rates\", \"str_rates\", \"dcn_rates\", \"nothal_rates\", \"nothal_pca\", \"nothal_fa\"]:\n",
    "        X = pyaldata.concat_trials(df_uncombined, input_field)\n",
    "        y = pyaldata.concat_trials(df_uncombined, \"hand\")\n",
    "        print(X.shape)\n",
    "\n",
    "        cv_scores = cross_val_score(LinearRegression(), X, y, cv = KFold(5, shuffle=True))\n",
    "    \n",
    "        print(f\"{input_field}:\\t{cv_scores.mean()}\")\n",
    "\n",
    "        if input_field == \"m1_rates\":\n",
    "            WTM350_m1_score_list.append(cv_scores.mean())\n",
    "        elif input_field == \"str_rates\":\n",
    "            WTM350_str_score_list.append(cv_scores.mean())\n",
    "        elif input_field == \"dcn_rates\":\n",
    "            WTM350_dcn_score_list.append(cv_scores.mean())\n",
    "        elif input_field == \"nothal_rates\":\n",
    "            WTM350_nothal_score_list.append(cv_scores.mean())\n",
    "        elif input_field == \"nothal_pca\":\n",
    "            WTM350_nothal_pca_score_list.append(cv_scores.mean())\n",
    "        elif input_field == \"nothal_fa\":\n",
    "            WTM350_nothal_fa_score_list.append(cv_scores.mean())\n"
   ]
  },
  {
   "cell_type": "code",
   "execution_count": 6,
   "metadata": {},
   "outputs": [
    {
     "data": {
      "text/plain": [
       "[0.3214579669052433,\n",
       " 0.5522827318564089,\n",
       " 0.4104183593914522,\n",
       " 0.6726636648439551,\n",
       " 0.6199482964609959,\n",
       " 0.6431351405174743,\n",
       " 0.6790643901689398,\n",
       " 0.693813072544475]"
      ]
     },
     "execution_count": 6,
     "metadata": {},
     "output_type": "execute_result"
    }
   ],
   "source": [
    "WTM350_nothal_fa_score_list"
   ]
  },
  {
   "cell_type": "code",
   "execution_count": 7,
   "metadata": {},
   "outputs": [],
   "source": [
    "data_dir_ASM354 = \"C:/Users/MARA/Desktop/IMPERIAL YEAR 4/Final year project/code/datasets/autism data/AS-M354/AS-M354-pyaldata2\"  # place here absolute path towards folder with session files for the WT-M355 model in pyaldata format\n",
    "files_ASM354 = os.listdir(data_dir_ASM354)\n",
    "files_ASM354.remove(\"AS-M354_session3.mat\")"
   ]
  },
  {
   "cell_type": "code",
   "execution_count": 8,
   "metadata": {},
   "outputs": [
    {
     "name": "stdout",
     "output_type": "stream",
     "text": [
      "AS-M354_session1.mat\n",
      "AS-M354_session1.mat\n",
      "AS-M354_session1.mat\n"
     ]
    },
    {
     "name": "stderr",
     "output_type": "stream",
     "text": [
      "C:\\Users\\MARA\\Desktop\\IMPERIAL YEAR 4\\Final year project\\code\\PyalData\\pyaldata\\firing_rates.py:91: UserWarning: Assuming spikes are actually spikes and dividing by bin size.\n",
      "  utils.warnings.warn(\"Assuming spikes are actually spikes and dividing by bin size.\")\n",
      "C:\\Users\\MARA\\Desktop\\IMPERIAL YEAR 4\\Final year project\\code\\PyalData\\pyaldata\\firing_rates.py:91: UserWarning: Assuming spikes are actually spikes and dividing by bin size.\n",
      "  utils.warnings.warn(\"Assuming spikes are actually spikes and dividing by bin size.\")\n",
      "C:\\Users\\MARA\\Desktop\\IMPERIAL YEAR 4\\Final year project\\code\\PyalData\\pyaldata\\firing_rates.py:91: UserWarning: Assuming spikes are actually spikes and dividing by bin size.\n",
      "  utils.warnings.warn(\"Assuming spikes are actually spikes and dividing by bin size.\")\n"
     ]
    },
    {
     "name": "stdout",
     "output_type": "stream",
     "text": [
      "(4698, 17)\n",
      "m1_rates:\t0.7221041661947509\n",
      "(4698, 31)\n",
      "str_rates:\t0.7477243208944073\n",
      "(4698, 147)\n",
      "dcn_rates:\t0.9838012208321233\n",
      "(4698, 195)\n",
      "nothal_rates:\t0.9932127021442441\n",
      "(4698, 10)\n",
      "nothal_pca:\t0.7311674294498863\n",
      "(4698, 2)\n",
      "nothal_fa:\t0.6140420994458202\n",
      "AS-M354_session2.mat\n",
      "AS-M354_session2.mat\n",
      "AS-M354_session2.mat\n"
     ]
    },
    {
     "name": "stderr",
     "output_type": "stream",
     "text": [
      "C:\\Users\\MARA\\Desktop\\IMPERIAL YEAR 4\\Final year project\\code\\PyalData\\pyaldata\\firing_rates.py:91: UserWarning: Assuming spikes are actually spikes and dividing by bin size.\n",
      "  utils.warnings.warn(\"Assuming spikes are actually spikes and dividing by bin size.\")\n",
      "C:\\Users\\MARA\\Desktop\\IMPERIAL YEAR 4\\Final year project\\code\\PyalData\\pyaldata\\firing_rates.py:91: UserWarning: Assuming spikes are actually spikes and dividing by bin size.\n",
      "  utils.warnings.warn(\"Assuming spikes are actually spikes and dividing by bin size.\")\n",
      "C:\\Users\\MARA\\Desktop\\IMPERIAL YEAR 4\\Final year project\\code\\PyalData\\pyaldata\\firing_rates.py:91: UserWarning: Assuming spikes are actually spikes and dividing by bin size.\n",
      "  utils.warnings.warn(\"Assuming spikes are actually spikes and dividing by bin size.\")\n"
     ]
    },
    {
     "name": "stdout",
     "output_type": "stream",
     "text": [
      "(9135, 9)\n",
      "m1_rates:\t0.50641655546682\n",
      "(9135, 30)\n",
      "str_rates:\t0.7576902400863988\n",
      "(9135, 126)\n",
      "dcn_rates:\t0.9174556042672236\n",
      "(9135, 165)\n",
      "nothal_rates:\t0.9514992439091021\n",
      "(9135, 10)\n",
      "nothal_pca:\t0.7429447420027594\n",
      "(9135, 2)\n",
      "nothal_fa:\t0.66562728274086\n",
      "AS-M354_session4.mat\n",
      "AS-M354_session4.mat\n",
      "AS-M354_session4.mat\n"
     ]
    },
    {
     "name": "stderr",
     "output_type": "stream",
     "text": [
      "C:\\Users\\MARA\\Desktop\\IMPERIAL YEAR 4\\Final year project\\code\\PyalData\\pyaldata\\firing_rates.py:91: UserWarning: Assuming spikes are actually spikes and dividing by bin size.\n",
      "  utils.warnings.warn(\"Assuming spikes are actually spikes and dividing by bin size.\")\n",
      "C:\\Users\\MARA\\Desktop\\IMPERIAL YEAR 4\\Final year project\\code\\PyalData\\pyaldata\\firing_rates.py:91: UserWarning: Assuming spikes are actually spikes and dividing by bin size.\n",
      "  utils.warnings.warn(\"Assuming spikes are actually spikes and dividing by bin size.\")\n",
      "C:\\Users\\MARA\\Desktop\\IMPERIAL YEAR 4\\Final year project\\code\\PyalData\\pyaldata\\firing_rates.py:91: UserWarning: Assuming spikes are actually spikes and dividing by bin size.\n",
      "  utils.warnings.warn(\"Assuming spikes are actually spikes and dividing by bin size.\")\n"
     ]
    },
    {
     "name": "stdout",
     "output_type": "stream",
     "text": [
      "(7830, 64)\n",
      "m1_rates:\t0.871016432074158\n",
      "(7830, 37)\n",
      "str_rates:\t0.6563057331459631\n",
      "(7830, 100)\n",
      "dcn_rates:\t0.9010848742983104\n",
      "(7830, 201)\n",
      "nothal_rates:\t0.9785567688384923\n",
      "(7830, 10)\n",
      "nothal_pca:\t0.7027704402424673\n",
      "(7830, 2)\n",
      "nothal_fa:\t0.5510018704672198\n",
      "AS-M354_session5.mat\n",
      "AS-M354_session5.mat\n",
      "AS-M354_session5.mat\n"
     ]
    },
    {
     "name": "stderr",
     "output_type": "stream",
     "text": [
      "C:\\Users\\MARA\\Desktop\\IMPERIAL YEAR 4\\Final year project\\code\\PyalData\\pyaldata\\firing_rates.py:91: UserWarning: Assuming spikes are actually spikes and dividing by bin size.\n",
      "  utils.warnings.warn(\"Assuming spikes are actually spikes and dividing by bin size.\")\n",
      "C:\\Users\\MARA\\Desktop\\IMPERIAL YEAR 4\\Final year project\\code\\PyalData\\pyaldata\\firing_rates.py:91: UserWarning: Assuming spikes are actually spikes and dividing by bin size.\n",
      "  utils.warnings.warn(\"Assuming spikes are actually spikes and dividing by bin size.\")\n",
      "C:\\Users\\MARA\\Desktop\\IMPERIAL YEAR 4\\Final year project\\code\\PyalData\\pyaldata\\firing_rates.py:91: UserWarning: Assuming spikes are actually spikes and dividing by bin size.\n",
      "  utils.warnings.warn(\"Assuming spikes are actually spikes and dividing by bin size.\")\n"
     ]
    },
    {
     "name": "stdout",
     "output_type": "stream",
     "text": [
      "(3915, 96)\n",
      "m1_rates:\t0.9602819150822871\n",
      "(3915, 61)\n",
      "str_rates:\t0.8905441145438179\n",
      "(3915, 90)\n",
      "dcn_rates:\t0.9498734162869085\n",
      "(3915, 247)\n",
      "nothal_rates:\t0.9958584454293273\n",
      "(3915, 10)\n",
      "nothal_pca:\t0.7592465507901625\n",
      "(3915, 2)\n",
      "nothal_fa:\t0.5637368307747379\n",
      "AS-M354_session6.mat\n",
      "AS-M354_session6.mat\n",
      "AS-M354_session6.mat\n"
     ]
    },
    {
     "name": "stderr",
     "output_type": "stream",
     "text": [
      "C:\\Users\\MARA\\Desktop\\IMPERIAL YEAR 4\\Final year project\\code\\PyalData\\pyaldata\\firing_rates.py:91: UserWarning: Assuming spikes are actually spikes and dividing by bin size.\n",
      "  utils.warnings.warn(\"Assuming spikes are actually spikes and dividing by bin size.\")\n",
      "C:\\Users\\MARA\\Desktop\\IMPERIAL YEAR 4\\Final year project\\code\\PyalData\\pyaldata\\firing_rates.py:91: UserWarning: Assuming spikes are actually spikes and dividing by bin size.\n",
      "  utils.warnings.warn(\"Assuming spikes are actually spikes and dividing by bin size.\")\n",
      "C:\\Users\\MARA\\Desktop\\IMPERIAL YEAR 4\\Final year project\\code\\PyalData\\pyaldata\\firing_rates.py:91: UserWarning: Assuming spikes are actually spikes and dividing by bin size.\n",
      "  utils.warnings.warn(\"Assuming spikes are actually spikes and dividing by bin size.\")\n"
     ]
    },
    {
     "name": "stdout",
     "output_type": "stream",
     "text": [
      "(7047, 59)\n",
      "m1_rates:\t0.8555478685741964\n",
      "(7047, 42)\n",
      "str_rates:\t0.7933165570058439\n",
      "(7047, 97)\n",
      "dcn_rates:\t0.9296168458300678\n",
      "(7047, 198)\n",
      "nothal_rates:\t0.9828918032335034\n",
      "(7047, 10)\n",
      "nothal_pca:\t0.8499903308901336\n",
      "(7047, 2)\n",
      "nothal_fa:\t0.6191628862802034\n",
      "AS-M354_session7.mat\n",
      "AS-M354_session7.mat\n",
      "AS-M354_session7.mat\n"
     ]
    },
    {
     "name": "stderr",
     "output_type": "stream",
     "text": [
      "C:\\Users\\MARA\\Desktop\\IMPERIAL YEAR 4\\Final year project\\code\\PyalData\\pyaldata\\firing_rates.py:91: UserWarning: Assuming spikes are actually spikes and dividing by bin size.\n",
      "  utils.warnings.warn(\"Assuming spikes are actually spikes and dividing by bin size.\")\n",
      "C:\\Users\\MARA\\Desktop\\IMPERIAL YEAR 4\\Final year project\\code\\PyalData\\pyaldata\\firing_rates.py:91: UserWarning: Assuming spikes are actually spikes and dividing by bin size.\n",
      "  utils.warnings.warn(\"Assuming spikes are actually spikes and dividing by bin size.\")\n",
      "C:\\Users\\MARA\\Desktop\\IMPERIAL YEAR 4\\Final year project\\code\\PyalData\\pyaldata\\firing_rates.py:91: UserWarning: Assuming spikes are actually spikes and dividing by bin size.\n",
      "  utils.warnings.warn(\"Assuming spikes are actually spikes and dividing by bin size.\")\n"
     ]
    },
    {
     "name": "stdout",
     "output_type": "stream",
     "text": [
      "(3393, 52)\n",
      "m1_rates:\t0.8895806075506236\n",
      "(3393, 41)\n",
      "str_rates:\t0.8003068477073659\n",
      "(3393, 90)\n",
      "dcn_rates:\t0.9650866278432974\n",
      "(3393, 183)\n",
      "nothal_rates:\t0.9934315735957716\n",
      "(3393, 10)\n",
      "nothal_pca:\t0.6907710139267884\n",
      "(3393, 2)\n",
      "nothal_fa:\t0.36515458444560933\n",
      "AS-M354_session8.mat\n",
      "AS-M354_session8.mat\n",
      "AS-M354_session8.mat\n"
     ]
    },
    {
     "name": "stderr",
     "output_type": "stream",
     "text": [
      "C:\\Users\\MARA\\Desktop\\IMPERIAL YEAR 4\\Final year project\\code\\PyalData\\pyaldata\\firing_rates.py:91: UserWarning: Assuming spikes are actually spikes and dividing by bin size.\n",
      "  utils.warnings.warn(\"Assuming spikes are actually spikes and dividing by bin size.\")\n",
      "C:\\Users\\MARA\\Desktop\\IMPERIAL YEAR 4\\Final year project\\code\\PyalData\\pyaldata\\firing_rates.py:91: UserWarning: Assuming spikes are actually spikes and dividing by bin size.\n",
      "  utils.warnings.warn(\"Assuming spikes are actually spikes and dividing by bin size.\")\n",
      "C:\\Users\\MARA\\Desktop\\IMPERIAL YEAR 4\\Final year project\\code\\PyalData\\pyaldata\\firing_rates.py:91: UserWarning: Assuming spikes are actually spikes and dividing by bin size.\n",
      "  utils.warnings.warn(\"Assuming spikes are actually spikes and dividing by bin size.\")\n"
     ]
    },
    {
     "name": "stdout",
     "output_type": "stream",
     "text": [
      "(1566, 47)\n",
      "m1_rates:\t0.9829210450769722\n",
      "(1566, 45)\n",
      "str_rates:\t0.9745942930031493\n",
      "(1566, 101)\n",
      "dcn_rates:\t0.997362628200357\n",
      "(1566, 193)\n",
      "nothal_rates:\t0.9938087558585224\n",
      "(1566, 10)\n",
      "nothal_pca:\t0.8219297549222849\n",
      "(1566, 2)\n",
      "nothal_fa:\t0.4512929554914143\n"
     ]
    }
   ],
   "source": [
    "pca_dims = 10\n",
    "fa_dims = 2\n",
    "\n",
    "ASM354_m1_score_list = []\n",
    "ASM354_str_score_list = []\n",
    "ASM354_dcn_score_list = []\n",
    "ASM354_nothal_score_list = []\n",
    "ASM354_nothal_pca_score_list = []\n",
    "ASM354_nothal_fa_score_list = []\n",
    "\n",
    "for fname in files_ASM354:\n",
    "\n",
    "    fpath = os.path.join(data_dir_ASM354, fname)  # change to the session you want\n",
    "    # load TrialData .mat file into a DataFrame\n",
    "    df_uncombined = pyaldata.mat2dataframe(fpath, shift_idx_fields=True)\n",
    "    df_uncombined = pyaldata.select_trials(df_uncombined, \"success == 1\")\n",
    "\n",
    "    spike_fields = [col for col in df_uncombined.columns if col.endswith(\"spikes\")]\n",
    "\n",
    "    for col in spike_fields:\n",
    "        print(fname)\n",
    "        df_uncombined = pyaldata.remove_low_firing_neurons(df_uncombined, col,  1)\n",
    "        df_uncombined = pyaldata.transform_signal(df_uncombined, col,  'sqrt')\n",
    "\n",
    "    df_uncombined = pyaldata.merge_signals(df_uncombined, spike_fields, \"nothal_spikes\")\n",
    "    df_uncombined = pyaldata.add_firing_rates(df_uncombined, 'smooth')\n",
    "\n",
    "    df_uncombined = pyaldata.restrict_to_interval(df_uncombined, \"idx_mo\", end_point_name=None, rel_start=-2*5, rel_end=50*5)\n",
    "    \n",
    "    df_uncombined = pyaldata.dim_reduce(df_uncombined, PCA(pca_dims), \"nothal_rates\", \"nothal_pca\")\n",
    "    df_uncombined = pyaldata.dim_reduce(df_uncombined, FactorAnalysis(fa_dims), \"nothal_rates\", \"nothal_fa\")\n",
    "\n",
    "    for input_field in [\"m1_rates\", \"str_rates\", \"dcn_rates\", \"nothal_rates\", \"nothal_pca\", \"nothal_fa\"]:\n",
    "        X = pyaldata.concat_trials(df_uncombined, input_field)\n",
    "        y = pyaldata.concat_trials(df_uncombined, \"hand\")\n",
    "        print(X.shape)\n",
    "\n",
    "        cv_scores = cross_val_score(LinearRegression(), X, y, cv = KFold(5, shuffle=True))\n",
    "    \n",
    "        print(f\"{input_field}:\\t{cv_scores.mean()}\")\n",
    "\n",
    "        if input_field == \"m1_rates\":\n",
    "            ASM354_m1_score_list.append(cv_scores.mean())\n",
    "        elif input_field == \"str_rates\":\n",
    "            ASM354_str_score_list.append(cv_scores.mean())\n",
    "        elif input_field == \"dcn_rates\":\n",
    "            ASM354_dcn_score_list.append(cv_scores.mean())\n",
    "        elif input_field == \"nothal_rates\":\n",
    "            ASM354_nothal_score_list.append(cv_scores.mean())\n",
    "        elif input_field == \"nothal_pca\":\n",
    "            ASM354_nothal_pca_score_list.append(cv_scores.mean())\n",
    "        elif input_field == \"nothal_fa\":\n",
    "            ASM354_nothal_fa_score_list.append(cv_scores.mean())\n"
   ]
  },
  {
   "cell_type": "code",
   "execution_count": null,
   "metadata": {},
   "outputs": [],
   "source": []
  },
  {
   "cell_type": "code",
   "execution_count": 9,
   "metadata": {},
   "outputs": [],
   "source": [
    "data_dir_ASM351 = \"C:/Users/MARA/Desktop/IMPERIAL YEAR 4/Final year project/code/datasets/autism data/AS-M351/AS-M351-pyaldata2\"  # place here absolute path towards folder with session files for the WT-M355 model in pyaldata format\n",
    "files_ASM351 = os.listdir(data_dir_ASM351)"
   ]
  },
  {
   "cell_type": "code",
   "execution_count": 10,
   "metadata": {},
   "outputs": [
    {
     "name": "stderr",
     "output_type": "stream",
     "text": [
      "C:\\Users\\MARA\\Desktop\\IMPERIAL YEAR 4\\Final year project\\code\\PyalData\\pyaldata\\firing_rates.py:91: UserWarning: Assuming spikes are actually spikes and dividing by bin size.\n",
      "  utils.warnings.warn(\"Assuming spikes are actually spikes and dividing by bin size.\")\n",
      "C:\\Users\\MARA\\Desktop\\IMPERIAL YEAR 4\\Final year project\\code\\PyalData\\pyaldata\\firing_rates.py:91: UserWarning: Assuming spikes are actually spikes and dividing by bin size.\n",
      "  utils.warnings.warn(\"Assuming spikes are actually spikes and dividing by bin size.\")\n",
      "C:\\Users\\MARA\\Desktop\\IMPERIAL YEAR 4\\Final year project\\code\\PyalData\\pyaldata\\firing_rates.py:91: UserWarning: Assuming spikes are actually spikes and dividing by bin size.\n",
      "  utils.warnings.warn(\"Assuming spikes are actually spikes and dividing by bin size.\")\n",
      "C:\\Users\\MARA\\Desktop\\IMPERIAL YEAR 4\\Final year project\\code\\PyalData\\pyaldata\\firing_rates.py:91: UserWarning: Assuming spikes are actually spikes and dividing by bin size.\n",
      "  utils.warnings.warn(\"Assuming spikes are actually spikes and dividing by bin size.\")\n"
     ]
    },
    {
     "name": "stdout",
     "output_type": "stream",
     "text": [
      "(2610, 69)\n",
      "m1_rates:\t0.9758927251299955\n",
      "(2610, 291)\n",
      "thal_rates:\t0.9966770340487102\n",
      "(2610, 23)\n",
      "str_rates:\t0.8001834836049188\n",
      "(2610, 202)\n",
      "dcn_rates:\t0.9950400350176964\n",
      "(2610, 585)\n",
      "all_rates:\t0.9954741805109109\n",
      "(2610, 294)\n",
      "nothal_rates:\t0.9901473225281124\n",
      "(2610, 10)\n",
      "nothal_pca:\t0.8320234455426803\n",
      "(2610, 2)\n",
      "nothal_fa:\t0.710731388927601\n"
     ]
    },
    {
     "name": "stderr",
     "output_type": "stream",
     "text": [
      "C:\\Users\\MARA\\Desktop\\IMPERIAL YEAR 4\\Final year project\\code\\PyalData\\pyaldata\\firing_rates.py:91: UserWarning: Assuming spikes are actually spikes and dividing by bin size.\n",
      "  utils.warnings.warn(\"Assuming spikes are actually spikes and dividing by bin size.\")\n",
      "C:\\Users\\MARA\\Desktop\\IMPERIAL YEAR 4\\Final year project\\code\\PyalData\\pyaldata\\firing_rates.py:91: UserWarning: Assuming spikes are actually spikes and dividing by bin size.\n",
      "  utils.warnings.warn(\"Assuming spikes are actually spikes and dividing by bin size.\")\n",
      "C:\\Users\\MARA\\Desktop\\IMPERIAL YEAR 4\\Final year project\\code\\PyalData\\pyaldata\\firing_rates.py:91: UserWarning: Assuming spikes are actually spikes and dividing by bin size.\n",
      "  utils.warnings.warn(\"Assuming spikes are actually spikes and dividing by bin size.\")\n",
      "C:\\Users\\MARA\\Desktop\\IMPERIAL YEAR 4\\Final year project\\code\\PyalData\\pyaldata\\firing_rates.py:91: UserWarning: Assuming spikes are actually spikes and dividing by bin size.\n",
      "  utils.warnings.warn(\"Assuming spikes are actually spikes and dividing by bin size.\")\n"
     ]
    },
    {
     "name": "stdout",
     "output_type": "stream",
     "text": [
      "(4959, 87)\n",
      "m1_rates:\t0.8985636938999855\n",
      "(4959, 300)\n",
      "thal_rates:\t0.992875565209674\n",
      "(4959, 36)\n",
      "str_rates:\t0.7445906932040538\n",
      "(4959, 182)\n",
      "dcn_rates:\t0.9747897014107061\n",
      "(4959, 605)\n",
      "all_rates:\t0.9894146610022443\n",
      "(4959, 305)\n",
      "nothal_rates:\t0.9930997304164156\n",
      "(4959, 10)\n",
      "nothal_pca:\t0.7356021659591978\n",
      "(4959, 2)\n",
      "nothal_fa:\t0.631450660842463\n"
     ]
    },
    {
     "name": "stderr",
     "output_type": "stream",
     "text": [
      "C:\\Users\\MARA\\Desktop\\IMPERIAL YEAR 4\\Final year project\\code\\PyalData\\pyaldata\\firing_rates.py:91: UserWarning: Assuming spikes are actually spikes and dividing by bin size.\n",
      "  utils.warnings.warn(\"Assuming spikes are actually spikes and dividing by bin size.\")\n",
      "C:\\Users\\MARA\\Desktop\\IMPERIAL YEAR 4\\Final year project\\code\\PyalData\\pyaldata\\firing_rates.py:91: UserWarning: Assuming spikes are actually spikes and dividing by bin size.\n",
      "  utils.warnings.warn(\"Assuming spikes are actually spikes and dividing by bin size.\")\n",
      "C:\\Users\\MARA\\Desktop\\IMPERIAL YEAR 4\\Final year project\\code\\PyalData\\pyaldata\\firing_rates.py:91: UserWarning: Assuming spikes are actually spikes and dividing by bin size.\n",
      "  utils.warnings.warn(\"Assuming spikes are actually spikes and dividing by bin size.\")\n",
      "C:\\Users\\MARA\\Desktop\\IMPERIAL YEAR 4\\Final year project\\code\\PyalData\\pyaldata\\firing_rates.py:91: UserWarning: Assuming spikes are actually spikes and dividing by bin size.\n",
      "  utils.warnings.warn(\"Assuming spikes are actually spikes and dividing by bin size.\")\n"
     ]
    },
    {
     "name": "stdout",
     "output_type": "stream",
     "text": [
      "(2871, 73)\n",
      "m1_rates:\t0.944253862414647\n",
      "(2871, 288)\n",
      "thal_rates:\t0.9904288007663948\n",
      "(2871, 39)\n",
      "str_rates:\t0.819696380895936\n",
      "(2871, 123)\n",
      "dcn_rates:\t0.9817223757920205\n",
      "(2871, 523)\n",
      "all_rates:\t0.9695867802020036\n",
      "(2871, 235)\n",
      "nothal_rates:\t0.9939430614529623\n",
      "(2871, 10)\n",
      "nothal_pca:\t0.79545222217059\n",
      "(2871, 2)\n",
      "nothal_fa:\t0.6399725449771867\n"
     ]
    },
    {
     "name": "stderr",
     "output_type": "stream",
     "text": [
      "C:\\Users\\MARA\\Desktop\\IMPERIAL YEAR 4\\Final year project\\code\\PyalData\\pyaldata\\firing_rates.py:91: UserWarning: Assuming spikes are actually spikes and dividing by bin size.\n",
      "  utils.warnings.warn(\"Assuming spikes are actually spikes and dividing by bin size.\")\n",
      "C:\\Users\\MARA\\Desktop\\IMPERIAL YEAR 4\\Final year project\\code\\PyalData\\pyaldata\\firing_rates.py:91: UserWarning: Assuming spikes are actually spikes and dividing by bin size.\n",
      "  utils.warnings.warn(\"Assuming spikes are actually spikes and dividing by bin size.\")\n",
      "C:\\Users\\MARA\\Desktop\\IMPERIAL YEAR 4\\Final year project\\code\\PyalData\\pyaldata\\firing_rates.py:91: UserWarning: Assuming spikes are actually spikes and dividing by bin size.\n",
      "  utils.warnings.warn(\"Assuming spikes are actually spikes and dividing by bin size.\")\n",
      "C:\\Users\\MARA\\Desktop\\IMPERIAL YEAR 4\\Final year project\\code\\PyalData\\pyaldata\\firing_rates.py:91: UserWarning: Assuming spikes are actually spikes and dividing by bin size.\n",
      "  utils.warnings.warn(\"Assuming spikes are actually spikes and dividing by bin size.\")\n"
     ]
    },
    {
     "name": "stdout",
     "output_type": "stream",
     "text": [
      "(4437, 51)\n",
      "m1_rates:\t0.8551070925379218\n",
      "(4437, 288)\n",
      "thal_rates:\t0.9927110226692335\n",
      "(4437, 23)\n",
      "str_rates:\t0.623362568859274\n",
      "(4437, 126)\n",
      "dcn_rates:\t0.9548878219282718\n",
      "(4437, 488)\n",
      "all_rates:\t0.9918677038192284\n",
      "(4437, 200)\n",
      "nothal_rates:\t0.9804566272543201\n",
      "(4437, 10)\n",
      "nothal_pca:\t0.7999385142262547\n",
      "(4437, 2)\n",
      "nothal_fa:\t0.6180339319508136\n"
     ]
    },
    {
     "name": "stderr",
     "output_type": "stream",
     "text": [
      "C:\\Users\\MARA\\Desktop\\IMPERIAL YEAR 4\\Final year project\\code\\PyalData\\pyaldata\\firing_rates.py:91: UserWarning: Assuming spikes are actually spikes and dividing by bin size.\n",
      "  utils.warnings.warn(\"Assuming spikes are actually spikes and dividing by bin size.\")\n",
      "C:\\Users\\MARA\\Desktop\\IMPERIAL YEAR 4\\Final year project\\code\\PyalData\\pyaldata\\firing_rates.py:91: UserWarning: Assuming spikes are actually spikes and dividing by bin size.\n",
      "  utils.warnings.warn(\"Assuming spikes are actually spikes and dividing by bin size.\")\n",
      "C:\\Users\\MARA\\Desktop\\IMPERIAL YEAR 4\\Final year project\\code\\PyalData\\pyaldata\\firing_rates.py:91: UserWarning: Assuming spikes are actually spikes and dividing by bin size.\n",
      "  utils.warnings.warn(\"Assuming spikes are actually spikes and dividing by bin size.\")\n",
      "C:\\Users\\MARA\\Desktop\\IMPERIAL YEAR 4\\Final year project\\code\\PyalData\\pyaldata\\firing_rates.py:91: UserWarning: Assuming spikes are actually spikes and dividing by bin size.\n",
      "  utils.warnings.warn(\"Assuming spikes are actually spikes and dividing by bin size.\")\n"
     ]
    },
    {
     "name": "stdout",
     "output_type": "stream",
     "text": [
      "(1044, 25)\n",
      "m1_rates:\t0.9441954165021704\n",
      "(1044, 197)\n",
      "thal_rates:\t0.993557397843553\n",
      "(1044, 24)\n",
      "str_rates:\t0.909742946803739\n",
      "(1044, 78)\n",
      "dcn_rates:\t0.9972901521917157\n",
      "(1044, 324)\n",
      "all_rates:\t0.9976161648818515\n",
      "(1044, 127)\n",
      "nothal_rates:\t0.9971454330062179\n",
      "(1044, 10)\n",
      "nothal_pca:\t0.8750708963638673\n",
      "(1044, 2)\n",
      "nothal_fa:\t0.4686731313095899\n"
     ]
    },
    {
     "name": "stderr",
     "output_type": "stream",
     "text": [
      "C:\\Users\\MARA\\Desktop\\IMPERIAL YEAR 4\\Final year project\\code\\PyalData\\pyaldata\\firing_rates.py:91: UserWarning: Assuming spikes are actually spikes and dividing by bin size.\n",
      "  utils.warnings.warn(\"Assuming spikes are actually spikes and dividing by bin size.\")\n",
      "C:\\Users\\MARA\\Desktop\\IMPERIAL YEAR 4\\Final year project\\code\\PyalData\\pyaldata\\firing_rates.py:91: UserWarning: Assuming spikes are actually spikes and dividing by bin size.\n",
      "  utils.warnings.warn(\"Assuming spikes are actually spikes and dividing by bin size.\")\n",
      "C:\\Users\\MARA\\Desktop\\IMPERIAL YEAR 4\\Final year project\\code\\PyalData\\pyaldata\\firing_rates.py:91: UserWarning: Assuming spikes are actually spikes and dividing by bin size.\n",
      "  utils.warnings.warn(\"Assuming spikes are actually spikes and dividing by bin size.\")\n",
      "C:\\Users\\MARA\\Desktop\\IMPERIAL YEAR 4\\Final year project\\code\\PyalData\\pyaldata\\firing_rates.py:91: UserWarning: Assuming spikes are actually spikes and dividing by bin size.\n",
      "  utils.warnings.warn(\"Assuming spikes are actually spikes and dividing by bin size.\")\n"
     ]
    },
    {
     "name": "stdout",
     "output_type": "stream",
     "text": [
      "(783, 15)\n",
      "m1_rates:\t0.9036594352866523\n",
      "(783, 198)\n",
      "thal_rates:\t0.998323124777996\n",
      "(783, 14)\n",
      "str_rates:\t0.9198471537989235\n",
      "(783, 57)\n",
      "dcn_rates:\t0.9976413948031265\n",
      "(783, 284)\n",
      "all_rates:\t0.9935371319475912\n",
      "(783, 86)\n",
      "nothal_rates:\t0.9953922522354939\n",
      "(783, 10)\n",
      "nothal_pca:\t0.8142485422137437\n",
      "(783, 2)\n",
      "nothal_fa:\t0.29652055874965355\n"
     ]
    },
    {
     "name": "stderr",
     "output_type": "stream",
     "text": [
      "C:\\Users\\MARA\\Desktop\\IMPERIAL YEAR 4\\Final year project\\code\\PyalData\\pyaldata\\firing_rates.py:91: UserWarning: Assuming spikes are actually spikes and dividing by bin size.\n",
      "  utils.warnings.warn(\"Assuming spikes are actually spikes and dividing by bin size.\")\n",
      "C:\\Users\\MARA\\Desktop\\IMPERIAL YEAR 4\\Final year project\\code\\PyalData\\pyaldata\\firing_rates.py:91: UserWarning: Assuming spikes are actually spikes and dividing by bin size.\n",
      "  utils.warnings.warn(\"Assuming spikes are actually spikes and dividing by bin size.\")\n",
      "C:\\Users\\MARA\\Desktop\\IMPERIAL YEAR 4\\Final year project\\code\\PyalData\\pyaldata\\firing_rates.py:91: UserWarning: Assuming spikes are actually spikes and dividing by bin size.\n",
      "  utils.warnings.warn(\"Assuming spikes are actually spikes and dividing by bin size.\")\n",
      "C:\\Users\\MARA\\Desktop\\IMPERIAL YEAR 4\\Final year project\\code\\PyalData\\pyaldata\\firing_rates.py:91: UserWarning: Assuming spikes are actually spikes and dividing by bin size.\n",
      "  utils.warnings.warn(\"Assuming spikes are actually spikes and dividing by bin size.\")\n"
     ]
    },
    {
     "name": "stdout",
     "output_type": "stream",
     "text": [
      "(2349, 66)\n",
      "m1_rates:\t0.9743968804732155\n",
      "(2349, 333)\n",
      "thal_rates:\t0.9952807090327177\n",
      "(2349, 39)\n",
      "str_rates:\t0.8857647642830596\n",
      "(2349, 142)\n",
      "dcn_rates:\t0.9929753764285589\n",
      "(2349, 580)\n",
      "all_rates:\t0.9803222239116188\n",
      "(2349, 247)\n",
      "nothal_rates:\t0.9928201424239642\n",
      "(2349, 10)\n",
      "nothal_pca:\t0.7770376409523719\n",
      "(2349, 2)\n",
      "nothal_fa:\t0.627032491508451\n"
     ]
    },
    {
     "name": "stderr",
     "output_type": "stream",
     "text": [
      "C:\\Users\\MARA\\Desktop\\IMPERIAL YEAR 4\\Final year project\\code\\PyalData\\pyaldata\\firing_rates.py:91: UserWarning: Assuming spikes are actually spikes and dividing by bin size.\n",
      "  utils.warnings.warn(\"Assuming spikes are actually spikes and dividing by bin size.\")\n",
      "C:\\Users\\MARA\\Desktop\\IMPERIAL YEAR 4\\Final year project\\code\\PyalData\\pyaldata\\firing_rates.py:91: UserWarning: Assuming spikes are actually spikes and dividing by bin size.\n",
      "  utils.warnings.warn(\"Assuming spikes are actually spikes and dividing by bin size.\")\n",
      "C:\\Users\\MARA\\Desktop\\IMPERIAL YEAR 4\\Final year project\\code\\PyalData\\pyaldata\\firing_rates.py:91: UserWarning: Assuming spikes are actually spikes and dividing by bin size.\n",
      "  utils.warnings.warn(\"Assuming spikes are actually spikes and dividing by bin size.\")\n",
      "C:\\Users\\MARA\\Desktop\\IMPERIAL YEAR 4\\Final year project\\code\\PyalData\\pyaldata\\firing_rates.py:91: UserWarning: Assuming spikes are actually spikes and dividing by bin size.\n",
      "  utils.warnings.warn(\"Assuming spikes are actually spikes and dividing by bin size.\")\n"
     ]
    },
    {
     "name": "stdout",
     "output_type": "stream",
     "text": [
      "(4698, 46)\n",
      "m1_rates:\t0.9124363401662821\n",
      "(4698, 351)\n",
      "thal_rates:\t0.9964781849892728\n",
      "(4698, 32)\n",
      "str_rates:\t0.7557387110066225\n",
      "(4698, 176)\n",
      "dcn_rates:\t0.9899187378134038\n",
      "(4698, 605)\n",
      "all_rates:\t0.992122831209023\n",
      "(4698, 254)\n",
      "nothal_rates:\t0.9949974632527916\n",
      "(4698, 10)\n",
      "nothal_pca:\t0.8002839777876336\n",
      "(4698, 2)\n",
      "nothal_fa:\t0.6890692569045808\n"
     ]
    }
   ],
   "source": [
    "pca_dims = 10\n",
    "fa_dims = 2\n",
    "\n",
    "ASM351_m1_score_list = []\n",
    "ASM351_thal_score_list = []\n",
    "ASM351_str_score_list = []\n",
    "ASM351_dcn_score_list = []\n",
    "ASM351_all_score_list = []\n",
    "ASM351_nothal_score_list = []\n",
    "ASM351_nothal_pca_score_list = []\n",
    "ASM351_nothal_fa_score_list = []\n",
    "\n",
    "for fname in files_ASM351:\n",
    "\n",
    "    fpath = os.path.join(data_dir_ASM351, fname)  # change to the session you want\n",
    "    # load TrialData .mat file into a DataFrame\n",
    "    df_uncombined = pyaldata.mat2dataframe(fpath, shift_idx_fields=True)\n",
    "    df_uncombined = pyaldata.select_trials(df_uncombined, \"success == 1\")\n",
    "\n",
    "    spike_fields = [col for col in df_uncombined.columns if col.endswith(\"spikes\")]\n",
    "    nothal_spike_fields = [\"dcn_spikes\",\"m1_spikes\",\"str_spikes\"]\n",
    "\n",
    "    for col in spike_fields:\n",
    "        df_uncombined = pyaldata.remove_low_firing_neurons(df_uncombined, col,  1)\n",
    "        df_uncombined = pyaldata.transform_signal(df_uncombined, col,  'sqrt')\n",
    "\n",
    "    df_uncombined = pyaldata.merge_signals(df_uncombined, spike_fields, \"all_spikes\")\n",
    "    df_uncombined = pyaldata.merge_signals(df_uncombined, nothal_spike_fields, \"nothal_spikes\")\n",
    "    df_uncombined = pyaldata.add_firing_rates(df_uncombined, 'smooth')\n",
    "\n",
    "    df_uncombined = pyaldata.restrict_to_interval(df_uncombined, \"idx_mo\", end_point_name=None, rel_start=-2*5, rel_end=50*5)\n",
    "    \n",
    "    df_uncombined = pyaldata.dim_reduce(df_uncombined, PCA(pca_dims), \"nothal_rates\", \"nothal_pca\")\n",
    "    df_uncombined = pyaldata.dim_reduce(df_uncombined, FactorAnalysis(fa_dims), \"nothal_rates\", \"nothal_fa\")\n",
    "\n",
    "    for input_field in [\"m1_rates\", \"thal_rates\", \"str_rates\", \"dcn_rates\", \"all_rates\", \"nothal_rates\", \"nothal_pca\", \"nothal_fa\"]:\n",
    "        X = pyaldata.concat_trials(df_uncombined, input_field)\n",
    "        y = pyaldata.concat_trials(df_uncombined, \"hand\")\n",
    "        print(X.shape)\n",
    "\n",
    "        cv_scores = cross_val_score(LinearRegression(), X, y, cv = KFold(5, shuffle=True))\n",
    "    \n",
    "        print(f\"{input_field}:\\t{cv_scores.mean()}\")\n",
    "\n",
    "        if input_field == \"m1_rates\":\n",
    "            ASM351_m1_score_list.append(cv_scores.mean())\n",
    "        elif input_field == \"thal_rates\":\n",
    "            ASM351_thal_score_list.append(cv_scores.mean())\n",
    "        elif input_field == \"str_rates\":\n",
    "            ASM351_str_score_list.append(cv_scores.mean())\n",
    "        elif input_field == \"dcn_rates\":\n",
    "            ASM351_dcn_score_list.append(cv_scores.mean())\n",
    "        elif input_field == \"all_rates\":\n",
    "            ASM351_all_score_list.append(cv_scores.mean())\n",
    "        elif input_field == \"nothal_rates\":\n",
    "            ASM351_nothal_score_list.append(cv_scores.mean())\n",
    "        elif input_field == \"nothal_pca\":\n",
    "            ASM351_nothal_pca_score_list.append(cv_scores.mean())\n",
    "        elif input_field == \"nothal_fa\":\n",
    "            ASM351_nothal_fa_score_list.append(cv_scores.mean())\n"
   ]
  },
  {
   "cell_type": "code",
   "execution_count": 11,
   "metadata": {},
   "outputs": [],
   "source": [
    "data_dir_PSM365 = \"C:/Users/MARA/Desktop/IMPERIAL YEAR 4/Final year project/code/datasets/autism data/PS-M365/PS-M365-pyaldata2\"  # place here absolute path towards folder with session files for the WT-M355 model in pyaldata format\n",
    "files_PSM365 = os.listdir(data_dir_PSM365)\n",
    "files_PSM365.remove(\"PS-M365_session10.mat\")\n",
    "files_PSM365.remove(\"PS-M365_session3.mat\")\n",
    "files_PSM365.remove(\"PS-M365_session4.mat\")"
   ]
  },
  {
   "cell_type": "code",
   "execution_count": 12,
   "metadata": {},
   "outputs": [
    {
     "name": "stdout",
     "output_type": "stream",
     "text": [
      "PS-M365_session1.mat\n",
      "PS-M365_session1.mat\n",
      "PS-M365_session1.mat\n",
      "PS-M365_session1.mat\n"
     ]
    },
    {
     "name": "stderr",
     "output_type": "stream",
     "text": [
      "C:\\Users\\MARA\\Desktop\\IMPERIAL YEAR 4\\Final year project\\code\\PyalData\\pyaldata\\firing_rates.py:91: UserWarning: Assuming spikes are actually spikes and dividing by bin size.\n",
      "  utils.warnings.warn(\"Assuming spikes are actually spikes and dividing by bin size.\")\n",
      "C:\\Users\\MARA\\Desktop\\IMPERIAL YEAR 4\\Final year project\\code\\PyalData\\pyaldata\\firing_rates.py:91: UserWarning: Assuming spikes are actually spikes and dividing by bin size.\n",
      "  utils.warnings.warn(\"Assuming spikes are actually spikes and dividing by bin size.\")\n",
      "C:\\Users\\MARA\\Desktop\\IMPERIAL YEAR 4\\Final year project\\code\\PyalData\\pyaldata\\firing_rates.py:91: UserWarning: Assuming spikes are actually spikes and dividing by bin size.\n",
      "  utils.warnings.warn(\"Assuming spikes are actually spikes and dividing by bin size.\")\n",
      "C:\\Users\\MARA\\Desktop\\IMPERIAL YEAR 4\\Final year project\\code\\PyalData\\pyaldata\\firing_rates.py:91: UserWarning: Assuming spikes are actually spikes and dividing by bin size.\n",
      "  utils.warnings.warn(\"Assuming spikes are actually spikes and dividing by bin size.\")\n"
     ]
    },
    {
     "name": "stdout",
     "output_type": "stream",
     "text": [
      "(6525, 69)\n",
      "m1_rates:\t0.6562393619683308\n",
      "(6525, 234)\n",
      "thal_rates:\t0.8973657608135428\n",
      "(6525, 66)\n",
      "str_rates:\t0.6043762720109668\n",
      "(6525, 136)\n",
      "dcn_rates:\t0.7718265662221413\n",
      "(6525, 505)\n",
      "all_rates:\t0.9757738621839465\n",
      "(6525, 271)\n",
      "nothal_rates:\t0.9273043283768743\n",
      "(6525, 10)\n",
      "nothal_pca:\t0.4502081639422363\n",
      "(6525, 2)\n",
      "nothal_fa:\t0.2464664682285954\n",
      "PS-M365_session2.mat\n",
      "PS-M365_session2.mat\n",
      "PS-M365_session2.mat\n",
      "PS-M365_session2.mat\n"
     ]
    },
    {
     "name": "stderr",
     "output_type": "stream",
     "text": [
      "C:\\Users\\MARA\\Desktop\\IMPERIAL YEAR 4\\Final year project\\code\\PyalData\\pyaldata\\firing_rates.py:91: UserWarning: Assuming spikes are actually spikes and dividing by bin size.\n",
      "  utils.warnings.warn(\"Assuming spikes are actually spikes and dividing by bin size.\")\n",
      "C:\\Users\\MARA\\Desktop\\IMPERIAL YEAR 4\\Final year project\\code\\PyalData\\pyaldata\\firing_rates.py:91: UserWarning: Assuming spikes are actually spikes and dividing by bin size.\n",
      "  utils.warnings.warn(\"Assuming spikes are actually spikes and dividing by bin size.\")\n",
      "C:\\Users\\MARA\\Desktop\\IMPERIAL YEAR 4\\Final year project\\code\\PyalData\\pyaldata\\firing_rates.py:91: UserWarning: Assuming spikes are actually spikes and dividing by bin size.\n",
      "  utils.warnings.warn(\"Assuming spikes are actually spikes and dividing by bin size.\")\n",
      "C:\\Users\\MARA\\Desktop\\IMPERIAL YEAR 4\\Final year project\\code\\PyalData\\pyaldata\\firing_rates.py:91: UserWarning: Assuming spikes are actually spikes and dividing by bin size.\n",
      "  utils.warnings.warn(\"Assuming spikes are actually spikes and dividing by bin size.\")\n"
     ]
    },
    {
     "name": "stdout",
     "output_type": "stream",
     "text": [
      "(7047, 50)\n",
      "m1_rates:\t0.5396673840109102\n",
      "(7047, 236)\n",
      "thal_rates:\t0.8440769545145101\n",
      "(7047, 55)\n",
      "str_rates:\t0.4446127100239762\n",
      "(7047, 84)\n",
      "dcn_rates:\t0.6167157197076616\n",
      "(7047, 425)\n",
      "all_rates:\t0.9439743217205864\n",
      "(7047, 189)\n",
      "nothal_rates:\t0.8166150475875934\n",
      "(7047, 10)\n",
      "nothal_pca:\t0.38947077471593244\n",
      "(7047, 2)\n",
      "nothal_fa:\t0.2564569425244695\n",
      "PS-M365_session5.mat\n",
      "PS-M365_session5.mat\n",
      "PS-M365_session5.mat\n",
      "PS-M365_session5.mat\n"
     ]
    },
    {
     "name": "stderr",
     "output_type": "stream",
     "text": [
      "C:\\Users\\MARA\\Desktop\\IMPERIAL YEAR 4\\Final year project\\code\\PyalData\\pyaldata\\firing_rates.py:91: UserWarning: Assuming spikes are actually spikes and dividing by bin size.\n",
      "  utils.warnings.warn(\"Assuming spikes are actually spikes and dividing by bin size.\")\n",
      "C:\\Users\\MARA\\Desktop\\IMPERIAL YEAR 4\\Final year project\\code\\PyalData\\pyaldata\\firing_rates.py:91: UserWarning: Assuming spikes are actually spikes and dividing by bin size.\n",
      "  utils.warnings.warn(\"Assuming spikes are actually spikes and dividing by bin size.\")\n",
      "C:\\Users\\MARA\\Desktop\\IMPERIAL YEAR 4\\Final year project\\code\\PyalData\\pyaldata\\firing_rates.py:91: UserWarning: Assuming spikes are actually spikes and dividing by bin size.\n",
      "  utils.warnings.warn(\"Assuming spikes are actually spikes and dividing by bin size.\")\n",
      "C:\\Users\\MARA\\Desktop\\IMPERIAL YEAR 4\\Final year project\\code\\PyalData\\pyaldata\\firing_rates.py:91: UserWarning: Assuming spikes are actually spikes and dividing by bin size.\n",
      "  utils.warnings.warn(\"Assuming spikes are actually spikes and dividing by bin size.\")\n"
     ]
    },
    {
     "ename": "ValueError",
     "evalue": "all the input array dimensions for the concatenation axis must match exactly, but along dimension 0, the array at index 0 has size 2998 and the array at index 1 has size 8000",
     "output_type": "error",
     "traceback": [
      "\u001b[1;31m---------------------------------------------------------------------------\u001b[0m",
      "\u001b[1;31mValueError\u001b[0m                                Traceback (most recent call last)",
      "Cell \u001b[1;32mIn[12], line 28\u001b[0m\n\u001b[0;32m     25\u001b[0m     df_uncombined \u001b[38;5;241m=\u001b[39m pyaldata\u001b[38;5;241m.\u001b[39mremove_low_firing_neurons(df_uncombined, col,  \u001b[38;5;241m1\u001b[39m)\n\u001b[0;32m     26\u001b[0m     df_uncombined \u001b[38;5;241m=\u001b[39m pyaldata\u001b[38;5;241m.\u001b[39mtransform_signal(df_uncombined, col,  \u001b[38;5;124m'\u001b[39m\u001b[38;5;124msqrt\u001b[39m\u001b[38;5;124m'\u001b[39m)\n\u001b[1;32m---> 28\u001b[0m df_uncombined \u001b[38;5;241m=\u001b[39m \u001b[43mpyaldata\u001b[49m\u001b[38;5;241;43m.\u001b[39;49m\u001b[43mmerge_signals\u001b[49m\u001b[43m(\u001b[49m\u001b[43mdf_uncombined\u001b[49m\u001b[43m,\u001b[49m\u001b[43m \u001b[49m\u001b[43mspike_fields\u001b[49m\u001b[43m,\u001b[49m\u001b[43m \u001b[49m\u001b[38;5;124;43m\"\u001b[39;49m\u001b[38;5;124;43mall_spikes\u001b[39;49m\u001b[38;5;124;43m\"\u001b[39;49m\u001b[43m)\u001b[49m\n\u001b[0;32m     29\u001b[0m df_uncombined \u001b[38;5;241m=\u001b[39m pyaldata\u001b[38;5;241m.\u001b[39mmerge_signals(df_uncombined, nothal_spike_fields, \u001b[38;5;124m\"\u001b[39m\u001b[38;5;124mnothal_spikes\u001b[39m\u001b[38;5;124m\"\u001b[39m)\n\u001b[0;32m     30\u001b[0m df_uncombined \u001b[38;5;241m=\u001b[39m pyaldata\u001b[38;5;241m.\u001b[39madd_firing_rates(df_uncombined, \u001b[38;5;124m'\u001b[39m\u001b[38;5;124msmooth\u001b[39m\u001b[38;5;124m'\u001b[39m)\n",
      "File \u001b[1;32m~\\Desktop\\IMPERIAL YEAR 4\\Final year project\\code\\PyalData\\pyaldata\\utils.py:28\u001b[0m, in \u001b[0;36mcopy_td.<locals>.wrapper\u001b[1;34m(*args, **kwargs)\u001b[0m\n\u001b[0;32m     25\u001b[0m \u001b[38;5;28;01mif\u001b[39;00m \u001b[38;5;129;01mnot\u001b[39;00m \u001b[38;5;28misinstance\u001b[39m(args[\u001b[38;5;241m0\u001b[39m], pd\u001b[38;5;241m.\u001b[39mDataFrame):\n\u001b[0;32m     26\u001b[0m     \u001b[38;5;28;01mraise\u001b[39;00m \u001b[38;5;167;01mValueError\u001b[39;00m(\u001b[38;5;124mf\u001b[39m\u001b[38;5;124m\"\u001b[39m\u001b[38;5;124mfirst argument of \u001b[39m\u001b[38;5;132;01m{\u001b[39;00mfunc\u001b[38;5;241m.\u001b[39m\u001b[38;5;18m__name__\u001b[39m\u001b[38;5;132;01m}\u001b[39;00m\u001b[38;5;124m has to be a pandas DataFrame\u001b[39m\u001b[38;5;124m\"\u001b[39m)\n\u001b[1;32m---> 28\u001b[0m \u001b[38;5;28;01mreturn\u001b[39;00m func(args[\u001b[38;5;241m0\u001b[39m]\u001b[38;5;241m.\u001b[39mcopy(), \u001b[38;5;241m*\u001b[39margs[\u001b[38;5;241m1\u001b[39m:], \u001b[38;5;241m*\u001b[39m\u001b[38;5;241m*\u001b[39mkwargs)\n",
      "File \u001b[1;32m~\\Desktop\\IMPERIAL YEAR 4\\Final year project\\code\\PyalData\\pyaldata\\tools.py:126\u001b[0m, in \u001b[0;36mmerge_signals\u001b[1;34m(trial_data, signals, out_fieldname)\u001b[0m\n\u001b[0;32m    123\u001b[0m \u001b[38;5;28;01mif\u001b[39;00m \u001b[38;5;28mlen\u001b[39m(signals) \u001b[38;5;241m==\u001b[39m \u001b[38;5;241m1\u001b[39m:\n\u001b[0;32m    124\u001b[0m     \u001b[38;5;28;01mraise\u001b[39;00m \u001b[38;5;167;01mValueError\u001b[39;00m(\u001b[38;5;124mf\u001b[39m\u001b[38;5;124m\"\u001b[39m\u001b[38;5;124mThis function is for merging multiple signals. Only got \u001b[39m\u001b[38;5;132;01m{\u001b[39;00msignals[\u001b[38;5;241m0\u001b[39m]\u001b[38;5;132;01m}\u001b[39;00m\u001b[38;5;124m\"\u001b[39m)\n\u001b[1;32m--> 126\u001b[0m trial_data[out_fieldname] \u001b[38;5;241m=\u001b[39m [np\u001b[38;5;241m.\u001b[39mcolumn_stack(row) \u001b[38;5;28;01mfor\u001b[39;00m row \u001b[38;5;129;01min\u001b[39;00m trial_data[signals]\u001b[38;5;241m.\u001b[39mvalues]\n\u001b[0;32m    128\u001b[0m \u001b[38;5;28;01mreturn\u001b[39;00m trial_data\n",
      "File \u001b[1;32m~\\Desktop\\IMPERIAL YEAR 4\\Final year project\\code\\PyalData\\pyaldata\\tools.py:126\u001b[0m, in \u001b[0;36m<listcomp>\u001b[1;34m(.0)\u001b[0m\n\u001b[0;32m    123\u001b[0m \u001b[38;5;28;01mif\u001b[39;00m \u001b[38;5;28mlen\u001b[39m(signals) \u001b[38;5;241m==\u001b[39m \u001b[38;5;241m1\u001b[39m:\n\u001b[0;32m    124\u001b[0m     \u001b[38;5;28;01mraise\u001b[39;00m \u001b[38;5;167;01mValueError\u001b[39;00m(\u001b[38;5;124mf\u001b[39m\u001b[38;5;124m\"\u001b[39m\u001b[38;5;124mThis function is for merging multiple signals. Only got \u001b[39m\u001b[38;5;132;01m{\u001b[39;00msignals[\u001b[38;5;241m0\u001b[39m]\u001b[38;5;132;01m}\u001b[39;00m\u001b[38;5;124m\"\u001b[39m)\n\u001b[1;32m--> 126\u001b[0m trial_data[out_fieldname] \u001b[38;5;241m=\u001b[39m [\u001b[43mnp\u001b[49m\u001b[38;5;241;43m.\u001b[39;49m\u001b[43mcolumn_stack\u001b[49m\u001b[43m(\u001b[49m\u001b[43mrow\u001b[49m\u001b[43m)\u001b[49m \u001b[38;5;28;01mfor\u001b[39;00m row \u001b[38;5;129;01min\u001b[39;00m trial_data[signals]\u001b[38;5;241m.\u001b[39mvalues]\n\u001b[0;32m    128\u001b[0m \u001b[38;5;28;01mreturn\u001b[39;00m trial_data\n",
      "File \u001b[1;32m<__array_function__ internals>:180\u001b[0m, in \u001b[0;36mcolumn_stack\u001b[1;34m(*args, **kwargs)\u001b[0m\n",
      "File \u001b[1;32mc:\\Users\\MARA\\AppData\\Local\\Programs\\Python\\Python310\\lib\\site-packages\\numpy\\lib\\shape_base.py:656\u001b[0m, in \u001b[0;36mcolumn_stack\u001b[1;34m(tup)\u001b[0m\n\u001b[0;32m    654\u001b[0m         arr \u001b[38;5;241m=\u001b[39m array(arr, copy\u001b[38;5;241m=\u001b[39m\u001b[38;5;28;01mFalse\u001b[39;00m, subok\u001b[38;5;241m=\u001b[39m\u001b[38;5;28;01mTrue\u001b[39;00m, ndmin\u001b[38;5;241m=\u001b[39m\u001b[38;5;241m2\u001b[39m)\u001b[38;5;241m.\u001b[39mT\n\u001b[0;32m    655\u001b[0m     arrays\u001b[38;5;241m.\u001b[39mappend(arr)\n\u001b[1;32m--> 656\u001b[0m \u001b[38;5;28;01mreturn\u001b[39;00m \u001b[43m_nx\u001b[49m\u001b[38;5;241;43m.\u001b[39;49m\u001b[43mconcatenate\u001b[49m\u001b[43m(\u001b[49m\u001b[43marrays\u001b[49m\u001b[43m,\u001b[49m\u001b[43m \u001b[49m\u001b[38;5;241;43m1\u001b[39;49m\u001b[43m)\u001b[49m\n",
      "File \u001b[1;32m<__array_function__ internals>:180\u001b[0m, in \u001b[0;36mconcatenate\u001b[1;34m(*args, **kwargs)\u001b[0m\n",
      "\u001b[1;31mValueError\u001b[0m: all the input array dimensions for the concatenation axis must match exactly, but along dimension 0, the array at index 0 has size 2998 and the array at index 1 has size 8000"
     ]
    }
   ],
   "source": [
    "pca_dims = 10\n",
    "fa_dims = 2\n",
    "\n",
    "PSM365_m1_score_list = []\n",
    "PSM365_thal_score_list = []\n",
    "PSM365_str_score_list = []\n",
    "PSM365_dcn_score_list = []\n",
    "PSM365_all_score_list = []\n",
    "PSM365_nothal_score_list = []\n",
    "PSM365_nothal_pca_score_list = []\n",
    "PSM365_nothal_fa_score_list = []\n",
    "\n",
    "for fname in files_PSM365:\n",
    "\n",
    "    fpath = os.path.join(data_dir_PSM365, fname)  # change to the session you want\n",
    "    # load TrialData .mat file into a DataFrame\n",
    "    df_uncombined = pyaldata.mat2dataframe(fpath, shift_idx_fields=True)\n",
    "    df_uncombined = pyaldata.select_trials(df_uncombined, \"success == 1\")\n",
    "\n",
    "    spike_fields = [col for col in df_uncombined.columns if col.endswith(\"spikes\")]\n",
    "    nothal_spike_fields = [\"dcn_spikes\",\"m1_spikes\",\"str_spikes\"]\n",
    "\n",
    "    for col in spike_fields:\n",
    "        print(fname)\n",
    "        df_uncombined = pyaldata.remove_low_firing_neurons(df_uncombined, col,  1)\n",
    "        df_uncombined = pyaldata.transform_signal(df_uncombined, col,  'sqrt')\n",
    "\n",
    "    df_uncombined = pyaldata.merge_signals(df_uncombined, spike_fields, \"all_spikes\")\n",
    "    df_uncombined = pyaldata.merge_signals(df_uncombined, nothal_spike_fields, \"nothal_spikes\")\n",
    "    df_uncombined = pyaldata.add_firing_rates(df_uncombined, 'smooth')\n",
    "\n",
    "    df_uncombined = pyaldata.restrict_to_interval(df_uncombined, \"idx_mo\", end_point_name=None, rel_start=-2*5, rel_end=50*5)\n",
    "    \n",
    "    df_uncombined = pyaldata.dim_reduce(df_uncombined, PCA(pca_dims), \"nothal_rates\", \"nothal_pca\")\n",
    "    df_uncombined = pyaldata.dim_reduce(df_uncombined, FactorAnalysis(fa_dims), \"nothal_rates\", \"nothal_fa\")\n",
    "\n",
    "    for input_field in [\"m1_rates\", \"thal_rates\", \"str_rates\", \"dcn_rates\", \"all_rates\", \"nothal_rates\", \"nothal_pca\", \"nothal_fa\"]:\n",
    "        X = pyaldata.concat_trials(df_uncombined, input_field)\n",
    "        y = pyaldata.concat_trials(df_uncombined, \"hand\")\n",
    "        print(X.shape)\n",
    "\n",
    "        cv_scores = cross_val_score(LinearRegression(), X, y, cv = KFold(5, shuffle=True))\n",
    "    \n",
    "        print(f\"{input_field}:\\t{cv_scores.mean()}\")\n",
    "\n",
    "        if input_field == \"m1_rates\":\n",
    "            PSM365_m1_score_list.append(cv_scores.mean())\n",
    "        elif input_field == \"thal_rates\":\n",
    "            PSM365_thal_score_list.append(cv_scores.mean())\n",
    "        elif input_field == \"str_rates\":\n",
    "            PSM365_str_score_list.append(cv_scores.mean())\n",
    "        elif input_field == \"dcn_rates\":\n",
    "            PSM365_dcn_score_list.append(cv_scores.mean())\n",
    "        elif input_field == \"all_rates\":\n",
    "            PSM365_all_score_list.append(cv_scores.mean())\n",
    "        elif input_field == \"nothal_rates\":\n",
    "            PSM365_nothal_score_list.append(cv_scores.mean())\n",
    "        elif input_field == \"nothal_pca\":\n",
    "            PSM365_nothal_pca_score_list.append(cv_scores.mean())\n",
    "        elif input_field == \"nothal_fa\":\n",
    "            PSM365_nothal_fa_score_list.append(cv_scores.mean())\n"
   ]
  },
  {
   "cell_type": "code",
   "execution_count": null,
   "metadata": {},
   "outputs": [],
   "source": [
    "data_dir_PSM366 = \"C:/Users/MARA/Desktop/IMPERIAL YEAR 4/Final year project/code/datasets/autism data/PS-M366/PS-M366-pyaldata2\"  # place here absolute path towards folder with session files for the WT-M355 model in pyaldata format\n",
    "files_PSM366 = os.listdir(data_dir_PSM366)"
   ]
  },
  {
   "cell_type": "code",
   "execution_count": null,
   "metadata": {},
   "outputs": [
    {
     "name": "stderr",
     "output_type": "stream",
     "text": [
      "C:\\Users\\MARA\\Desktop\\IMPERIAL YEAR 4\\Final year project\\code\\PyalData\\pyaldata\\firing_rates.py:91: UserWarning: Assuming spikes are actually spikes and dividing by bin size.\n",
      "  utils.warnings.warn(\"Assuming spikes are actually spikes and dividing by bin size.\")\n",
      "C:\\Users\\MARA\\Desktop\\IMPERIAL YEAR 4\\Final year project\\code\\PyalData\\pyaldata\\firing_rates.py:91: UserWarning: Assuming spikes are actually spikes and dividing by bin size.\n",
      "  utils.warnings.warn(\"Assuming spikes are actually spikes and dividing by bin size.\")\n",
      "C:\\Users\\MARA\\Desktop\\IMPERIAL YEAR 4\\Final year project\\code\\PyalData\\pyaldata\\firing_rates.py:91: UserWarning: Assuming spikes are actually spikes and dividing by bin size.\n",
      "  utils.warnings.warn(\"Assuming spikes are actually spikes and dividing by bin size.\")\n",
      "C:\\Users\\MARA\\Desktop\\IMPERIAL YEAR 4\\Final year project\\code\\PyalData\\pyaldata\\firing_rates.py:91: UserWarning: Assuming spikes are actually spikes and dividing by bin size.\n",
      "  utils.warnings.warn(\"Assuming spikes are actually spikes and dividing by bin size.\")\n"
     ]
    },
    {
     "name": "stdout",
     "output_type": "stream",
     "text": [
      "(9657, 7)\n",
      "m1_rates:\t0.6002152233986413\n",
      "(9657, 413)\n",
      "thal_rates:\t0.9908831139137722\n",
      "(9657, 10)\n",
      "str_rates:\t0.5901546332869441\n",
      "(9657, 131)\n",
      "dcn_rates:\t0.9339064314908387\n",
      "(9657, 561)\n",
      "all_rates:\t0.9953963374500774\n",
      "(9657, 148)\n",
      "nothal_rates:\t0.9446277253223745\n",
      "(9657, 10)\n",
      "nothal_pca:\t0.8290041453561147\n",
      "(9657, 2)\n",
      "nothal_fa:\t0.7950175097599292\n"
     ]
    },
    {
     "name": "stderr",
     "output_type": "stream",
     "text": [
      "C:\\Users\\MARA\\Desktop\\IMPERIAL YEAR 4\\Final year project\\code\\PyalData\\pyaldata\\firing_rates.py:91: UserWarning: Assuming spikes are actually spikes and dividing by bin size.\n",
      "  utils.warnings.warn(\"Assuming spikes are actually spikes and dividing by bin size.\")\n",
      "C:\\Users\\MARA\\Desktop\\IMPERIAL YEAR 4\\Final year project\\code\\PyalData\\pyaldata\\firing_rates.py:91: UserWarning: Assuming spikes are actually spikes and dividing by bin size.\n",
      "  utils.warnings.warn(\"Assuming spikes are actually spikes and dividing by bin size.\")\n",
      "C:\\Users\\MARA\\Desktop\\IMPERIAL YEAR 4\\Final year project\\code\\PyalData\\pyaldata\\firing_rates.py:91: UserWarning: Assuming spikes are actually spikes and dividing by bin size.\n",
      "  utils.warnings.warn(\"Assuming spikes are actually spikes and dividing by bin size.\")\n",
      "C:\\Users\\MARA\\Desktop\\IMPERIAL YEAR 4\\Final year project\\code\\PyalData\\pyaldata\\firing_rates.py:91: UserWarning: Assuming spikes are actually spikes and dividing by bin size.\n",
      "  utils.warnings.warn(\"Assuming spikes are actually spikes and dividing by bin size.\")\n"
     ]
    },
    {
     "name": "stdout",
     "output_type": "stream",
     "text": [
      "(13311, 3)\n",
      "m1_rates:\t0.43559388740248145\n",
      "(13311, 414)\n",
      "thal_rates:\t0.986058147580483\n",
      "(13311, 37)\n",
      "str_rates:\t0.6858043791469317\n",
      "(13311, 160)\n",
      "dcn_rates:\t0.9525513158201029\n",
      "(13311, 614)\n",
      "all_rates:\t0.9940839702916298\n",
      "(13311, 200)\n",
      "nothal_rates:\t0.9595986569292583\n",
      "(13311, 10)\n",
      "nothal_pca:\t0.8697925890454007\n",
      "(13311, 2)\n",
      "nothal_fa:\t0.8238453502030616\n"
     ]
    },
    {
     "name": "stderr",
     "output_type": "stream",
     "text": [
      "C:\\Users\\MARA\\Desktop\\IMPERIAL YEAR 4\\Final year project\\code\\PyalData\\pyaldata\\firing_rates.py:91: UserWarning: Assuming spikes are actually spikes and dividing by bin size.\n",
      "  utils.warnings.warn(\"Assuming spikes are actually spikes and dividing by bin size.\")\n",
      "C:\\Users\\MARA\\Desktop\\IMPERIAL YEAR 4\\Final year project\\code\\PyalData\\pyaldata\\firing_rates.py:91: UserWarning: Assuming spikes are actually spikes and dividing by bin size.\n",
      "  utils.warnings.warn(\"Assuming spikes are actually spikes and dividing by bin size.\")\n"
     ]
    },
    {
     "ename": "ValueError",
     "evalue": "zero-dimensional arrays cannot be concatenated",
     "output_type": "error",
     "traceback": [
      "\u001b[1;31m---------------------------------------------------------------------------\u001b[0m",
      "\u001b[1;31mValueError\u001b[0m                                Traceback (most recent call last)",
      "Cell \u001b[1;32mIn[57], line 24\u001b[0m\n\u001b[0;32m     21\u001b[0m nothal_spike_fields \u001b[38;5;241m=\u001b[39m [\u001b[38;5;124m\"\u001b[39m\u001b[38;5;124mdcn_spikes\u001b[39m\u001b[38;5;124m\"\u001b[39m,\u001b[38;5;124m\"\u001b[39m\u001b[38;5;124mm1_spikes\u001b[39m\u001b[38;5;124m\"\u001b[39m,\u001b[38;5;124m\"\u001b[39m\u001b[38;5;124mstr_spikes\u001b[39m\u001b[38;5;124m\"\u001b[39m]\n\u001b[0;32m     23\u001b[0m \u001b[38;5;28;01mfor\u001b[39;00m col \u001b[38;5;129;01min\u001b[39;00m spike_fields:\n\u001b[1;32m---> 24\u001b[0m     df_uncombined \u001b[38;5;241m=\u001b[39m \u001b[43mpyaldata\u001b[49m\u001b[38;5;241;43m.\u001b[39;49m\u001b[43mremove_low_firing_neurons\u001b[49m\u001b[43m(\u001b[49m\u001b[43mdf_uncombined\u001b[49m\u001b[43m,\u001b[49m\u001b[43m \u001b[49m\u001b[43mcol\u001b[49m\u001b[43m,\u001b[49m\u001b[43m  \u001b[49m\u001b[38;5;241;43m1\u001b[39;49m\u001b[43m)\u001b[49m\n\u001b[0;32m     25\u001b[0m     df_uncombined \u001b[38;5;241m=\u001b[39m pyaldata\u001b[38;5;241m.\u001b[39mtransform_signal(df_uncombined, col,  \u001b[38;5;124m'\u001b[39m\u001b[38;5;124msqrt\u001b[39m\u001b[38;5;124m'\u001b[39m)\n\u001b[0;32m     27\u001b[0m df_uncombined \u001b[38;5;241m=\u001b[39m pyaldata\u001b[38;5;241m.\u001b[39mmerge_signals(df_uncombined, spike_fields, \u001b[38;5;124m\"\u001b[39m\u001b[38;5;124mall_spikes\u001b[39m\u001b[38;5;124m\"\u001b[39m)\n",
      "File \u001b[1;32m~\\Desktop\\IMPERIAL YEAR 4\\Final year project\\code\\PyalData\\pyaldata\\utils.py:28\u001b[0m, in \u001b[0;36mcopy_td.<locals>.wrapper\u001b[1;34m(*args, **kwargs)\u001b[0m\n\u001b[0;32m     25\u001b[0m \u001b[38;5;28;01mif\u001b[39;00m \u001b[38;5;129;01mnot\u001b[39;00m \u001b[38;5;28misinstance\u001b[39m(args[\u001b[38;5;241m0\u001b[39m], pd\u001b[38;5;241m.\u001b[39mDataFrame):\n\u001b[0;32m     26\u001b[0m     \u001b[38;5;28;01mraise\u001b[39;00m \u001b[38;5;167;01mValueError\u001b[39;00m(\u001b[38;5;124mf\u001b[39m\u001b[38;5;124m\"\u001b[39m\u001b[38;5;124mfirst argument of \u001b[39m\u001b[38;5;132;01m{\u001b[39;00mfunc\u001b[38;5;241m.\u001b[39m\u001b[38;5;18m__name__\u001b[39m\u001b[38;5;132;01m}\u001b[39;00m\u001b[38;5;124m has to be a pandas DataFrame\u001b[39m\u001b[38;5;124m\"\u001b[39m)\n\u001b[1;32m---> 28\u001b[0m \u001b[38;5;28;01mreturn\u001b[39;00m func(args[\u001b[38;5;241m0\u001b[39m]\u001b[38;5;241m.\u001b[39mcopy(), \u001b[38;5;241m*\u001b[39margs[\u001b[38;5;241m1\u001b[39m:], \u001b[38;5;241m*\u001b[39m\u001b[38;5;241m*\u001b[39mkwargs)\n",
      "File \u001b[1;32m~\\Desktop\\IMPERIAL YEAR 4\\Final year project\\code\\PyalData\\pyaldata\\firing_rates.py:133\u001b[0m, in \u001b[0;36mremove_low_firing_neurons\u001b[1;34m(trial_data, signal, threshold, divide_by_bin_size, verbose)\u001b[0m\n\u001b[0;32m    107\u001b[0m \u001b[38;5;129m@utils\u001b[39m\u001b[38;5;241m.\u001b[39mcopy_td\n\u001b[0;32m    108\u001b[0m \u001b[38;5;28;01mdef\u001b[39;00m \u001b[38;5;21mremove_low_firing_neurons\u001b[39m(trial_data, signal, threshold, divide_by_bin_size\u001b[38;5;241m=\u001b[39m\u001b[38;5;28;01mNone\u001b[39;00m, verbose\u001b[38;5;241m=\u001b[39m\u001b[38;5;28;01mFalse\u001b[39;00m):\n\u001b[0;32m    109\u001b[0m \u001b[38;5;250m    \u001b[39m\u001b[38;5;124;03m\"\"\"\u001b[39;00m\n\u001b[0;32m    110\u001b[0m \u001b[38;5;124;03m    Remove neurons from signal whose average firing rate\u001b[39;00m\n\u001b[0;32m    111\u001b[0m \u001b[38;5;124;03m    across all trials is lower than a threshold\u001b[39;00m\n\u001b[1;32m   (...)\u001b[0m\n\u001b[0;32m    131\u001b[0m \u001b[38;5;124;03m    signal and the corresponding unit_guide\u001b[39;00m\n\u001b[0;32m    132\u001b[0m \u001b[38;5;124;03m    \"\"\"\u001b[39;00m\n\u001b[1;32m--> 133\u001b[0m     av_rates \u001b[38;5;241m=\u001b[39m \u001b[43mget_average_firing_rates\u001b[49m\u001b[43m(\u001b[49m\u001b[43mtrial_data\u001b[49m\u001b[43m,\u001b[49m\u001b[43m \u001b[49m\u001b[43msignal\u001b[49m\u001b[43m,\u001b[49m\u001b[43m \u001b[49m\u001b[43mdivide_by_bin_size\u001b[49m\u001b[43m)\u001b[49m\n\u001b[0;32m    134\u001b[0m     mask \u001b[38;5;241m=\u001b[39m av_rates \u001b[38;5;241m>\u001b[39m\u001b[38;5;241m=\u001b[39m threshold\n\u001b[0;32m    136\u001b[0m     trial_data[signal] \u001b[38;5;241m=\u001b[39m [arr[:, mask] \u001b[38;5;28;01mfor\u001b[39;00m arr \u001b[38;5;129;01min\u001b[39;00m trial_data[signal]]\n",
      "File \u001b[1;32m~\\Desktop\\IMPERIAL YEAR 4\\Final year project\\code\\PyalData\\pyaldata\\firing_rates.py:102\u001b[0m, in \u001b[0;36mget_average_firing_rates\u001b[1;34m(trial_data, signal, divide_by_bin_size)\u001b[0m\n\u001b[0;32m     99\u001b[0m         \u001b[38;5;28;01mraise\u001b[39;00m \u001b[38;5;167;01mValueError\u001b[39;00m(\u001b[38;5;124mf\u001b[39m\u001b[38;5;124m\"\u001b[39m\u001b[38;5;124mPlease specify divide_by_bin_size. Could not determine it automatically.\u001b[39m\u001b[38;5;124m\"\u001b[39m)\n\u001b[0;32m    101\u001b[0m \u001b[38;5;28;01mif\u001b[39;00m divide_by_bin_size:\n\u001b[1;32m--> 102\u001b[0m     \u001b[38;5;28;01mreturn\u001b[39;00m np\u001b[38;5;241m.\u001b[39mmean(\u001b[43mextract_signals\u001b[49m\u001b[38;5;241;43m.\u001b[39;49m\u001b[43mconcat_trials\u001b[49m\u001b[43m(\u001b[49m\u001b[43mtrial_data\u001b[49m\u001b[43m,\u001b[49m\u001b[43m \u001b[49m\u001b[43msignal\u001b[49m\u001b[43m)\u001b[49m, axis\u001b[38;5;241m=\u001b[39m\u001b[38;5;241m0\u001b[39m) \u001b[38;5;241m/\u001b[39m trial_data[\u001b[38;5;124m'\u001b[39m\u001b[38;5;124mbin_size\u001b[39m\u001b[38;5;124m'\u001b[39m]\u001b[38;5;241m.\u001b[39mvalues[\u001b[38;5;241m0\u001b[39m]\n\u001b[0;32m    103\u001b[0m \u001b[38;5;28;01melse\u001b[39;00m:\n\u001b[0;32m    104\u001b[0m     \u001b[38;5;28;01mreturn\u001b[39;00m np\u001b[38;5;241m.\u001b[39mmean(extract_signals\u001b[38;5;241m.\u001b[39mconcat_trials(trial_data, signal), axis\u001b[38;5;241m=\u001b[39m\u001b[38;5;241m0\u001b[39m)\n",
      "File \u001b[1;32m~\\Desktop\\IMPERIAL YEAR 4\\Final year project\\code\\PyalData\\pyaldata\\extract_signals.py:26\u001b[0m, in \u001b[0;36mconcat_trials\u001b[1;34m(trial_data, signal, trial_indices)\u001b[0m\n\u001b[0;32m      8\u001b[0m \u001b[38;5;250m\u001b[39m\u001b[38;5;124;03m\"\"\"\u001b[39;00m\n\u001b[0;32m      9\u001b[0m \u001b[38;5;124;03mConcatenate signal from different trials in time\u001b[39;00m\n\u001b[0;32m     10\u001b[0m \n\u001b[1;32m   (...)\u001b[0m\n\u001b[0;32m     23\u001b[0m \u001b[38;5;124;03mstacked on top of each other\u001b[39;00m\n\u001b[0;32m     24\u001b[0m \u001b[38;5;124;03m\"\"\"\u001b[39;00m\n\u001b[0;32m     25\u001b[0m \u001b[38;5;28;01mif\u001b[39;00m trial_indices \u001b[38;5;129;01mis\u001b[39;00m \u001b[38;5;28;01mNone\u001b[39;00m:\n\u001b[1;32m---> 26\u001b[0m     \u001b[38;5;28;01mreturn\u001b[39;00m \u001b[43mnp\u001b[49m\u001b[38;5;241;43m.\u001b[39;49m\u001b[43mconcatenate\u001b[49m\u001b[43m(\u001b[49m\u001b[43mtrial_data\u001b[49m\u001b[43m[\u001b[49m\u001b[43msignal\u001b[49m\u001b[43m]\u001b[49m\u001b[38;5;241;43m.\u001b[39;49m\u001b[43mvalues\u001b[49m\u001b[43m,\u001b[49m\u001b[43m \u001b[49m\u001b[43maxis\u001b[49m\u001b[38;5;241;43m=\u001b[39;49m\u001b[38;5;241;43m0\u001b[39;49m\u001b[43m)\u001b[49m\n\u001b[0;32m     27\u001b[0m \u001b[38;5;28;01melse\u001b[39;00m:\n\u001b[0;32m     28\u001b[0m     \u001b[38;5;28;01mreturn\u001b[39;00m np\u001b[38;5;241m.\u001b[39mconcatenate(trial_data\u001b[38;5;241m.\u001b[39mloc[trial_indices, signal]\u001b[38;5;241m.\u001b[39mvalues, axis\u001b[38;5;241m=\u001b[39m\u001b[38;5;241m0\u001b[39m)\n",
      "File \u001b[1;32m<__array_function__ internals>:180\u001b[0m, in \u001b[0;36mconcatenate\u001b[1;34m(*args, **kwargs)\u001b[0m\n",
      "\u001b[1;31mValueError\u001b[0m: zero-dimensional arrays cannot be concatenated"
     ]
    }
   ],
   "source": [
    "pca_dims = 10\n",
    "fa_dims = 2\n",
    "\n",
    "PSM366_m1_score_list = []\n",
    "PSM366_thal_score_list = []\n",
    "PSM366_str_score_list = []\n",
    "PSM366_dcn_score_list = []\n",
    "PSM366_all_score_list = []\n",
    "PSM366_nothal_score_list = []\n",
    "PSM366_nothal_pca_score_list = []\n",
    "PSM366_nothal_fa_score_list = []\n",
    "\n",
    "for fname in files_PSM366:\n",
    "\n",
    "    fpath = os.path.join(data_dir_PSM366, fname)  # change to the session you want\n",
    "    # load TrialData .mat file into a DataFrame\n",
    "    df_uncombined = pyaldata.mat2dataframe(fpath, shift_idx_fields=True)\n",
    "    df_uncombined = pyaldata.select_trials(df_uncombined, \"success == 1\")\n",
    "\n",
    "    spike_fields = [col for col in df_uncombined.columns if col.endswith(\"spikes\")]\n",
    "    nothal_spike_fields = [\"dcn_spikes\",\"m1_spikes\",\"str_spikes\"]\n",
    "\n",
    "    for col in spike_fields:\n",
    "        df_uncombined = pyaldata.remove_low_firing_neurons(df_uncombined, col,  1)\n",
    "        df_uncombined = pyaldata.transform_signal(df_uncombined, col,  'sqrt')\n",
    "\n",
    "    df_uncombined = pyaldata.merge_signals(df_uncombined, spike_fields, \"all_spikes\")\n",
    "    df_uncombined = pyaldata.merge_signals(df_uncombined, nothal_spike_fields, \"nothal_spikes\")\n",
    "    df_uncombined = pyaldata.add_firing_rates(df_uncombined, 'smooth')\n",
    "\n",
    "    df_uncombined = pyaldata.restrict_to_interval(df_uncombined, \"idx_mo\", end_point_name=None, rel_start=-2*5, rel_end=50*5)\n",
    "    \n",
    "    df_uncombined = pyaldata.dim_reduce(df_uncombined, PCA(pca_dims), \"nothal_rates\", \"nothal_pca\")\n",
    "    df_uncombined = pyaldata.dim_reduce(df_uncombined, FactorAnalysis(fa_dims), \"nothal_rates\", \"nothal_fa\")\n",
    "\n",
    "    for input_field in [\"m1_rates\", \"thal_rates\", \"str_rates\", \"dcn_rates\", \"all_rates\", \"nothal_rates\", \"nothal_pca\", \"nothal_fa\"]:\n",
    "        X = pyaldata.concat_trials(df_uncombined, input_field)\n",
    "        y = pyaldata.concat_trials(df_uncombined, \"hand\")\n",
    "        print(X.shape)\n",
    "\n",
    "        cv_scores = cross_val_score(LinearRegression(), X, y, cv = KFold(5, shuffle=True))\n",
    "    \n",
    "        print(f\"{input_field}:\\t{cv_scores.mean()}\")\n",
    "\n",
    "        if input_field == \"m1_rates\":\n",
    "            PSM366_m1_score_list.append(cv_scores.mean())\n",
    "        elif input_field == \"thal_rates\":\n",
    "            PSM366_thal_score_list.append(cv_scores.mean())\n",
    "        elif input_field == \"str_rates\":\n",
    "            PSM366_str_score_list.append(cv_scores.mean())\n",
    "        elif input_field == \"dcn_rates\":\n",
    "            PSM366_dcn_score_list.append(cv_scores.mean())\n",
    "        elif input_field == \"all_rates\":\n",
    "            PSM366_all_score_list.append(cv_scores.mean())\n",
    "        elif input_field == \"nothal_rates\":\n",
    "            PSM366_nothal_score_list.append(cv_scores.mean())\n",
    "        elif input_field == \"nothal_pca\":\n",
    "            PSM366_nothal_pca_score_list.append(cv_scores.mean())\n",
    "        elif input_field == \"nothal_fa\":\n",
    "            PSM366_nothal_fa_score_list.append(cv_scores.mean())\n"
   ]
  },
  {
   "cell_type": "code",
   "execution_count": null,
   "metadata": {},
   "outputs": [],
   "source": []
  },
  {
   "cell_type": "code",
   "execution_count": null,
   "metadata": {},
   "outputs": [],
   "source": [
    "mean_m1 = np.mean(m1_score_list)\n",
    "mean_str = np.mean(str_score_list)\n",
    "mean_dcn = np.mean(dcn_score_list)\n",
    "mean_thal = np.mean(thal_score_list)\n",
    "mean_all = np.mean(all_score_list)\n",
    "mean_all_pca = np.mean(all_pca_score_list)\n"
   ]
  },
  {
   "cell_type": "code",
   "execution_count": null,
   "metadata": {},
   "outputs": [
    {
     "data": {
      "text/plain": [
       "<matplotlib.collections.PathCollection at 0x23f8c5f7f40>"
      ]
     },
     "execution_count": 49,
     "metadata": {},
     "output_type": "execute_result"
    },
    {
     "data": {
      "image/png": "[encoded data removed]",
      "text/plain": [
       "<Figure size 640x480 with 1 Axes>"
      ]
     },
     "metadata": {},
     "output_type": "display_data"
    }
   ],
   "source": [
    "# plot for one animal all regions: this is for WT-M355\n",
    "plt.scatter(np.ones(len(m1_score_list)), m1_score_list)\n",
    "plt.scatter(2*np.ones(len(str_score_list)), str_score_list)\n",
    "plt.scatter(3*np.ones(len(dcn_score_list)), dcn_score_list)\n",
    "plt.scatter(4*np.ones(len(thal_score_list)), thal_score_list)\n",
    "plt.scatter(5*np.ones(len(all_score_list)), all_score_list)\n",
    "plt.scatter(6*np.ones(len(all_pca_score_list)), all_pca_score_list)\n",
    "\n",
    "plt.scatter([1,2,3,4,5,6],[mean_m1, mean_str, mean_dcn, mean_thal, mean_all, mean_all_pca], color='k', marker='x', s=100)"
   ]
  },
  {
   "cell_type": "code",
   "execution_count": null,
   "metadata": {},
   "outputs": [],
   "source": [
    "mean_m1 = np.mean(m1_score_list)\n",
    "wtm350_mean_m1 = np.mean(WTM350_m1_score_list)\n",
    "asm351_mean_m1 = np.mean(ASM351_m1_score_list)\n",
    "asm354_mean_m1 = np.mean(ASM354_m1_score_list)\n",
    "psm365_mean_m1 = np.mean(PSM365_m1_score_list)\n",
    "psm366_mean_m1 = np.mean(PSM366_m1_score_list)\n"
   ]
  },
  {
   "cell_type": "code",
   "execution_count": null,
   "metadata": {},
   "outputs": [
    {
     "data": {
      "text/plain": [
       "<matplotlib.collections.PathCollection at 0x23f8c5c2c20>"
      ]
     },
     "execution_count": 59,
     "metadata": {},
     "output_type": "execute_result"
    },
    {
     "data": {
      "image/png": "[encoded data removed]",
      "text/plain": [
       "<Figure size 640x480 with 1 Axes>"
      ]
     },
     "metadata": {},
     "output_type": "display_data"
    }
   ],
   "source": [
    "# plot for all animals one region type-- below for m1\n",
    "plt.scatter(np.ones(len(m1_score_list)), m1_score_list)\n",
    "plt.scatter(2*np.ones(len(WTM350_m1_score_list)), WTM350_m1_score_list)\n",
    "plt.scatter(3*np.ones(len(ASM351_m1_score_list)), ASM351_m1_score_list)\n",
    "plt.scatter(4*np.ones(len(ASM354_m1_score_list)), ASM354_m1_score_list)\n",
    "plt.scatter(5*np.ones(len(PSM365_m1_score_list)), PSM365_m1_score_list)\n",
    "plt.scatter(6*np.ones(len(PSM366_m1_score_list)), PSM366_m1_score_list)\n",
    "\n",
    "plt.scatter([1,2,3,4,5,6],[mean_m1, wtm350_mean_m1, asm351_mean_m1, asm354_mean_m1, psm365_mean_m1, psm366_mean_m1], color='k', marker='x', s=100)"
   ]
  }
 ],
 "metadata": {
  "kernelspec": {
   "display_name": "Python 3",
   "language": "python",
   "name": "python3"
  },
  "language_info": {
   "codemirror_mode": {
    "name": "ipython",
    "version": 3
   },
   "file_extension": ".py",
   "mimetype": "text/x-python",
   "name": "python",
   "nbconvert_exporter": "python",
   "pygments_lexer": "ipython3",
   "version": "3.10.5"
  }
 },
 "nbformat": 4,
 "nbformat_minor": 2
}
