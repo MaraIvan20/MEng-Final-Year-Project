{
 "cells": [
  {
   "cell_type": "markdown",
   "metadata": {},
   "source": [
    "Naive Bayes Classifiers to predict the type of mouse (WT, AS, PS) from hand trajectory or from neural activity"
   ]
  },
  {
   "cell_type": "code",
   "execution_count": 3,
   "metadata": {},
   "outputs": [],
   "source": [
    "import sys\n",
    "import os\n",
    "sys.path.append(os.path.abspath(\"C:/Users/MARA/Desktop/IMPERIAL YEAR 4/Final year project/code\"))\n",
    "import hdf5storage\n",
    "import mat73\n",
    "import pandas as pd\n",
    "import numpy as np\n",
    "import scipy\n",
    "import matplotlib.pyplot as plt\n",
    "import math\n",
    "\n",
    "import CURBD.curbd as curbd\n",
    "import PyalData.pyaldata as pyaldata\n",
    "\n",
    "from sklearn.naive_bayes import GaussianNB\n",
    "from sklearn.model_selection import train_test_split\n",
    "from sklearn.metrics import accuracy_score"
   ]
  },
  {
   "cell_type": "code",
   "execution_count": 4,
   "metadata": {},
   "outputs": [],
   "source": [
    "data_dir_WTM350 = \"C:/Users/MARA/Desktop/IMPERIAL YEAR 4/Final year project/code/datasets/autism data/WT-M350/WT-M350-pyaldata2\" \n",
    "data_dir_WTM355 = \"C:/Users/MARA/Desktop/IMPERIAL YEAR 4/Final year project/code/datasets/autism data/WT-M355/WT-M355-pyaldata2\" \n",
    "data_dir_ASM351 = \"C:/Users/MARA/Desktop/IMPERIAL YEAR 4/Final year project/code/datasets/autism data/AS-M351/AS-M351-pyaldata2\" \n",
    "data_dir_ASM354 = \"C:/Users/MARA/Desktop/IMPERIAL YEAR 4/Final year project/code/datasets/autism data/AS-M354/AS-M354-pyaldata2\" \n",
    "data_dir_PSM365 = \"C:/Users/MARA/Desktop/IMPERIAL YEAR 4/Final year project/code/datasets/autism data/PS-M365/PS-M365-pyaldata2\" \n",
    "data_dir_PSM366 = \"C:/Users/MARA/Desktop/IMPERIAL YEAR 4/Final year project/code/datasets/autism data/PS-M366/PS-M366-pyaldata2\" "
   ]
  },
  {
   "cell_type": "markdown",
   "metadata": {},
   "source": [
    "Classifier to predict type (WT, AS, PS) from 3d hand trajectory during first half a second after movement onset"
   ]
  },
  {
   "cell_type": "code",
   "execution_count": 13,
   "metadata": {},
   "outputs": [],
   "source": [
    "# consider all models, and no thalamus: \n",
    "from sklearn.model_selection import cross_val_score, KFold\n",
    "\n",
    "class_indices = {'WT-M350':1,\n",
    "                'WT-M355':1, \n",
    "                'AS-M351':2,\n",
    "                'AS-M354':2,\n",
    "                'PS-M365':3,\n",
    "                'PS-M366':3}\n",
    "X_data = {'WT':[],'AS':[],'PS':[]}\n",
    "X = []\n",
    "y = []\n",
    "\n",
    "for data_dir in [data_dir_WTM350, data_dir_WTM355, data_dir_ASM351, data_dir_ASM354, data_dir_PSM365, data_dir_PSM366]:\n",
    "    animal_model = data_dir[-17:-10]\n",
    "    animal_type = data_dir[-17:-15]\n",
    "    files = os.listdir(data_dir)\n",
    "    for file_name in files:\n",
    "        fpath = os.path.join(data_dir, file_name)\n",
    "        df = pyaldata.mat2dataframe(fpath, shift_idx_fields=True)\n",
    "        df = pyaldata.select_trials(df, \"success == 1\")  # only consider successful trials\n",
    "\n",
    "        df[\"trial_id\"] = range(len(df))\n",
    "\n",
    "        if len(df)>1:\n",
    "            for i in range(len(df)):\n",
    "                X_data[animal_type].append(df['hand'][i][df['idx_mo'][i]:df['idx_mo'][i]+250,:])\n",
    "            \n"
   ]
  },
  {
   "cell_type": "code",
   "execution_count": 14,
   "metadata": {},
   "outputs": [],
   "source": [
    "random.shuffle(X_data['WT'])\n",
    "random.shuffle(X_data['AS'])\n",
    "random.shuffle(X_data['PS'])\n",
    "\n",
    "\n",
    "min_samples = min(len(X_data['WT']), len(X_data['AS']), len(X_data['PS']))\n",
    "X_WT = X_data['WT'][0:min_samples]\n",
    "X_AS = X_data['AS'][0:min_samples]\n",
    "X_PS = X_data['PS'][0:min_samples]\n",
    "\n",
    "# Step 3: Combine the sampled subsets\n",
    "X_balanced = np.concatenate((X_WT, X_AS, X_PS))\n",
    "y_balanced = np.concatenate((['WT'] * min_samples, ['AS'] * min_samples, ['PS'] * min_samples))\n",
    "\n",
    "# Optionally, shuffle the combined dataset\n",
    "indices = np.arange(len(X_balanced))\n",
    "np.random.shuffle(indices)\n",
    "X_balanced = X_balanced[indices]\n",
    "y_balanced = y_balanced[indices]\n",
    "\n",
    "X_balanced_reshaped = X_balanced.reshape(len(X_balanced),-1)  # convert to 2d array (needed for the NB classifier)\n",
    "y_balanced_reshaped = y_balanced.reshape(len(y_balanced),-1)\n",
    "\n",
    "\n",
    "# Split the balanced dataset into training and testing sets\n",
    "X_train, X_test, y_train, y_test = train_test_split(X_balanced_reshaped, y_balanced_reshaped, test_size=0.2, random_state=42)\n",
    "\n"
   ]
  },
  {
   "cell_type": "code",
   "execution_count": 15,
   "metadata": {},
   "outputs": [
    {
     "data": {
      "text/plain": [
       "(705, 250, 3)"
      ]
     },
     "execution_count": 15,
     "metadata": {},
     "output_type": "execute_result"
    }
   ],
   "source": [
    "np.shape(X_balanced)"
   ]
  },
  {
   "cell_type": "code",
   "execution_count": 16,
   "metadata": {},
   "outputs": [
    {
     "data": {
      "text/plain": [
       "(705, 750)"
      ]
     },
     "execution_count": 16,
     "metadata": {},
     "output_type": "execute_result"
    }
   ],
   "source": [
    "np.shape(X_balanced_reshaped)"
   ]
  },
  {
   "cell_type": "code",
   "execution_count": 17,
   "metadata": {},
   "outputs": [
    {
     "name": "stdout",
     "output_type": "stream",
     "text": [
      "Accuracy: 0.8439716312056738\n"
     ]
    },
    {
     "name": "stderr",
     "output_type": "stream",
     "text": [
      "c:\\Users\\MARA\\AppData\\Local\\Programs\\Python\\Python310\\lib\\site-packages\\sklearn\\utils\\validation.py:1183: DataConversionWarning: A column-vector y was passed when a 1d array was expected. Please change the shape of y to (n_samples, ), for example using ravel().\n",
      "  y = column_or_1d(y, warn=True)\n"
     ]
    }
   ],
   "source": [
    "# Initialize Gaussian Naive Bayes classifier\n",
    "classifier = GaussianNB()\n",
    "\n",
    "# Train classifier\n",
    "classifier.fit(X_train, y_train)\n",
    "\n",
    "# Make predictions\n",
    "predictions = classifier.predict(X_test)\n",
    "\n",
    "# Calculate accuracy\n",
    "accuracy = accuracy_score(y_test, predictions)\n",
    "print(\"Accuracy:\", accuracy)"
   ]
  },
  {
   "cell_type": "code",
   "execution_count": 18,
   "metadata": {},
   "outputs": [
    {
     "name": "stderr",
     "output_type": "stream",
     "text": [
      "c:\\Users\\MARA\\AppData\\Local\\Programs\\Python\\Python310\\lib\\site-packages\\sklearn\\utils\\validation.py:1183: DataConversionWarning: A column-vector y was passed when a 1d array was expected. Please change the shape of y to (n_samples, ), for example using ravel().\n",
      "  y = column_or_1d(y, warn=True)\n",
      "c:\\Users\\MARA\\AppData\\Local\\Programs\\Python\\Python310\\lib\\site-packages\\sklearn\\utils\\validation.py:1183: DataConversionWarning: A column-vector y was passed when a 1d array was expected. Please change the shape of y to (n_samples, ), for example using ravel().\n",
      "  y = column_or_1d(y, warn=True)\n",
      "c:\\Users\\MARA\\AppData\\Local\\Programs\\Python\\Python310\\lib\\site-packages\\sklearn\\utils\\validation.py:1183: DataConversionWarning: A column-vector y was passed when a 1d array was expected. Please change the shape of y to (n_samples, ), for example using ravel().\n",
      "  y = column_or_1d(y, warn=True)\n",
      "c:\\Users\\MARA\\AppData\\Local\\Programs\\Python\\Python310\\lib\\site-packages\\sklearn\\utils\\validation.py:1183: DataConversionWarning: A column-vector y was passed when a 1d array was expected. Please change the shape of y to (n_samples, ), for example using ravel().\n",
      "  y = column_or_1d(y, warn=True)\n",
      "c:\\Users\\MARA\\AppData\\Local\\Programs\\Python\\Python310\\lib\\site-packages\\sklearn\\utils\\validation.py:1183: DataConversionWarning: A column-vector y was passed when a 1d array was expected. Please change the shape of y to (n_samples, ), for example using ravel().\n",
      "  y = column_or_1d(y, warn=True)\n"
     ]
    },
    {
     "data": {
      "text/plain": [
       "array([0.84397163, 0.86524823, 0.87234043, 0.89361702, 0.88652482])"
      ]
     },
     "execution_count": 18,
     "metadata": {},
     "output_type": "execute_result"
    }
   ],
   "source": [
    "from sklearn.model_selection import cross_val_score, KFold\n",
    "# Define k for k-fold cross-validation\n",
    "k = 5\n",
    "kf = KFold(n_splits=k, shuffle=True, random_state=42)\n",
    "\n",
    "# Perform k-fold cross-validation\n",
    "scores = cross_val_score(classifier, X_balanced_reshaped, y_balanced_reshaped, cv=kf)\n",
    "scores"
   ]
  },
  {
   "cell_type": "markdown",
   "metadata": {},
   "source": [
    "Classifier to predict type (WT, AS, PS) from hand velocity during first half a second after movement onset"
   ]
  },
  {
   "cell_type": "code",
   "execution_count": 19,
   "metadata": {},
   "outputs": [],
   "source": [
    "# consider all models, and no thalamus: \n",
    "\n",
    "class_indices = {'WT-M350':1,\n",
    "                'WT-M355':1, \n",
    "                'AS-M351':2,\n",
    "                'AS-M354':2,\n",
    "                'PS-M365':3,\n",
    "                'PS-M366':3}\n",
    "X_data = {'WT':[],'AS':[],'PS':[]}\n",
    "X = []\n",
    "y = []\n",
    "\n",
    "for data_dir in [data_dir_WTM350, data_dir_WTM355, data_dir_ASM351, data_dir_ASM354, data_dir_PSM365, data_dir_PSM366]:\n",
    "    animal_model = data_dir[-17:-10]\n",
    "    animal_type = data_dir[-17:-15]\n",
    "    files = os.listdir(data_dir)\n",
    "    for file_name in files:\n",
    "        fpath = os.path.join(data_dir, file_name)\n",
    "        df = pyaldata.mat2dataframe(fpath, shift_idx_fields=True)\n",
    "        df = pyaldata.select_trials(df, \"success == 1\")  # only consider successful trials\n",
    "\n",
    "        df[\"trial_id\"] = range(len(df))\n",
    "\n",
    "        if len(df)>1:\n",
    "            for i in range(len(df)):\n",
    "                X_data[animal_type].append(df['vel'][i][df['idx_mo'][i]:df['idx_mo'][i]+250])\n",
    "            \n"
   ]
  },
  {
   "cell_type": "code",
   "execution_count": 20,
   "metadata": {},
   "outputs": [],
   "source": [
    "random.shuffle(X_data['WT'])\n",
    "random.shuffle(X_data['AS'])\n",
    "random.shuffle(X_data['PS'])\n",
    "\n",
    "\n",
    "min_samples = min(len(X_data['WT']), len(X_data['AS']), len(X_data['PS']))\n",
    "X_WT = X_data['WT'][0:min_samples]\n",
    "X_AS = X_data['AS'][0:min_samples]\n",
    "X_PS = X_data['PS'][0:min_samples]\n",
    "\n",
    "# Step 3: Combine the sampled subsets\n",
    "X_balanced = np.concatenate((X_WT, X_AS, X_PS))\n",
    "y_balanced = np.concatenate((['WT'] * min_samples, ['AS'] * min_samples, ['PS'] * min_samples))\n",
    "\n",
    "# Optionally, shuffle the combined dataset\n",
    "indices = np.arange(len(X_balanced))\n",
    "np.random.shuffle(indices)\n",
    "X_balanced = X_balanced[indices]\n",
    "y_balanced = y_balanced[indices]\n",
    "\n",
    "X_balanced_reshaped = X_balanced.reshape(len(X_balanced),-1)  # convert to 2d array (needed for the NB classifier)\n",
    "y_balanced_reshaped = y_balanced.reshape(len(y_balanced),-1)\n",
    "\n",
    "\n",
    "# Split the balanced dataset into training and testing sets\n",
    "X_train, X_test, y_train, y_test = train_test_split(X_balanced_reshaped, y_balanced_reshaped, test_size=0.2, random_state=42)\n",
    "\n"
   ]
  },
  {
   "cell_type": "code",
   "execution_count": 21,
   "metadata": {},
   "outputs": [
    {
     "name": "stdout",
     "output_type": "stream",
     "text": [
      "Accuracy: 0.7092198581560284\n"
     ]
    },
    {
     "name": "stderr",
     "output_type": "stream",
     "text": [
      "c:\\Users\\MARA\\AppData\\Local\\Programs\\Python\\Python310\\lib\\site-packages\\sklearn\\utils\\validation.py:1183: DataConversionWarning: A column-vector y was passed when a 1d array was expected. Please change the shape of y to (n_samples, ), for example using ravel().\n",
      "  y = column_or_1d(y, warn=True)\n"
     ]
    }
   ],
   "source": [
    "# Initialize Gaussian Naive Bayes classifier\n",
    "classifier = GaussianNB()\n",
    "\n",
    "# Train classifier\n",
    "classifier.fit(X_train, y_train)\n",
    "\n",
    "# Make predictions\n",
    "predictions = classifier.predict(X_test)\n",
    "\n",
    "# Calculate accuracy\n",
    "accuracy = accuracy_score(y_test, predictions)\n",
    "print(\"Accuracy:\", accuracy)"
   ]
  },
  {
   "cell_type": "code",
   "execution_count": null,
   "metadata": {},
   "outputs": [
    {
     "name": "stderr",
     "output_type": "stream",
     "text": [
      "c:\\Users\\MARA\\AppData\\Local\\Programs\\Python\\Python310\\lib\\site-packages\\sklearn\\utils\\validation.py:1183: DataConversionWarning: A column-vector y was passed when a 1d array was expected. Please change the shape of y to (n_samples, ), for example using ravel().\n",
      "  y = column_or_1d(y, warn=True)\n",
      "c:\\Users\\MARA\\AppData\\Local\\Programs\\Python\\Python310\\lib\\site-packages\\sklearn\\utils\\validation.py:1183: DataConversionWarning: A column-vector y was passed when a 1d array was expected. Please change the shape of y to (n_samples, ), for example using ravel().\n",
      "  y = column_or_1d(y, warn=True)\n",
      "c:\\Users\\MARA\\AppData\\Local\\Programs\\Python\\Python310\\lib\\site-packages\\sklearn\\utils\\validation.py:1183: DataConversionWarning: A column-vector y was passed when a 1d array was expected. Please change the shape of y to (n_samples, ), for example using ravel().\n",
      "  y = column_or_1d(y, warn=True)\n",
      "c:\\Users\\MARA\\AppData\\Local\\Programs\\Python\\Python310\\lib\\site-packages\\sklearn\\utils\\validation.py:1183: DataConversionWarning: A column-vector y was passed when a 1d array was expected. Please change the shape of y to (n_samples, ), for example using ravel().\n",
      "  y = column_or_1d(y, warn=True)\n",
      "c:\\Users\\MARA\\AppData\\Local\\Programs\\Python\\Python310\\lib\\site-packages\\sklearn\\utils\\validation.py:1183: DataConversionWarning: A column-vector y was passed when a 1d array was expected. Please change the shape of y to (n_samples, ), for example using ravel().\n",
      "  y = column_or_1d(y, warn=True)\n"
     ]
    },
    {
     "data": {
      "text/plain": [
       "array([0.73758865, 0.72340426, 0.75886525, 0.76595745, 0.71631206])"
      ]
     },
     "metadata": {},
     "output_type": "display_data"
    }
   ],
   "source": [
    "from sklearn.model_selection import cross_val_score, KFold\n",
    "# Define k for k-fold cross-validation\n",
    "k = 5\n",
    "kf = KFold(n_splits=k, shuffle=True, random_state=42)\n",
    "\n",
    "# Perform k-fold cross-validation\n",
    "scores = cross_val_score(classifier, X_balanced_reshaped, y_balanced_reshaped, cv=kf)\n",
    "scores"
   ]
  },
  {
   "cell_type": "code",
   "execution_count": null,
   "metadata": {},
   "outputs": [
    {
     "data": {
      "text/plain": [
       "(101,)"
      ]
     },
     "metadata": {},
     "output_type": "display_data"
    }
   ],
   "source": [
    "np.shape(df.vel[1])"
   ]
  },
  {
   "cell_type": "markdown",
   "metadata": {},
   "source": [
    "Classifier to predict type (WT, AS, PS) from neural activity during first half a second after movement onset"
   ]
  },
  {
   "cell_type": "code",
   "execution_count": 8,
   "metadata": {},
   "outputs": [
    {
     "name": "stdout",
     "output_type": "stream",
     "text": [
      "WT-M350_session1.mat\n"
     ]
    },
    {
     "name": "stderr",
     "output_type": "stream",
     "text": [
      "C:\\Users\\MARA\\Desktop\\IMPERIAL YEAR 4\\Final year project\\code\\PyalData\\pyaldata\\firing_rates.py:91: UserWarning: Assuming spikes are actually spikes and dividing by bin size.\n",
      "  utils.warnings.warn(\"Assuming spikes are actually spikes and dividing by bin size.\")\n",
      "C:\\Users\\MARA\\Desktop\\IMPERIAL YEAR 4\\Final year project\\code\\PyalData\\pyaldata\\firing_rates.py:91: UserWarning: Assuming spikes are actually spikes and dividing by bin size.\n",
      "  utils.warnings.warn(\"Assuming spikes are actually spikes and dividing by bin size.\")\n",
      "C:\\Users\\MARA\\Desktop\\IMPERIAL YEAR 4\\Final year project\\code\\PyalData\\pyaldata\\firing_rates.py:91: UserWarning: Assuming spikes are actually spikes and dividing by bin size.\n",
      "  utils.warnings.warn(\"Assuming spikes are actually spikes and dividing by bin size.\")\n"
     ]
    },
    {
     "name": "stdout",
     "output_type": "stream",
     "text": [
      "WT-M350_session2.mat\n"
     ]
    },
    {
     "name": "stderr",
     "output_type": "stream",
     "text": [
      "C:\\Users\\MARA\\Desktop\\IMPERIAL YEAR 4\\Final year project\\code\\PyalData\\pyaldata\\firing_rates.py:91: UserWarning: Assuming spikes are actually spikes and dividing by bin size.\n",
      "  utils.warnings.warn(\"Assuming spikes are actually spikes and dividing by bin size.\")\n",
      "C:\\Users\\MARA\\Desktop\\IMPERIAL YEAR 4\\Final year project\\code\\PyalData\\pyaldata\\firing_rates.py:91: UserWarning: Assuming spikes are actually spikes and dividing by bin size.\n",
      "  utils.warnings.warn(\"Assuming spikes are actually spikes and dividing by bin size.\")\n",
      "C:\\Users\\MARA\\Desktop\\IMPERIAL YEAR 4\\Final year project\\code\\PyalData\\pyaldata\\firing_rates.py:91: UserWarning: Assuming spikes are actually spikes and dividing by bin size.\n",
      "  utils.warnings.warn(\"Assuming spikes are actually spikes and dividing by bin size.\")\n"
     ]
    },
    {
     "name": "stdout",
     "output_type": "stream",
     "text": [
      "WT-M350_session3.mat\n"
     ]
    },
    {
     "name": "stderr",
     "output_type": "stream",
     "text": [
      "C:\\Users\\MARA\\Desktop\\IMPERIAL YEAR 4\\Final year project\\code\\PyalData\\pyaldata\\firing_rates.py:91: UserWarning: Assuming spikes are actually spikes and dividing by bin size.\n",
      "  utils.warnings.warn(\"Assuming spikes are actually spikes and dividing by bin size.\")\n",
      "C:\\Users\\MARA\\Desktop\\IMPERIAL YEAR 4\\Final year project\\code\\PyalData\\pyaldata\\firing_rates.py:91: UserWarning: Assuming spikes are actually spikes and dividing by bin size.\n",
      "  utils.warnings.warn(\"Assuming spikes are actually spikes and dividing by bin size.\")\n",
      "C:\\Users\\MARA\\Desktop\\IMPERIAL YEAR 4\\Final year project\\code\\PyalData\\pyaldata\\firing_rates.py:91: UserWarning: Assuming spikes are actually spikes and dividing by bin size.\n",
      "  utils.warnings.warn(\"Assuming spikes are actually spikes and dividing by bin size.\")\n"
     ]
    },
    {
     "name": "stdout",
     "output_type": "stream",
     "text": [
      "WT-M350_session4.mat\n"
     ]
    },
    {
     "name": "stderr",
     "output_type": "stream",
     "text": [
      "C:\\Users\\MARA\\Desktop\\IMPERIAL YEAR 4\\Final year project\\code\\PyalData\\pyaldata\\firing_rates.py:91: UserWarning: Assuming spikes are actually spikes and dividing by bin size.\n",
      "  utils.warnings.warn(\"Assuming spikes are actually spikes and dividing by bin size.\")\n",
      "C:\\Users\\MARA\\Desktop\\IMPERIAL YEAR 4\\Final year project\\code\\PyalData\\pyaldata\\firing_rates.py:91: UserWarning: Assuming spikes are actually spikes and dividing by bin size.\n",
      "  utils.warnings.warn(\"Assuming spikes are actually spikes and dividing by bin size.\")\n",
      "C:\\Users\\MARA\\Desktop\\IMPERIAL YEAR 4\\Final year project\\code\\PyalData\\pyaldata\\firing_rates.py:91: UserWarning: Assuming spikes are actually spikes and dividing by bin size.\n",
      "  utils.warnings.warn(\"Assuming spikes are actually spikes and dividing by bin size.\")\n"
     ]
    },
    {
     "name": "stdout",
     "output_type": "stream",
     "text": [
      "WT-M350_session5.mat\n"
     ]
    },
    {
     "name": "stderr",
     "output_type": "stream",
     "text": [
      "C:\\Users\\MARA\\Desktop\\IMPERIAL YEAR 4\\Final year project\\code\\PyalData\\pyaldata\\firing_rates.py:91: UserWarning: Assuming spikes are actually spikes and dividing by bin size.\n",
      "  utils.warnings.warn(\"Assuming spikes are actually spikes and dividing by bin size.\")\n",
      "C:\\Users\\MARA\\Desktop\\IMPERIAL YEAR 4\\Final year project\\code\\PyalData\\pyaldata\\firing_rates.py:91: UserWarning: Assuming spikes are actually spikes and dividing by bin size.\n",
      "  utils.warnings.warn(\"Assuming spikes are actually spikes and dividing by bin size.\")\n",
      "C:\\Users\\MARA\\Desktop\\IMPERIAL YEAR 4\\Final year project\\code\\PyalData\\pyaldata\\firing_rates.py:91: UserWarning: Assuming spikes are actually spikes and dividing by bin size.\n",
      "  utils.warnings.warn(\"Assuming spikes are actually spikes and dividing by bin size.\")\n"
     ]
    },
    {
     "name": "stdout",
     "output_type": "stream",
     "text": [
      "WT-M350_session6.mat\n"
     ]
    },
    {
     "name": "stderr",
     "output_type": "stream",
     "text": [
      "C:\\Users\\MARA\\Desktop\\IMPERIAL YEAR 4\\Final year project\\code\\PyalData\\pyaldata\\firing_rates.py:91: UserWarning: Assuming spikes are actually spikes and dividing by bin size.\n",
      "  utils.warnings.warn(\"Assuming spikes are actually spikes and dividing by bin size.\")\n",
      "C:\\Users\\MARA\\Desktop\\IMPERIAL YEAR 4\\Final year project\\code\\PyalData\\pyaldata\\firing_rates.py:91: UserWarning: Assuming spikes are actually spikes and dividing by bin size.\n",
      "  utils.warnings.warn(\"Assuming spikes are actually spikes and dividing by bin size.\")\n",
      "C:\\Users\\MARA\\Desktop\\IMPERIAL YEAR 4\\Final year project\\code\\PyalData\\pyaldata\\firing_rates.py:91: UserWarning: Assuming spikes are actually spikes and dividing by bin size.\n",
      "  utils.warnings.warn(\"Assuming spikes are actually spikes and dividing by bin size.\")\n"
     ]
    },
    {
     "name": "stdout",
     "output_type": "stream",
     "text": [
      "WT-M350_session7.mat\n"
     ]
    },
    {
     "name": "stderr",
     "output_type": "stream",
     "text": [
      "C:\\Users\\MARA\\Desktop\\IMPERIAL YEAR 4\\Final year project\\code\\PyalData\\pyaldata\\firing_rates.py:91: UserWarning: Assuming spikes are actually spikes and dividing by bin size.\n",
      "  utils.warnings.warn(\"Assuming spikes are actually spikes and dividing by bin size.\")\n",
      "C:\\Users\\MARA\\Desktop\\IMPERIAL YEAR 4\\Final year project\\code\\PyalData\\pyaldata\\firing_rates.py:91: UserWarning: Assuming spikes are actually spikes and dividing by bin size.\n",
      "  utils.warnings.warn(\"Assuming spikes are actually spikes and dividing by bin size.\")\n",
      "C:\\Users\\MARA\\Desktop\\IMPERIAL YEAR 4\\Final year project\\code\\PyalData\\pyaldata\\firing_rates.py:91: UserWarning: Assuming spikes are actually spikes and dividing by bin size.\n",
      "  utils.warnings.warn(\"Assuming spikes are actually spikes and dividing by bin size.\")\n"
     ]
    },
    {
     "name": "stdout",
     "output_type": "stream",
     "text": [
      "WT-M350_session8.mat\n"
     ]
    },
    {
     "name": "stderr",
     "output_type": "stream",
     "text": [
      "C:\\Users\\MARA\\Desktop\\IMPERIAL YEAR 4\\Final year project\\code\\PyalData\\pyaldata\\firing_rates.py:91: UserWarning: Assuming spikes are actually spikes and dividing by bin size.\n",
      "  utils.warnings.warn(\"Assuming spikes are actually spikes and dividing by bin size.\")\n",
      "C:\\Users\\MARA\\Desktop\\IMPERIAL YEAR 4\\Final year project\\code\\PyalData\\pyaldata\\firing_rates.py:91: UserWarning: Assuming spikes are actually spikes and dividing by bin size.\n",
      "  utils.warnings.warn(\"Assuming spikes are actually spikes and dividing by bin size.\")\n",
      "C:\\Users\\MARA\\Desktop\\IMPERIAL YEAR 4\\Final year project\\code\\PyalData\\pyaldata\\firing_rates.py:91: UserWarning: Assuming spikes are actually spikes and dividing by bin size.\n",
      "  utils.warnings.warn(\"Assuming spikes are actually spikes and dividing by bin size.\")\n"
     ]
    },
    {
     "name": "stdout",
     "output_type": "stream",
     "text": [
      "WT-M355_session1.mat\n"
     ]
    },
    {
     "name": "stderr",
     "output_type": "stream",
     "text": [
      "C:\\Users\\MARA\\Desktop\\IMPERIAL YEAR 4\\Final year project\\code\\PyalData\\pyaldata\\firing_rates.py:91: UserWarning: Assuming spikes are actually spikes and dividing by bin size.\n",
      "  utils.warnings.warn(\"Assuming spikes are actually spikes and dividing by bin size.\")\n",
      "C:\\Users\\MARA\\Desktop\\IMPERIAL YEAR 4\\Final year project\\code\\PyalData\\pyaldata\\firing_rates.py:91: UserWarning: Assuming spikes are actually spikes and dividing by bin size.\n",
      "  utils.warnings.warn(\"Assuming spikes are actually spikes and dividing by bin size.\")\n",
      "C:\\Users\\MARA\\Desktop\\IMPERIAL YEAR 4\\Final year project\\code\\PyalData\\pyaldata\\firing_rates.py:91: UserWarning: Assuming spikes are actually spikes and dividing by bin size.\n",
      "  utils.warnings.warn(\"Assuming spikes are actually spikes and dividing by bin size.\")\n"
     ]
    },
    {
     "name": "stdout",
     "output_type": "stream",
     "text": [
      "WT-M355_session10.mat\n"
     ]
    },
    {
     "name": "stderr",
     "output_type": "stream",
     "text": [
      "C:\\Users\\MARA\\Desktop\\IMPERIAL YEAR 4\\Final year project\\code\\PyalData\\pyaldata\\firing_rates.py:91: UserWarning: Assuming spikes are actually spikes and dividing by bin size.\n",
      "  utils.warnings.warn(\"Assuming spikes are actually spikes and dividing by bin size.\")\n",
      "C:\\Users\\MARA\\Desktop\\IMPERIAL YEAR 4\\Final year project\\code\\PyalData\\pyaldata\\firing_rates.py:91: UserWarning: Assuming spikes are actually spikes and dividing by bin size.\n",
      "  utils.warnings.warn(\"Assuming spikes are actually spikes and dividing by bin size.\")\n",
      "C:\\Users\\MARA\\Desktop\\IMPERIAL YEAR 4\\Final year project\\code\\PyalData\\pyaldata\\firing_rates.py:91: UserWarning: Assuming spikes are actually spikes and dividing by bin size.\n",
      "  utils.warnings.warn(\"Assuming spikes are actually spikes and dividing by bin size.\")\n",
      "C:\\Users\\MARA\\AppData\\Local\\Temp\\ipykernel_19532\\615250044.py:41: UserWarning: Dropping the trials with the following IDs because of invalid time indexing. For more information, try warn_per_trial=True\n",
      "\n",
      "        [1 4 9]\n",
      "  df = pyaldata.restrict_to_interval(df, \"idx_mo\", end_point_name=None, rel_start=-50, rel_end=50)  # consider half a second before and after movement onset\n"
     ]
    },
    {
     "name": "stdout",
     "output_type": "stream",
     "text": [
      "WT-M355_session11.mat\n"
     ]
    },
    {
     "name": "stderr",
     "output_type": "stream",
     "text": [
      "C:\\Users\\MARA\\Desktop\\IMPERIAL YEAR 4\\Final year project\\code\\PyalData\\pyaldata\\firing_rates.py:91: UserWarning: Assuming spikes are actually spikes and dividing by bin size.\n",
      "  utils.warnings.warn(\"Assuming spikes are actually spikes and dividing by bin size.\")\n",
      "C:\\Users\\MARA\\Desktop\\IMPERIAL YEAR 4\\Final year project\\code\\PyalData\\pyaldata\\firing_rates.py:91: UserWarning: Assuming spikes are actually spikes and dividing by bin size.\n",
      "  utils.warnings.warn(\"Assuming spikes are actually spikes and dividing by bin size.\")\n",
      "C:\\Users\\MARA\\Desktop\\IMPERIAL YEAR 4\\Final year project\\code\\PyalData\\pyaldata\\firing_rates.py:91: UserWarning: Assuming spikes are actually spikes and dividing by bin size.\n",
      "  utils.warnings.warn(\"Assuming spikes are actually spikes and dividing by bin size.\")\n"
     ]
    },
    {
     "name": "stdout",
     "output_type": "stream",
     "text": [
      "WT-M355_session12.mat\n"
     ]
    },
    {
     "name": "stderr",
     "output_type": "stream",
     "text": [
      "C:\\Users\\MARA\\Desktop\\IMPERIAL YEAR 4\\Final year project\\code\\PyalData\\pyaldata\\firing_rates.py:91: UserWarning: Assuming spikes are actually spikes and dividing by bin size.\n",
      "  utils.warnings.warn(\"Assuming spikes are actually spikes and dividing by bin size.\")\n",
      "C:\\Users\\MARA\\Desktop\\IMPERIAL YEAR 4\\Final year project\\code\\PyalData\\pyaldata\\firing_rates.py:91: UserWarning: Assuming spikes are actually spikes and dividing by bin size.\n",
      "  utils.warnings.warn(\"Assuming spikes are actually spikes and dividing by bin size.\")\n",
      "C:\\Users\\MARA\\Desktop\\IMPERIAL YEAR 4\\Final year project\\code\\PyalData\\pyaldata\\firing_rates.py:91: UserWarning: Assuming spikes are actually spikes and dividing by bin size.\n",
      "  utils.warnings.warn(\"Assuming spikes are actually spikes and dividing by bin size.\")\n",
      "C:\\Users\\MARA\\AppData\\Local\\Temp\\ipykernel_19532\\615250044.py:41: UserWarning: Dropping the trials with the following IDs because of invalid time indexing. For more information, try warn_per_trial=True\n",
      "\n",
      "        [3]\n",
      "  df = pyaldata.restrict_to_interval(df, \"idx_mo\", end_point_name=None, rel_start=-50, rel_end=50)  # consider half a second before and after movement onset\n"
     ]
    },
    {
     "name": "stdout",
     "output_type": "stream",
     "text": [
      "WT-M355_session13.mat\n"
     ]
    },
    {
     "name": "stderr",
     "output_type": "stream",
     "text": [
      "C:\\Users\\MARA\\Desktop\\IMPERIAL YEAR 4\\Final year project\\code\\PyalData\\pyaldata\\firing_rates.py:91: UserWarning: Assuming spikes are actually spikes and dividing by bin size.\n",
      "  utils.warnings.warn(\"Assuming spikes are actually spikes and dividing by bin size.\")\n",
      "C:\\Users\\MARA\\Desktop\\IMPERIAL YEAR 4\\Final year project\\code\\PyalData\\pyaldata\\firing_rates.py:91: UserWarning: Assuming spikes are actually spikes and dividing by bin size.\n",
      "  utils.warnings.warn(\"Assuming spikes are actually spikes and dividing by bin size.\")\n",
      "C:\\Users\\MARA\\Desktop\\IMPERIAL YEAR 4\\Final year project\\code\\PyalData\\pyaldata\\firing_rates.py:91: UserWarning: Assuming spikes are actually spikes and dividing by bin size.\n",
      "  utils.warnings.warn(\"Assuming spikes are actually spikes and dividing by bin size.\")\n",
      "C:\\Users\\MARA\\AppData\\Local\\Temp\\ipykernel_19532\\615250044.py:41: UserWarning: Dropping the trials with the following IDs because of invalid time indexing. For more information, try warn_per_trial=True\n",
      "\n",
      "        [ 7 41 44]\n",
      "  df = pyaldata.restrict_to_interval(df, \"idx_mo\", end_point_name=None, rel_start=-50, rel_end=50)  # consider half a second before and after movement onset\n"
     ]
    },
    {
     "name": "stdout",
     "output_type": "stream",
     "text": [
      "WT-M355_session14.mat\n"
     ]
    },
    {
     "name": "stderr",
     "output_type": "stream",
     "text": [
      "C:\\Users\\MARA\\Desktop\\IMPERIAL YEAR 4\\Final year project\\code\\PyalData\\pyaldata\\firing_rates.py:91: UserWarning: Assuming spikes are actually spikes and dividing by bin size.\n",
      "  utils.warnings.warn(\"Assuming spikes are actually spikes and dividing by bin size.\")\n",
      "C:\\Users\\MARA\\Desktop\\IMPERIAL YEAR 4\\Final year project\\code\\PyalData\\pyaldata\\firing_rates.py:91: UserWarning: Assuming spikes are actually spikes and dividing by bin size.\n",
      "  utils.warnings.warn(\"Assuming spikes are actually spikes and dividing by bin size.\")\n",
      "C:\\Users\\MARA\\Desktop\\IMPERIAL YEAR 4\\Final year project\\code\\PyalData\\pyaldata\\firing_rates.py:91: UserWarning: Assuming spikes are actually spikes and dividing by bin size.\n",
      "  utils.warnings.warn(\"Assuming spikes are actually spikes and dividing by bin size.\")\n",
      "C:\\Users\\MARA\\AppData\\Local\\Temp\\ipykernel_19532\\615250044.py:41: UserWarning: Dropping the trials with the following IDs because of invalid time indexing. For more information, try warn_per_trial=True\n",
      "\n",
      "        [11 12]\n",
      "  df = pyaldata.restrict_to_interval(df, \"idx_mo\", end_point_name=None, rel_start=-50, rel_end=50)  # consider half a second before and after movement onset\n"
     ]
    },
    {
     "name": "stdout",
     "output_type": "stream",
     "text": [
      "WT-M355_session15.mat\n"
     ]
    },
    {
     "name": "stderr",
     "output_type": "stream",
     "text": [
      "C:\\Users\\MARA\\Desktop\\IMPERIAL YEAR 4\\Final year project\\code\\PyalData\\pyaldata\\firing_rates.py:91: UserWarning: Assuming spikes are actually spikes and dividing by bin size.\n",
      "  utils.warnings.warn(\"Assuming spikes are actually spikes and dividing by bin size.\")\n",
      "C:\\Users\\MARA\\Desktop\\IMPERIAL YEAR 4\\Final year project\\code\\PyalData\\pyaldata\\firing_rates.py:91: UserWarning: Assuming spikes are actually spikes and dividing by bin size.\n",
      "  utils.warnings.warn(\"Assuming spikes are actually spikes and dividing by bin size.\")\n",
      "C:\\Users\\MARA\\Desktop\\IMPERIAL YEAR 4\\Final year project\\code\\PyalData\\pyaldata\\firing_rates.py:91: UserWarning: Assuming spikes are actually spikes and dividing by bin size.\n",
      "  utils.warnings.warn(\"Assuming spikes are actually spikes and dividing by bin size.\")\n",
      "C:\\Users\\MARA\\AppData\\Local\\Temp\\ipykernel_19532\\615250044.py:41: UserWarning: Dropping the trials with the following IDs because of invalid time indexing. For more information, try warn_per_trial=True\n",
      "\n",
      "        [6]\n",
      "  df = pyaldata.restrict_to_interval(df, \"idx_mo\", end_point_name=None, rel_start=-50, rel_end=50)  # consider half a second before and after movement onset\n"
     ]
    },
    {
     "name": "stdout",
     "output_type": "stream",
     "text": [
      "WT-M355_session16.mat\n"
     ]
    },
    {
     "name": "stderr",
     "output_type": "stream",
     "text": [
      "C:\\Users\\MARA\\Desktop\\IMPERIAL YEAR 4\\Final year project\\code\\PyalData\\pyaldata\\firing_rates.py:91: UserWarning: Assuming spikes are actually spikes and dividing by bin size.\n",
      "  utils.warnings.warn(\"Assuming spikes are actually spikes and dividing by bin size.\")\n",
      "C:\\Users\\MARA\\Desktop\\IMPERIAL YEAR 4\\Final year project\\code\\PyalData\\pyaldata\\firing_rates.py:91: UserWarning: Assuming spikes are actually spikes and dividing by bin size.\n",
      "  utils.warnings.warn(\"Assuming spikes are actually spikes and dividing by bin size.\")\n",
      "C:\\Users\\MARA\\Desktop\\IMPERIAL YEAR 4\\Final year project\\code\\PyalData\\pyaldata\\firing_rates.py:91: UserWarning: Assuming spikes are actually spikes and dividing by bin size.\n",
      "  utils.warnings.warn(\"Assuming spikes are actually spikes and dividing by bin size.\")\n"
     ]
    },
    {
     "name": "stdout",
     "output_type": "stream",
     "text": [
      "WT-M355_session17.mat\n"
     ]
    },
    {
     "name": "stderr",
     "output_type": "stream",
     "text": [
      "C:\\Users\\MARA\\Desktop\\IMPERIAL YEAR 4\\Final year project\\code\\PyalData\\pyaldata\\firing_rates.py:91: UserWarning: Assuming spikes are actually spikes and dividing by bin size.\n",
      "  utils.warnings.warn(\"Assuming spikes are actually spikes and dividing by bin size.\")\n",
      "C:\\Users\\MARA\\Desktop\\IMPERIAL YEAR 4\\Final year project\\code\\PyalData\\pyaldata\\firing_rates.py:91: UserWarning: Assuming spikes are actually spikes and dividing by bin size.\n",
      "  utils.warnings.warn(\"Assuming spikes are actually spikes and dividing by bin size.\")\n",
      "C:\\Users\\MARA\\Desktop\\IMPERIAL YEAR 4\\Final year project\\code\\PyalData\\pyaldata\\firing_rates.py:91: UserWarning: Assuming spikes are actually spikes and dividing by bin size.\n",
      "  utils.warnings.warn(\"Assuming spikes are actually spikes and dividing by bin size.\")\n"
     ]
    },
    {
     "name": "stdout",
     "output_type": "stream",
     "text": [
      "WT-M355_session18.mat\n"
     ]
    },
    {
     "name": "stderr",
     "output_type": "stream",
     "text": [
      "C:\\Users\\MARA\\Desktop\\IMPERIAL YEAR 4\\Final year project\\code\\PyalData\\pyaldata\\firing_rates.py:91: UserWarning: Assuming spikes are actually spikes and dividing by bin size.\n",
      "  utils.warnings.warn(\"Assuming spikes are actually spikes and dividing by bin size.\")\n",
      "C:\\Users\\MARA\\Desktop\\IMPERIAL YEAR 4\\Final year project\\code\\PyalData\\pyaldata\\firing_rates.py:91: UserWarning: Assuming spikes are actually spikes and dividing by bin size.\n",
      "  utils.warnings.warn(\"Assuming spikes are actually spikes and dividing by bin size.\")\n",
      "C:\\Users\\MARA\\Desktop\\IMPERIAL YEAR 4\\Final year project\\code\\PyalData\\pyaldata\\firing_rates.py:91: UserWarning: Assuming spikes are actually spikes and dividing by bin size.\n",
      "  utils.warnings.warn(\"Assuming spikes are actually spikes and dividing by bin size.\")\n",
      "C:\\Users\\MARA\\AppData\\Local\\Temp\\ipykernel_19532\\615250044.py:41: UserWarning: Dropping the trials with the following IDs because of invalid time indexing. For more information, try warn_per_trial=True\n",
      "\n",
      "        [13 17 23 30 33]\n",
      "  df = pyaldata.restrict_to_interval(df, \"idx_mo\", end_point_name=None, rel_start=-50, rel_end=50)  # consider half a second before and after movement onset\n"
     ]
    },
    {
     "name": "stdout",
     "output_type": "stream",
     "text": [
      "WT-M355_session19.mat\n"
     ]
    },
    {
     "name": "stderr",
     "output_type": "stream",
     "text": [
      "C:\\Users\\MARA\\Desktop\\IMPERIAL YEAR 4\\Final year project\\code\\PyalData\\pyaldata\\firing_rates.py:91: UserWarning: Assuming spikes are actually spikes and dividing by bin size.\n",
      "  utils.warnings.warn(\"Assuming spikes are actually spikes and dividing by bin size.\")\n",
      "C:\\Users\\MARA\\Desktop\\IMPERIAL YEAR 4\\Final year project\\code\\PyalData\\pyaldata\\firing_rates.py:91: UserWarning: Assuming spikes are actually spikes and dividing by bin size.\n",
      "  utils.warnings.warn(\"Assuming spikes are actually spikes and dividing by bin size.\")\n",
      "C:\\Users\\MARA\\Desktop\\IMPERIAL YEAR 4\\Final year project\\code\\PyalData\\pyaldata\\firing_rates.py:91: UserWarning: Assuming spikes are actually spikes and dividing by bin size.\n",
      "  utils.warnings.warn(\"Assuming spikes are actually spikes and dividing by bin size.\")\n",
      "C:\\Users\\MARA\\AppData\\Local\\Temp\\ipykernel_19532\\615250044.py:41: UserWarning: Dropping the trials with the following IDs because of invalid time indexing. For more information, try warn_per_trial=True\n",
      "\n",
      "        [4]\n",
      "  df = pyaldata.restrict_to_interval(df, \"idx_mo\", end_point_name=None, rel_start=-50, rel_end=50)  # consider half a second before and after movement onset\n"
     ]
    },
    {
     "name": "stdout",
     "output_type": "stream",
     "text": [
      "WT-M355_session2.mat\n"
     ]
    },
    {
     "name": "stderr",
     "output_type": "stream",
     "text": [
      "C:\\Users\\MARA\\Desktop\\IMPERIAL YEAR 4\\Final year project\\code\\PyalData\\pyaldata\\firing_rates.py:91: UserWarning: Assuming spikes are actually spikes and dividing by bin size.\n",
      "  utils.warnings.warn(\"Assuming spikes are actually spikes and dividing by bin size.\")\n",
      "C:\\Users\\MARA\\Desktop\\IMPERIAL YEAR 4\\Final year project\\code\\PyalData\\pyaldata\\firing_rates.py:91: UserWarning: Assuming spikes are actually spikes and dividing by bin size.\n",
      "  utils.warnings.warn(\"Assuming spikes are actually spikes and dividing by bin size.\")\n",
      "C:\\Users\\MARA\\Desktop\\IMPERIAL YEAR 4\\Final year project\\code\\PyalData\\pyaldata\\firing_rates.py:91: UserWarning: Assuming spikes are actually spikes and dividing by bin size.\n",
      "  utils.warnings.warn(\"Assuming spikes are actually spikes and dividing by bin size.\")\n"
     ]
    },
    {
     "name": "stdout",
     "output_type": "stream",
     "text": [
      "WT-M355_session20.mat\n"
     ]
    },
    {
     "name": "stderr",
     "output_type": "stream",
     "text": [
      "C:\\Users\\MARA\\Desktop\\IMPERIAL YEAR 4\\Final year project\\code\\PyalData\\pyaldata\\firing_rates.py:91: UserWarning: Assuming spikes are actually spikes and dividing by bin size.\n",
      "  utils.warnings.warn(\"Assuming spikes are actually spikes and dividing by bin size.\")\n",
      "C:\\Users\\MARA\\Desktop\\IMPERIAL YEAR 4\\Final year project\\code\\PyalData\\pyaldata\\firing_rates.py:91: UserWarning: Assuming spikes are actually spikes and dividing by bin size.\n",
      "  utils.warnings.warn(\"Assuming spikes are actually spikes and dividing by bin size.\")\n",
      "C:\\Users\\MARA\\Desktop\\IMPERIAL YEAR 4\\Final year project\\code\\PyalData\\pyaldata\\firing_rates.py:91: UserWarning: Assuming spikes are actually spikes and dividing by bin size.\n",
      "  utils.warnings.warn(\"Assuming spikes are actually spikes and dividing by bin size.\")\n"
     ]
    },
    {
     "name": "stdout",
     "output_type": "stream",
     "text": [
      "WT-M355_session21.mat\n"
     ]
    },
    {
     "name": "stderr",
     "output_type": "stream",
     "text": [
      "C:\\Users\\MARA\\Desktop\\IMPERIAL YEAR 4\\Final year project\\code\\PyalData\\pyaldata\\firing_rates.py:91: UserWarning: Assuming spikes are actually spikes and dividing by bin size.\n",
      "  utils.warnings.warn(\"Assuming spikes are actually spikes and dividing by bin size.\")\n",
      "C:\\Users\\MARA\\Desktop\\IMPERIAL YEAR 4\\Final year project\\code\\PyalData\\pyaldata\\firing_rates.py:91: UserWarning: Assuming spikes are actually spikes and dividing by bin size.\n",
      "  utils.warnings.warn(\"Assuming spikes are actually spikes and dividing by bin size.\")\n",
      "C:\\Users\\MARA\\Desktop\\IMPERIAL YEAR 4\\Final year project\\code\\PyalData\\pyaldata\\firing_rates.py:91: UserWarning: Assuming spikes are actually spikes and dividing by bin size.\n",
      "  utils.warnings.warn(\"Assuming spikes are actually spikes and dividing by bin size.\")\n"
     ]
    },
    {
     "name": "stdout",
     "output_type": "stream",
     "text": [
      "WT-M355_session23.mat\n"
     ]
    },
    {
     "name": "stderr",
     "output_type": "stream",
     "text": [
      "C:\\Users\\MARA\\Desktop\\IMPERIAL YEAR 4\\Final year project\\code\\PyalData\\pyaldata\\firing_rates.py:91: UserWarning: Assuming spikes are actually spikes and dividing by bin size.\n",
      "  utils.warnings.warn(\"Assuming spikes are actually spikes and dividing by bin size.\")\n",
      "C:\\Users\\MARA\\Desktop\\IMPERIAL YEAR 4\\Final year project\\code\\PyalData\\pyaldata\\firing_rates.py:91: UserWarning: Assuming spikes are actually spikes and dividing by bin size.\n",
      "  utils.warnings.warn(\"Assuming spikes are actually spikes and dividing by bin size.\")\n",
      "C:\\Users\\MARA\\Desktop\\IMPERIAL YEAR 4\\Final year project\\code\\PyalData\\pyaldata\\firing_rates.py:91: UserWarning: Assuming spikes are actually spikes and dividing by bin size.\n",
      "  utils.warnings.warn(\"Assuming spikes are actually spikes and dividing by bin size.\")\n"
     ]
    },
    {
     "name": "stdout",
     "output_type": "stream",
     "text": [
      "WT-M355_session3.mat\n"
     ]
    },
    {
     "name": "stderr",
     "output_type": "stream",
     "text": [
      "C:\\Users\\MARA\\Desktop\\IMPERIAL YEAR 4\\Final year project\\code\\PyalData\\pyaldata\\firing_rates.py:91: UserWarning: Assuming spikes are actually spikes and dividing by bin size.\n",
      "  utils.warnings.warn(\"Assuming spikes are actually spikes and dividing by bin size.\")\n",
      "C:\\Users\\MARA\\Desktop\\IMPERIAL YEAR 4\\Final year project\\code\\PyalData\\pyaldata\\firing_rates.py:91: UserWarning: Assuming spikes are actually spikes and dividing by bin size.\n",
      "  utils.warnings.warn(\"Assuming spikes are actually spikes and dividing by bin size.\")\n",
      "C:\\Users\\MARA\\Desktop\\IMPERIAL YEAR 4\\Final year project\\code\\PyalData\\pyaldata\\firing_rates.py:91: UserWarning: Assuming spikes are actually spikes and dividing by bin size.\n",
      "  utils.warnings.warn(\"Assuming spikes are actually spikes and dividing by bin size.\")\n"
     ]
    },
    {
     "name": "stdout",
     "output_type": "stream",
     "text": [
      "WT-M355_session4.mat\n"
     ]
    },
    {
     "name": "stderr",
     "output_type": "stream",
     "text": [
      "C:\\Users\\MARA\\Desktop\\IMPERIAL YEAR 4\\Final year project\\code\\PyalData\\pyaldata\\firing_rates.py:91: UserWarning: Assuming spikes are actually spikes and dividing by bin size.\n",
      "  utils.warnings.warn(\"Assuming spikes are actually spikes and dividing by bin size.\")\n",
      "C:\\Users\\MARA\\Desktop\\IMPERIAL YEAR 4\\Final year project\\code\\PyalData\\pyaldata\\firing_rates.py:91: UserWarning: Assuming spikes are actually spikes and dividing by bin size.\n",
      "  utils.warnings.warn(\"Assuming spikes are actually spikes and dividing by bin size.\")\n",
      "C:\\Users\\MARA\\Desktop\\IMPERIAL YEAR 4\\Final year project\\code\\PyalData\\pyaldata\\firing_rates.py:91: UserWarning: Assuming spikes are actually spikes and dividing by bin size.\n",
      "  utils.warnings.warn(\"Assuming spikes are actually spikes and dividing by bin size.\")\n",
      "C:\\Users\\MARA\\AppData\\Local\\Temp\\ipykernel_19532\\615250044.py:41: UserWarning: Dropping the trials with the following IDs because of invalid time indexing. For more information, try warn_per_trial=True\n",
      "\n",
      "        [31]\n",
      "  df = pyaldata.restrict_to_interval(df, \"idx_mo\", end_point_name=None, rel_start=-50, rel_end=50)  # consider half a second before and after movement onset\n"
     ]
    },
    {
     "name": "stdout",
     "output_type": "stream",
     "text": [
      "WT-M355_session5.mat\n"
     ]
    },
    {
     "name": "stderr",
     "output_type": "stream",
     "text": [
      "C:\\Users\\MARA\\Desktop\\IMPERIAL YEAR 4\\Final year project\\code\\PyalData\\pyaldata\\firing_rates.py:91: UserWarning: Assuming spikes are actually spikes and dividing by bin size.\n",
      "  utils.warnings.warn(\"Assuming spikes are actually spikes and dividing by bin size.\")\n",
      "C:\\Users\\MARA\\Desktop\\IMPERIAL YEAR 4\\Final year project\\code\\PyalData\\pyaldata\\firing_rates.py:91: UserWarning: Assuming spikes are actually spikes and dividing by bin size.\n",
      "  utils.warnings.warn(\"Assuming spikes are actually spikes and dividing by bin size.\")\n",
      "C:\\Users\\MARA\\Desktop\\IMPERIAL YEAR 4\\Final year project\\code\\PyalData\\pyaldata\\firing_rates.py:91: UserWarning: Assuming spikes are actually spikes and dividing by bin size.\n",
      "  utils.warnings.warn(\"Assuming spikes are actually spikes and dividing by bin size.\")\n",
      "C:\\Users\\MARA\\AppData\\Local\\Temp\\ipykernel_19532\\615250044.py:41: UserWarning: Dropping the trials with the following IDs because of invalid time indexing. For more information, try warn_per_trial=True\n",
      "\n",
      "        [35]\n",
      "  df = pyaldata.restrict_to_interval(df, \"idx_mo\", end_point_name=None, rel_start=-50, rel_end=50)  # consider half a second before and after movement onset\n"
     ]
    },
    {
     "name": "stdout",
     "output_type": "stream",
     "text": [
      "WT-M355_session6.mat\n"
     ]
    },
    {
     "name": "stderr",
     "output_type": "stream",
     "text": [
      "C:\\Users\\MARA\\Desktop\\IMPERIAL YEAR 4\\Final year project\\code\\PyalData\\pyaldata\\firing_rates.py:91: UserWarning: Assuming spikes are actually spikes and dividing by bin size.\n",
      "  utils.warnings.warn(\"Assuming spikes are actually spikes and dividing by bin size.\")\n",
      "C:\\Users\\MARA\\Desktop\\IMPERIAL YEAR 4\\Final year project\\code\\PyalData\\pyaldata\\firing_rates.py:91: UserWarning: Assuming spikes are actually spikes and dividing by bin size.\n",
      "  utils.warnings.warn(\"Assuming spikes are actually spikes and dividing by bin size.\")\n",
      "C:\\Users\\MARA\\Desktop\\IMPERIAL YEAR 4\\Final year project\\code\\PyalData\\pyaldata\\firing_rates.py:91: UserWarning: Assuming spikes are actually spikes and dividing by bin size.\n",
      "  utils.warnings.warn(\"Assuming spikes are actually spikes and dividing by bin size.\")\n",
      "C:\\Users\\MARA\\AppData\\Local\\Temp\\ipykernel_19532\\615250044.py:41: UserWarning: Dropping the trials with the following IDs because of invalid time indexing. For more information, try warn_per_trial=True\n",
      "\n",
      "        [10 18 22 25 26]\n",
      "  df = pyaldata.restrict_to_interval(df, \"idx_mo\", end_point_name=None, rel_start=-50, rel_end=50)  # consider half a second before and after movement onset\n"
     ]
    },
    {
     "name": "stdout",
     "output_type": "stream",
     "text": [
      "WT-M355_session7.mat\n"
     ]
    },
    {
     "name": "stderr",
     "output_type": "stream",
     "text": [
      "C:\\Users\\MARA\\Desktop\\IMPERIAL YEAR 4\\Final year project\\code\\PyalData\\pyaldata\\firing_rates.py:91: UserWarning: Assuming spikes are actually spikes and dividing by bin size.\n",
      "  utils.warnings.warn(\"Assuming spikes are actually spikes and dividing by bin size.\")\n",
      "C:\\Users\\MARA\\Desktop\\IMPERIAL YEAR 4\\Final year project\\code\\PyalData\\pyaldata\\firing_rates.py:91: UserWarning: Assuming spikes are actually spikes and dividing by bin size.\n",
      "  utils.warnings.warn(\"Assuming spikes are actually spikes and dividing by bin size.\")\n",
      "C:\\Users\\MARA\\Desktop\\IMPERIAL YEAR 4\\Final year project\\code\\PyalData\\pyaldata\\firing_rates.py:91: UserWarning: Assuming spikes are actually spikes and dividing by bin size.\n",
      "  utils.warnings.warn(\"Assuming spikes are actually spikes and dividing by bin size.\")\n",
      "C:\\Users\\MARA\\AppData\\Local\\Temp\\ipykernel_19532\\615250044.py:41: UserWarning: Dropping the trials with the following IDs because of invalid time indexing. For more information, try warn_per_trial=True\n",
      "\n",
      "        [16]\n",
      "  df = pyaldata.restrict_to_interval(df, \"idx_mo\", end_point_name=None, rel_start=-50, rel_end=50)  # consider half a second before and after movement onset\n"
     ]
    },
    {
     "name": "stdout",
     "output_type": "stream",
     "text": [
      "WT-M355_session8.mat\n"
     ]
    },
    {
     "name": "stderr",
     "output_type": "stream",
     "text": [
      "C:\\Users\\MARA\\Desktop\\IMPERIAL YEAR 4\\Final year project\\code\\PyalData\\pyaldata\\firing_rates.py:91: UserWarning: Assuming spikes are actually spikes and dividing by bin size.\n",
      "  utils.warnings.warn(\"Assuming spikes are actually spikes and dividing by bin size.\")\n",
      "C:\\Users\\MARA\\Desktop\\IMPERIAL YEAR 4\\Final year project\\code\\PyalData\\pyaldata\\firing_rates.py:91: UserWarning: Assuming spikes are actually spikes and dividing by bin size.\n",
      "  utils.warnings.warn(\"Assuming spikes are actually spikes and dividing by bin size.\")\n",
      "C:\\Users\\MARA\\Desktop\\IMPERIAL YEAR 4\\Final year project\\code\\PyalData\\pyaldata\\firing_rates.py:91: UserWarning: Assuming spikes are actually spikes and dividing by bin size.\n",
      "  utils.warnings.warn(\"Assuming spikes are actually spikes and dividing by bin size.\")\n"
     ]
    },
    {
     "name": "stdout",
     "output_type": "stream",
     "text": [
      "WT-M355_session9.mat\n"
     ]
    },
    {
     "name": "stderr",
     "output_type": "stream",
     "text": [
      "C:\\Users\\MARA\\Desktop\\IMPERIAL YEAR 4\\Final year project\\code\\PyalData\\pyaldata\\firing_rates.py:91: UserWarning: Assuming spikes are actually spikes and dividing by bin size.\n",
      "  utils.warnings.warn(\"Assuming spikes are actually spikes and dividing by bin size.\")\n",
      "C:\\Users\\MARA\\Desktop\\IMPERIAL YEAR 4\\Final year project\\code\\PyalData\\pyaldata\\firing_rates.py:91: UserWarning: Assuming spikes are actually spikes and dividing by bin size.\n",
      "  utils.warnings.warn(\"Assuming spikes are actually spikes and dividing by bin size.\")\n",
      "C:\\Users\\MARA\\Desktop\\IMPERIAL YEAR 4\\Final year project\\code\\PyalData\\pyaldata\\firing_rates.py:91: UserWarning: Assuming spikes are actually spikes and dividing by bin size.\n",
      "  utils.warnings.warn(\"Assuming spikes are actually spikes and dividing by bin size.\")\n",
      "C:\\Users\\MARA\\AppData\\Local\\Temp\\ipykernel_19532\\615250044.py:41: UserWarning: Dropping the trials with the following IDs because of invalid time indexing. For more information, try warn_per_trial=True\n",
      "\n",
      "        [1]\n",
      "  df = pyaldata.restrict_to_interval(df, \"idx_mo\", end_point_name=None, rel_start=-50, rel_end=50)  # consider half a second before and after movement onset\n"
     ]
    },
    {
     "name": "stdout",
     "output_type": "stream",
     "text": [
      "AS-M351_session1.mat\n"
     ]
    },
    {
     "name": "stderr",
     "output_type": "stream",
     "text": [
      "C:\\Users\\MARA\\Desktop\\IMPERIAL YEAR 4\\Final year project\\code\\PyalData\\pyaldata\\firing_rates.py:91: UserWarning: Assuming spikes are actually spikes and dividing by bin size.\n",
      "  utils.warnings.warn(\"Assuming spikes are actually spikes and dividing by bin size.\")\n",
      "C:\\Users\\MARA\\Desktop\\IMPERIAL YEAR 4\\Final year project\\code\\PyalData\\pyaldata\\firing_rates.py:91: UserWarning: Assuming spikes are actually spikes and dividing by bin size.\n",
      "  utils.warnings.warn(\"Assuming spikes are actually spikes and dividing by bin size.\")\n",
      "C:\\Users\\MARA\\Desktop\\IMPERIAL YEAR 4\\Final year project\\code\\PyalData\\pyaldata\\firing_rates.py:91: UserWarning: Assuming spikes are actually spikes and dividing by bin size.\n",
      "  utils.warnings.warn(\"Assuming spikes are actually spikes and dividing by bin size.\")\n"
     ]
    },
    {
     "name": "stdout",
     "output_type": "stream",
     "text": [
      "AS-M351_session2.mat\n"
     ]
    },
    {
     "name": "stderr",
     "output_type": "stream",
     "text": [
      "C:\\Users\\MARA\\Desktop\\IMPERIAL YEAR 4\\Final year project\\code\\PyalData\\pyaldata\\firing_rates.py:91: UserWarning: Assuming spikes are actually spikes and dividing by bin size.\n",
      "  utils.warnings.warn(\"Assuming spikes are actually spikes and dividing by bin size.\")\n",
      "C:\\Users\\MARA\\Desktop\\IMPERIAL YEAR 4\\Final year project\\code\\PyalData\\pyaldata\\firing_rates.py:91: UserWarning: Assuming spikes are actually spikes and dividing by bin size.\n",
      "  utils.warnings.warn(\"Assuming spikes are actually spikes and dividing by bin size.\")\n",
      "C:\\Users\\MARA\\Desktop\\IMPERIAL YEAR 4\\Final year project\\code\\PyalData\\pyaldata\\firing_rates.py:91: UserWarning: Assuming spikes are actually spikes and dividing by bin size.\n",
      "  utils.warnings.warn(\"Assuming spikes are actually spikes and dividing by bin size.\")\n"
     ]
    },
    {
     "name": "stdout",
     "output_type": "stream",
     "text": [
      "AS-M351_session3.mat\n"
     ]
    },
    {
     "name": "stderr",
     "output_type": "stream",
     "text": [
      "C:\\Users\\MARA\\Desktop\\IMPERIAL YEAR 4\\Final year project\\code\\PyalData\\pyaldata\\firing_rates.py:91: UserWarning: Assuming spikes are actually spikes and dividing by bin size.\n",
      "  utils.warnings.warn(\"Assuming spikes are actually spikes and dividing by bin size.\")\n",
      "C:\\Users\\MARA\\Desktop\\IMPERIAL YEAR 4\\Final year project\\code\\PyalData\\pyaldata\\firing_rates.py:91: UserWarning: Assuming spikes are actually spikes and dividing by bin size.\n",
      "  utils.warnings.warn(\"Assuming spikes are actually spikes and dividing by bin size.\")\n",
      "C:\\Users\\MARA\\Desktop\\IMPERIAL YEAR 4\\Final year project\\code\\PyalData\\pyaldata\\firing_rates.py:91: UserWarning: Assuming spikes are actually spikes and dividing by bin size.\n",
      "  utils.warnings.warn(\"Assuming spikes are actually spikes and dividing by bin size.\")\n"
     ]
    },
    {
     "name": "stdout",
     "output_type": "stream",
     "text": [
      "AS-M351_session4.mat\n"
     ]
    },
    {
     "name": "stderr",
     "output_type": "stream",
     "text": [
      "C:\\Users\\MARA\\Desktop\\IMPERIAL YEAR 4\\Final year project\\code\\PyalData\\pyaldata\\firing_rates.py:91: UserWarning: Assuming spikes are actually spikes and dividing by bin size.\n",
      "  utils.warnings.warn(\"Assuming spikes are actually spikes and dividing by bin size.\")\n",
      "C:\\Users\\MARA\\Desktop\\IMPERIAL YEAR 4\\Final year project\\code\\PyalData\\pyaldata\\firing_rates.py:91: UserWarning: Assuming spikes are actually spikes and dividing by bin size.\n",
      "  utils.warnings.warn(\"Assuming spikes are actually spikes and dividing by bin size.\")\n",
      "C:\\Users\\MARA\\Desktop\\IMPERIAL YEAR 4\\Final year project\\code\\PyalData\\pyaldata\\firing_rates.py:91: UserWarning: Assuming spikes are actually spikes and dividing by bin size.\n",
      "  utils.warnings.warn(\"Assuming spikes are actually spikes and dividing by bin size.\")\n",
      "C:\\Users\\MARA\\AppData\\Local\\Temp\\ipykernel_19532\\615250044.py:41: UserWarning: Dropping the trials with the following IDs because of invalid time indexing. For more information, try warn_per_trial=True\n",
      "\n",
      "        [10]\n",
      "  df = pyaldata.restrict_to_interval(df, \"idx_mo\", end_point_name=None, rel_start=-50, rel_end=50)  # consider half a second before and after movement onset\n"
     ]
    },
    {
     "name": "stdout",
     "output_type": "stream",
     "text": [
      "AS-M351_session5.mat\n"
     ]
    },
    {
     "name": "stderr",
     "output_type": "stream",
     "text": [
      "C:\\Users\\MARA\\Desktop\\IMPERIAL YEAR 4\\Final year project\\code\\PyalData\\pyaldata\\firing_rates.py:91: UserWarning: Assuming spikes are actually spikes and dividing by bin size.\n",
      "  utils.warnings.warn(\"Assuming spikes are actually spikes and dividing by bin size.\")\n",
      "C:\\Users\\MARA\\Desktop\\IMPERIAL YEAR 4\\Final year project\\code\\PyalData\\pyaldata\\firing_rates.py:91: UserWarning: Assuming spikes are actually spikes and dividing by bin size.\n",
      "  utils.warnings.warn(\"Assuming spikes are actually spikes and dividing by bin size.\")\n",
      "C:\\Users\\MARA\\Desktop\\IMPERIAL YEAR 4\\Final year project\\code\\PyalData\\pyaldata\\firing_rates.py:91: UserWarning: Assuming spikes are actually spikes and dividing by bin size.\n",
      "  utils.warnings.warn(\"Assuming spikes are actually spikes and dividing by bin size.\")\n",
      "C:\\Users\\MARA\\AppData\\Local\\Temp\\ipykernel_19532\\615250044.py:41: UserWarning: Dropping the trials with the following IDs because of invalid time indexing. For more information, try warn_per_trial=True\n",
      "\n",
      "        [3]\n",
      "  df = pyaldata.restrict_to_interval(df, \"idx_mo\", end_point_name=None, rel_start=-50, rel_end=50)  # consider half a second before and after movement onset\n"
     ]
    },
    {
     "name": "stdout",
     "output_type": "stream",
     "text": [
      "AS-M351_session6.mat\n"
     ]
    },
    {
     "name": "stderr",
     "output_type": "stream",
     "text": [
      "C:\\Users\\MARA\\Desktop\\IMPERIAL YEAR 4\\Final year project\\code\\PyalData\\pyaldata\\firing_rates.py:91: UserWarning: Assuming spikes are actually spikes and dividing by bin size.\n",
      "  utils.warnings.warn(\"Assuming spikes are actually spikes and dividing by bin size.\")\n",
      "C:\\Users\\MARA\\Desktop\\IMPERIAL YEAR 4\\Final year project\\code\\PyalData\\pyaldata\\firing_rates.py:91: UserWarning: Assuming spikes are actually spikes and dividing by bin size.\n",
      "  utils.warnings.warn(\"Assuming spikes are actually spikes and dividing by bin size.\")\n",
      "C:\\Users\\MARA\\Desktop\\IMPERIAL YEAR 4\\Final year project\\code\\PyalData\\pyaldata\\firing_rates.py:91: UserWarning: Assuming spikes are actually spikes and dividing by bin size.\n",
      "  utils.warnings.warn(\"Assuming spikes are actually spikes and dividing by bin size.\")\n"
     ]
    },
    {
     "name": "stdout",
     "output_type": "stream",
     "text": [
      "AS-M351_session7.mat\n"
     ]
    },
    {
     "name": "stderr",
     "output_type": "stream",
     "text": [
      "C:\\Users\\MARA\\Desktop\\IMPERIAL YEAR 4\\Final year project\\code\\PyalData\\pyaldata\\firing_rates.py:91: UserWarning: Assuming spikes are actually spikes and dividing by bin size.\n",
      "  utils.warnings.warn(\"Assuming spikes are actually spikes and dividing by bin size.\")\n",
      "C:\\Users\\MARA\\Desktop\\IMPERIAL YEAR 4\\Final year project\\code\\PyalData\\pyaldata\\firing_rates.py:91: UserWarning: Assuming spikes are actually spikes and dividing by bin size.\n",
      "  utils.warnings.warn(\"Assuming spikes are actually spikes and dividing by bin size.\")\n",
      "C:\\Users\\MARA\\Desktop\\IMPERIAL YEAR 4\\Final year project\\code\\PyalData\\pyaldata\\firing_rates.py:91: UserWarning: Assuming spikes are actually spikes and dividing by bin size.\n",
      "  utils.warnings.warn(\"Assuming spikes are actually spikes and dividing by bin size.\")\n"
     ]
    },
    {
     "name": "stdout",
     "output_type": "stream",
     "text": [
      "AS-M351_session8.mat\n"
     ]
    },
    {
     "name": "stderr",
     "output_type": "stream",
     "text": [
      "C:\\Users\\MARA\\Desktop\\IMPERIAL YEAR 4\\Final year project\\code\\PyalData\\pyaldata\\firing_rates.py:91: UserWarning: Assuming spikes are actually spikes and dividing by bin size.\n",
      "  utils.warnings.warn(\"Assuming spikes are actually spikes and dividing by bin size.\")\n",
      "C:\\Users\\MARA\\Desktop\\IMPERIAL YEAR 4\\Final year project\\code\\PyalData\\pyaldata\\firing_rates.py:91: UserWarning: Assuming spikes are actually spikes and dividing by bin size.\n",
      "  utils.warnings.warn(\"Assuming spikes are actually spikes and dividing by bin size.\")\n",
      "C:\\Users\\MARA\\Desktop\\IMPERIAL YEAR 4\\Final year project\\code\\PyalData\\pyaldata\\firing_rates.py:91: UserWarning: Assuming spikes are actually spikes and dividing by bin size.\n",
      "  utils.warnings.warn(\"Assuming spikes are actually spikes and dividing by bin size.\")\n",
      "C:\\Users\\MARA\\AppData\\Local\\Temp\\ipykernel_19532\\615250044.py:41: UserWarning: Dropping the trials with the following IDs because of invalid time indexing. For more information, try warn_per_trial=True\n",
      "\n",
      "        [1]\n",
      "  df = pyaldata.restrict_to_interval(df, \"idx_mo\", end_point_name=None, rel_start=-50, rel_end=50)  # consider half a second before and after movement onset\n"
     ]
    },
    {
     "name": "stdout",
     "output_type": "stream",
     "text": [
      "AS-M354_session1.mat\n"
     ]
    },
    {
     "name": "stderr",
     "output_type": "stream",
     "text": [
      "C:\\Users\\MARA\\Desktop\\IMPERIAL YEAR 4\\Final year project\\code\\PyalData\\pyaldata\\firing_rates.py:91: UserWarning: Assuming spikes are actually spikes and dividing by bin size.\n",
      "  utils.warnings.warn(\"Assuming spikes are actually spikes and dividing by bin size.\")\n",
      "C:\\Users\\MARA\\Desktop\\IMPERIAL YEAR 4\\Final year project\\code\\PyalData\\pyaldata\\firing_rates.py:91: UserWarning: Assuming spikes are actually spikes and dividing by bin size.\n",
      "  utils.warnings.warn(\"Assuming spikes are actually spikes and dividing by bin size.\")\n",
      "C:\\Users\\MARA\\Desktop\\IMPERIAL YEAR 4\\Final year project\\code\\PyalData\\pyaldata\\firing_rates.py:91: UserWarning: Assuming spikes are actually spikes and dividing by bin size.\n",
      "  utils.warnings.warn(\"Assuming spikes are actually spikes and dividing by bin size.\")\n"
     ]
    },
    {
     "name": "stdout",
     "output_type": "stream",
     "text": [
      "AS-M354_session2.mat\n"
     ]
    },
    {
     "name": "stderr",
     "output_type": "stream",
     "text": [
      "C:\\Users\\MARA\\Desktop\\IMPERIAL YEAR 4\\Final year project\\code\\PyalData\\pyaldata\\firing_rates.py:91: UserWarning: Assuming spikes are actually spikes and dividing by bin size.\n",
      "  utils.warnings.warn(\"Assuming spikes are actually spikes and dividing by bin size.\")\n",
      "C:\\Users\\MARA\\Desktop\\IMPERIAL YEAR 4\\Final year project\\code\\PyalData\\pyaldata\\firing_rates.py:91: UserWarning: Assuming spikes are actually spikes and dividing by bin size.\n",
      "  utils.warnings.warn(\"Assuming spikes are actually spikes and dividing by bin size.\")\n",
      "C:\\Users\\MARA\\Desktop\\IMPERIAL YEAR 4\\Final year project\\code\\PyalData\\pyaldata\\firing_rates.py:91: UserWarning: Assuming spikes are actually spikes and dividing by bin size.\n",
      "  utils.warnings.warn(\"Assuming spikes are actually spikes and dividing by bin size.\")\n"
     ]
    },
    {
     "name": "stdout",
     "output_type": "stream",
     "text": [
      "AS-M354_session3.mat\n",
      "AS-M354_session4.mat\n"
     ]
    },
    {
     "name": "stderr",
     "output_type": "stream",
     "text": [
      "C:\\Users\\MARA\\Desktop\\IMPERIAL YEAR 4\\Final year project\\code\\PyalData\\pyaldata\\firing_rates.py:91: UserWarning: Assuming spikes are actually spikes and dividing by bin size.\n",
      "  utils.warnings.warn(\"Assuming spikes are actually spikes and dividing by bin size.\")\n",
      "C:\\Users\\MARA\\Desktop\\IMPERIAL YEAR 4\\Final year project\\code\\PyalData\\pyaldata\\firing_rates.py:91: UserWarning: Assuming spikes are actually spikes and dividing by bin size.\n",
      "  utils.warnings.warn(\"Assuming spikes are actually spikes and dividing by bin size.\")\n",
      "C:\\Users\\MARA\\Desktop\\IMPERIAL YEAR 4\\Final year project\\code\\PyalData\\pyaldata\\firing_rates.py:91: UserWarning: Assuming spikes are actually spikes and dividing by bin size.\n",
      "  utils.warnings.warn(\"Assuming spikes are actually spikes and dividing by bin size.\")\n"
     ]
    },
    {
     "name": "stdout",
     "output_type": "stream",
     "text": [
      "AS-M354_session5.mat\n"
     ]
    },
    {
     "name": "stderr",
     "output_type": "stream",
     "text": [
      "C:\\Users\\MARA\\Desktop\\IMPERIAL YEAR 4\\Final year project\\code\\PyalData\\pyaldata\\firing_rates.py:91: UserWarning: Assuming spikes are actually spikes and dividing by bin size.\n",
      "  utils.warnings.warn(\"Assuming spikes are actually spikes and dividing by bin size.\")\n",
      "C:\\Users\\MARA\\Desktop\\IMPERIAL YEAR 4\\Final year project\\code\\PyalData\\pyaldata\\firing_rates.py:91: UserWarning: Assuming spikes are actually spikes and dividing by bin size.\n",
      "  utils.warnings.warn(\"Assuming spikes are actually spikes and dividing by bin size.\")\n",
      "C:\\Users\\MARA\\Desktop\\IMPERIAL YEAR 4\\Final year project\\code\\PyalData\\pyaldata\\firing_rates.py:91: UserWarning: Assuming spikes are actually spikes and dividing by bin size.\n",
      "  utils.warnings.warn(\"Assuming spikes are actually spikes and dividing by bin size.\")\n"
     ]
    },
    {
     "name": "stdout",
     "output_type": "stream",
     "text": [
      "AS-M354_session6.mat\n"
     ]
    },
    {
     "name": "stderr",
     "output_type": "stream",
     "text": [
      "C:\\Users\\MARA\\Desktop\\IMPERIAL YEAR 4\\Final year project\\code\\PyalData\\pyaldata\\firing_rates.py:91: UserWarning: Assuming spikes are actually spikes and dividing by bin size.\n",
      "  utils.warnings.warn(\"Assuming spikes are actually spikes and dividing by bin size.\")\n",
      "C:\\Users\\MARA\\Desktop\\IMPERIAL YEAR 4\\Final year project\\code\\PyalData\\pyaldata\\firing_rates.py:91: UserWarning: Assuming spikes are actually spikes and dividing by bin size.\n",
      "  utils.warnings.warn(\"Assuming spikes are actually spikes and dividing by bin size.\")\n",
      "C:\\Users\\MARA\\Desktop\\IMPERIAL YEAR 4\\Final year project\\code\\PyalData\\pyaldata\\firing_rates.py:91: UserWarning: Assuming spikes are actually spikes and dividing by bin size.\n",
      "  utils.warnings.warn(\"Assuming spikes are actually spikes and dividing by bin size.\")\n"
     ]
    },
    {
     "name": "stdout",
     "output_type": "stream",
     "text": [
      "AS-M354_session7.mat\n"
     ]
    },
    {
     "name": "stderr",
     "output_type": "stream",
     "text": [
      "C:\\Users\\MARA\\Desktop\\IMPERIAL YEAR 4\\Final year project\\code\\PyalData\\pyaldata\\firing_rates.py:91: UserWarning: Assuming spikes are actually spikes and dividing by bin size.\n",
      "  utils.warnings.warn(\"Assuming spikes are actually spikes and dividing by bin size.\")\n",
      "C:\\Users\\MARA\\Desktop\\IMPERIAL YEAR 4\\Final year project\\code\\PyalData\\pyaldata\\firing_rates.py:91: UserWarning: Assuming spikes are actually spikes and dividing by bin size.\n",
      "  utils.warnings.warn(\"Assuming spikes are actually spikes and dividing by bin size.\")\n",
      "C:\\Users\\MARA\\Desktop\\IMPERIAL YEAR 4\\Final year project\\code\\PyalData\\pyaldata\\firing_rates.py:91: UserWarning: Assuming spikes are actually spikes and dividing by bin size.\n",
      "  utils.warnings.warn(\"Assuming spikes are actually spikes and dividing by bin size.\")\n"
     ]
    },
    {
     "name": "stdout",
     "output_type": "stream",
     "text": [
      "AS-M354_session8.mat\n"
     ]
    },
    {
     "name": "stderr",
     "output_type": "stream",
     "text": [
      "C:\\Users\\MARA\\Desktop\\IMPERIAL YEAR 4\\Final year project\\code\\PyalData\\pyaldata\\firing_rates.py:91: UserWarning: Assuming spikes are actually spikes and dividing by bin size.\n",
      "  utils.warnings.warn(\"Assuming spikes are actually spikes and dividing by bin size.\")\n",
      "C:\\Users\\MARA\\Desktop\\IMPERIAL YEAR 4\\Final year project\\code\\PyalData\\pyaldata\\firing_rates.py:91: UserWarning: Assuming spikes are actually spikes and dividing by bin size.\n",
      "  utils.warnings.warn(\"Assuming spikes are actually spikes and dividing by bin size.\")\n",
      "C:\\Users\\MARA\\Desktop\\IMPERIAL YEAR 4\\Final year project\\code\\PyalData\\pyaldata\\firing_rates.py:91: UserWarning: Assuming spikes are actually spikes and dividing by bin size.\n",
      "  utils.warnings.warn(\"Assuming spikes are actually spikes and dividing by bin size.\")\n"
     ]
    },
    {
     "name": "stdout",
     "output_type": "stream",
     "text": [
      "PS-M365_session1.mat\n"
     ]
    },
    {
     "name": "stderr",
     "output_type": "stream",
     "text": [
      "C:\\Users\\MARA\\Desktop\\IMPERIAL YEAR 4\\Final year project\\code\\PyalData\\pyaldata\\firing_rates.py:91: UserWarning: Assuming spikes are actually spikes and dividing by bin size.\n",
      "  utils.warnings.warn(\"Assuming spikes are actually spikes and dividing by bin size.\")\n",
      "C:\\Users\\MARA\\Desktop\\IMPERIAL YEAR 4\\Final year project\\code\\PyalData\\pyaldata\\firing_rates.py:91: UserWarning: Assuming spikes are actually spikes and dividing by bin size.\n",
      "  utils.warnings.warn(\"Assuming spikes are actually spikes and dividing by bin size.\")\n",
      "C:\\Users\\MARA\\Desktop\\IMPERIAL YEAR 4\\Final year project\\code\\PyalData\\pyaldata\\firing_rates.py:91: UserWarning: Assuming spikes are actually spikes and dividing by bin size.\n",
      "  utils.warnings.warn(\"Assuming spikes are actually spikes and dividing by bin size.\")\n",
      "C:\\Users\\MARA\\AppData\\Local\\Temp\\ipykernel_19532\\615250044.py:41: UserWarning: Dropping the trials with the following IDs because of invalid time indexing. For more information, try warn_per_trial=True\n",
      "\n",
      "        [20]\n",
      "  df = pyaldata.restrict_to_interval(df, \"idx_mo\", end_point_name=None, rel_start=-50, rel_end=50)  # consider half a second before and after movement onset\n"
     ]
    },
    {
     "name": "stdout",
     "output_type": "stream",
     "text": [
      "PS-M365_session10.mat\n",
      "PS-M365_session2.mat\n"
     ]
    },
    {
     "name": "stderr",
     "output_type": "stream",
     "text": [
      "C:\\Users\\MARA\\Desktop\\IMPERIAL YEAR 4\\Final year project\\code\\PyalData\\pyaldata\\firing_rates.py:91: UserWarning: Assuming spikes are actually spikes and dividing by bin size.\n",
      "  utils.warnings.warn(\"Assuming spikes are actually spikes and dividing by bin size.\")\n",
      "C:\\Users\\MARA\\Desktop\\IMPERIAL YEAR 4\\Final year project\\code\\PyalData\\pyaldata\\firing_rates.py:91: UserWarning: Assuming spikes are actually spikes and dividing by bin size.\n",
      "  utils.warnings.warn(\"Assuming spikes are actually spikes and dividing by bin size.\")\n",
      "C:\\Users\\MARA\\Desktop\\IMPERIAL YEAR 4\\Final year project\\code\\PyalData\\pyaldata\\firing_rates.py:91: UserWarning: Assuming spikes are actually spikes and dividing by bin size.\n",
      "  utils.warnings.warn(\"Assuming spikes are actually spikes and dividing by bin size.\")\n"
     ]
    },
    {
     "name": "stdout",
     "output_type": "stream",
     "text": [
      "PS-M365_session4.mat\n"
     ]
    },
    {
     "name": "stderr",
     "output_type": "stream",
     "text": [
      "C:\\Users\\MARA\\Desktop\\IMPERIAL YEAR 4\\Final year project\\code\\PyalData\\pyaldata\\firing_rates.py:91: UserWarning: Assuming spikes are actually spikes and dividing by bin size.\n",
      "  utils.warnings.warn(\"Assuming spikes are actually spikes and dividing by bin size.\")\n",
      "C:\\Users\\MARA\\Desktop\\IMPERIAL YEAR 4\\Final year project\\code\\PyalData\\pyaldata\\firing_rates.py:91: UserWarning: Assuming spikes are actually spikes and dividing by bin size.\n",
      "  utils.warnings.warn(\"Assuming spikes are actually spikes and dividing by bin size.\")\n",
      "C:\\Users\\MARA\\Desktop\\IMPERIAL YEAR 4\\Final year project\\code\\PyalData\\pyaldata\\firing_rates.py:91: UserWarning: Assuming spikes are actually spikes and dividing by bin size.\n",
      "  utils.warnings.warn(\"Assuming spikes are actually spikes and dividing by bin size.\")\n"
     ]
    },
    {
     "name": "stdout",
     "output_type": "stream",
     "text": [
      "PS-M365_session5.mat\n"
     ]
    },
    {
     "name": "stderr",
     "output_type": "stream",
     "text": [
      "C:\\Users\\MARA\\Desktop\\IMPERIAL YEAR 4\\Final year project\\code\\PyalData\\pyaldata\\firing_rates.py:91: UserWarning: Assuming spikes are actually spikes and dividing by bin size.\n",
      "  utils.warnings.warn(\"Assuming spikes are actually spikes and dividing by bin size.\")\n",
      "C:\\Users\\MARA\\Desktop\\IMPERIAL YEAR 4\\Final year project\\code\\PyalData\\pyaldata\\firing_rates.py:91: UserWarning: Assuming spikes are actually spikes and dividing by bin size.\n",
      "  utils.warnings.warn(\"Assuming spikes are actually spikes and dividing by bin size.\")\n",
      "C:\\Users\\MARA\\Desktop\\IMPERIAL YEAR 4\\Final year project\\code\\PyalData\\pyaldata\\firing_rates.py:91: UserWarning: Assuming spikes are actually spikes and dividing by bin size.\n",
      "  utils.warnings.warn(\"Assuming spikes are actually spikes and dividing by bin size.\")\n"
     ]
    },
    {
     "name": "stdout",
     "output_type": "stream",
     "text": [
      "PS-M365_session6.mat\n"
     ]
    },
    {
     "name": "stderr",
     "output_type": "stream",
     "text": [
      "C:\\Users\\MARA\\Desktop\\IMPERIAL YEAR 4\\Final year project\\code\\PyalData\\pyaldata\\firing_rates.py:91: UserWarning: Assuming spikes are actually spikes and dividing by bin size.\n",
      "  utils.warnings.warn(\"Assuming spikes are actually spikes and dividing by bin size.\")\n",
      "C:\\Users\\MARA\\Desktop\\IMPERIAL YEAR 4\\Final year project\\code\\PyalData\\pyaldata\\firing_rates.py:91: UserWarning: Assuming spikes are actually spikes and dividing by bin size.\n",
      "  utils.warnings.warn(\"Assuming spikes are actually spikes and dividing by bin size.\")\n",
      "C:\\Users\\MARA\\Desktop\\IMPERIAL YEAR 4\\Final year project\\code\\PyalData\\pyaldata\\firing_rates.py:91: UserWarning: Assuming spikes are actually spikes and dividing by bin size.\n",
      "  utils.warnings.warn(\"Assuming spikes are actually spikes and dividing by bin size.\")\n"
     ]
    },
    {
     "name": "stdout",
     "output_type": "stream",
     "text": [
      "PS-M365_session7.mat\n",
      "PS-M365_session9.mat\n",
      "PS-M366_session1.mat\n"
     ]
    },
    {
     "name": "stderr",
     "output_type": "stream",
     "text": [
      "C:\\Users\\MARA\\Desktop\\IMPERIAL YEAR 4\\Final year project\\code\\PyalData\\pyaldata\\firing_rates.py:91: UserWarning: Assuming spikes are actually spikes and dividing by bin size.\n",
      "  utils.warnings.warn(\"Assuming spikes are actually spikes and dividing by bin size.\")\n",
      "C:\\Users\\MARA\\Desktop\\IMPERIAL YEAR 4\\Final year project\\code\\PyalData\\pyaldata\\firing_rates.py:91: UserWarning: Assuming spikes are actually spikes and dividing by bin size.\n",
      "  utils.warnings.warn(\"Assuming spikes are actually spikes and dividing by bin size.\")\n",
      "C:\\Users\\MARA\\Desktop\\IMPERIAL YEAR 4\\Final year project\\code\\PyalData\\pyaldata\\firing_rates.py:91: UserWarning: Assuming spikes are actually spikes and dividing by bin size.\n",
      "  utils.warnings.warn(\"Assuming spikes are actually spikes and dividing by bin size.\")\n"
     ]
    },
    {
     "name": "stdout",
     "output_type": "stream",
     "text": [
      "PS-M366_session2.mat\n"
     ]
    },
    {
     "name": "stderr",
     "output_type": "stream",
     "text": [
      "C:\\Users\\MARA\\Desktop\\IMPERIAL YEAR 4\\Final year project\\code\\PyalData\\pyaldata\\firing_rates.py:91: UserWarning: Assuming spikes are actually spikes and dividing by bin size.\n",
      "  utils.warnings.warn(\"Assuming spikes are actually spikes and dividing by bin size.\")\n",
      "C:\\Users\\MARA\\Desktop\\IMPERIAL YEAR 4\\Final year project\\code\\PyalData\\pyaldata\\firing_rates.py:91: UserWarning: Assuming spikes are actually spikes and dividing by bin size.\n",
      "  utils.warnings.warn(\"Assuming spikes are actually spikes and dividing by bin size.\")\n",
      "C:\\Users\\MARA\\Desktop\\IMPERIAL YEAR 4\\Final year project\\code\\PyalData\\pyaldata\\firing_rates.py:91: UserWarning: Assuming spikes are actually spikes and dividing by bin size.\n",
      "  utils.warnings.warn(\"Assuming spikes are actually spikes and dividing by bin size.\")\n"
     ]
    },
    {
     "name": "stdout",
     "output_type": "stream",
     "text": [
      "PS-M366_session4.mat\n"
     ]
    },
    {
     "name": "stderr",
     "output_type": "stream",
     "text": [
      "C:\\Users\\MARA\\Desktop\\IMPERIAL YEAR 4\\Final year project\\code\\PyalData\\pyaldata\\firing_rates.py:91: UserWarning: Assuming spikes are actually spikes and dividing by bin size.\n",
      "  utils.warnings.warn(\"Assuming spikes are actually spikes and dividing by bin size.\")\n",
      "C:\\Users\\MARA\\Desktop\\IMPERIAL YEAR 4\\Final year project\\code\\PyalData\\pyaldata\\firing_rates.py:91: UserWarning: Assuming spikes are actually spikes and dividing by bin size.\n",
      "  utils.warnings.warn(\"Assuming spikes are actually spikes and dividing by bin size.\")\n",
      "C:\\Users\\MARA\\Desktop\\IMPERIAL YEAR 4\\Final year project\\code\\PyalData\\pyaldata\\firing_rates.py:91: UserWarning: Assuming spikes are actually spikes and dividing by bin size.\n",
      "  utils.warnings.warn(\"Assuming spikes are actually spikes and dividing by bin size.\")\n",
      "C:\\Users\\MARA\\AppData\\Local\\Temp\\ipykernel_19532\\615250044.py:41: UserWarning: Dropping the trials with the following IDs because of invalid time indexing. For more information, try warn_per_trial=True\n",
      "\n",
      "        [41]\n",
      "  df = pyaldata.restrict_to_interval(df, \"idx_mo\", end_point_name=None, rel_start=-50, rel_end=50)  # consider half a second before and after movement onset\n"
     ]
    },
    {
     "name": "stdout",
     "output_type": "stream",
     "text": [
      "PS-M366_session5.mat\n"
     ]
    },
    {
     "name": "stderr",
     "output_type": "stream",
     "text": [
      "C:\\Users\\MARA\\Desktop\\IMPERIAL YEAR 4\\Final year project\\code\\PyalData\\pyaldata\\firing_rates.py:91: UserWarning: Assuming spikes are actually spikes and dividing by bin size.\n",
      "  utils.warnings.warn(\"Assuming spikes are actually spikes and dividing by bin size.\")\n",
      "C:\\Users\\MARA\\Desktop\\IMPERIAL YEAR 4\\Final year project\\code\\PyalData\\pyaldata\\firing_rates.py:91: UserWarning: Assuming spikes are actually spikes and dividing by bin size.\n",
      "  utils.warnings.warn(\"Assuming spikes are actually spikes and dividing by bin size.\")\n",
      "C:\\Users\\MARA\\Desktop\\IMPERIAL YEAR 4\\Final year project\\code\\PyalData\\pyaldata\\firing_rates.py:91: UserWarning: Assuming spikes are actually spikes and dividing by bin size.\n",
      "  utils.warnings.warn(\"Assuming spikes are actually spikes and dividing by bin size.\")\n"
     ]
    },
    {
     "name": "stdout",
     "output_type": "stream",
     "text": [
      "PS-M366_session6.mat\n"
     ]
    },
    {
     "name": "stderr",
     "output_type": "stream",
     "text": [
      "C:\\Users\\MARA\\Desktop\\IMPERIAL YEAR 4\\Final year project\\code\\PyalData\\pyaldata\\firing_rates.py:91: UserWarning: Assuming spikes are actually spikes and dividing by bin size.\n",
      "  utils.warnings.warn(\"Assuming spikes are actually spikes and dividing by bin size.\")\n",
      "C:\\Users\\MARA\\Desktop\\IMPERIAL YEAR 4\\Final year project\\code\\PyalData\\pyaldata\\firing_rates.py:91: UserWarning: Assuming spikes are actually spikes and dividing by bin size.\n",
      "  utils.warnings.warn(\"Assuming spikes are actually spikes and dividing by bin size.\")\n",
      "C:\\Users\\MARA\\Desktop\\IMPERIAL YEAR 4\\Final year project\\code\\PyalData\\pyaldata\\firing_rates.py:91: UserWarning: Assuming spikes are actually spikes and dividing by bin size.\n",
      "  utils.warnings.warn(\"Assuming spikes are actually spikes and dividing by bin size.\")\n"
     ]
    },
    {
     "name": "stdout",
     "output_type": "stream",
     "text": [
      "PS-M366_session8.mat\n"
     ]
    },
    {
     "name": "stderr",
     "output_type": "stream",
     "text": [
      "C:\\Users\\MARA\\Desktop\\IMPERIAL YEAR 4\\Final year project\\code\\PyalData\\pyaldata\\firing_rates.py:91: UserWarning: Assuming spikes are actually spikes and dividing by bin size.\n",
      "  utils.warnings.warn(\"Assuming spikes are actually spikes and dividing by bin size.\")\n",
      "C:\\Users\\MARA\\Desktop\\IMPERIAL YEAR 4\\Final year project\\code\\PyalData\\pyaldata\\firing_rates.py:91: UserWarning: Assuming spikes are actually spikes and dividing by bin size.\n",
      "  utils.warnings.warn(\"Assuming spikes are actually spikes and dividing by bin size.\")\n",
      "C:\\Users\\MARA\\Desktop\\IMPERIAL YEAR 4\\Final year project\\code\\PyalData\\pyaldata\\firing_rates.py:91: UserWarning: Assuming spikes are actually spikes and dividing by bin size.\n",
      "  utils.warnings.warn(\"Assuming spikes are actually spikes and dividing by bin size.\")\n"
     ]
    }
   ],
   "source": [
    "# consider all models, and no thalamus: compute 5D PCA manifolds for each trial, m1, dcn, str and finally all 3 regions\n",
    " \n",
    "from sklearn.decomposition import PCA\n",
    "\n",
    "pca = PCA(n_components = 10)\n",
    "\n",
    "class_indices = {'WT-M350':1,\n",
    "                'WT-M355':1, \n",
    "                'AS-M351':2,\n",
    "                'AS-M354':2,\n",
    "                'PS-M365':3,\n",
    "                'PS-M366':3}\n",
    "X_data_5 = {'WT':[],'AS':[],'PS':[]}\n",
    "X_data_m1_5 = {'WT':[],'AS':[],'PS':[]}\n",
    "X_data_dcn_5 = {'WT':[],'AS':[],'PS':[]}\n",
    "X_data_str_5 = {'WT':[],'AS':[],'PS':[]}\n",
    "X = []\n",
    "y = []\n",
    "\n",
    "for data_dir in [data_dir_WTM350, data_dir_WTM355, data_dir_ASM351, data_dir_ASM354, data_dir_PSM365, data_dir_PSM366]:\n",
    "    animal_model = data_dir[-17:-10]\n",
    "    animal_type = data_dir[-17:-15]\n",
    "    files = os.listdir(data_dir)\n",
    "    for file_name in files:\n",
    "        print(file_name)\n",
    "        fpath = os.path.join(data_dir, file_name)\n",
    "        df = pyaldata.mat2dataframe(fpath, shift_idx_fields=True)\n",
    "        df = pyaldata.select_trials(df, \"success == 1\")  # only consider successful trials\n",
    "        \n",
    "        if len(df)>1:\n",
    "            df[\"trial_id\"] = range(len(df))\n",
    "            df = pyaldata.combine_time_bins(df, 5)\n",
    "            spike_fields = [\"m1_spikes\",\"dcn_spikes\",\"str_spikes\"]\n",
    "\n",
    "            for col in spike_fields:\n",
    "                df = pyaldata.remove_low_firing_neurons(df, col,  1)\n",
    "            for col in spike_fields:\n",
    "                df = pyaldata.transform_signal(df, col,  'sqrt')\n",
    "            df = pyaldata.merge_signals(df, spike_fields, \"all_spikes\")\n",
    "            df = pyaldata.add_firing_rates(df, 'smooth')\n",
    "            df = pyaldata.restrict_to_interval(df, \"idx_mo\", end_point_name=None, rel_start=-50, rel_end=50)  # consider half a second before and after movement onset\n",
    "\n",
    "            #concat_all_rates = pyaldata.concat_trials(df, 'all_rates')\n",
    "            #all_pca = pca.fit_transform(concat_all_rates)\n",
    "            #X_data[animal_type].append(all_pca)\n",
    "\n",
    "            for i in range(len(df)):\n",
    "                if np.shape(df.all_rates[i])[1]>=10:\n",
    "                    all_pca = np.transpose(pca.fit_transform(df.all_rates[i]))\n",
    "                    X_data_5[animal_type].append(all_pca)\n",
    "\n",
    "                if np.shape(df.m1_rates[i])[1]>=10:\n",
    "                    m1_pca = np.transpose(pca.fit_transform(df.m1_rates[i]))\n",
    "                    X_data_m1_5[animal_type].append(m1_pca)\n",
    "\n",
    "                if np.shape(df.str_rates[i])[1]>=10:\n",
    "                    str_pca = np.transpose(pca.fit_transform(df.str_rates[i]))\n",
    "                    X_data_str_5[animal_type].append(str_pca)\n",
    "\n",
    "                if np.shape(df.dcn_rates[i])[1]>=10:\n",
    "                    dcn_pca = np.transpose(pca.fit_transform(df.dcn_rates[i]))\n",
    "                    X_data_dcn_5[animal_type].append(dcn_pca)\n"
   ]
  },
  {
   "cell_type": "code",
   "execution_count": 9,
   "metadata": {},
   "outputs": [
    {
     "data": {
      "text/plain": [
       "(10, 101)"
      ]
     },
     "execution_count": 9,
     "metadata": {},
     "output_type": "execute_result"
    }
   ],
   "source": [
    "np.shape(m1_pca)"
   ]
  },
  {
   "cell_type": "code",
   "execution_count": 11,
   "metadata": {},
   "outputs": [
    {
     "name": "stdout",
     "output_type": "stream",
     "text": [
      "Accuracy: 0.5740740740740741\n"
     ]
    },
    {
     "name": "stderr",
     "output_type": "stream",
     "text": [
      "c:\\Users\\MARA\\AppData\\Local\\Programs\\Python\\Python310\\lib\\site-packages\\sklearn\\utils\\validation.py:1183: DataConversionWarning: A column-vector y was passed when a 1d array was expected. Please change the shape of y to (n_samples, ), for example using ravel().\n",
      "  y = column_or_1d(y, warn=True)\n"
     ]
    }
   ],
   "source": [
    "# Decoder from 10D PCA m1 activity to type:\n",
    "\n",
    "import random\n",
    "\n",
    "random.shuffle(X_data_m1_5['WT'])\n",
    "random.shuffle(X_data_m1_5['AS'])\n",
    "random.shuffle(X_data_m1_5['PS'])\n",
    "\n",
    "min_samples = min(len(X_data_m1_5['WT']), len(X_data_m1_5['AS']), len(X_data_m1_5['PS']))\n",
    "X_WT = X_data_m1_5['WT'][0:min_samples]\n",
    "X_AS = X_data_m1_5['AS'][0:min_samples]\n",
    "X_PS = X_data_m1_5['PS'][0:min_samples]\n",
    "\n",
    "# Step 3: Combine the sampled subsets\n",
    "X_balanced = np.concatenate((X_WT, X_AS, X_PS))\n",
    "y_balanced = np.concatenate((['WT'] * min_samples, ['AS'] * min_samples, ['PS'] * min_samples))\n",
    "\n",
    "# Optionally, shuffle the combined dataset\n",
    "indices = np.arange(len(X_balanced))\n",
    "np.random.shuffle(indices)\n",
    "X_balanced = X_balanced[indices]\n",
    "y_balanced = y_balanced[indices]\n",
    "\n",
    "X_balanced_reshaped = X_balanced.reshape(len(X_balanced),-1)  # convert to 2d array (needed for the NB classifier)\n",
    "y_balanced_reshaped = y_balanced.reshape(len(y_balanced),-1)\n",
    "\n",
    "\n",
    "# Split the balanced dataset into training and testing sets\n",
    "X_train, X_test, y_train, y_test = train_test_split(X_balanced_reshaped, y_balanced_reshaped, test_size=0.2, random_state=10)\n",
    "\n",
    "\n",
    "# Initialize Gaussian Naive Bayes classifier\n",
    "classifier = GaussianNB()\n",
    "\n",
    "# Train classifier\n",
    "classifier.fit(X_train, y_train)\n",
    "\n",
    "# Make predictions\n",
    "predictions = classifier.predict(X_test)\n",
    "\n",
    "# Calculate accuracy\n",
    "accuracy = accuracy_score(y_test, predictions)\n",
    "print(\"Accuracy:\", accuracy)\n",
    "\n"
   ]
  },
  {
   "cell_type": "code",
   "execution_count": 12,
   "metadata": {},
   "outputs": [
    {
     "ename": "NameError",
     "evalue": "name 'KFold' is not defined",
     "output_type": "error",
     "traceback": [
      "\u001b[1;31m---------------------------------------------------------------------------\u001b[0m",
      "\u001b[1;31mNameError\u001b[0m                                 Traceback (most recent call last)",
      "Cell \u001b[1;32mIn[12], line 3\u001b[0m\n\u001b[0;32m      1\u001b[0m \u001b[38;5;66;03m# Define k for k-fold cross-validation\u001b[39;00m\n\u001b[0;32m      2\u001b[0m k \u001b[38;5;241m=\u001b[39m \u001b[38;5;241m5\u001b[39m\n\u001b[1;32m----> 3\u001b[0m kf \u001b[38;5;241m=\u001b[39m \u001b[43mKFold\u001b[49m(n_splits\u001b[38;5;241m=\u001b[39mk, shuffle\u001b[38;5;241m=\u001b[39m\u001b[38;5;28;01mTrue\u001b[39;00m, random_state\u001b[38;5;241m=\u001b[39m\u001b[38;5;241m40\u001b[39m)\n\u001b[0;32m      5\u001b[0m \u001b[38;5;66;03m# Perform k-fold cross-validation\u001b[39;00m\n\u001b[0;32m      6\u001b[0m scores \u001b[38;5;241m=\u001b[39m cross_val_score(classifier, X_balanced_reshaped, y_balanced_reshaped, cv\u001b[38;5;241m=\u001b[39mkf)\n",
      "\u001b[1;31mNameError\u001b[0m: name 'KFold' is not defined"
     ]
    }
   ],
   "source": [
    "# Define k for k-fold cross-validation\n",
    "k = 5\n",
    "kf = KFold(n_splits=k, shuffle=True, random_state=40)\n",
    "\n",
    "# Perform k-fold cross-validation\n",
    "scores = cross_val_score(classifier, X_balanced_reshaped, y_balanced_reshaped, cv=kf)\n",
    "scores"
   ]
  },
  {
   "cell_type": "code",
   "execution_count": null,
   "metadata": {},
   "outputs": [
    {
     "name": "stdout",
     "output_type": "stream",
     "text": [
      "Accuracy: 0.6357142857142857\n"
     ]
    },
    {
     "name": "stderr",
     "output_type": "stream",
     "text": [
      "c:\\Users\\MARA\\AppData\\Local\\Programs\\Python\\Python310\\lib\\site-packages\\sklearn\\utils\\validation.py:1183: DataConversionWarning: A column-vector y was passed when a 1d array was expected. Please change the shape of y to (n_samples, ), for example using ravel().\n",
      "  y = column_or_1d(y, warn=True)\n"
     ]
    }
   ],
   "source": [
    "# Decoder from 10D PCA str activity to type:\n",
    "\n",
    "\n",
    "random.shuffle(X_data_str_5['WT'])\n",
    "random.shuffle(X_data_str_5['AS'])\n",
    "random.shuffle(X_data_str_5['PS'])\n",
    "\n",
    "min_samples = min(len(X_data_str_5['WT']), len(X_data_str_5['AS']), len(X_data_str_5['PS']))\n",
    "X_WT = X_data_str_5['WT'][0:min_samples]\n",
    "X_AS = X_data_str_5['AS'][0:min_samples]\n",
    "X_PS = X_data_str_5['PS'][0:min_samples]\n",
    "\n",
    "# Step 3: Combine the sampled subsets\n",
    "X_balanced = np.concatenate((X_WT, X_AS, X_PS))\n",
    "y_balanced = np.concatenate((['WT'] * min_samples, ['AS'] * min_samples, ['PS'] * min_samples))\n",
    "\n",
    "# Optionally, shuffle the combined dataset\n",
    "indices = np.arange(len(X_balanced))\n",
    "np.random.shuffle(indices)\n",
    "X_balanced = X_balanced[indices]\n",
    "y_balanced = y_balanced[indices]\n",
    "\n",
    "X_balanced_reshaped = X_balanced.reshape(len(X_balanced),-1)  # convert to 2d array (needed for the NB classifier)\n",
    "y_balanced_reshaped = y_balanced.reshape(len(y_balanced),-1)\n",
    "\n",
    "\n",
    "# Split the balanced dataset into training and testing sets\n",
    "X_train, X_test, y_train, y_test = train_test_split(X_balanced_reshaped, y_balanced_reshaped, test_size=0.2, random_state=10)\n",
    "\n",
    "\n",
    "# Initialize Gaussian Naive Bayes classifier\n",
    "classifier = GaussianNB()\n",
    "\n",
    "# Train classifier\n",
    "classifier.fit(X_train, y_train)\n",
    "\n",
    "# Make predictions\n",
    "predictions = classifier.predict(X_test)\n",
    "\n",
    "# Calculate accuracy\n",
    "accuracy = accuracy_score(y_test, predictions)\n",
    "print(\"Accuracy:\", accuracy)\n",
    "\n"
   ]
  },
  {
   "cell_type": "code",
   "execution_count": null,
   "metadata": {},
   "outputs": [
    {
     "name": "stderr",
     "output_type": "stream",
     "text": [
      "c:\\Users\\MARA\\AppData\\Local\\Programs\\Python\\Python310\\lib\\site-packages\\sklearn\\utils\\validation.py:1183: DataConversionWarning: A column-vector y was passed when a 1d array was expected. Please change the shape of y to (n_samples, ), for example using ravel().\n",
      "  y = column_or_1d(y, warn=True)\n",
      "c:\\Users\\MARA\\AppData\\Local\\Programs\\Python\\Python310\\lib\\site-packages\\sklearn\\utils\\validation.py:1183: DataConversionWarning: A column-vector y was passed when a 1d array was expected. Please change the shape of y to (n_samples, ), for example using ravel().\n",
      "  y = column_or_1d(y, warn=True)\n",
      "c:\\Users\\MARA\\AppData\\Local\\Programs\\Python\\Python310\\lib\\site-packages\\sklearn\\utils\\validation.py:1183: DataConversionWarning: A column-vector y was passed when a 1d array was expected. Please change the shape of y to (n_samples, ), for example using ravel().\n",
      "  y = column_or_1d(y, warn=True)\n",
      "c:\\Users\\MARA\\AppData\\Local\\Programs\\Python\\Python310\\lib\\site-packages\\sklearn\\utils\\validation.py:1183: DataConversionWarning: A column-vector y was passed when a 1d array was expected. Please change the shape of y to (n_samples, ), for example using ravel().\n",
      "  y = column_or_1d(y, warn=True)\n",
      "c:\\Users\\MARA\\AppData\\Local\\Programs\\Python\\Python310\\lib\\site-packages\\sklearn\\utils\\validation.py:1183: DataConversionWarning: A column-vector y was passed when a 1d array was expected. Please change the shape of y to (n_samples, ), for example using ravel().\n",
      "  y = column_or_1d(y, warn=True)\n"
     ]
    },
    {
     "data": {
      "text/plain": [
       "array([0.60714286, 0.54676259, 0.61151079, 0.60431655, 0.61870504])"
      ]
     },
     "metadata": {},
     "output_type": "display_data"
    }
   ],
   "source": [
    "# Define k for k-fold cross-validation\n",
    "k = 5\n",
    "kf = KFold(n_splits=k, shuffle=True, random_state=42)\n",
    "\n",
    "# Perform k-fold cross-validation\n",
    "scores = cross_val_score(classifier, X_balanced_reshaped, y_balanced_reshaped, cv=kf)\n",
    "scores"
   ]
  },
  {
   "cell_type": "code",
   "execution_count": null,
   "metadata": {},
   "outputs": [
    {
     "name": "stdout",
     "output_type": "stream",
     "text": [
      "Accuracy: 0.5857142857142857\n"
     ]
    },
    {
     "name": "stderr",
     "output_type": "stream",
     "text": [
      "c:\\Users\\MARA\\AppData\\Local\\Programs\\Python\\Python310\\lib\\site-packages\\sklearn\\utils\\validation.py:1183: DataConversionWarning: A column-vector y was passed when a 1d array was expected. Please change the shape of y to (n_samples, ), for example using ravel().\n",
      "  y = column_or_1d(y, warn=True)\n"
     ]
    }
   ],
   "source": [
    "# Decoder from 5D PCA dcn activity to type:\n",
    "\n",
    "random.shuffle(X_data_dcn_5['WT'])\n",
    "random.shuffle(X_data_dcn_5['AS'])\n",
    "random.shuffle(X_data_dcn_5['PS'])\n",
    "\n",
    "min_samples = min(len(X_data_dcn_5['WT']), len(X_data_dcn_5['AS']), len(X_data_dcn_5['PS']))\n",
    "X_WT = X_data_dcn_5['WT'][0:min_samples]\n",
    "X_AS = X_data_dcn_5['AS'][0:min_samples]\n",
    "X_PS = X_data_dcn_5['PS'][0:min_samples]\n",
    "\n",
    "# Step 3: Combine the sampled subsets\n",
    "X_balanced = np.concatenate((X_WT, X_AS, X_PS))\n",
    "y_balanced = np.concatenate((['WT'] * min_samples, ['AS'] * min_samples, ['PS'] * min_samples))\n",
    "\n",
    "# Optionally, shuffle the combined dataset\n",
    "indices = np.arange(len(X_balanced))\n",
    "np.random.shuffle(indices)\n",
    "X_balanced = X_balanced[indices]\n",
    "y_balanced = y_balanced[indices]\n",
    "\n",
    "X_balanced_reshaped = X_balanced.reshape(len(X_balanced),-1)  # convert to 2d array (needed for the NB classifier)\n",
    "y_balanced_reshaped = y_balanced.reshape(len(y_balanced),-1)\n",
    "\n",
    "\n",
    "# Split the balanced dataset into training and testing sets\n",
    "X_train, X_test, y_train, y_test = train_test_split(X_balanced_reshaped, y_balanced_reshaped, test_size=0.2, random_state=10)\n",
    "\n",
    "\n",
    "# Initialize Gaussian Naive Bayes classifier\n",
    "classifier = GaussianNB()\n",
    "\n",
    "# Train classifier\n",
    "classifier.fit(X_train, y_train)\n",
    "\n",
    "# Make predictions\n",
    "predictions = classifier.predict(X_test)\n",
    "\n",
    "# Calculate accuracy\n",
    "accuracy = accuracy_score(y_test, predictions)\n",
    "print(\"Accuracy:\", accuracy)\n",
    "\n"
   ]
  },
  {
   "cell_type": "code",
   "execution_count": null,
   "metadata": {},
   "outputs": [
    {
     "name": "stderr",
     "output_type": "stream",
     "text": [
      "c:\\Users\\MARA\\AppData\\Local\\Programs\\Python\\Python310\\lib\\site-packages\\sklearn\\utils\\validation.py:1183: DataConversionWarning: A column-vector y was passed when a 1d array was expected. Please change the shape of y to (n_samples, ), for example using ravel().\n",
      "  y = column_or_1d(y, warn=True)\n",
      "c:\\Users\\MARA\\AppData\\Local\\Programs\\Python\\Python310\\lib\\site-packages\\sklearn\\utils\\validation.py:1183: DataConversionWarning: A column-vector y was passed when a 1d array was expected. Please change the shape of y to (n_samples, ), for example using ravel().\n",
      "  y = column_or_1d(y, warn=True)\n",
      "c:\\Users\\MARA\\AppData\\Local\\Programs\\Python\\Python310\\lib\\site-packages\\sklearn\\utils\\validation.py:1183: DataConversionWarning: A column-vector y was passed when a 1d array was expected. Please change the shape of y to (n_samples, ), for example using ravel().\n",
      "  y = column_or_1d(y, warn=True)\n",
      "c:\\Users\\MARA\\AppData\\Local\\Programs\\Python\\Python310\\lib\\site-packages\\sklearn\\utils\\validation.py:1183: DataConversionWarning: A column-vector y was passed when a 1d array was expected. Please change the shape of y to (n_samples, ), for example using ravel().\n",
      "  y = column_or_1d(y, warn=True)\n",
      "c:\\Users\\MARA\\AppData\\Local\\Programs\\Python\\Python310\\lib\\site-packages\\sklearn\\utils\\validation.py:1183: DataConversionWarning: A column-vector y was passed when a 1d array was expected. Please change the shape of y to (n_samples, ), for example using ravel().\n",
      "  y = column_or_1d(y, warn=True)\n"
     ]
    },
    {
     "data": {
      "text/plain": [
       "array([0.62857143, 0.57553957, 0.61151079, 0.58273381, 0.6618705 ])"
      ]
     },
     "metadata": {},
     "output_type": "display_data"
    }
   ],
   "source": [
    "# Define k for k-fold cross-validation\n",
    "k = 5\n",
    "kf = KFold(n_splits=k, shuffle=True, random_state=42)\n",
    "\n",
    "# Perform k-fold cross-validation\n",
    "scores = cross_val_score(classifier, X_balanced_reshaped, y_balanced_reshaped, cv=kf)\n",
    "scores"
   ]
  },
  {
   "cell_type": "code",
   "execution_count": null,
   "metadata": {},
   "outputs": [
    {
     "name": "stdout",
     "output_type": "stream",
     "text": [
      "Accuracy: 0.5071428571428571\n"
     ]
    },
    {
     "name": "stderr",
     "output_type": "stream",
     "text": [
      "c:\\Users\\MARA\\AppData\\Local\\Programs\\Python\\Python310\\lib\\site-packages\\sklearn\\utils\\validation.py:1183: DataConversionWarning: A column-vector y was passed when a 1d array was expected. Please change the shape of y to (n_samples, ), for example using ravel().\n",
      "  y = column_or_1d(y, warn=True)\n"
     ]
    }
   ],
   "source": [
    "# Decoder from 5D PCA all activity to type:\n",
    "\n",
    "random.shuffle(X_data_5['WT'])\n",
    "random.shuffle(X_data_5['AS'])\n",
    "random.shuffle(X_data_5['PS'])\n",
    "\n",
    "min_samples = min(len(X_data_5['WT']), len(X_data_5['AS']), len(X_data_5['PS']))\n",
    "X_WT = X_data_5['WT'][0:min_samples]\n",
    "X_AS = X_data_5['AS'][0:min_samples]\n",
    "X_PS = X_data_5['PS'][0:min_samples]\n",
    "\n",
    "# Step 3: Combine the sampled subsets\n",
    "X_balanced = np.concatenate((X_WT, X_AS, X_PS))\n",
    "y_balanced = np.concatenate((['WT'] * min_samples, ['AS'] * min_samples, ['PS'] * min_samples))\n",
    "\n",
    "# Optionally, shuffle the combined dataset\n",
    "indices = np.arange(len(X_balanced))\n",
    "np.random.shuffle(indices)\n",
    "X_balanced = X_balanced[indices]\n",
    "y_balanced = y_balanced[indices]\n",
    "\n",
    "X_balanced_reshaped = X_balanced.reshape(len(X_balanced),-1)  # convert to 2d array (needed for the NB classifier)\n",
    "y_balanced_reshaped = y_balanced.reshape(len(y_balanced),-1)\n",
    "\n",
    "\n",
    "# Split the balanced dataset into training and testing sets\n",
    "X_train, X_test, y_train, y_test = train_test_split(X_balanced_reshaped, y_balanced_reshaped, test_size=0.2, random_state=10)\n",
    "\n",
    "\n",
    "# Initialize Gaussian Naive Bayes classifier\n",
    "classifier = GaussianNB()\n",
    "\n",
    "# Train classifier\n",
    "classifier.fit(X_train, y_train)\n",
    "\n",
    "# Make predictions\n",
    "predictions = classifier.predict(X_test)\n",
    "\n",
    "# Calculate accuracy\n",
    "accuracy = accuracy_score(y_test, predictions)\n",
    "print(\"Accuracy:\", accuracy)\n",
    "\n"
   ]
  },
  {
   "cell_type": "code",
   "execution_count": null,
   "metadata": {},
   "outputs": [
    {
     "name": "stderr",
     "output_type": "stream",
     "text": [
      "c:\\Users\\MARA\\AppData\\Local\\Programs\\Python\\Python310\\lib\\site-packages\\sklearn\\utils\\validation.py:1183: DataConversionWarning: A column-vector y was passed when a 1d array was expected. Please change the shape of y to (n_samples, ), for example using ravel().\n",
      "  y = column_or_1d(y, warn=True)\n",
      "c:\\Users\\MARA\\AppData\\Local\\Programs\\Python\\Python310\\lib\\site-packages\\sklearn\\utils\\validation.py:1183: DataConversionWarning: A column-vector y was passed when a 1d array was expected. Please change the shape of y to (n_samples, ), for example using ravel().\n",
      "  y = column_or_1d(y, warn=True)\n",
      "c:\\Users\\MARA\\AppData\\Local\\Programs\\Python\\Python310\\lib\\site-packages\\sklearn\\utils\\validation.py:1183: DataConversionWarning: A column-vector y was passed when a 1d array was expected. Please change the shape of y to (n_samples, ), for example using ravel().\n",
      "  y = column_or_1d(y, warn=True)\n",
      "c:\\Users\\MARA\\AppData\\Local\\Programs\\Python\\Python310\\lib\\site-packages\\sklearn\\utils\\validation.py:1183: DataConversionWarning: A column-vector y was passed when a 1d array was expected. Please change the shape of y to (n_samples, ), for example using ravel().\n",
      "  y = column_or_1d(y, warn=True)\n",
      "c:\\Users\\MARA\\AppData\\Local\\Programs\\Python\\Python310\\lib\\site-packages\\sklearn\\utils\\validation.py:1183: DataConversionWarning: A column-vector y was passed when a 1d array was expected. Please change the shape of y to (n_samples, ), for example using ravel().\n",
      "  y = column_or_1d(y, warn=True)\n"
     ]
    },
    {
     "data": {
      "text/plain": [
       "array([0.53571429, 0.50359712, 0.58273381, 0.49640288, 0.52517986])"
      ]
     },
     "metadata": {},
     "output_type": "display_data"
    }
   ],
   "source": [
    "# Define k for k-fold cross-validation\n",
    "k = 5\n",
    "kf = KFold(n_splits=k, shuffle=True, random_state=42)\n",
    "\n",
    "# Perform k-fold cross-validation\n",
    "scores = cross_val_score(classifier, X_balanced_reshaped, y_balanced_reshaped, cv=kf)\n",
    "scores"
   ]
  },
  {
   "cell_type": "code",
   "execution_count": null,
   "metadata": {},
   "outputs": [
    {
     "name": "stdout",
     "output_type": "stream",
     "text": [
      "Accuracy: 0.3\n"
     ]
    },
    {
     "name": "stderr",
     "output_type": "stream",
     "text": [
      "c:\\Users\\MARA\\AppData\\Local\\Programs\\Python\\Python310\\lib\\site-packages\\sklearn\\utils\\validation.py:1183: DataConversionWarning: A column-vector y was passed when a 1d array was expected. Please change the shape of y to (n_samples, ), for example using ravel().\n",
      "  y = column_or_1d(y, warn=True)\n"
     ]
    }
   ],
   "source": [
    "# Decoder from 5D PCA all activity to type:\n",
    "\n",
    "random.shuffle(X_data_5['WT'])\n",
    "random.shuffle(X_data_5['AS'])\n",
    "random.shuffle(X_data_5['PS'])\n",
    "\n",
    "min_samples = min(len(X_data_5['WT']), len(X_data_5['AS']), len(X_data_5['PS']))\n",
    "X_WT = X_data_5['WT'][0:min_samples]\n",
    "X_AS = X_data_5['AS'][0:min_samples]\n",
    "X_PS = X_data_5['PS'][0:min_samples]\n",
    "\n",
    "# Step 3: Combine the sampled subsets\n",
    "X_balanced = np.concatenate((X_WT, X_AS, X_PS))\n",
    "y_balanced = np.concatenate((['WT'] * min_samples, ['AS'] * min_samples, ['PS'] * min_samples))\n",
    "\n",
    "# Optionally, shuffle the combined dataset\n",
    "indices = np.arange(len(X_balanced))\n",
    "np.random.shuffle(indices)\n",
    "X_balanced = X_balanced[indices]\n",
    "y_balanced = y_balanced[indices]\n",
    "\n",
    "\n",
    "X_balanced_reshaped = X_balanced.reshape(len(X_balanced),-1)  # convert to 2d array (needed for the NB classifier)\n",
    "y_balanced_reshaped = y_balanced.reshape(len(y_balanced),-1)\n",
    "\n",
    "# Shuffle X_balanced_reshaped for control performance:\n",
    "random.shuffle(X_balanced_reshaped)\n",
    "\n",
    "# Split the balanced dataset into training and testing sets\n",
    "X_train, X_test, y_train, y_test = train_test_split(X_balanced_reshaped, y_balanced_reshaped, test_size=0.2, random_state=10)\n",
    "\n",
    "\n",
    "# Initialize Gaussian Naive Bayes classifier\n",
    "classifier = GaussianNB()\n",
    "\n",
    "# Train classifier\n",
    "classifier.fit(X_train, y_train)\n",
    "\n",
    "# Make predictions\n",
    "predictions = classifier.predict(X_test)\n",
    "\n",
    "# Calculate accuracy\n",
    "accuracy = accuracy_score(y_test, predictions)\n",
    "print(\"Accuracy:\", accuracy)\n",
    "\n"
   ]
  },
  {
   "cell_type": "code",
   "execution_count": null,
   "metadata": {},
   "outputs": [
    {
     "name": "stderr",
     "output_type": "stream",
     "text": [
      "c:\\Users\\MARA\\AppData\\Local\\Programs\\Python\\Python310\\lib\\site-packages\\sklearn\\utils\\validation.py:1183: DataConversionWarning: A column-vector y was passed when a 1d array was expected. Please change the shape of y to (n_samples, ), for example using ravel().\n",
      "  y = column_or_1d(y, warn=True)\n",
      "c:\\Users\\MARA\\AppData\\Local\\Programs\\Python\\Python310\\lib\\site-packages\\sklearn\\utils\\validation.py:1183: DataConversionWarning: A column-vector y was passed when a 1d array was expected. Please change the shape of y to (n_samples, ), for example using ravel().\n",
      "  y = column_or_1d(y, warn=True)\n",
      "c:\\Users\\MARA\\AppData\\Local\\Programs\\Python\\Python310\\lib\\site-packages\\sklearn\\utils\\validation.py:1183: DataConversionWarning: A column-vector y was passed when a 1d array was expected. Please change the shape of y to (n_samples, ), for example using ravel().\n",
      "  y = column_or_1d(y, warn=True)\n",
      "c:\\Users\\MARA\\AppData\\Local\\Programs\\Python\\Python310\\lib\\site-packages\\sklearn\\utils\\validation.py:1183: DataConversionWarning: A column-vector y was passed when a 1d array was expected. Please change the shape of y to (n_samples, ), for example using ravel().\n",
      "  y = column_or_1d(y, warn=True)\n",
      "c:\\Users\\MARA\\AppData\\Local\\Programs\\Python\\Python310\\lib\\site-packages\\sklearn\\utils\\validation.py:1183: DataConversionWarning: A column-vector y was passed when a 1d array was expected. Please change the shape of y to (n_samples, ), for example using ravel().\n",
      "  y = column_or_1d(y, warn=True)\n"
     ]
    },
    {
     "data": {
      "text/plain": [
       "array([0.29285714, 0.35251799, 0.27338129, 0.33093525, 0.23021583])"
      ]
     },
     "metadata": {},
     "output_type": "display_data"
    }
   ],
   "source": [
    "# Define k for k-fold cross-validation\n",
    "k = 5\n",
    "kf = KFold(n_splits=k, shuffle=True, random_state=42)\n",
    "\n",
    "# Perform k-fold cross-validation\n",
    "\n",
    "# Shuffle X_balanced_reshaped for control:\n",
    "random.shuffle(X_balanced_reshaped)\n",
    "scores = cross_val_score(classifier, X_balanced_reshaped, y_balanced_reshaped, cv=kf)\n",
    "scores"
   ]
  },
  {
   "cell_type": "code",
   "execution_count": null,
   "metadata": {},
   "outputs": [
    {
     "data": {
      "image/png": "[encoded data removed]",
      "text/plain": [
       "<Figure size 800x600 with 2 Axes>"
      ]
     },
     "metadata": {},
     "output_type": "display_data"
    }
   ],
   "source": [
    "import numpy as np\n",
    "from sklearn.metrics import confusion_matrix\n",
    "import matplotlib.pyplot as plt\n",
    "import seaborn as sns\n",
    "\n",
    "\n",
    "# Compute the confusion matrix\n",
    "class_names = ['WT','AS','PS']\n",
    "\n",
    "cm = confusion_matrix(y_test, predictions, labels=class_names)\n",
    "\n",
    "plt.figure(figsize=(8, 6))\n",
    "sns.heatmap(cm, annot=True, fmt='d', cmap='Blues', xticklabels=class_names, yticklabels=class_names)\n",
    "\n",
    "plt.xlabel('Predicted Labels')\n",
    "plt.ylabel('True Labels')\n",
    "plt.title('Confusion Matrix')\n",
    "\n",
    "# Show the plot\n",
    "plt.show()\n"
   ]
  },
  {
   "cell_type": "code",
   "execution_count": null,
   "metadata": {},
   "outputs": [
    {
     "name": "stdout",
     "output_type": "stream",
     "text": [
      "Stratified K-Fold Cross-Validation\n",
      "Fold 1, Accuracy: 0.54\n"
     ]
    },
    {
     "name": "stderr",
     "output_type": "stream",
     "text": [
      "c:\\Users\\MARA\\AppData\\Local\\Programs\\Python\\Python310\\lib\\site-packages\\sklearn\\utils\\validation.py:1183: DataConversionWarning: A column-vector y was passed when a 1d array was expected. Please change the shape of y to (n_samples, ), for example using ravel().\n",
      "  y = column_or_1d(y, warn=True)\n"
     ]
    },
    {
     "data": {
      "image/png": "[encoded data removed]",
      "text/plain": [
       "<Figure size 800x600 with 2 Axes>"
      ]
     },
     "metadata": {},
     "output_type": "display_data"
    },
    {
     "name": "stdout",
     "output_type": "stream",
     "text": [
      "Fold 2, Accuracy: 0.51\n"
     ]
    },
    {
     "name": "stderr",
     "output_type": "stream",
     "text": [
      "c:\\Users\\MARA\\AppData\\Local\\Programs\\Python\\Python310\\lib\\site-packages\\sklearn\\utils\\validation.py:1183: DataConversionWarning: A column-vector y was passed when a 1d array was expected. Please change the shape of y to (n_samples, ), for example using ravel().\n",
      "  y = column_or_1d(y, warn=True)\n"
     ]
    },
    {
     "data": {
      "image/png": "[encoded data removed]",
      "text/plain": [
       "<Figure size 800x600 with 2 Axes>"
      ]
     },
     "metadata": {},
     "output_type": "display_data"
    },
    {
     "name": "stderr",
     "output_type": "stream",
     "text": [
      "c:\\Users\\MARA\\AppData\\Local\\Programs\\Python\\Python310\\lib\\site-packages\\sklearn\\utils\\validation.py:1183: DataConversionWarning: A column-vector y was passed when a 1d array was expected. Please change the shape of y to (n_samples, ), for example using ravel().\n",
      "  y = column_or_1d(y, warn=True)\n"
     ]
    },
    {
     "name": "stdout",
     "output_type": "stream",
     "text": [
      "Fold 3, Accuracy: 0.47\n"
     ]
    },
    {
     "data": {
      "image/png": "[encoded data removed]",
      "text/plain": [
       "<Figure size 800x600 with 2 Axes>"
      ]
     },
     "metadata": {},
     "output_type": "display_data"
    },
    {
     "name": "stdout",
     "output_type": "stream",
     "text": [
      "Fold 4, Accuracy: 0.54\n"
     ]
    },
    {
     "name": "stderr",
     "output_type": "stream",
     "text": [
      "c:\\Users\\MARA\\AppData\\Local\\Programs\\Python\\Python310\\lib\\site-packages\\sklearn\\utils\\validation.py:1183: DataConversionWarning: A column-vector y was passed when a 1d array was expected. Please change the shape of y to (n_samples, ), for example using ravel().\n",
      "  y = column_or_1d(y, warn=True)\n"
     ]
    },
    {
     "data": {
      "image/png": "[encoded data removed]",
      "text/plain": [
       "<Figure size 800x600 with 2 Axes>"
      ]
     },
     "metadata": {},
     "output_type": "display_data"
    },
    {
     "name": "stdout",
     "output_type": "stream",
     "text": [
      "Fold 5, Accuracy: 0.49\n"
     ]
    },
    {
     "name": "stderr",
     "output_type": "stream",
     "text": [
      "c:\\Users\\MARA\\AppData\\Local\\Programs\\Python\\Python310\\lib\\site-packages\\sklearn\\utils\\validation.py:1183: DataConversionWarning: A column-vector y was passed when a 1d array was expected. Please change the shape of y to (n_samples, ), for example using ravel().\n",
      "  y = column_or_1d(y, warn=True)\n"
     ]
    },
    {
     "data": {
      "image/png": "[encoded data removed]",
      "text/plain": [
       "<Figure size 800x600 with 2 Axes>"
      ]
     },
     "metadata": {},
     "output_type": "display_data"
    }
   ],
   "source": [
    "import numpy as np\n",
    "from sklearn.model_selection import StratifiedKFold, StratifiedShuffleSplit\n",
    "\n",
    "# Sample data\n",
    "X = X_balanced_reshaped  # Feature array\n",
    "y = y_balanced_reshaped  # Class labels\n",
    "\n",
    "# Stratified K-Fold Cross-Validation\n",
    "print(\"Stratified K-Fold Cross-Validation\")\n",
    "skf = StratifiedKFold(n_splits=5)\n",
    "fold = 0\n",
    "for train_index, test_index in skf.split(X, y):\n",
    "    X_train, X_test = X[train_index], X[test_index]\n",
    "    y_train, y_test = y[train_index], y[test_index]\n",
    "    \n",
    "    classifier.fit(X_train, y_train)\n",
    "    predictions = classifier.predict(X_test)\n",
    "    accuracy = accuracy_score(y_test, predictions)\n",
    "    print(f\"Fold {fold + 1}, Accuracy: {accuracy:.2f}\")\n",
    "    fold +=1\n",
    "\n",
    "    class_names = ['WT','AS','PS']\n",
    "\n",
    "    cm = confusion_matrix(y_test, predictions, labels=class_names)\n",
    "\n",
    "    plt.figure(figsize=(8, 6))\n",
    "    sns.heatmap(cm, annot=True, fmt='d', cmap='Blues', xticklabels=class_names, yticklabels=class_names)\n",
    "\n",
    "    plt.xlabel('Predicted Labels')\n",
    "    plt.ylabel('True Labels')\n",
    "    plt.title('Confusion Matrix')\n",
    "\n",
    "    # Show the plot\n",
    "    plt.show()\n",
    "\n",
    "\n",
    "\n",
    "\n",
    "\n",
    "\n",
    "\n",
    "\n",
    "\n"
   ]
  },
  {
   "cell_type": "code",
   "execution_count": null,
   "metadata": {},
   "outputs": [
    {
     "data": {
      "text/plain": [
       "array([[21, 16,  9],\n",
       "       [ 9, 23, 14],\n",
       "       [ 5, 13, 28]], dtype=int64)"
      ]
     },
     "metadata": {},
     "output_type": "display_data"
    }
   ],
   "source": [
    "cm"
   ]
  },
  {
   "cell_type": "code",
   "execution_count": null,
   "metadata": {},
   "outputs": [
    {
     "data": {
      "text/plain": [
       "array([ True,  True,  True, False,  True,  True,  True,  True, False,\n",
       "       False, False,  True,  True, False, False, False, False, False,\n",
       "       False,  True, False, False, False, False,  True, False,  True,\n",
       "        True, False,  True, False, False, False,  True,  True, False,\n",
       "       False, False,  True, False,  True,  True,  True, False, False,\n",
       "       False, False, False, False, False, False,  True, False, False,\n",
       "       False,  True, False, False,  True, False,  True,  True,  True,\n",
       "       False, False, False, False,  True,  True,  True, False, False,\n",
       "        True,  True,  True, False,  True,  True, False,  True, False,\n",
       "        True, False, False,  True, False,  True, False, False, False,\n",
       "        True,  True, False, False, False,  True, False, False,  True,\n",
       "       False,  True,  True, False, False,  True,  True,  True, False,\n",
       "        True, False, False, False, False, False, False, False, False,\n",
       "       False, False, False, False, False, False, False,  True, False,\n",
       "       False, False,  True, False, False, False,  True, False, False,\n",
       "       False, False, False])"
      ]
     },
     "metadata": {},
     "output_type": "display_data"
    }
   ],
   "source": [
    "predictions=='WT'"
   ]
  },
  {
   "cell_type": "code",
   "execution_count": null,
   "metadata": {},
   "outputs": [
    {
     "data": {
      "text/plain": [
       "array([[ True],\n",
       "       [ True],\n",
       "       [ True],\n",
       "       [ True],\n",
       "       [ True],\n",
       "       [False],\n",
       "       [ True],\n",
       "       [False],\n",
       "       [ True],\n",
       "       [ True],\n",
       "       [ True],\n",
       "       [ True],\n",
       "       [False],\n",
       "       [False],\n",
       "       [False],\n",
       "       [False],\n",
       "       [False],\n",
       "       [False],\n",
       "       [False],\n",
       "       [False],\n",
       "       [False],\n",
       "       [ True],\n",
       "       [False],\n",
       "       [ True],\n",
       "       [False],\n",
       "       [False],\n",
       "       [ True],\n",
       "       [ True],\n",
       "       [False],\n",
       "       [False],\n",
       "       [False],\n",
       "       [False],\n",
       "       [False],\n",
       "       [False],\n",
       "       [ True],\n",
       "       [False],\n",
       "       [False],\n",
       "       [False],\n",
       "       [False],\n",
       "       [False],\n",
       "       [False],\n",
       "       [ True],\n",
       "       [ True],\n",
       "       [False],\n",
       "       [False],\n",
       "       [ True],\n",
       "       [False],\n",
       "       [False],\n",
       "       [ True],\n",
       "       [False],\n",
       "       [ True],\n",
       "       [ True],\n",
       "       [False],\n",
       "       [False],\n",
       "       [False],\n",
       "       [ True],\n",
       "       [False],\n",
       "       [False],\n",
       "       [ True],\n",
       "       [False],\n",
       "       [False],\n",
       "       [ True],\n",
       "       [ True],\n",
       "       [ True],\n",
       "       [False],\n",
       "       [False],\n",
       "       [ True],\n",
       "       [False],\n",
       "       [False],\n",
       "       [ True],\n",
       "       [False],\n",
       "       [False],\n",
       "       [ True],\n",
       "       [ True],\n",
       "       [False],\n",
       "       [ True],\n",
       "       [ True],\n",
       "       [False],\n",
       "       [ True],\n",
       "       [ True],\n",
       "       [False],\n",
       "       [False],\n",
       "       [False],\n",
       "       [False],\n",
       "       [False],\n",
       "       [ True],\n",
       "       [ True],\n",
       "       [False],\n",
       "       [False],\n",
       "       [False],\n",
       "       [ True],\n",
       "       [ True],\n",
       "       [False],\n",
       "       [False],\n",
       "       [False],\n",
       "       [False],\n",
       "       [False],\n",
       "       [False],\n",
       "       [ True],\n",
       "       [ True],\n",
       "       [False],\n",
       "       [False],\n",
       "       [False],\n",
       "       [False],\n",
       "       [False],\n",
       "       [False],\n",
       "       [ True],\n",
       "       [False],\n",
       "       [False],\n",
       "       [False],\n",
       "       [False],\n",
       "       [False],\n",
       "       [False],\n",
       "       [False],\n",
       "       [False],\n",
       "       [False],\n",
       "       [False],\n",
       "       [False],\n",
       "       [False],\n",
       "       [False],\n",
       "       [False],\n",
       "       [ True],\n",
       "       [False],\n",
       "       [False],\n",
       "       [ True],\n",
       "       [ True],\n",
       "       [False],\n",
       "       [False],\n",
       "       [ True],\n",
       "       [False],\n",
       "       [ True],\n",
       "       [False],\n",
       "       [False],\n",
       "       [False],\n",
       "       [False],\n",
       "       [False],\n",
       "       [False],\n",
       "       [False]])"
      ]
     },
     "metadata": {},
     "output_type": "display_data"
    }
   ],
   "source": [
    "y_test=='WT'"
   ]
  }
 ],
 "metadata": {
  "kernelspec": {
   "display_name": "Python 3",
   "language": "python",
   "name": "python3"
  },
  "language_info": {
   "codemirror_mode": {
    "name": "ipython",
    "version": 3
   },
   "file_extension": ".py",
   "mimetype": "text/x-python",
   "name": "python",
   "nbconvert_exporter": "python",
   "pygments_lexer": "ipython3",
   "version": "3.10.5"
  }
 },
 "nbformat": 4,
 "nbformat_minor": 2
}
