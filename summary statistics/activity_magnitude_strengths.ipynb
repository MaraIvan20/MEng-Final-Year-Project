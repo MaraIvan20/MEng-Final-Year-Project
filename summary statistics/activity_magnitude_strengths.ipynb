{
 "cells": [
  {
   "cell_type": "markdown",
   "metadata": {},
   "source": []
  },
  {
   "cell_type": "code",
   "execution_count": 4,
   "metadata": {},
   "outputs": [],
   "source": [
    "import sys\n",
    "import os\n",
    "sys.path.append(os.path.abspath(\"C:/Users/MARA/Desktop/IMPERIAL YEAR 4/Final year project/code\"))\n",
    "import hdf5storage\n",
    "import mat73\n",
    "import pandas as pd\n",
    "import numpy as np\n",
    "import scipy\n",
    "import matplotlib.pyplot as plt\n",
    "import math\n",
    "import random\n",
    "\n",
    "\n",
    "\n",
    "import CURBD.curbd as curbd\n",
    "import PyalData.pyaldata as pyaldata"
   ]
  },
  {
   "cell_type": "code",
   "execution_count": 5,
   "metadata": {},
   "outputs": [],
   "source": [
    "data_dir_WTM350 = \"C:/Users/MARA/Desktop/IMPERIAL YEAR 4/Final year project/code/datasets/autism data/WT-M350/WT-M350-pyaldata2\" \n",
    "data_dir_WTM355 = \"C:/Users/MARA/Desktop/IMPERIAL YEAR 4/Final year project/code/datasets/autism data/WT-M355/WT-M355-pyaldata2\" \n",
    "data_dir_ASM351 = \"C:/Users/MARA/Desktop/IMPERIAL YEAR 4/Final year project/code/datasets/autism data/AS-M351/AS-M351-pyaldata2\" \n",
    "data_dir_ASM354 = \"C:/Users/MARA/Desktop/IMPERIAL YEAR 4/Final year project/code/datasets/autism data/AS-M354/AS-M354-pyaldata2\" \n",
    "data_dir_PSM365 = \"C:/Users/MARA/Desktop/IMPERIAL YEAR 4/Final year project/code/datasets/autism data/PS-M365/PS-M365-pyaldata2\" \n",
    "data_dir_PSM366 = \"C:/Users/MARA/Desktop/IMPERIAL YEAR 4/Final year project/code/datasets/autism data/PS-M366/PS-M366-pyaldata2\" "
   ]
  },
  {
   "cell_type": "code",
   "execution_count": null,
   "metadata": {},
   "outputs": [],
   "source": []
  },
  {
   "cell_type": "code",
   "execution_count": null,
   "metadata": {},
   "outputs": [],
   "source": []
  },
  {
   "cell_type": "code",
   "execution_count": null,
   "metadata": {},
   "outputs": [],
   "source": []
  },
  {
   "cell_type": "code",
   "execution_count": 6,
   "metadata": {},
   "outputs": [
    {
     "name": "stdout",
     "output_type": "stream",
     "text": [
      "C:/Users/MARA/Desktop/IMPERIAL YEAR 4/Final year project/code/datasets/autism data/WT-M350/WT-M350-pyaldata2\\WT-M350_session1.mat\n"
     ]
    },
    {
     "name": "stderr",
     "output_type": "stream",
     "text": [
      "C:\\Users\\MARA\\Desktop\\IMPERIAL YEAR 4\\Final year project\\code\\PyalData\\pyaldata\\firing_rates.py:91: UserWarning: Assuming spikes are actually spikes and dividing by bin size.\n",
      "  utils.warnings.warn(\"Assuming spikes are actually spikes and dividing by bin size.\")\n",
      "C:\\Users\\MARA\\Desktop\\IMPERIAL YEAR 4\\Final year project\\code\\PyalData\\pyaldata\\firing_rates.py:91: UserWarning: Assuming spikes are actually spikes and dividing by bin size.\n",
      "  utils.warnings.warn(\"Assuming spikes are actually spikes and dividing by bin size.\")\n",
      "C:\\Users\\MARA\\Desktop\\IMPERIAL YEAR 4\\Final year project\\code\\PyalData\\pyaldata\\firing_rates.py:91: UserWarning: Assuming spikes are actually spikes and dividing by bin size.\n",
      "  utils.warnings.warn(\"Assuming spikes are actually spikes and dividing by bin size.\")\n"
     ]
    },
    {
     "name": "stdout",
     "output_type": "stream",
     "text": [
      "C:/Users/MARA/Desktop/IMPERIAL YEAR 4/Final year project/code/datasets/autism data/WT-M350/WT-M350-pyaldata2\\WT-M350_session2.mat\n"
     ]
    },
    {
     "name": "stderr",
     "output_type": "stream",
     "text": [
      "C:\\Users\\MARA\\Desktop\\IMPERIAL YEAR 4\\Final year project\\code\\PyalData\\pyaldata\\firing_rates.py:91: UserWarning: Assuming spikes are actually spikes and dividing by bin size.\n",
      "  utils.warnings.warn(\"Assuming spikes are actually spikes and dividing by bin size.\")\n",
      "C:\\Users\\MARA\\Desktop\\IMPERIAL YEAR 4\\Final year project\\code\\PyalData\\pyaldata\\firing_rates.py:91: UserWarning: Assuming spikes are actually spikes and dividing by bin size.\n",
      "  utils.warnings.warn(\"Assuming spikes are actually spikes and dividing by bin size.\")\n",
      "C:\\Users\\MARA\\Desktop\\IMPERIAL YEAR 4\\Final year project\\code\\PyalData\\pyaldata\\firing_rates.py:91: UserWarning: Assuming spikes are actually spikes and dividing by bin size.\n",
      "  utils.warnings.warn(\"Assuming spikes are actually spikes and dividing by bin size.\")\n",
      "C:\\Users\\MARA\\AppData\\Local\\Temp\\ipykernel_2484\\724749445.py:38: SettingWithCopyWarning: \n",
      "A value is trying to be set on a copy of a slice from a DataFrame\n",
      "\n",
      "See the caveats in the documentation: https://pandas.pydata.org/pandas-docs/stable/user_guide/indexing.html#returning-a-view-versus-a-copy\n",
      "  df.m1_spikes[i] = df.m1_spikes[i][:,indices_m1]\n",
      "C:\\Users\\MARA\\AppData\\Local\\Temp\\ipykernel_2484\\724749445.py:39: SettingWithCopyWarning: \n",
      "A value is trying to be set on a copy of a slice from a DataFrame\n",
      "\n",
      "See the caveats in the documentation: https://pandas.pydata.org/pandas-docs/stable/user_guide/indexing.html#returning-a-view-versus-a-copy\n",
      "  df.dcn_spikes[i] = df.dcn_spikes[i][:,indices_dcn]\n",
      "C:\\Users\\MARA\\AppData\\Local\\Temp\\ipykernel_2484\\724749445.py:40: SettingWithCopyWarning: \n",
      "A value is trying to be set on a copy of a slice from a DataFrame\n",
      "\n",
      "See the caveats in the documentation: https://pandas.pydata.org/pandas-docs/stable/user_guide/indexing.html#returning-a-view-versus-a-copy\n",
      "  df.str_spikes[i] = df.str_spikes[i][:,indices_str]\n"
     ]
    },
    {
     "name": "stdout",
     "output_type": "stream",
     "text": [
      "C:/Users/MARA/Desktop/IMPERIAL YEAR 4/Final year project/code/datasets/autism data/WT-M350/WT-M350-pyaldata2\\WT-M350_session3.mat\n"
     ]
    },
    {
     "name": "stderr",
     "output_type": "stream",
     "text": [
      "C:\\Users\\MARA\\Desktop\\IMPERIAL YEAR 4\\Final year project\\code\\PyalData\\pyaldata\\firing_rates.py:91: UserWarning: Assuming spikes are actually spikes and dividing by bin size.\n",
      "  utils.warnings.warn(\"Assuming spikes are actually spikes and dividing by bin size.\")\n",
      "C:\\Users\\MARA\\Desktop\\IMPERIAL YEAR 4\\Final year project\\code\\PyalData\\pyaldata\\firing_rates.py:91: UserWarning: Assuming spikes are actually spikes and dividing by bin size.\n",
      "  utils.warnings.warn(\"Assuming spikes are actually spikes and dividing by bin size.\")\n",
      "C:\\Users\\MARA\\Desktop\\IMPERIAL YEAR 4\\Final year project\\code\\PyalData\\pyaldata\\firing_rates.py:91: UserWarning: Assuming spikes are actually spikes and dividing by bin size.\n",
      "  utils.warnings.warn(\"Assuming spikes are actually spikes and dividing by bin size.\")\n"
     ]
    },
    {
     "name": "stdout",
     "output_type": "stream",
     "text": [
      "C:/Users/MARA/Desktop/IMPERIAL YEAR 4/Final year project/code/datasets/autism data/WT-M350/WT-M350-pyaldata2\\WT-M350_session4.mat\n"
     ]
    },
    {
     "name": "stderr",
     "output_type": "stream",
     "text": [
      "C:\\Users\\MARA\\Desktop\\IMPERIAL YEAR 4\\Final year project\\code\\PyalData\\pyaldata\\firing_rates.py:91: UserWarning: Assuming spikes are actually spikes and dividing by bin size.\n",
      "  utils.warnings.warn(\"Assuming spikes are actually spikes and dividing by bin size.\")\n",
      "C:\\Users\\MARA\\Desktop\\IMPERIAL YEAR 4\\Final year project\\code\\PyalData\\pyaldata\\firing_rates.py:91: UserWarning: Assuming spikes are actually spikes and dividing by bin size.\n",
      "  utils.warnings.warn(\"Assuming spikes are actually spikes and dividing by bin size.\")\n",
      "C:\\Users\\MARA\\Desktop\\IMPERIAL YEAR 4\\Final year project\\code\\PyalData\\pyaldata\\firing_rates.py:91: UserWarning: Assuming spikes are actually spikes and dividing by bin size.\n",
      "  utils.warnings.warn(\"Assuming spikes are actually spikes and dividing by bin size.\")\n"
     ]
    },
    {
     "name": "stdout",
     "output_type": "stream",
     "text": [
      "C:/Users/MARA/Desktop/IMPERIAL YEAR 4/Final year project/code/datasets/autism data/WT-M350/WT-M350-pyaldata2\\WT-M350_session5.mat\n"
     ]
    },
    {
     "name": "stderr",
     "output_type": "stream",
     "text": [
      "C:\\Users\\MARA\\Desktop\\IMPERIAL YEAR 4\\Final year project\\code\\PyalData\\pyaldata\\firing_rates.py:91: UserWarning: Assuming spikes are actually spikes and dividing by bin size.\n",
      "  utils.warnings.warn(\"Assuming spikes are actually spikes and dividing by bin size.\")\n",
      "C:\\Users\\MARA\\Desktop\\IMPERIAL YEAR 4\\Final year project\\code\\PyalData\\pyaldata\\firing_rates.py:91: UserWarning: Assuming spikes are actually spikes and dividing by bin size.\n",
      "  utils.warnings.warn(\"Assuming spikes are actually spikes and dividing by bin size.\")\n",
      "C:\\Users\\MARA\\Desktop\\IMPERIAL YEAR 4\\Final year project\\code\\PyalData\\pyaldata\\firing_rates.py:91: UserWarning: Assuming spikes are actually spikes and dividing by bin size.\n",
      "  utils.warnings.warn(\"Assuming spikes are actually spikes and dividing by bin size.\")\n",
      "C:\\Users\\MARA\\AppData\\Local\\Temp\\ipykernel_2484\\724749445.py:38: SettingWithCopyWarning: \n",
      "A value is trying to be set on a copy of a slice from a DataFrame\n",
      "\n",
      "See the caveats in the documentation: https://pandas.pydata.org/pandas-docs/stable/user_guide/indexing.html#returning-a-view-versus-a-copy\n",
      "  df.m1_spikes[i] = df.m1_spikes[i][:,indices_m1]\n",
      "C:\\Users\\MARA\\AppData\\Local\\Temp\\ipykernel_2484\\724749445.py:39: SettingWithCopyWarning: \n",
      "A value is trying to be set on a copy of a slice from a DataFrame\n",
      "\n",
      "See the caveats in the documentation: https://pandas.pydata.org/pandas-docs/stable/user_guide/indexing.html#returning-a-view-versus-a-copy\n",
      "  df.dcn_spikes[i] = df.dcn_spikes[i][:,indices_dcn]\n",
      "C:\\Users\\MARA\\AppData\\Local\\Temp\\ipykernel_2484\\724749445.py:40: SettingWithCopyWarning: \n",
      "A value is trying to be set on a copy of a slice from a DataFrame\n",
      "\n",
      "See the caveats in the documentation: https://pandas.pydata.org/pandas-docs/stable/user_guide/indexing.html#returning-a-view-versus-a-copy\n",
      "  df.str_spikes[i] = df.str_spikes[i][:,indices_str]\n"
     ]
    },
    {
     "name": "stdout",
     "output_type": "stream",
     "text": [
      "C:/Users/MARA/Desktop/IMPERIAL YEAR 4/Final year project/code/datasets/autism data/WT-M350/WT-M350-pyaldata2\\WT-M350_session6.mat\n"
     ]
    },
    {
     "name": "stderr",
     "output_type": "stream",
     "text": [
      "C:\\Users\\MARA\\Desktop\\IMPERIAL YEAR 4\\Final year project\\code\\PyalData\\pyaldata\\firing_rates.py:91: UserWarning: Assuming spikes are actually spikes and dividing by bin size.\n",
      "  utils.warnings.warn(\"Assuming spikes are actually spikes and dividing by bin size.\")\n",
      "C:\\Users\\MARA\\Desktop\\IMPERIAL YEAR 4\\Final year project\\code\\PyalData\\pyaldata\\firing_rates.py:91: UserWarning: Assuming spikes are actually spikes and dividing by bin size.\n",
      "  utils.warnings.warn(\"Assuming spikes are actually spikes and dividing by bin size.\")\n",
      "C:\\Users\\MARA\\Desktop\\IMPERIAL YEAR 4\\Final year project\\code\\PyalData\\pyaldata\\firing_rates.py:91: UserWarning: Assuming spikes are actually spikes and dividing by bin size.\n",
      "  utils.warnings.warn(\"Assuming spikes are actually spikes and dividing by bin size.\")\n",
      "C:\\Users\\MARA\\AppData\\Local\\Temp\\ipykernel_2484\\724749445.py:38: SettingWithCopyWarning: \n",
      "A value is trying to be set on a copy of a slice from a DataFrame\n",
      "\n",
      "See the caveats in the documentation: https://pandas.pydata.org/pandas-docs/stable/user_guide/indexing.html#returning-a-view-versus-a-copy\n",
      "  df.m1_spikes[i] = df.m1_spikes[i][:,indices_m1]\n",
      "C:\\Users\\MARA\\AppData\\Local\\Temp\\ipykernel_2484\\724749445.py:39: SettingWithCopyWarning: \n",
      "A value is trying to be set on a copy of a slice from a DataFrame\n",
      "\n",
      "See the caveats in the documentation: https://pandas.pydata.org/pandas-docs/stable/user_guide/indexing.html#returning-a-view-versus-a-copy\n",
      "  df.dcn_spikes[i] = df.dcn_spikes[i][:,indices_dcn]\n",
      "C:\\Users\\MARA\\AppData\\Local\\Temp\\ipykernel_2484\\724749445.py:40: SettingWithCopyWarning: \n",
      "A value is trying to be set on a copy of a slice from a DataFrame\n",
      "\n",
      "See the caveats in the documentation: https://pandas.pydata.org/pandas-docs/stable/user_guide/indexing.html#returning-a-view-versus-a-copy\n",
      "  df.str_spikes[i] = df.str_spikes[i][:,indices_str]\n"
     ]
    },
    {
     "name": "stdout",
     "output_type": "stream",
     "text": [
      "C:/Users/MARA/Desktop/IMPERIAL YEAR 4/Final year project/code/datasets/autism data/WT-M355/WT-M355-pyaldata2\\WT-M355_session1.mat\n"
     ]
    },
    {
     "name": "stderr",
     "output_type": "stream",
     "text": [
      "C:\\Users\\MARA\\Desktop\\IMPERIAL YEAR 4\\Final year project\\code\\PyalData\\pyaldata\\firing_rates.py:91: UserWarning: Assuming spikes are actually spikes and dividing by bin size.\n",
      "  utils.warnings.warn(\"Assuming spikes are actually spikes and dividing by bin size.\")\n",
      "C:\\Users\\MARA\\Desktop\\IMPERIAL YEAR 4\\Final year project\\code\\PyalData\\pyaldata\\firing_rates.py:91: UserWarning: Assuming spikes are actually spikes and dividing by bin size.\n",
      "  utils.warnings.warn(\"Assuming spikes are actually spikes and dividing by bin size.\")\n",
      "C:\\Users\\MARA\\Desktop\\IMPERIAL YEAR 4\\Final year project\\code\\PyalData\\pyaldata\\firing_rates.py:91: UserWarning: Assuming spikes are actually spikes and dividing by bin size.\n",
      "  utils.warnings.warn(\"Assuming spikes are actually spikes and dividing by bin size.\")\n",
      "C:\\Users\\MARA\\AppData\\Local\\Temp\\ipykernel_2484\\724749445.py:38: SettingWithCopyWarning: \n",
      "A value is trying to be set on a copy of a slice from a DataFrame\n",
      "\n",
      "See the caveats in the documentation: https://pandas.pydata.org/pandas-docs/stable/user_guide/indexing.html#returning-a-view-versus-a-copy\n",
      "  df.m1_spikes[i] = df.m1_spikes[i][:,indices_m1]\n",
      "C:\\Users\\MARA\\AppData\\Local\\Temp\\ipykernel_2484\\724749445.py:39: SettingWithCopyWarning: \n",
      "A value is trying to be set on a copy of a slice from a DataFrame\n",
      "\n",
      "See the caveats in the documentation: https://pandas.pydata.org/pandas-docs/stable/user_guide/indexing.html#returning-a-view-versus-a-copy\n",
      "  df.dcn_spikes[i] = df.dcn_spikes[i][:,indices_dcn]\n",
      "C:\\Users\\MARA\\AppData\\Local\\Temp\\ipykernel_2484\\724749445.py:40: SettingWithCopyWarning: \n",
      "A value is trying to be set on a copy of a slice from a DataFrame\n",
      "\n",
      "See the caveats in the documentation: https://pandas.pydata.org/pandas-docs/stable/user_guide/indexing.html#returning-a-view-versus-a-copy\n",
      "  df.str_spikes[i] = df.str_spikes[i][:,indices_str]\n",
      "C:\\Users\\MARA\\AppData\\Local\\Temp\\ipykernel_2484\\724749445.py:51: UserWarning: Dropping the trials with the following IDs because of invalid time indexing. For more information, try warn_per_trial=True\n",
      "\n",
      "        [35]\n",
      "  df = pyaldata.restrict_to_interval(df, \"idx_mo\", end_point_name=None, rel_start=-50, rel_end=300)  # consider half a second before and after movement onset\n"
     ]
    },
    {
     "name": "stdout",
     "output_type": "stream",
     "text": [
      "C:/Users/MARA/Desktop/IMPERIAL YEAR 4/Final year project/code/datasets/autism data/WT-M355/WT-M355-pyaldata2\\WT-M355_session10.mat\n"
     ]
    },
    {
     "name": "stderr",
     "output_type": "stream",
     "text": [
      "C:\\Users\\MARA\\Desktop\\IMPERIAL YEAR 4\\Final year project\\code\\PyalData\\pyaldata\\firing_rates.py:91: UserWarning: Assuming spikes are actually spikes and dividing by bin size.\n",
      "  utils.warnings.warn(\"Assuming spikes are actually spikes and dividing by bin size.\")\n",
      "C:\\Users\\MARA\\Desktop\\IMPERIAL YEAR 4\\Final year project\\code\\PyalData\\pyaldata\\firing_rates.py:91: UserWarning: Assuming spikes are actually spikes and dividing by bin size.\n",
      "  utils.warnings.warn(\"Assuming spikes are actually spikes and dividing by bin size.\")\n",
      "C:\\Users\\MARA\\Desktop\\IMPERIAL YEAR 4\\Final year project\\code\\PyalData\\pyaldata\\firing_rates.py:91: UserWarning: Assuming spikes are actually spikes and dividing by bin size.\n",
      "  utils.warnings.warn(\"Assuming spikes are actually spikes and dividing by bin size.\")\n"
     ]
    },
    {
     "name": "stdout",
     "output_type": "stream",
     "text": [
      "C:/Users/MARA/Desktop/IMPERIAL YEAR 4/Final year project/code/datasets/autism data/WT-M355/WT-M355-pyaldata2\\WT-M355_session11.mat\n"
     ]
    },
    {
     "name": "stderr",
     "output_type": "stream",
     "text": [
      "C:\\Users\\MARA\\Desktop\\IMPERIAL YEAR 4\\Final year project\\code\\PyalData\\pyaldata\\firing_rates.py:91: UserWarning: Assuming spikes are actually spikes and dividing by bin size.\n",
      "  utils.warnings.warn(\"Assuming spikes are actually spikes and dividing by bin size.\")\n",
      "C:\\Users\\MARA\\Desktop\\IMPERIAL YEAR 4\\Final year project\\code\\PyalData\\pyaldata\\firing_rates.py:91: UserWarning: Assuming spikes are actually spikes and dividing by bin size.\n",
      "  utils.warnings.warn(\"Assuming spikes are actually spikes and dividing by bin size.\")\n",
      "C:\\Users\\MARA\\Desktop\\IMPERIAL YEAR 4\\Final year project\\code\\PyalData\\pyaldata\\firing_rates.py:91: UserWarning: Assuming spikes are actually spikes and dividing by bin size.\n",
      "  utils.warnings.warn(\"Assuming spikes are actually spikes and dividing by bin size.\")\n"
     ]
    },
    {
     "name": "stdout",
     "output_type": "stream",
     "text": [
      "C:/Users/MARA/Desktop/IMPERIAL YEAR 4/Final year project/code/datasets/autism data/WT-M355/WT-M355-pyaldata2\\WT-M355_session12.mat\n"
     ]
    },
    {
     "name": "stderr",
     "output_type": "stream",
     "text": [
      "C:\\Users\\MARA\\Desktop\\IMPERIAL YEAR 4\\Final year project\\code\\PyalData\\pyaldata\\firing_rates.py:91: UserWarning: Assuming spikes are actually spikes and dividing by bin size.\n",
      "  utils.warnings.warn(\"Assuming spikes are actually spikes and dividing by bin size.\")\n",
      "C:\\Users\\MARA\\Desktop\\IMPERIAL YEAR 4\\Final year project\\code\\PyalData\\pyaldata\\firing_rates.py:91: UserWarning: Assuming spikes are actually spikes and dividing by bin size.\n",
      "  utils.warnings.warn(\"Assuming spikes are actually spikes and dividing by bin size.\")\n",
      "C:\\Users\\MARA\\Desktop\\IMPERIAL YEAR 4\\Final year project\\code\\PyalData\\pyaldata\\firing_rates.py:91: UserWarning: Assuming spikes are actually spikes and dividing by bin size.\n",
      "  utils.warnings.warn(\"Assuming spikes are actually spikes and dividing by bin size.\")\n",
      "C:\\Users\\MARA\\AppData\\Local\\Temp\\ipykernel_2484\\724749445.py:38: SettingWithCopyWarning: \n",
      "A value is trying to be set on a copy of a slice from a DataFrame\n",
      "\n",
      "See the caveats in the documentation: https://pandas.pydata.org/pandas-docs/stable/user_guide/indexing.html#returning-a-view-versus-a-copy\n",
      "  df.m1_spikes[i] = df.m1_spikes[i][:,indices_m1]\n",
      "C:\\Users\\MARA\\AppData\\Local\\Temp\\ipykernel_2484\\724749445.py:39: SettingWithCopyWarning: \n",
      "A value is trying to be set on a copy of a slice from a DataFrame\n",
      "\n",
      "See the caveats in the documentation: https://pandas.pydata.org/pandas-docs/stable/user_guide/indexing.html#returning-a-view-versus-a-copy\n",
      "  df.dcn_spikes[i] = df.dcn_spikes[i][:,indices_dcn]\n",
      "C:\\Users\\MARA\\AppData\\Local\\Temp\\ipykernel_2484\\724749445.py:40: SettingWithCopyWarning: \n",
      "A value is trying to be set on a copy of a slice from a DataFrame\n",
      "\n",
      "See the caveats in the documentation: https://pandas.pydata.org/pandas-docs/stable/user_guide/indexing.html#returning-a-view-versus-a-copy\n",
      "  df.str_spikes[i] = df.str_spikes[i][:,indices_str]\n",
      "C:\\Users\\MARA\\AppData\\Local\\Temp\\ipykernel_2484\\724749445.py:51: UserWarning: Dropping the trials with the following IDs because of invalid time indexing. For more information, try warn_per_trial=True\n",
      "\n",
      "        [1 3]\n",
      "  df = pyaldata.restrict_to_interval(df, \"idx_mo\", end_point_name=None, rel_start=-50, rel_end=300)  # consider half a second before and after movement onset\n"
     ]
    },
    {
     "name": "stdout",
     "output_type": "stream",
     "text": [
      "C:/Users/MARA/Desktop/IMPERIAL YEAR 4/Final year project/code/datasets/autism data/WT-M355/WT-M355-pyaldata2\\WT-M355_session13.mat\n"
     ]
    },
    {
     "name": "stderr",
     "output_type": "stream",
     "text": [
      "C:\\Users\\MARA\\Desktop\\IMPERIAL YEAR 4\\Final year project\\code\\PyalData\\pyaldata\\firing_rates.py:91: UserWarning: Assuming spikes are actually spikes and dividing by bin size.\n",
      "  utils.warnings.warn(\"Assuming spikes are actually spikes and dividing by bin size.\")\n",
      "C:\\Users\\MARA\\Desktop\\IMPERIAL YEAR 4\\Final year project\\code\\PyalData\\pyaldata\\firing_rates.py:91: UserWarning: Assuming spikes are actually spikes and dividing by bin size.\n",
      "  utils.warnings.warn(\"Assuming spikes are actually spikes and dividing by bin size.\")\n",
      "C:\\Users\\MARA\\Desktop\\IMPERIAL YEAR 4\\Final year project\\code\\PyalData\\pyaldata\\firing_rates.py:91: UserWarning: Assuming spikes are actually spikes and dividing by bin size.\n",
      "  utils.warnings.warn(\"Assuming spikes are actually spikes and dividing by bin size.\")\n",
      "C:\\Users\\MARA\\AppData\\Local\\Temp\\ipykernel_2484\\724749445.py:38: SettingWithCopyWarning: \n",
      "A value is trying to be set on a copy of a slice from a DataFrame\n",
      "\n",
      "See the caveats in the documentation: https://pandas.pydata.org/pandas-docs/stable/user_guide/indexing.html#returning-a-view-versus-a-copy\n",
      "  df.m1_spikes[i] = df.m1_spikes[i][:,indices_m1]\n",
      "C:\\Users\\MARA\\AppData\\Local\\Temp\\ipykernel_2484\\724749445.py:39: SettingWithCopyWarning: \n",
      "A value is trying to be set on a copy of a slice from a DataFrame\n",
      "\n",
      "See the caveats in the documentation: https://pandas.pydata.org/pandas-docs/stable/user_guide/indexing.html#returning-a-view-versus-a-copy\n",
      "  df.dcn_spikes[i] = df.dcn_spikes[i][:,indices_dcn]\n",
      "C:\\Users\\MARA\\AppData\\Local\\Temp\\ipykernel_2484\\724749445.py:40: SettingWithCopyWarning: \n",
      "A value is trying to be set on a copy of a slice from a DataFrame\n",
      "\n",
      "See the caveats in the documentation: https://pandas.pydata.org/pandas-docs/stable/user_guide/indexing.html#returning-a-view-versus-a-copy\n",
      "  df.str_spikes[i] = df.str_spikes[i][:,indices_str]\n",
      "C:\\Users\\MARA\\AppData\\Local\\Temp\\ipykernel_2484\\724749445.py:51: UserWarning: Dropping the trials with the following IDs because of invalid time indexing. For more information, try warn_per_trial=True\n",
      "\n",
      "        [ 7 41 44]\n",
      "  df = pyaldata.restrict_to_interval(df, \"idx_mo\", end_point_name=None, rel_start=-50, rel_end=300)  # consider half a second before and after movement onset\n"
     ]
    },
    {
     "name": "stdout",
     "output_type": "stream",
     "text": [
      "C:/Users/MARA/Desktop/IMPERIAL YEAR 4/Final year project/code/datasets/autism data/WT-M355/WT-M355-pyaldata2\\WT-M355_session14.mat\n"
     ]
    },
    {
     "name": "stderr",
     "output_type": "stream",
     "text": [
      "C:\\Users\\MARA\\Desktop\\IMPERIAL YEAR 4\\Final year project\\code\\PyalData\\pyaldata\\firing_rates.py:91: UserWarning: Assuming spikes are actually spikes and dividing by bin size.\n",
      "  utils.warnings.warn(\"Assuming spikes are actually spikes and dividing by bin size.\")\n",
      "C:\\Users\\MARA\\Desktop\\IMPERIAL YEAR 4\\Final year project\\code\\PyalData\\pyaldata\\firing_rates.py:91: UserWarning: Assuming spikes are actually spikes and dividing by bin size.\n",
      "  utils.warnings.warn(\"Assuming spikes are actually spikes and dividing by bin size.\")\n",
      "C:\\Users\\MARA\\Desktop\\IMPERIAL YEAR 4\\Final year project\\code\\PyalData\\pyaldata\\firing_rates.py:91: UserWarning: Assuming spikes are actually spikes and dividing by bin size.\n",
      "  utils.warnings.warn(\"Assuming spikes are actually spikes and dividing by bin size.\")\n"
     ]
    },
    {
     "name": "stdout",
     "output_type": "stream",
     "text": [
      "C:/Users/MARA/Desktop/IMPERIAL YEAR 4/Final year project/code/datasets/autism data/WT-M355/WT-M355-pyaldata2\\WT-M355_session15.mat\n"
     ]
    },
    {
     "name": "stderr",
     "output_type": "stream",
     "text": [
      "C:\\Users\\MARA\\Desktop\\IMPERIAL YEAR 4\\Final year project\\code\\PyalData\\pyaldata\\firing_rates.py:91: UserWarning: Assuming spikes are actually spikes and dividing by bin size.\n",
      "  utils.warnings.warn(\"Assuming spikes are actually spikes and dividing by bin size.\")\n",
      "C:\\Users\\MARA\\Desktop\\IMPERIAL YEAR 4\\Final year project\\code\\PyalData\\pyaldata\\firing_rates.py:91: UserWarning: Assuming spikes are actually spikes and dividing by bin size.\n",
      "  utils.warnings.warn(\"Assuming spikes are actually spikes and dividing by bin size.\")\n",
      "C:\\Users\\MARA\\Desktop\\IMPERIAL YEAR 4\\Final year project\\code\\PyalData\\pyaldata\\firing_rates.py:91: UserWarning: Assuming spikes are actually spikes and dividing by bin size.\n",
      "  utils.warnings.warn(\"Assuming spikes are actually spikes and dividing by bin size.\")\n",
      "C:\\Users\\MARA\\AppData\\Local\\Temp\\ipykernel_2484\\724749445.py:38: SettingWithCopyWarning: \n",
      "A value is trying to be set on a copy of a slice from a DataFrame\n",
      "\n",
      "See the caveats in the documentation: https://pandas.pydata.org/pandas-docs/stable/user_guide/indexing.html#returning-a-view-versus-a-copy\n",
      "  df.m1_spikes[i] = df.m1_spikes[i][:,indices_m1]\n",
      "C:\\Users\\MARA\\AppData\\Local\\Temp\\ipykernel_2484\\724749445.py:39: SettingWithCopyWarning: \n",
      "A value is trying to be set on a copy of a slice from a DataFrame\n",
      "\n",
      "See the caveats in the documentation: https://pandas.pydata.org/pandas-docs/stable/user_guide/indexing.html#returning-a-view-versus-a-copy\n",
      "  df.dcn_spikes[i] = df.dcn_spikes[i][:,indices_dcn]\n",
      "C:\\Users\\MARA\\AppData\\Local\\Temp\\ipykernel_2484\\724749445.py:40: SettingWithCopyWarning: \n",
      "A value is trying to be set on a copy of a slice from a DataFrame\n",
      "\n",
      "See the caveats in the documentation: https://pandas.pydata.org/pandas-docs/stable/user_guide/indexing.html#returning-a-view-versus-a-copy\n",
      "  df.str_spikes[i] = df.str_spikes[i][:,indices_str]\n",
      "C:\\Users\\MARA\\AppData\\Local\\Temp\\ipykernel_2484\\724749445.py:51: UserWarning: Dropping the trials with the following IDs because of invalid time indexing. For more information, try warn_per_trial=True\n",
      "\n",
      "        [6]\n",
      "  df = pyaldata.restrict_to_interval(df, \"idx_mo\", end_point_name=None, rel_start=-50, rel_end=300)  # consider half a second before and after movement onset\n"
     ]
    },
    {
     "name": "stdout",
     "output_type": "stream",
     "text": [
      "C:/Users/MARA/Desktop/IMPERIAL YEAR 4/Final year project/code/datasets/autism data/WT-M355/WT-M355-pyaldata2\\WT-M355_session17.mat\n"
     ]
    },
    {
     "name": "stderr",
     "output_type": "stream",
     "text": [
      "C:\\Users\\MARA\\Desktop\\IMPERIAL YEAR 4\\Final year project\\code\\PyalData\\pyaldata\\firing_rates.py:91: UserWarning: Assuming spikes are actually spikes and dividing by bin size.\n",
      "  utils.warnings.warn(\"Assuming spikes are actually spikes and dividing by bin size.\")\n",
      "C:\\Users\\MARA\\Desktop\\IMPERIAL YEAR 4\\Final year project\\code\\PyalData\\pyaldata\\firing_rates.py:91: UserWarning: Assuming spikes are actually spikes and dividing by bin size.\n",
      "  utils.warnings.warn(\"Assuming spikes are actually spikes and dividing by bin size.\")\n",
      "C:\\Users\\MARA\\Desktop\\IMPERIAL YEAR 4\\Final year project\\code\\PyalData\\pyaldata\\firing_rates.py:91: UserWarning: Assuming spikes are actually spikes and dividing by bin size.\n",
      "  utils.warnings.warn(\"Assuming spikes are actually spikes and dividing by bin size.\")\n"
     ]
    },
    {
     "name": "stdout",
     "output_type": "stream",
     "text": [
      "C:/Users/MARA/Desktop/IMPERIAL YEAR 4/Final year project/code/datasets/autism data/WT-M355/WT-M355-pyaldata2\\WT-M355_session18.mat\n"
     ]
    },
    {
     "name": "stderr",
     "output_type": "stream",
     "text": [
      "C:\\Users\\MARA\\Desktop\\IMPERIAL YEAR 4\\Final year project\\code\\PyalData\\pyaldata\\firing_rates.py:91: UserWarning: Assuming spikes are actually spikes and dividing by bin size.\n",
      "  utils.warnings.warn(\"Assuming spikes are actually spikes and dividing by bin size.\")\n",
      "C:\\Users\\MARA\\Desktop\\IMPERIAL YEAR 4\\Final year project\\code\\PyalData\\pyaldata\\firing_rates.py:91: UserWarning: Assuming spikes are actually spikes and dividing by bin size.\n",
      "  utils.warnings.warn(\"Assuming spikes are actually spikes and dividing by bin size.\")\n",
      "C:\\Users\\MARA\\Desktop\\IMPERIAL YEAR 4\\Final year project\\code\\PyalData\\pyaldata\\firing_rates.py:91: UserWarning: Assuming spikes are actually spikes and dividing by bin size.\n",
      "  utils.warnings.warn(\"Assuming spikes are actually spikes and dividing by bin size.\")\n",
      "C:\\Users\\MARA\\AppData\\Local\\Temp\\ipykernel_2484\\724749445.py:38: SettingWithCopyWarning: \n",
      "A value is trying to be set on a copy of a slice from a DataFrame\n",
      "\n",
      "See the caveats in the documentation: https://pandas.pydata.org/pandas-docs/stable/user_guide/indexing.html#returning-a-view-versus-a-copy\n",
      "  df.m1_spikes[i] = df.m1_spikes[i][:,indices_m1]\n",
      "C:\\Users\\MARA\\AppData\\Local\\Temp\\ipykernel_2484\\724749445.py:39: SettingWithCopyWarning: \n",
      "A value is trying to be set on a copy of a slice from a DataFrame\n",
      "\n",
      "See the caveats in the documentation: https://pandas.pydata.org/pandas-docs/stable/user_guide/indexing.html#returning-a-view-versus-a-copy\n",
      "  df.dcn_spikes[i] = df.dcn_spikes[i][:,indices_dcn]\n",
      "C:\\Users\\MARA\\AppData\\Local\\Temp\\ipykernel_2484\\724749445.py:40: SettingWithCopyWarning: \n",
      "A value is trying to be set on a copy of a slice from a DataFrame\n",
      "\n",
      "See the caveats in the documentation: https://pandas.pydata.org/pandas-docs/stable/user_guide/indexing.html#returning-a-view-versus-a-copy\n",
      "  df.str_spikes[i] = df.str_spikes[i][:,indices_str]\n",
      "C:\\Users\\MARA\\AppData\\Local\\Temp\\ipykernel_2484\\724749445.py:51: UserWarning: Dropping the trials with the following IDs because of invalid time indexing. For more information, try warn_per_trial=True\n",
      "\n",
      "        [13 17 23 30 33]\n",
      "  df = pyaldata.restrict_to_interval(df, \"idx_mo\", end_point_name=None, rel_start=-50, rel_end=300)  # consider half a second before and after movement onset\n"
     ]
    },
    {
     "name": "stdout",
     "output_type": "stream",
     "text": [
      "C:/Users/MARA/Desktop/IMPERIAL YEAR 4/Final year project/code/datasets/autism data/WT-M355/WT-M355-pyaldata2\\WT-M355_session19.mat\n"
     ]
    },
    {
     "name": "stderr",
     "output_type": "stream",
     "text": [
      "C:\\Users\\MARA\\Desktop\\IMPERIAL YEAR 4\\Final year project\\code\\PyalData\\pyaldata\\firing_rates.py:91: UserWarning: Assuming spikes are actually spikes and dividing by bin size.\n",
      "  utils.warnings.warn(\"Assuming spikes are actually spikes and dividing by bin size.\")\n",
      "C:\\Users\\MARA\\Desktop\\IMPERIAL YEAR 4\\Final year project\\code\\PyalData\\pyaldata\\firing_rates.py:91: UserWarning: Assuming spikes are actually spikes and dividing by bin size.\n",
      "  utils.warnings.warn(\"Assuming spikes are actually spikes and dividing by bin size.\")\n",
      "C:\\Users\\MARA\\Desktop\\IMPERIAL YEAR 4\\Final year project\\code\\PyalData\\pyaldata\\firing_rates.py:91: UserWarning: Assuming spikes are actually spikes and dividing by bin size.\n",
      "  utils.warnings.warn(\"Assuming spikes are actually spikes and dividing by bin size.\")\n",
      "C:\\Users\\MARA\\AppData\\Local\\Temp\\ipykernel_2484\\724749445.py:38: SettingWithCopyWarning: \n",
      "A value is trying to be set on a copy of a slice from a DataFrame\n",
      "\n",
      "See the caveats in the documentation: https://pandas.pydata.org/pandas-docs/stable/user_guide/indexing.html#returning-a-view-versus-a-copy\n",
      "  df.m1_spikes[i] = df.m1_spikes[i][:,indices_m1]\n",
      "C:\\Users\\MARA\\AppData\\Local\\Temp\\ipykernel_2484\\724749445.py:39: SettingWithCopyWarning: \n",
      "A value is trying to be set on a copy of a slice from a DataFrame\n",
      "\n",
      "See the caveats in the documentation: https://pandas.pydata.org/pandas-docs/stable/user_guide/indexing.html#returning-a-view-versus-a-copy\n",
      "  df.dcn_spikes[i] = df.dcn_spikes[i][:,indices_dcn]\n",
      "C:\\Users\\MARA\\AppData\\Local\\Temp\\ipykernel_2484\\724749445.py:40: SettingWithCopyWarning: \n",
      "A value is trying to be set on a copy of a slice from a DataFrame\n",
      "\n",
      "See the caveats in the documentation: https://pandas.pydata.org/pandas-docs/stable/user_guide/indexing.html#returning-a-view-versus-a-copy\n",
      "  df.str_spikes[i] = df.str_spikes[i][:,indices_str]\n",
      "C:\\Users\\MARA\\AppData\\Local\\Temp\\ipykernel_2484\\724749445.py:51: UserWarning: Dropping the trials with the following IDs because of invalid time indexing. For more information, try warn_per_trial=True\n",
      "\n",
      "        [4]\n",
      "  df = pyaldata.restrict_to_interval(df, \"idx_mo\", end_point_name=None, rel_start=-50, rel_end=300)  # consider half a second before and after movement onset\n"
     ]
    },
    {
     "name": "stdout",
     "output_type": "stream",
     "text": [
      "C:/Users/MARA/Desktop/IMPERIAL YEAR 4/Final year project/code/datasets/autism data/WT-M355/WT-M355-pyaldata2\\WT-M355_session2.mat\n"
     ]
    },
    {
     "name": "stderr",
     "output_type": "stream",
     "text": [
      "C:\\Users\\MARA\\Desktop\\IMPERIAL YEAR 4\\Final year project\\code\\PyalData\\pyaldata\\firing_rates.py:91: UserWarning: Assuming spikes are actually spikes and dividing by bin size.\n",
      "  utils.warnings.warn(\"Assuming spikes are actually spikes and dividing by bin size.\")\n",
      "C:\\Users\\MARA\\Desktop\\IMPERIAL YEAR 4\\Final year project\\code\\PyalData\\pyaldata\\firing_rates.py:91: UserWarning: Assuming spikes are actually spikes and dividing by bin size.\n",
      "  utils.warnings.warn(\"Assuming spikes are actually spikes and dividing by bin size.\")\n",
      "C:\\Users\\MARA\\Desktop\\IMPERIAL YEAR 4\\Final year project\\code\\PyalData\\pyaldata\\firing_rates.py:91: UserWarning: Assuming spikes are actually spikes and dividing by bin size.\n",
      "  utils.warnings.warn(\"Assuming spikes are actually spikes and dividing by bin size.\")\n"
     ]
    },
    {
     "name": "stdout",
     "output_type": "stream",
     "text": [
      "C:/Users/MARA/Desktop/IMPERIAL YEAR 4/Final year project/code/datasets/autism data/WT-M355/WT-M355-pyaldata2\\WT-M355_session20.mat\n"
     ]
    },
    {
     "name": "stderr",
     "output_type": "stream",
     "text": [
      "C:\\Users\\MARA\\Desktop\\IMPERIAL YEAR 4\\Final year project\\code\\PyalData\\pyaldata\\firing_rates.py:91: UserWarning: Assuming spikes are actually spikes and dividing by bin size.\n",
      "  utils.warnings.warn(\"Assuming spikes are actually spikes and dividing by bin size.\")\n",
      "C:\\Users\\MARA\\Desktop\\IMPERIAL YEAR 4\\Final year project\\code\\PyalData\\pyaldata\\firing_rates.py:91: UserWarning: Assuming spikes are actually spikes and dividing by bin size.\n",
      "  utils.warnings.warn(\"Assuming spikes are actually spikes and dividing by bin size.\")\n",
      "C:\\Users\\MARA\\Desktop\\IMPERIAL YEAR 4\\Final year project\\code\\PyalData\\pyaldata\\firing_rates.py:91: UserWarning: Assuming spikes are actually spikes and dividing by bin size.\n",
      "  utils.warnings.warn(\"Assuming spikes are actually spikes and dividing by bin size.\")\n",
      "C:\\Users\\MARA\\AppData\\Local\\Temp\\ipykernel_2484\\724749445.py:38: SettingWithCopyWarning: \n",
      "A value is trying to be set on a copy of a slice from a DataFrame\n",
      "\n",
      "See the caveats in the documentation: https://pandas.pydata.org/pandas-docs/stable/user_guide/indexing.html#returning-a-view-versus-a-copy\n",
      "  df.m1_spikes[i] = df.m1_spikes[i][:,indices_m1]\n",
      "C:\\Users\\MARA\\AppData\\Local\\Temp\\ipykernel_2484\\724749445.py:39: SettingWithCopyWarning: \n",
      "A value is trying to be set on a copy of a slice from a DataFrame\n",
      "\n",
      "See the caveats in the documentation: https://pandas.pydata.org/pandas-docs/stable/user_guide/indexing.html#returning-a-view-versus-a-copy\n",
      "  df.dcn_spikes[i] = df.dcn_spikes[i][:,indices_dcn]\n",
      "C:\\Users\\MARA\\AppData\\Local\\Temp\\ipykernel_2484\\724749445.py:40: SettingWithCopyWarning: \n",
      "A value is trying to be set on a copy of a slice from a DataFrame\n",
      "\n",
      "See the caveats in the documentation: https://pandas.pydata.org/pandas-docs/stable/user_guide/indexing.html#returning-a-view-versus-a-copy\n",
      "  df.str_spikes[i] = df.str_spikes[i][:,indices_str]\n"
     ]
    },
    {
     "name": "stdout",
     "output_type": "stream",
     "text": [
      "C:/Users/MARA/Desktop/IMPERIAL YEAR 4/Final year project/code/datasets/autism data/WT-M355/WT-M355-pyaldata2\\WT-M355_session21.mat\n"
     ]
    },
    {
     "name": "stderr",
     "output_type": "stream",
     "text": [
      "C:\\Users\\MARA\\Desktop\\IMPERIAL YEAR 4\\Final year project\\code\\PyalData\\pyaldata\\firing_rates.py:91: UserWarning: Assuming spikes are actually spikes and dividing by bin size.\n",
      "  utils.warnings.warn(\"Assuming spikes are actually spikes and dividing by bin size.\")\n",
      "C:\\Users\\MARA\\Desktop\\IMPERIAL YEAR 4\\Final year project\\code\\PyalData\\pyaldata\\firing_rates.py:91: UserWarning: Assuming spikes are actually spikes and dividing by bin size.\n",
      "  utils.warnings.warn(\"Assuming spikes are actually spikes and dividing by bin size.\")\n",
      "C:\\Users\\MARA\\Desktop\\IMPERIAL YEAR 4\\Final year project\\code\\PyalData\\pyaldata\\firing_rates.py:91: UserWarning: Assuming spikes are actually spikes and dividing by bin size.\n",
      "  utils.warnings.warn(\"Assuming spikes are actually spikes and dividing by bin size.\")\n",
      "C:\\Users\\MARA\\AppData\\Local\\Temp\\ipykernel_2484\\724749445.py:38: SettingWithCopyWarning: \n",
      "A value is trying to be set on a copy of a slice from a DataFrame\n",
      "\n",
      "See the caveats in the documentation: https://pandas.pydata.org/pandas-docs/stable/user_guide/indexing.html#returning-a-view-versus-a-copy\n",
      "  df.m1_spikes[i] = df.m1_spikes[i][:,indices_m1]\n",
      "C:\\Users\\MARA\\AppData\\Local\\Temp\\ipykernel_2484\\724749445.py:39: SettingWithCopyWarning: \n",
      "A value is trying to be set on a copy of a slice from a DataFrame\n",
      "\n",
      "See the caveats in the documentation: https://pandas.pydata.org/pandas-docs/stable/user_guide/indexing.html#returning-a-view-versus-a-copy\n",
      "  df.dcn_spikes[i] = df.dcn_spikes[i][:,indices_dcn]\n",
      "C:\\Users\\MARA\\AppData\\Local\\Temp\\ipykernel_2484\\724749445.py:40: SettingWithCopyWarning: \n",
      "A value is trying to be set on a copy of a slice from a DataFrame\n",
      "\n",
      "See the caveats in the documentation: https://pandas.pydata.org/pandas-docs/stable/user_guide/indexing.html#returning-a-view-versus-a-copy\n",
      "  df.str_spikes[i] = df.str_spikes[i][:,indices_str]\n"
     ]
    },
    {
     "name": "stdout",
     "output_type": "stream",
     "text": [
      "C:/Users/MARA/Desktop/IMPERIAL YEAR 4/Final year project/code/datasets/autism data/WT-M355/WT-M355-pyaldata2\\WT-M355_session23.mat\n"
     ]
    },
    {
     "name": "stderr",
     "output_type": "stream",
     "text": [
      "C:\\Users\\MARA\\Desktop\\IMPERIAL YEAR 4\\Final year project\\code\\PyalData\\pyaldata\\firing_rates.py:91: UserWarning: Assuming spikes are actually spikes and dividing by bin size.\n",
      "  utils.warnings.warn(\"Assuming spikes are actually spikes and dividing by bin size.\")\n",
      "C:\\Users\\MARA\\Desktop\\IMPERIAL YEAR 4\\Final year project\\code\\PyalData\\pyaldata\\firing_rates.py:91: UserWarning: Assuming spikes are actually spikes and dividing by bin size.\n",
      "  utils.warnings.warn(\"Assuming spikes are actually spikes and dividing by bin size.\")\n",
      "C:\\Users\\MARA\\Desktop\\IMPERIAL YEAR 4\\Final year project\\code\\PyalData\\pyaldata\\firing_rates.py:91: UserWarning: Assuming spikes are actually spikes and dividing by bin size.\n",
      "  utils.warnings.warn(\"Assuming spikes are actually spikes and dividing by bin size.\")\n",
      "C:\\Users\\MARA\\AppData\\Local\\Temp\\ipykernel_2484\\724749445.py:38: SettingWithCopyWarning: \n",
      "A value is trying to be set on a copy of a slice from a DataFrame\n",
      "\n",
      "See the caveats in the documentation: https://pandas.pydata.org/pandas-docs/stable/user_guide/indexing.html#returning-a-view-versus-a-copy\n",
      "  df.m1_spikes[i] = df.m1_spikes[i][:,indices_m1]\n",
      "C:\\Users\\MARA\\AppData\\Local\\Temp\\ipykernel_2484\\724749445.py:39: SettingWithCopyWarning: \n",
      "A value is trying to be set on a copy of a slice from a DataFrame\n",
      "\n",
      "See the caveats in the documentation: https://pandas.pydata.org/pandas-docs/stable/user_guide/indexing.html#returning-a-view-versus-a-copy\n",
      "  df.dcn_spikes[i] = df.dcn_spikes[i][:,indices_dcn]\n",
      "C:\\Users\\MARA\\AppData\\Local\\Temp\\ipykernel_2484\\724749445.py:40: SettingWithCopyWarning: \n",
      "A value is trying to be set on a copy of a slice from a DataFrame\n",
      "\n",
      "See the caveats in the documentation: https://pandas.pydata.org/pandas-docs/stable/user_guide/indexing.html#returning-a-view-versus-a-copy\n",
      "  df.str_spikes[i] = df.str_spikes[i][:,indices_str]\n"
     ]
    },
    {
     "name": "stdout",
     "output_type": "stream",
     "text": [
      "C:/Users/MARA/Desktop/IMPERIAL YEAR 4/Final year project/code/datasets/autism data/WT-M355/WT-M355-pyaldata2\\WT-M355_session3.mat\n"
     ]
    },
    {
     "name": "stderr",
     "output_type": "stream",
     "text": [
      "C:\\Users\\MARA\\Desktop\\IMPERIAL YEAR 4\\Final year project\\code\\PyalData\\pyaldata\\firing_rates.py:91: UserWarning: Assuming spikes are actually spikes and dividing by bin size.\n",
      "  utils.warnings.warn(\"Assuming spikes are actually spikes and dividing by bin size.\")\n",
      "C:\\Users\\MARA\\Desktop\\IMPERIAL YEAR 4\\Final year project\\code\\PyalData\\pyaldata\\firing_rates.py:91: UserWarning: Assuming spikes are actually spikes and dividing by bin size.\n",
      "  utils.warnings.warn(\"Assuming spikes are actually spikes and dividing by bin size.\")\n",
      "C:\\Users\\MARA\\Desktop\\IMPERIAL YEAR 4\\Final year project\\code\\PyalData\\pyaldata\\firing_rates.py:91: UserWarning: Assuming spikes are actually spikes and dividing by bin size.\n",
      "  utils.warnings.warn(\"Assuming spikes are actually spikes and dividing by bin size.\")\n",
      "C:\\Users\\MARA\\AppData\\Local\\Temp\\ipykernel_2484\\724749445.py:38: SettingWithCopyWarning: \n",
      "A value is trying to be set on a copy of a slice from a DataFrame\n",
      "\n",
      "See the caveats in the documentation: https://pandas.pydata.org/pandas-docs/stable/user_guide/indexing.html#returning-a-view-versus-a-copy\n",
      "  df.m1_spikes[i] = df.m1_spikes[i][:,indices_m1]\n",
      "C:\\Users\\MARA\\AppData\\Local\\Temp\\ipykernel_2484\\724749445.py:39: SettingWithCopyWarning: \n",
      "A value is trying to be set on a copy of a slice from a DataFrame\n",
      "\n",
      "See the caveats in the documentation: https://pandas.pydata.org/pandas-docs/stable/user_guide/indexing.html#returning-a-view-versus-a-copy\n",
      "  df.dcn_spikes[i] = df.dcn_spikes[i][:,indices_dcn]\n",
      "C:\\Users\\MARA\\AppData\\Local\\Temp\\ipykernel_2484\\724749445.py:40: SettingWithCopyWarning: \n",
      "A value is trying to be set on a copy of a slice from a DataFrame\n",
      "\n",
      "See the caveats in the documentation: https://pandas.pydata.org/pandas-docs/stable/user_guide/indexing.html#returning-a-view-versus-a-copy\n",
      "  df.str_spikes[i] = df.str_spikes[i][:,indices_str]\n"
     ]
    },
    {
     "name": "stdout",
     "output_type": "stream",
     "text": [
      "C:/Users/MARA/Desktop/IMPERIAL YEAR 4/Final year project/code/datasets/autism data/WT-M355/WT-M355-pyaldata2\\WT-M355_session4.mat\n"
     ]
    },
    {
     "name": "stderr",
     "output_type": "stream",
     "text": [
      "C:\\Users\\MARA\\Desktop\\IMPERIAL YEAR 4\\Final year project\\code\\PyalData\\pyaldata\\firing_rates.py:91: UserWarning: Assuming spikes are actually spikes and dividing by bin size.\n",
      "  utils.warnings.warn(\"Assuming spikes are actually spikes and dividing by bin size.\")\n",
      "C:\\Users\\MARA\\Desktop\\IMPERIAL YEAR 4\\Final year project\\code\\PyalData\\pyaldata\\firing_rates.py:91: UserWarning: Assuming spikes are actually spikes and dividing by bin size.\n",
      "  utils.warnings.warn(\"Assuming spikes are actually spikes and dividing by bin size.\")\n",
      "C:\\Users\\MARA\\Desktop\\IMPERIAL YEAR 4\\Final year project\\code\\PyalData\\pyaldata\\firing_rates.py:91: UserWarning: Assuming spikes are actually spikes and dividing by bin size.\n",
      "  utils.warnings.warn(\"Assuming spikes are actually spikes and dividing by bin size.\")\n",
      "C:\\Users\\MARA\\AppData\\Local\\Temp\\ipykernel_2484\\724749445.py:38: SettingWithCopyWarning: \n",
      "A value is trying to be set on a copy of a slice from a DataFrame\n",
      "\n",
      "See the caveats in the documentation: https://pandas.pydata.org/pandas-docs/stable/user_guide/indexing.html#returning-a-view-versus-a-copy\n",
      "  df.m1_spikes[i] = df.m1_spikes[i][:,indices_m1]\n",
      "C:\\Users\\MARA\\AppData\\Local\\Temp\\ipykernel_2484\\724749445.py:39: SettingWithCopyWarning: \n",
      "A value is trying to be set on a copy of a slice from a DataFrame\n",
      "\n",
      "See the caveats in the documentation: https://pandas.pydata.org/pandas-docs/stable/user_guide/indexing.html#returning-a-view-versus-a-copy\n",
      "  df.dcn_spikes[i] = df.dcn_spikes[i][:,indices_dcn]\n",
      "C:\\Users\\MARA\\AppData\\Local\\Temp\\ipykernel_2484\\724749445.py:40: SettingWithCopyWarning: \n",
      "A value is trying to be set on a copy of a slice from a DataFrame\n",
      "\n",
      "See the caveats in the documentation: https://pandas.pydata.org/pandas-docs/stable/user_guide/indexing.html#returning-a-view-versus-a-copy\n",
      "  df.str_spikes[i] = df.str_spikes[i][:,indices_str]\n",
      "C:\\Users\\MARA\\AppData\\Local\\Temp\\ipykernel_2484\\724749445.py:51: UserWarning: Dropping the trials with the following IDs because of invalid time indexing. For more information, try warn_per_trial=True\n",
      "\n",
      "        [31]\n",
      "  df = pyaldata.restrict_to_interval(df, \"idx_mo\", end_point_name=None, rel_start=-50, rel_end=300)  # consider half a second before and after movement onset\n"
     ]
    },
    {
     "name": "stdout",
     "output_type": "stream",
     "text": [
      "C:/Users/MARA/Desktop/IMPERIAL YEAR 4/Final year project/code/datasets/autism data/WT-M355/WT-M355-pyaldata2\\WT-M355_session5.mat\n"
     ]
    },
    {
     "name": "stderr",
     "output_type": "stream",
     "text": [
      "C:\\Users\\MARA\\Desktop\\IMPERIAL YEAR 4\\Final year project\\code\\PyalData\\pyaldata\\firing_rates.py:91: UserWarning: Assuming spikes are actually spikes and dividing by bin size.\n",
      "  utils.warnings.warn(\"Assuming spikes are actually spikes and dividing by bin size.\")\n",
      "C:\\Users\\MARA\\Desktop\\IMPERIAL YEAR 4\\Final year project\\code\\PyalData\\pyaldata\\firing_rates.py:91: UserWarning: Assuming spikes are actually spikes and dividing by bin size.\n",
      "  utils.warnings.warn(\"Assuming spikes are actually spikes and dividing by bin size.\")\n",
      "C:\\Users\\MARA\\Desktop\\IMPERIAL YEAR 4\\Final year project\\code\\PyalData\\pyaldata\\firing_rates.py:91: UserWarning: Assuming spikes are actually spikes and dividing by bin size.\n",
      "  utils.warnings.warn(\"Assuming spikes are actually spikes and dividing by bin size.\")\n",
      "C:\\Users\\MARA\\AppData\\Local\\Temp\\ipykernel_2484\\724749445.py:38: SettingWithCopyWarning: \n",
      "A value is trying to be set on a copy of a slice from a DataFrame\n",
      "\n",
      "See the caveats in the documentation: https://pandas.pydata.org/pandas-docs/stable/user_guide/indexing.html#returning-a-view-versus-a-copy\n",
      "  df.m1_spikes[i] = df.m1_spikes[i][:,indices_m1]\n",
      "C:\\Users\\MARA\\AppData\\Local\\Temp\\ipykernel_2484\\724749445.py:39: SettingWithCopyWarning: \n",
      "A value is trying to be set on a copy of a slice from a DataFrame\n",
      "\n",
      "See the caveats in the documentation: https://pandas.pydata.org/pandas-docs/stable/user_guide/indexing.html#returning-a-view-versus-a-copy\n",
      "  df.dcn_spikes[i] = df.dcn_spikes[i][:,indices_dcn]\n",
      "C:\\Users\\MARA\\AppData\\Local\\Temp\\ipykernel_2484\\724749445.py:40: SettingWithCopyWarning: \n",
      "A value is trying to be set on a copy of a slice from a DataFrame\n",
      "\n",
      "See the caveats in the documentation: https://pandas.pydata.org/pandas-docs/stable/user_guide/indexing.html#returning-a-view-versus-a-copy\n",
      "  df.str_spikes[i] = df.str_spikes[i][:,indices_str]\n",
      "C:\\Users\\MARA\\AppData\\Local\\Temp\\ipykernel_2484\\724749445.py:51: UserWarning: Dropping the trials with the following IDs because of invalid time indexing. For more information, try warn_per_trial=True\n",
      "\n",
      "        [35]\n",
      "  df = pyaldata.restrict_to_interval(df, \"idx_mo\", end_point_name=None, rel_start=-50, rel_end=300)  # consider half a second before and after movement onset\n"
     ]
    },
    {
     "name": "stdout",
     "output_type": "stream",
     "text": [
      "C:/Users/MARA/Desktop/IMPERIAL YEAR 4/Final year project/code/datasets/autism data/WT-M355/WT-M355-pyaldata2\\WT-M355_session6.mat\n"
     ]
    },
    {
     "name": "stderr",
     "output_type": "stream",
     "text": [
      "C:\\Users\\MARA\\Desktop\\IMPERIAL YEAR 4\\Final year project\\code\\PyalData\\pyaldata\\firing_rates.py:91: UserWarning: Assuming spikes are actually spikes and dividing by bin size.\n",
      "  utils.warnings.warn(\"Assuming spikes are actually spikes and dividing by bin size.\")\n",
      "C:\\Users\\MARA\\Desktop\\IMPERIAL YEAR 4\\Final year project\\code\\PyalData\\pyaldata\\firing_rates.py:91: UserWarning: Assuming spikes are actually spikes and dividing by bin size.\n",
      "  utils.warnings.warn(\"Assuming spikes are actually spikes and dividing by bin size.\")\n",
      "C:\\Users\\MARA\\Desktop\\IMPERIAL YEAR 4\\Final year project\\code\\PyalData\\pyaldata\\firing_rates.py:91: UserWarning: Assuming spikes are actually spikes and dividing by bin size.\n",
      "  utils.warnings.warn(\"Assuming spikes are actually spikes and dividing by bin size.\")\n",
      "C:\\Users\\MARA\\AppData\\Local\\Temp\\ipykernel_2484\\724749445.py:38: SettingWithCopyWarning: \n",
      "A value is trying to be set on a copy of a slice from a DataFrame\n",
      "\n",
      "See the caveats in the documentation: https://pandas.pydata.org/pandas-docs/stable/user_guide/indexing.html#returning-a-view-versus-a-copy\n",
      "  df.m1_spikes[i] = df.m1_spikes[i][:,indices_m1]\n",
      "C:\\Users\\MARA\\AppData\\Local\\Temp\\ipykernel_2484\\724749445.py:39: SettingWithCopyWarning: \n",
      "A value is trying to be set on a copy of a slice from a DataFrame\n",
      "\n",
      "See the caveats in the documentation: https://pandas.pydata.org/pandas-docs/stable/user_guide/indexing.html#returning-a-view-versus-a-copy\n",
      "  df.dcn_spikes[i] = df.dcn_spikes[i][:,indices_dcn]\n",
      "C:\\Users\\MARA\\AppData\\Local\\Temp\\ipykernel_2484\\724749445.py:40: SettingWithCopyWarning: \n",
      "A value is trying to be set on a copy of a slice from a DataFrame\n",
      "\n",
      "See the caveats in the documentation: https://pandas.pydata.org/pandas-docs/stable/user_guide/indexing.html#returning-a-view-versus-a-copy\n",
      "  df.str_spikes[i] = df.str_spikes[i][:,indices_str]\n",
      "C:\\Users\\MARA\\AppData\\Local\\Temp\\ipykernel_2484\\724749445.py:51: UserWarning: Dropping the trials with the following IDs because of invalid time indexing. For more information, try warn_per_trial=True\n",
      "\n",
      "        [10 18 22 25 26]\n",
      "  df = pyaldata.restrict_to_interval(df, \"idx_mo\", end_point_name=None, rel_start=-50, rel_end=300)  # consider half a second before and after movement onset\n"
     ]
    },
    {
     "name": "stdout",
     "output_type": "stream",
     "text": [
      "C:/Users/MARA/Desktop/IMPERIAL YEAR 4/Final year project/code/datasets/autism data/WT-M355/WT-M355-pyaldata2\\WT-M355_session7.mat\n"
     ]
    },
    {
     "name": "stderr",
     "output_type": "stream",
     "text": [
      "C:\\Users\\MARA\\Desktop\\IMPERIAL YEAR 4\\Final year project\\code\\PyalData\\pyaldata\\firing_rates.py:91: UserWarning: Assuming spikes are actually spikes and dividing by bin size.\n",
      "  utils.warnings.warn(\"Assuming spikes are actually spikes and dividing by bin size.\")\n",
      "C:\\Users\\MARA\\Desktop\\IMPERIAL YEAR 4\\Final year project\\code\\PyalData\\pyaldata\\firing_rates.py:91: UserWarning: Assuming spikes are actually spikes and dividing by bin size.\n",
      "  utils.warnings.warn(\"Assuming spikes are actually spikes and dividing by bin size.\")\n",
      "C:\\Users\\MARA\\Desktop\\IMPERIAL YEAR 4\\Final year project\\code\\PyalData\\pyaldata\\firing_rates.py:91: UserWarning: Assuming spikes are actually spikes and dividing by bin size.\n",
      "  utils.warnings.warn(\"Assuming spikes are actually spikes and dividing by bin size.\")\n",
      "C:\\Users\\MARA\\AppData\\Local\\Temp\\ipykernel_2484\\724749445.py:38: SettingWithCopyWarning: \n",
      "A value is trying to be set on a copy of a slice from a DataFrame\n",
      "\n",
      "See the caveats in the documentation: https://pandas.pydata.org/pandas-docs/stable/user_guide/indexing.html#returning-a-view-versus-a-copy\n",
      "  df.m1_spikes[i] = df.m1_spikes[i][:,indices_m1]\n",
      "C:\\Users\\MARA\\AppData\\Local\\Temp\\ipykernel_2484\\724749445.py:39: SettingWithCopyWarning: \n",
      "A value is trying to be set on a copy of a slice from a DataFrame\n",
      "\n",
      "See the caveats in the documentation: https://pandas.pydata.org/pandas-docs/stable/user_guide/indexing.html#returning-a-view-versus-a-copy\n",
      "  df.dcn_spikes[i] = df.dcn_spikes[i][:,indices_dcn]\n",
      "C:\\Users\\MARA\\AppData\\Local\\Temp\\ipykernel_2484\\724749445.py:40: SettingWithCopyWarning: \n",
      "A value is trying to be set on a copy of a slice from a DataFrame\n",
      "\n",
      "See the caveats in the documentation: https://pandas.pydata.org/pandas-docs/stable/user_guide/indexing.html#returning-a-view-versus-a-copy\n",
      "  df.str_spikes[i] = df.str_spikes[i][:,indices_str]\n",
      "C:\\Users\\MARA\\AppData\\Local\\Temp\\ipykernel_2484\\724749445.py:51: UserWarning: Dropping the trials with the following IDs because of invalid time indexing. For more information, try warn_per_trial=True\n",
      "\n",
      "        [16]\n",
      "  df = pyaldata.restrict_to_interval(df, \"idx_mo\", end_point_name=None, rel_start=-50, rel_end=300)  # consider half a second before and after movement onset\n"
     ]
    },
    {
     "name": "stdout",
     "output_type": "stream",
     "text": [
      "C:/Users/MARA/Desktop/IMPERIAL YEAR 4/Final year project/code/datasets/autism data/WT-M355/WT-M355-pyaldata2\\WT-M355_session9.mat\n"
     ]
    },
    {
     "name": "stderr",
     "output_type": "stream",
     "text": [
      "C:\\Users\\MARA\\Desktop\\IMPERIAL YEAR 4\\Final year project\\code\\PyalData\\pyaldata\\firing_rates.py:91: UserWarning: Assuming spikes are actually spikes and dividing by bin size.\n",
      "  utils.warnings.warn(\"Assuming spikes are actually spikes and dividing by bin size.\")\n",
      "C:\\Users\\MARA\\Desktop\\IMPERIAL YEAR 4\\Final year project\\code\\PyalData\\pyaldata\\firing_rates.py:91: UserWarning: Assuming spikes are actually spikes and dividing by bin size.\n",
      "  utils.warnings.warn(\"Assuming spikes are actually spikes and dividing by bin size.\")\n",
      "C:\\Users\\MARA\\Desktop\\IMPERIAL YEAR 4\\Final year project\\code\\PyalData\\pyaldata\\firing_rates.py:91: UserWarning: Assuming spikes are actually spikes and dividing by bin size.\n",
      "  utils.warnings.warn(\"Assuming spikes are actually spikes and dividing by bin size.\")\n",
      "C:\\Users\\MARA\\AppData\\Local\\Temp\\ipykernel_2484\\724749445.py:38: SettingWithCopyWarning: \n",
      "A value is trying to be set on a copy of a slice from a DataFrame\n",
      "\n",
      "See the caveats in the documentation: https://pandas.pydata.org/pandas-docs/stable/user_guide/indexing.html#returning-a-view-versus-a-copy\n",
      "  df.m1_spikes[i] = df.m1_spikes[i][:,indices_m1]\n",
      "C:\\Users\\MARA\\AppData\\Local\\Temp\\ipykernel_2484\\724749445.py:39: SettingWithCopyWarning: \n",
      "A value is trying to be set on a copy of a slice from a DataFrame\n",
      "\n",
      "See the caveats in the documentation: https://pandas.pydata.org/pandas-docs/stable/user_guide/indexing.html#returning-a-view-versus-a-copy\n",
      "  df.dcn_spikes[i] = df.dcn_spikes[i][:,indices_dcn]\n",
      "C:\\Users\\MARA\\AppData\\Local\\Temp\\ipykernel_2484\\724749445.py:40: SettingWithCopyWarning: \n",
      "A value is trying to be set on a copy of a slice from a DataFrame\n",
      "\n",
      "See the caveats in the documentation: https://pandas.pydata.org/pandas-docs/stable/user_guide/indexing.html#returning-a-view-versus-a-copy\n",
      "  df.str_spikes[i] = df.str_spikes[i][:,indices_str]\n",
      "C:\\Users\\MARA\\AppData\\Local\\Temp\\ipykernel_2484\\724749445.py:51: UserWarning: Dropping the trials with the following IDs because of invalid time indexing. For more information, try warn_per_trial=True\n",
      "\n",
      "        [1]\n",
      "  df = pyaldata.restrict_to_interval(df, \"idx_mo\", end_point_name=None, rel_start=-50, rel_end=300)  # consider half a second before and after movement onset\n"
     ]
    },
    {
     "name": "stdout",
     "output_type": "stream",
     "text": [
      "C:/Users/MARA/Desktop/IMPERIAL YEAR 4/Final year project/code/datasets/autism data/AS-M351/AS-M351-pyaldata2\\AS-M351_session1.mat\n"
     ]
    },
    {
     "name": "stderr",
     "output_type": "stream",
     "text": [
      "C:\\Users\\MARA\\Desktop\\IMPERIAL YEAR 4\\Final year project\\code\\PyalData\\pyaldata\\firing_rates.py:91: UserWarning: Assuming spikes are actually spikes and dividing by bin size.\n",
      "  utils.warnings.warn(\"Assuming spikes are actually spikes and dividing by bin size.\")\n",
      "C:\\Users\\MARA\\Desktop\\IMPERIAL YEAR 4\\Final year project\\code\\PyalData\\pyaldata\\firing_rates.py:91: UserWarning: Assuming spikes are actually spikes and dividing by bin size.\n",
      "  utils.warnings.warn(\"Assuming spikes are actually spikes and dividing by bin size.\")\n",
      "C:\\Users\\MARA\\Desktop\\IMPERIAL YEAR 4\\Final year project\\code\\PyalData\\pyaldata\\firing_rates.py:91: UserWarning: Assuming spikes are actually spikes and dividing by bin size.\n",
      "  utils.warnings.warn(\"Assuming spikes are actually spikes and dividing by bin size.\")\n",
      "C:\\Users\\MARA\\AppData\\Local\\Temp\\ipykernel_2484\\724749445.py:38: SettingWithCopyWarning: \n",
      "A value is trying to be set on a copy of a slice from a DataFrame\n",
      "\n",
      "See the caveats in the documentation: https://pandas.pydata.org/pandas-docs/stable/user_guide/indexing.html#returning-a-view-versus-a-copy\n",
      "  df.m1_spikes[i] = df.m1_spikes[i][:,indices_m1]\n",
      "C:\\Users\\MARA\\AppData\\Local\\Temp\\ipykernel_2484\\724749445.py:39: SettingWithCopyWarning: \n",
      "A value is trying to be set on a copy of a slice from a DataFrame\n",
      "\n",
      "See the caveats in the documentation: https://pandas.pydata.org/pandas-docs/stable/user_guide/indexing.html#returning-a-view-versus-a-copy\n",
      "  df.dcn_spikes[i] = df.dcn_spikes[i][:,indices_dcn]\n",
      "C:\\Users\\MARA\\AppData\\Local\\Temp\\ipykernel_2484\\724749445.py:40: SettingWithCopyWarning: \n",
      "A value is trying to be set on a copy of a slice from a DataFrame\n",
      "\n",
      "See the caveats in the documentation: https://pandas.pydata.org/pandas-docs/stable/user_guide/indexing.html#returning-a-view-versus-a-copy\n",
      "  df.str_spikes[i] = df.str_spikes[i][:,indices_str]\n"
     ]
    },
    {
     "name": "stdout",
     "output_type": "stream",
     "text": [
      "C:/Users/MARA/Desktop/IMPERIAL YEAR 4/Final year project/code/datasets/autism data/AS-M351/AS-M351-pyaldata2\\AS-M351_session2.mat\n"
     ]
    },
    {
     "name": "stderr",
     "output_type": "stream",
     "text": [
      "C:\\Users\\MARA\\Desktop\\IMPERIAL YEAR 4\\Final year project\\code\\PyalData\\pyaldata\\firing_rates.py:91: UserWarning: Assuming spikes are actually spikes and dividing by bin size.\n",
      "  utils.warnings.warn(\"Assuming spikes are actually spikes and dividing by bin size.\")\n",
      "C:\\Users\\MARA\\Desktop\\IMPERIAL YEAR 4\\Final year project\\code\\PyalData\\pyaldata\\firing_rates.py:91: UserWarning: Assuming spikes are actually spikes and dividing by bin size.\n",
      "  utils.warnings.warn(\"Assuming spikes are actually spikes and dividing by bin size.\")\n",
      "C:\\Users\\MARA\\Desktop\\IMPERIAL YEAR 4\\Final year project\\code\\PyalData\\pyaldata\\firing_rates.py:91: UserWarning: Assuming spikes are actually spikes and dividing by bin size.\n",
      "  utils.warnings.warn(\"Assuming spikes are actually spikes and dividing by bin size.\")\n",
      "C:\\Users\\MARA\\AppData\\Local\\Temp\\ipykernel_2484\\724749445.py:38: SettingWithCopyWarning: \n",
      "A value is trying to be set on a copy of a slice from a DataFrame\n",
      "\n",
      "See the caveats in the documentation: https://pandas.pydata.org/pandas-docs/stable/user_guide/indexing.html#returning-a-view-versus-a-copy\n",
      "  df.m1_spikes[i] = df.m1_spikes[i][:,indices_m1]\n",
      "C:\\Users\\MARA\\AppData\\Local\\Temp\\ipykernel_2484\\724749445.py:39: SettingWithCopyWarning: \n",
      "A value is trying to be set on a copy of a slice from a DataFrame\n",
      "\n",
      "See the caveats in the documentation: https://pandas.pydata.org/pandas-docs/stable/user_guide/indexing.html#returning-a-view-versus-a-copy\n",
      "  df.dcn_spikes[i] = df.dcn_spikes[i][:,indices_dcn]\n",
      "C:\\Users\\MARA\\AppData\\Local\\Temp\\ipykernel_2484\\724749445.py:40: SettingWithCopyWarning: \n",
      "A value is trying to be set on a copy of a slice from a DataFrame\n",
      "\n",
      "See the caveats in the documentation: https://pandas.pydata.org/pandas-docs/stable/user_guide/indexing.html#returning-a-view-versus-a-copy\n",
      "  df.str_spikes[i] = df.str_spikes[i][:,indices_str]\n"
     ]
    },
    {
     "name": "stdout",
     "output_type": "stream",
     "text": [
      "C:/Users/MARA/Desktop/IMPERIAL YEAR 4/Final year project/code/datasets/autism data/AS-M351/AS-M351-pyaldata2\\AS-M351_session3.mat\n"
     ]
    },
    {
     "name": "stderr",
     "output_type": "stream",
     "text": [
      "C:\\Users\\MARA\\Desktop\\IMPERIAL YEAR 4\\Final year project\\code\\PyalData\\pyaldata\\firing_rates.py:91: UserWarning: Assuming spikes are actually spikes and dividing by bin size.\n",
      "  utils.warnings.warn(\"Assuming spikes are actually spikes and dividing by bin size.\")\n",
      "C:\\Users\\MARA\\Desktop\\IMPERIAL YEAR 4\\Final year project\\code\\PyalData\\pyaldata\\firing_rates.py:91: UserWarning: Assuming spikes are actually spikes and dividing by bin size.\n",
      "  utils.warnings.warn(\"Assuming spikes are actually spikes and dividing by bin size.\")\n",
      "C:\\Users\\MARA\\Desktop\\IMPERIAL YEAR 4\\Final year project\\code\\PyalData\\pyaldata\\firing_rates.py:91: UserWarning: Assuming spikes are actually spikes and dividing by bin size.\n",
      "  utils.warnings.warn(\"Assuming spikes are actually spikes and dividing by bin size.\")\n",
      "C:\\Users\\MARA\\AppData\\Local\\Temp\\ipykernel_2484\\724749445.py:38: SettingWithCopyWarning: \n",
      "A value is trying to be set on a copy of a slice from a DataFrame\n",
      "\n",
      "See the caveats in the documentation: https://pandas.pydata.org/pandas-docs/stable/user_guide/indexing.html#returning-a-view-versus-a-copy\n",
      "  df.m1_spikes[i] = df.m1_spikes[i][:,indices_m1]\n",
      "C:\\Users\\MARA\\AppData\\Local\\Temp\\ipykernel_2484\\724749445.py:39: SettingWithCopyWarning: \n",
      "A value is trying to be set on a copy of a slice from a DataFrame\n",
      "\n",
      "See the caveats in the documentation: https://pandas.pydata.org/pandas-docs/stable/user_guide/indexing.html#returning-a-view-versus-a-copy\n",
      "  df.dcn_spikes[i] = df.dcn_spikes[i][:,indices_dcn]\n",
      "C:\\Users\\MARA\\AppData\\Local\\Temp\\ipykernel_2484\\724749445.py:40: SettingWithCopyWarning: \n",
      "A value is trying to be set on a copy of a slice from a DataFrame\n",
      "\n",
      "See the caveats in the documentation: https://pandas.pydata.org/pandas-docs/stable/user_guide/indexing.html#returning-a-view-versus-a-copy\n",
      "  df.str_spikes[i] = df.str_spikes[i][:,indices_str]\n"
     ]
    },
    {
     "name": "stdout",
     "output_type": "stream",
     "text": [
      "C:/Users/MARA/Desktop/IMPERIAL YEAR 4/Final year project/code/datasets/autism data/AS-M351/AS-M351-pyaldata2\\AS-M351_session4.mat\n"
     ]
    },
    {
     "name": "stderr",
     "output_type": "stream",
     "text": [
      "C:\\Users\\MARA\\Desktop\\IMPERIAL YEAR 4\\Final year project\\code\\PyalData\\pyaldata\\firing_rates.py:91: UserWarning: Assuming spikes are actually spikes and dividing by bin size.\n",
      "  utils.warnings.warn(\"Assuming spikes are actually spikes and dividing by bin size.\")\n",
      "C:\\Users\\MARA\\Desktop\\IMPERIAL YEAR 4\\Final year project\\code\\PyalData\\pyaldata\\firing_rates.py:91: UserWarning: Assuming spikes are actually spikes and dividing by bin size.\n",
      "  utils.warnings.warn(\"Assuming spikes are actually spikes and dividing by bin size.\")\n",
      "C:\\Users\\MARA\\Desktop\\IMPERIAL YEAR 4\\Final year project\\code\\PyalData\\pyaldata\\firing_rates.py:91: UserWarning: Assuming spikes are actually spikes and dividing by bin size.\n",
      "  utils.warnings.warn(\"Assuming spikes are actually spikes and dividing by bin size.\")\n",
      "C:\\Users\\MARA\\AppData\\Local\\Temp\\ipykernel_2484\\724749445.py:38: SettingWithCopyWarning: \n",
      "A value is trying to be set on a copy of a slice from a DataFrame\n",
      "\n",
      "See the caveats in the documentation: https://pandas.pydata.org/pandas-docs/stable/user_guide/indexing.html#returning-a-view-versus-a-copy\n",
      "  df.m1_spikes[i] = df.m1_spikes[i][:,indices_m1]\n",
      "C:\\Users\\MARA\\AppData\\Local\\Temp\\ipykernel_2484\\724749445.py:39: SettingWithCopyWarning: \n",
      "A value is trying to be set on a copy of a slice from a DataFrame\n",
      "\n",
      "See the caveats in the documentation: https://pandas.pydata.org/pandas-docs/stable/user_guide/indexing.html#returning-a-view-versus-a-copy\n",
      "  df.dcn_spikes[i] = df.dcn_spikes[i][:,indices_dcn]\n",
      "C:\\Users\\MARA\\AppData\\Local\\Temp\\ipykernel_2484\\724749445.py:40: SettingWithCopyWarning: \n",
      "A value is trying to be set on a copy of a slice from a DataFrame\n",
      "\n",
      "See the caveats in the documentation: https://pandas.pydata.org/pandas-docs/stable/user_guide/indexing.html#returning-a-view-versus-a-copy\n",
      "  df.str_spikes[i] = df.str_spikes[i][:,indices_str]\n",
      "C:\\Users\\MARA\\AppData\\Local\\Temp\\ipykernel_2484\\724749445.py:51: UserWarning: Dropping the trials with the following IDs because of invalid time indexing. For more information, try warn_per_trial=True\n",
      "\n",
      "        [10]\n",
      "  df = pyaldata.restrict_to_interval(df, \"idx_mo\", end_point_name=None, rel_start=-50, rel_end=300)  # consider half a second before and after movement onset\n"
     ]
    },
    {
     "name": "stdout",
     "output_type": "stream",
     "text": [
      "C:/Users/MARA/Desktop/IMPERIAL YEAR 4/Final year project/code/datasets/autism data/AS-M351/AS-M351-pyaldata2\\AS-M351_session7.mat\n"
     ]
    },
    {
     "name": "stderr",
     "output_type": "stream",
     "text": [
      "C:\\Users\\MARA\\Desktop\\IMPERIAL YEAR 4\\Final year project\\code\\PyalData\\pyaldata\\firing_rates.py:91: UserWarning: Assuming spikes are actually spikes and dividing by bin size.\n",
      "  utils.warnings.warn(\"Assuming spikes are actually spikes and dividing by bin size.\")\n",
      "C:\\Users\\MARA\\Desktop\\IMPERIAL YEAR 4\\Final year project\\code\\PyalData\\pyaldata\\firing_rates.py:91: UserWarning: Assuming spikes are actually spikes and dividing by bin size.\n",
      "  utils.warnings.warn(\"Assuming spikes are actually spikes and dividing by bin size.\")\n",
      "C:\\Users\\MARA\\Desktop\\IMPERIAL YEAR 4\\Final year project\\code\\PyalData\\pyaldata\\firing_rates.py:91: UserWarning: Assuming spikes are actually spikes and dividing by bin size.\n",
      "  utils.warnings.warn(\"Assuming spikes are actually spikes and dividing by bin size.\")\n",
      "C:\\Users\\MARA\\AppData\\Local\\Temp\\ipykernel_2484\\724749445.py:38: SettingWithCopyWarning: \n",
      "A value is trying to be set on a copy of a slice from a DataFrame\n",
      "\n",
      "See the caveats in the documentation: https://pandas.pydata.org/pandas-docs/stable/user_guide/indexing.html#returning-a-view-versus-a-copy\n",
      "  df.m1_spikes[i] = df.m1_spikes[i][:,indices_m1]\n",
      "C:\\Users\\MARA\\AppData\\Local\\Temp\\ipykernel_2484\\724749445.py:39: SettingWithCopyWarning: \n",
      "A value is trying to be set on a copy of a slice from a DataFrame\n",
      "\n",
      "See the caveats in the documentation: https://pandas.pydata.org/pandas-docs/stable/user_guide/indexing.html#returning-a-view-versus-a-copy\n",
      "  df.dcn_spikes[i] = df.dcn_spikes[i][:,indices_dcn]\n",
      "C:\\Users\\MARA\\AppData\\Local\\Temp\\ipykernel_2484\\724749445.py:40: SettingWithCopyWarning: \n",
      "A value is trying to be set on a copy of a slice from a DataFrame\n",
      "\n",
      "See the caveats in the documentation: https://pandas.pydata.org/pandas-docs/stable/user_guide/indexing.html#returning-a-view-versus-a-copy\n",
      "  df.str_spikes[i] = df.str_spikes[i][:,indices_str]\n",
      "C:\\Users\\MARA\\AppData\\Local\\Temp\\ipykernel_2484\\724749445.py:51: UserWarning: Dropping the trials with the following IDs because of invalid time indexing. For more information, try warn_per_trial=True\n",
      "\n",
      "        [0 3]\n",
      "  df = pyaldata.restrict_to_interval(df, \"idx_mo\", end_point_name=None, rel_start=-50, rel_end=300)  # consider half a second before and after movement onset\n"
     ]
    },
    {
     "name": "stdout",
     "output_type": "stream",
     "text": [
      "C:/Users/MARA/Desktop/IMPERIAL YEAR 4/Final year project/code/datasets/autism data/AS-M351/AS-M351-pyaldata2\\AS-M351_session8.mat\n"
     ]
    },
    {
     "name": "stderr",
     "output_type": "stream",
     "text": [
      "C:\\Users\\MARA\\Desktop\\IMPERIAL YEAR 4\\Final year project\\code\\PyalData\\pyaldata\\firing_rates.py:91: UserWarning: Assuming spikes are actually spikes and dividing by bin size.\n",
      "  utils.warnings.warn(\"Assuming spikes are actually spikes and dividing by bin size.\")\n",
      "C:\\Users\\MARA\\Desktop\\IMPERIAL YEAR 4\\Final year project\\code\\PyalData\\pyaldata\\firing_rates.py:91: UserWarning: Assuming spikes are actually spikes and dividing by bin size.\n",
      "  utils.warnings.warn(\"Assuming spikes are actually spikes and dividing by bin size.\")\n",
      "C:\\Users\\MARA\\Desktop\\IMPERIAL YEAR 4\\Final year project\\code\\PyalData\\pyaldata\\firing_rates.py:91: UserWarning: Assuming spikes are actually spikes and dividing by bin size.\n",
      "  utils.warnings.warn(\"Assuming spikes are actually spikes and dividing by bin size.\")\n",
      "C:\\Users\\MARA\\AppData\\Local\\Temp\\ipykernel_2484\\724749445.py:38: SettingWithCopyWarning: \n",
      "A value is trying to be set on a copy of a slice from a DataFrame\n",
      "\n",
      "See the caveats in the documentation: https://pandas.pydata.org/pandas-docs/stable/user_guide/indexing.html#returning-a-view-versus-a-copy\n",
      "  df.m1_spikes[i] = df.m1_spikes[i][:,indices_m1]\n",
      "C:\\Users\\MARA\\AppData\\Local\\Temp\\ipykernel_2484\\724749445.py:39: SettingWithCopyWarning: \n",
      "A value is trying to be set on a copy of a slice from a DataFrame\n",
      "\n",
      "See the caveats in the documentation: https://pandas.pydata.org/pandas-docs/stable/user_guide/indexing.html#returning-a-view-versus-a-copy\n",
      "  df.dcn_spikes[i] = df.dcn_spikes[i][:,indices_dcn]\n",
      "C:\\Users\\MARA\\AppData\\Local\\Temp\\ipykernel_2484\\724749445.py:40: SettingWithCopyWarning: \n",
      "A value is trying to be set on a copy of a slice from a DataFrame\n",
      "\n",
      "See the caveats in the documentation: https://pandas.pydata.org/pandas-docs/stable/user_guide/indexing.html#returning-a-view-versus-a-copy\n",
      "  df.str_spikes[i] = df.str_spikes[i][:,indices_str]\n",
      "C:\\Users\\MARA\\AppData\\Local\\Temp\\ipykernel_2484\\724749445.py:51: UserWarning: Dropping the trials with the following IDs because of invalid time indexing. For more information, try warn_per_trial=True\n",
      "\n",
      "        [1]\n",
      "  df = pyaldata.restrict_to_interval(df, \"idx_mo\", end_point_name=None, rel_start=-50, rel_end=300)  # consider half a second before and after movement onset\n"
     ]
    },
    {
     "name": "stdout",
     "output_type": "stream",
     "text": [
      "C:/Users/MARA/Desktop/IMPERIAL YEAR 4/Final year project/code/datasets/autism data/AS-M354/AS-M354-pyaldata2\\AS-M354_session1.mat\n"
     ]
    },
    {
     "name": "stderr",
     "output_type": "stream",
     "text": [
      "C:\\Users\\MARA\\Desktop\\IMPERIAL YEAR 4\\Final year project\\code\\PyalData\\pyaldata\\firing_rates.py:91: UserWarning: Assuming spikes are actually spikes and dividing by bin size.\n",
      "  utils.warnings.warn(\"Assuming spikes are actually spikes and dividing by bin size.\")\n",
      "C:\\Users\\MARA\\Desktop\\IMPERIAL YEAR 4\\Final year project\\code\\PyalData\\pyaldata\\firing_rates.py:91: UserWarning: Assuming spikes are actually spikes and dividing by bin size.\n",
      "  utils.warnings.warn(\"Assuming spikes are actually spikes and dividing by bin size.\")\n",
      "C:\\Users\\MARA\\Desktop\\IMPERIAL YEAR 4\\Final year project\\code\\PyalData\\pyaldata\\firing_rates.py:91: UserWarning: Assuming spikes are actually spikes and dividing by bin size.\n",
      "  utils.warnings.warn(\"Assuming spikes are actually spikes and dividing by bin size.\")\n"
     ]
    },
    {
     "name": "stdout",
     "output_type": "stream",
     "text": [
      "C:/Users/MARA/Desktop/IMPERIAL YEAR 4/Final year project/code/datasets/autism data/AS-M354/AS-M354-pyaldata2\\AS-M354_session2.mat\n"
     ]
    },
    {
     "name": "stderr",
     "output_type": "stream",
     "text": [
      "C:\\Users\\MARA\\Desktop\\IMPERIAL YEAR 4\\Final year project\\code\\PyalData\\pyaldata\\firing_rates.py:91: UserWarning: Assuming spikes are actually spikes and dividing by bin size.\n",
      "  utils.warnings.warn(\"Assuming spikes are actually spikes and dividing by bin size.\")\n",
      "C:\\Users\\MARA\\Desktop\\IMPERIAL YEAR 4\\Final year project\\code\\PyalData\\pyaldata\\firing_rates.py:91: UserWarning: Assuming spikes are actually spikes and dividing by bin size.\n",
      "  utils.warnings.warn(\"Assuming spikes are actually spikes and dividing by bin size.\")\n",
      "C:\\Users\\MARA\\Desktop\\IMPERIAL YEAR 4\\Final year project\\code\\PyalData\\pyaldata\\firing_rates.py:91: UserWarning: Assuming spikes are actually spikes and dividing by bin size.\n",
      "  utils.warnings.warn(\"Assuming spikes are actually spikes and dividing by bin size.\")\n"
     ]
    },
    {
     "name": "stdout",
     "output_type": "stream",
     "text": [
      "C:/Users/MARA/Desktop/IMPERIAL YEAR 4/Final year project/code/datasets/autism data/AS-M354/AS-M354-pyaldata2\\AS-M354_session4.mat\n"
     ]
    },
    {
     "name": "stderr",
     "output_type": "stream",
     "text": [
      "C:\\Users\\MARA\\Desktop\\IMPERIAL YEAR 4\\Final year project\\code\\PyalData\\pyaldata\\firing_rates.py:91: UserWarning: Assuming spikes are actually spikes and dividing by bin size.\n",
      "  utils.warnings.warn(\"Assuming spikes are actually spikes and dividing by bin size.\")\n",
      "C:\\Users\\MARA\\Desktop\\IMPERIAL YEAR 4\\Final year project\\code\\PyalData\\pyaldata\\firing_rates.py:91: UserWarning: Assuming spikes are actually spikes and dividing by bin size.\n",
      "  utils.warnings.warn(\"Assuming spikes are actually spikes and dividing by bin size.\")\n",
      "C:\\Users\\MARA\\Desktop\\IMPERIAL YEAR 4\\Final year project\\code\\PyalData\\pyaldata\\firing_rates.py:91: UserWarning: Assuming spikes are actually spikes and dividing by bin size.\n",
      "  utils.warnings.warn(\"Assuming spikes are actually spikes and dividing by bin size.\")\n",
      "C:\\Users\\MARA\\AppData\\Local\\Temp\\ipykernel_2484\\724749445.py:38: SettingWithCopyWarning: \n",
      "A value is trying to be set on a copy of a slice from a DataFrame\n",
      "\n",
      "See the caveats in the documentation: https://pandas.pydata.org/pandas-docs/stable/user_guide/indexing.html#returning-a-view-versus-a-copy\n",
      "  df.m1_spikes[i] = df.m1_spikes[i][:,indices_m1]\n",
      "C:\\Users\\MARA\\AppData\\Local\\Temp\\ipykernel_2484\\724749445.py:39: SettingWithCopyWarning: \n",
      "A value is trying to be set on a copy of a slice from a DataFrame\n",
      "\n",
      "See the caveats in the documentation: https://pandas.pydata.org/pandas-docs/stable/user_guide/indexing.html#returning-a-view-versus-a-copy\n",
      "  df.dcn_spikes[i] = df.dcn_spikes[i][:,indices_dcn]\n",
      "C:\\Users\\MARA\\AppData\\Local\\Temp\\ipykernel_2484\\724749445.py:40: SettingWithCopyWarning: \n",
      "A value is trying to be set on a copy of a slice from a DataFrame\n",
      "\n",
      "See the caveats in the documentation: https://pandas.pydata.org/pandas-docs/stable/user_guide/indexing.html#returning-a-view-versus-a-copy\n",
      "  df.str_spikes[i] = df.str_spikes[i][:,indices_str]\n"
     ]
    },
    {
     "name": "stdout",
     "output_type": "stream",
     "text": [
      "C:/Users/MARA/Desktop/IMPERIAL YEAR 4/Final year project/code/datasets/autism data/AS-M354/AS-M354-pyaldata2\\AS-M354_session5.mat\n"
     ]
    },
    {
     "name": "stderr",
     "output_type": "stream",
     "text": [
      "C:\\Users\\MARA\\Desktop\\IMPERIAL YEAR 4\\Final year project\\code\\PyalData\\pyaldata\\firing_rates.py:91: UserWarning: Assuming spikes are actually spikes and dividing by bin size.\n",
      "  utils.warnings.warn(\"Assuming spikes are actually spikes and dividing by bin size.\")\n",
      "C:\\Users\\MARA\\Desktop\\IMPERIAL YEAR 4\\Final year project\\code\\PyalData\\pyaldata\\firing_rates.py:91: UserWarning: Assuming spikes are actually spikes and dividing by bin size.\n",
      "  utils.warnings.warn(\"Assuming spikes are actually spikes and dividing by bin size.\")\n",
      "C:\\Users\\MARA\\Desktop\\IMPERIAL YEAR 4\\Final year project\\code\\PyalData\\pyaldata\\firing_rates.py:91: UserWarning: Assuming spikes are actually spikes and dividing by bin size.\n",
      "  utils.warnings.warn(\"Assuming spikes are actually spikes and dividing by bin size.\")\n",
      "C:\\Users\\MARA\\AppData\\Local\\Temp\\ipykernel_2484\\724749445.py:38: SettingWithCopyWarning: \n",
      "A value is trying to be set on a copy of a slice from a DataFrame\n",
      "\n",
      "See the caveats in the documentation: https://pandas.pydata.org/pandas-docs/stable/user_guide/indexing.html#returning-a-view-versus-a-copy\n",
      "  df.m1_spikes[i] = df.m1_spikes[i][:,indices_m1]\n",
      "C:\\Users\\MARA\\AppData\\Local\\Temp\\ipykernel_2484\\724749445.py:39: SettingWithCopyWarning: \n",
      "A value is trying to be set on a copy of a slice from a DataFrame\n",
      "\n",
      "See the caveats in the documentation: https://pandas.pydata.org/pandas-docs/stable/user_guide/indexing.html#returning-a-view-versus-a-copy\n",
      "  df.dcn_spikes[i] = df.dcn_spikes[i][:,indices_dcn]\n",
      "C:\\Users\\MARA\\AppData\\Local\\Temp\\ipykernel_2484\\724749445.py:40: SettingWithCopyWarning: \n",
      "A value is trying to be set on a copy of a slice from a DataFrame\n",
      "\n",
      "See the caveats in the documentation: https://pandas.pydata.org/pandas-docs/stable/user_guide/indexing.html#returning-a-view-versus-a-copy\n",
      "  df.str_spikes[i] = df.str_spikes[i][:,indices_str]\n"
     ]
    },
    {
     "name": "stdout",
     "output_type": "stream",
     "text": [
      "C:/Users/MARA/Desktop/IMPERIAL YEAR 4/Final year project/code/datasets/autism data/AS-M354/AS-M354-pyaldata2\\AS-M354_session6.mat\n"
     ]
    },
    {
     "name": "stderr",
     "output_type": "stream",
     "text": [
      "C:\\Users\\MARA\\Desktop\\IMPERIAL YEAR 4\\Final year project\\code\\PyalData\\pyaldata\\firing_rates.py:91: UserWarning: Assuming spikes are actually spikes and dividing by bin size.\n",
      "  utils.warnings.warn(\"Assuming spikes are actually spikes and dividing by bin size.\")\n",
      "C:\\Users\\MARA\\Desktop\\IMPERIAL YEAR 4\\Final year project\\code\\PyalData\\pyaldata\\firing_rates.py:91: UserWarning: Assuming spikes are actually spikes and dividing by bin size.\n",
      "  utils.warnings.warn(\"Assuming spikes are actually spikes and dividing by bin size.\")\n",
      "C:\\Users\\MARA\\Desktop\\IMPERIAL YEAR 4\\Final year project\\code\\PyalData\\pyaldata\\firing_rates.py:91: UserWarning: Assuming spikes are actually spikes and dividing by bin size.\n",
      "  utils.warnings.warn(\"Assuming spikes are actually spikes and dividing by bin size.\")\n",
      "C:\\Users\\MARA\\AppData\\Local\\Temp\\ipykernel_2484\\724749445.py:38: SettingWithCopyWarning: \n",
      "A value is trying to be set on a copy of a slice from a DataFrame\n",
      "\n",
      "See the caveats in the documentation: https://pandas.pydata.org/pandas-docs/stable/user_guide/indexing.html#returning-a-view-versus-a-copy\n",
      "  df.m1_spikes[i] = df.m1_spikes[i][:,indices_m1]\n",
      "C:\\Users\\MARA\\AppData\\Local\\Temp\\ipykernel_2484\\724749445.py:39: SettingWithCopyWarning: \n",
      "A value is trying to be set on a copy of a slice from a DataFrame\n",
      "\n",
      "See the caveats in the documentation: https://pandas.pydata.org/pandas-docs/stable/user_guide/indexing.html#returning-a-view-versus-a-copy\n",
      "  df.dcn_spikes[i] = df.dcn_spikes[i][:,indices_dcn]\n",
      "C:\\Users\\MARA\\AppData\\Local\\Temp\\ipykernel_2484\\724749445.py:40: SettingWithCopyWarning: \n",
      "A value is trying to be set on a copy of a slice from a DataFrame\n",
      "\n",
      "See the caveats in the documentation: https://pandas.pydata.org/pandas-docs/stable/user_guide/indexing.html#returning-a-view-versus-a-copy\n",
      "  df.str_spikes[i] = df.str_spikes[i][:,indices_str]\n"
     ]
    },
    {
     "name": "stdout",
     "output_type": "stream",
     "text": [
      "C:/Users/MARA/Desktop/IMPERIAL YEAR 4/Final year project/code/datasets/autism data/AS-M354/AS-M354-pyaldata2\\AS-M354_session7.mat\n"
     ]
    },
    {
     "name": "stderr",
     "output_type": "stream",
     "text": [
      "C:\\Users\\MARA\\Desktop\\IMPERIAL YEAR 4\\Final year project\\code\\PyalData\\pyaldata\\firing_rates.py:91: UserWarning: Assuming spikes are actually spikes and dividing by bin size.\n",
      "  utils.warnings.warn(\"Assuming spikes are actually spikes and dividing by bin size.\")\n",
      "C:\\Users\\MARA\\Desktop\\IMPERIAL YEAR 4\\Final year project\\code\\PyalData\\pyaldata\\firing_rates.py:91: UserWarning: Assuming spikes are actually spikes and dividing by bin size.\n",
      "  utils.warnings.warn(\"Assuming spikes are actually spikes and dividing by bin size.\")\n",
      "C:\\Users\\MARA\\Desktop\\IMPERIAL YEAR 4\\Final year project\\code\\PyalData\\pyaldata\\firing_rates.py:91: UserWarning: Assuming spikes are actually spikes and dividing by bin size.\n",
      "  utils.warnings.warn(\"Assuming spikes are actually spikes and dividing by bin size.\")\n",
      "C:\\Users\\MARA\\AppData\\Local\\Temp\\ipykernel_2484\\724749445.py:38: SettingWithCopyWarning: \n",
      "A value is trying to be set on a copy of a slice from a DataFrame\n",
      "\n",
      "See the caveats in the documentation: https://pandas.pydata.org/pandas-docs/stable/user_guide/indexing.html#returning-a-view-versus-a-copy\n",
      "  df.m1_spikes[i] = df.m1_spikes[i][:,indices_m1]\n",
      "C:\\Users\\MARA\\AppData\\Local\\Temp\\ipykernel_2484\\724749445.py:39: SettingWithCopyWarning: \n",
      "A value is trying to be set on a copy of a slice from a DataFrame\n",
      "\n",
      "See the caveats in the documentation: https://pandas.pydata.org/pandas-docs/stable/user_guide/indexing.html#returning-a-view-versus-a-copy\n",
      "  df.dcn_spikes[i] = df.dcn_spikes[i][:,indices_dcn]\n",
      "C:\\Users\\MARA\\AppData\\Local\\Temp\\ipykernel_2484\\724749445.py:40: SettingWithCopyWarning: \n",
      "A value is trying to be set on a copy of a slice from a DataFrame\n",
      "\n",
      "See the caveats in the documentation: https://pandas.pydata.org/pandas-docs/stable/user_guide/indexing.html#returning-a-view-versus-a-copy\n",
      "  df.str_spikes[i] = df.str_spikes[i][:,indices_str]\n"
     ]
    },
    {
     "name": "stdout",
     "output_type": "stream",
     "text": [
      "C:/Users/MARA/Desktop/IMPERIAL YEAR 4/Final year project/code/datasets/autism data/AS-M354/AS-M354-pyaldata2\\AS-M354_session8.mat\n"
     ]
    },
    {
     "name": "stderr",
     "output_type": "stream",
     "text": [
      "C:\\Users\\MARA\\Desktop\\IMPERIAL YEAR 4\\Final year project\\code\\PyalData\\pyaldata\\firing_rates.py:91: UserWarning: Assuming spikes are actually spikes and dividing by bin size.\n",
      "  utils.warnings.warn(\"Assuming spikes are actually spikes and dividing by bin size.\")\n",
      "C:\\Users\\MARA\\Desktop\\IMPERIAL YEAR 4\\Final year project\\code\\PyalData\\pyaldata\\firing_rates.py:91: UserWarning: Assuming spikes are actually spikes and dividing by bin size.\n",
      "  utils.warnings.warn(\"Assuming spikes are actually spikes and dividing by bin size.\")\n",
      "C:\\Users\\MARA\\Desktop\\IMPERIAL YEAR 4\\Final year project\\code\\PyalData\\pyaldata\\firing_rates.py:91: UserWarning: Assuming spikes are actually spikes and dividing by bin size.\n",
      "  utils.warnings.warn(\"Assuming spikes are actually spikes and dividing by bin size.\")\n",
      "C:\\Users\\MARA\\AppData\\Local\\Temp\\ipykernel_2484\\724749445.py:38: SettingWithCopyWarning: \n",
      "A value is trying to be set on a copy of a slice from a DataFrame\n",
      "\n",
      "See the caveats in the documentation: https://pandas.pydata.org/pandas-docs/stable/user_guide/indexing.html#returning-a-view-versus-a-copy\n",
      "  df.m1_spikes[i] = df.m1_spikes[i][:,indices_m1]\n",
      "C:\\Users\\MARA\\AppData\\Local\\Temp\\ipykernel_2484\\724749445.py:39: SettingWithCopyWarning: \n",
      "A value is trying to be set on a copy of a slice from a DataFrame\n",
      "\n",
      "See the caveats in the documentation: https://pandas.pydata.org/pandas-docs/stable/user_guide/indexing.html#returning-a-view-versus-a-copy\n",
      "  df.dcn_spikes[i] = df.dcn_spikes[i][:,indices_dcn]\n",
      "C:\\Users\\MARA\\AppData\\Local\\Temp\\ipykernel_2484\\724749445.py:40: SettingWithCopyWarning: \n",
      "A value is trying to be set on a copy of a slice from a DataFrame\n",
      "\n",
      "See the caveats in the documentation: https://pandas.pydata.org/pandas-docs/stable/user_guide/indexing.html#returning-a-view-versus-a-copy\n",
      "  df.str_spikes[i] = df.str_spikes[i][:,indices_str]\n"
     ]
    },
    {
     "name": "stdout",
     "output_type": "stream",
     "text": [
      "C:/Users/MARA/Desktop/IMPERIAL YEAR 4/Final year project/code/datasets/autism data/PS-M365/PS-M365-pyaldata2\\PS-M365_session1.mat\n"
     ]
    },
    {
     "name": "stderr",
     "output_type": "stream",
     "text": [
      "C:\\Users\\MARA\\Desktop\\IMPERIAL YEAR 4\\Final year project\\code\\PyalData\\pyaldata\\firing_rates.py:91: UserWarning: Assuming spikes are actually spikes and dividing by bin size.\n",
      "  utils.warnings.warn(\"Assuming spikes are actually spikes and dividing by bin size.\")\n",
      "C:\\Users\\MARA\\Desktop\\IMPERIAL YEAR 4\\Final year project\\code\\PyalData\\pyaldata\\firing_rates.py:91: UserWarning: Assuming spikes are actually spikes and dividing by bin size.\n",
      "  utils.warnings.warn(\"Assuming spikes are actually spikes and dividing by bin size.\")\n",
      "C:\\Users\\MARA\\Desktop\\IMPERIAL YEAR 4\\Final year project\\code\\PyalData\\pyaldata\\firing_rates.py:91: UserWarning: Assuming spikes are actually spikes and dividing by bin size.\n",
      "  utils.warnings.warn(\"Assuming spikes are actually spikes and dividing by bin size.\")\n",
      "C:\\Users\\MARA\\AppData\\Local\\Temp\\ipykernel_2484\\724749445.py:38: SettingWithCopyWarning: \n",
      "A value is trying to be set on a copy of a slice from a DataFrame\n",
      "\n",
      "See the caveats in the documentation: https://pandas.pydata.org/pandas-docs/stable/user_guide/indexing.html#returning-a-view-versus-a-copy\n",
      "  df.m1_spikes[i] = df.m1_spikes[i][:,indices_m1]\n",
      "C:\\Users\\MARA\\AppData\\Local\\Temp\\ipykernel_2484\\724749445.py:39: SettingWithCopyWarning: \n",
      "A value is trying to be set on a copy of a slice from a DataFrame\n",
      "\n",
      "See the caveats in the documentation: https://pandas.pydata.org/pandas-docs/stable/user_guide/indexing.html#returning-a-view-versus-a-copy\n",
      "  df.dcn_spikes[i] = df.dcn_spikes[i][:,indices_dcn]\n",
      "C:\\Users\\MARA\\AppData\\Local\\Temp\\ipykernel_2484\\724749445.py:40: SettingWithCopyWarning: \n",
      "A value is trying to be set on a copy of a slice from a DataFrame\n",
      "\n",
      "See the caveats in the documentation: https://pandas.pydata.org/pandas-docs/stable/user_guide/indexing.html#returning-a-view-versus-a-copy\n",
      "  df.str_spikes[i] = df.str_spikes[i][:,indices_str]\n",
      "C:\\Users\\MARA\\AppData\\Local\\Temp\\ipykernel_2484\\724749445.py:51: UserWarning: Dropping the trials with the following IDs because of invalid time indexing. For more information, try warn_per_trial=True\n",
      "\n",
      "        [20]\n",
      "  df = pyaldata.restrict_to_interval(df, \"idx_mo\", end_point_name=None, rel_start=-50, rel_end=300)  # consider half a second before and after movement onset\n"
     ]
    },
    {
     "name": "stdout",
     "output_type": "stream",
     "text": [
      "C:/Users/MARA/Desktop/IMPERIAL YEAR 4/Final year project/code/datasets/autism data/PS-M365/PS-M365-pyaldata2\\PS-M365_session2.mat\n"
     ]
    },
    {
     "name": "stderr",
     "output_type": "stream",
     "text": [
      "C:\\Users\\MARA\\Desktop\\IMPERIAL YEAR 4\\Final year project\\code\\PyalData\\pyaldata\\firing_rates.py:91: UserWarning: Assuming spikes are actually spikes and dividing by bin size.\n",
      "  utils.warnings.warn(\"Assuming spikes are actually spikes and dividing by bin size.\")\n",
      "C:\\Users\\MARA\\Desktop\\IMPERIAL YEAR 4\\Final year project\\code\\PyalData\\pyaldata\\firing_rates.py:91: UserWarning: Assuming spikes are actually spikes and dividing by bin size.\n",
      "  utils.warnings.warn(\"Assuming spikes are actually spikes and dividing by bin size.\")\n",
      "C:\\Users\\MARA\\Desktop\\IMPERIAL YEAR 4\\Final year project\\code\\PyalData\\pyaldata\\firing_rates.py:91: UserWarning: Assuming spikes are actually spikes and dividing by bin size.\n",
      "  utils.warnings.warn(\"Assuming spikes are actually spikes and dividing by bin size.\")\n",
      "C:\\Users\\MARA\\AppData\\Local\\Temp\\ipykernel_2484\\724749445.py:38: SettingWithCopyWarning: \n",
      "A value is trying to be set on a copy of a slice from a DataFrame\n",
      "\n",
      "See the caveats in the documentation: https://pandas.pydata.org/pandas-docs/stable/user_guide/indexing.html#returning-a-view-versus-a-copy\n",
      "  df.m1_spikes[i] = df.m1_spikes[i][:,indices_m1]\n",
      "C:\\Users\\MARA\\AppData\\Local\\Temp\\ipykernel_2484\\724749445.py:39: SettingWithCopyWarning: \n",
      "A value is trying to be set on a copy of a slice from a DataFrame\n",
      "\n",
      "See the caveats in the documentation: https://pandas.pydata.org/pandas-docs/stable/user_guide/indexing.html#returning-a-view-versus-a-copy\n",
      "  df.dcn_spikes[i] = df.dcn_spikes[i][:,indices_dcn]\n",
      "C:\\Users\\MARA\\AppData\\Local\\Temp\\ipykernel_2484\\724749445.py:40: SettingWithCopyWarning: \n",
      "A value is trying to be set on a copy of a slice from a DataFrame\n",
      "\n",
      "See the caveats in the documentation: https://pandas.pydata.org/pandas-docs/stable/user_guide/indexing.html#returning-a-view-versus-a-copy\n",
      "  df.str_spikes[i] = df.str_spikes[i][:,indices_str]\n"
     ]
    },
    {
     "name": "stdout",
     "output_type": "stream",
     "text": [
      "C:/Users/MARA/Desktop/IMPERIAL YEAR 4/Final year project/code/datasets/autism data/PS-M365/PS-M365-pyaldata2\\PS-M365_session4.mat\n"
     ]
    },
    {
     "name": "stderr",
     "output_type": "stream",
     "text": [
      "C:\\Users\\MARA\\Desktop\\IMPERIAL YEAR 4\\Final year project\\code\\PyalData\\pyaldata\\firing_rates.py:91: UserWarning: Assuming spikes are actually spikes and dividing by bin size.\n",
      "  utils.warnings.warn(\"Assuming spikes are actually spikes and dividing by bin size.\")\n",
      "C:\\Users\\MARA\\Desktop\\IMPERIAL YEAR 4\\Final year project\\code\\PyalData\\pyaldata\\firing_rates.py:91: UserWarning: Assuming spikes are actually spikes and dividing by bin size.\n",
      "  utils.warnings.warn(\"Assuming spikes are actually spikes and dividing by bin size.\")\n",
      "C:\\Users\\MARA\\Desktop\\IMPERIAL YEAR 4\\Final year project\\code\\PyalData\\pyaldata\\firing_rates.py:91: UserWarning: Assuming spikes are actually spikes and dividing by bin size.\n",
      "  utils.warnings.warn(\"Assuming spikes are actually spikes and dividing by bin size.\")\n",
      "C:\\Users\\MARA\\AppData\\Local\\Temp\\ipykernel_2484\\724749445.py:38: SettingWithCopyWarning: \n",
      "A value is trying to be set on a copy of a slice from a DataFrame\n",
      "\n",
      "See the caveats in the documentation: https://pandas.pydata.org/pandas-docs/stable/user_guide/indexing.html#returning-a-view-versus-a-copy\n",
      "  df.m1_spikes[i] = df.m1_spikes[i][:,indices_m1]\n",
      "C:\\Users\\MARA\\AppData\\Local\\Temp\\ipykernel_2484\\724749445.py:39: SettingWithCopyWarning: \n",
      "A value is trying to be set on a copy of a slice from a DataFrame\n",
      "\n",
      "See the caveats in the documentation: https://pandas.pydata.org/pandas-docs/stable/user_guide/indexing.html#returning-a-view-versus-a-copy\n",
      "  df.dcn_spikes[i] = df.dcn_spikes[i][:,indices_dcn]\n",
      "C:\\Users\\MARA\\AppData\\Local\\Temp\\ipykernel_2484\\724749445.py:40: SettingWithCopyWarning: \n",
      "A value is trying to be set on a copy of a slice from a DataFrame\n",
      "\n",
      "See the caveats in the documentation: https://pandas.pydata.org/pandas-docs/stable/user_guide/indexing.html#returning-a-view-versus-a-copy\n",
      "  df.str_spikes[i] = df.str_spikes[i][:,indices_str]\n"
     ]
    },
    {
     "name": "stdout",
     "output_type": "stream",
     "text": [
      "C:/Users/MARA/Desktop/IMPERIAL YEAR 4/Final year project/code/datasets/autism data/PS-M366/PS-M366-pyaldata2\\PS-M366_session4.mat\n"
     ]
    },
    {
     "name": "stderr",
     "output_type": "stream",
     "text": [
      "C:\\Users\\MARA\\Desktop\\IMPERIAL YEAR 4\\Final year project\\code\\PyalData\\pyaldata\\firing_rates.py:91: UserWarning: Assuming spikes are actually spikes and dividing by bin size.\n",
      "  utils.warnings.warn(\"Assuming spikes are actually spikes and dividing by bin size.\")\n",
      "C:\\Users\\MARA\\Desktop\\IMPERIAL YEAR 4\\Final year project\\code\\PyalData\\pyaldata\\firing_rates.py:91: UserWarning: Assuming spikes are actually spikes and dividing by bin size.\n",
      "  utils.warnings.warn(\"Assuming spikes are actually spikes and dividing by bin size.\")\n",
      "C:\\Users\\MARA\\Desktop\\IMPERIAL YEAR 4\\Final year project\\code\\PyalData\\pyaldata\\firing_rates.py:91: UserWarning: Assuming spikes are actually spikes and dividing by bin size.\n",
      "  utils.warnings.warn(\"Assuming spikes are actually spikes and dividing by bin size.\")\n",
      "C:\\Users\\MARA\\AppData\\Local\\Temp\\ipykernel_2484\\724749445.py:38: SettingWithCopyWarning: \n",
      "A value is trying to be set on a copy of a slice from a DataFrame\n",
      "\n",
      "See the caveats in the documentation: https://pandas.pydata.org/pandas-docs/stable/user_guide/indexing.html#returning-a-view-versus-a-copy\n",
      "  df.m1_spikes[i] = df.m1_spikes[i][:,indices_m1]\n",
      "C:\\Users\\MARA\\AppData\\Local\\Temp\\ipykernel_2484\\724749445.py:39: SettingWithCopyWarning: \n",
      "A value is trying to be set on a copy of a slice from a DataFrame\n",
      "\n",
      "See the caveats in the documentation: https://pandas.pydata.org/pandas-docs/stable/user_guide/indexing.html#returning-a-view-versus-a-copy\n",
      "  df.dcn_spikes[i] = df.dcn_spikes[i][:,indices_dcn]\n",
      "C:\\Users\\MARA\\AppData\\Local\\Temp\\ipykernel_2484\\724749445.py:40: SettingWithCopyWarning: \n",
      "A value is trying to be set on a copy of a slice from a DataFrame\n",
      "\n",
      "See the caveats in the documentation: https://pandas.pydata.org/pandas-docs/stable/user_guide/indexing.html#returning-a-view-versus-a-copy\n",
      "  df.str_spikes[i] = df.str_spikes[i][:,indices_str]\n",
      "C:\\Users\\MARA\\AppData\\Local\\Temp\\ipykernel_2484\\724749445.py:51: UserWarning: Dropping the trials with the following IDs because of invalid time indexing. For more information, try warn_per_trial=True\n",
      "\n",
      "        [41]\n",
      "  df = pyaldata.restrict_to_interval(df, \"idx_mo\", end_point_name=None, rel_start=-50, rel_end=300)  # consider half a second before and after movement onset\n"
     ]
    },
    {
     "name": "stdout",
     "output_type": "stream",
     "text": [
      "C:/Users/MARA/Desktop/IMPERIAL YEAR 4/Final year project/code/datasets/autism data/PS-M366/PS-M366-pyaldata2\\PS-M366_session5.mat\n"
     ]
    },
    {
     "name": "stderr",
     "output_type": "stream",
     "text": [
      "C:\\Users\\MARA\\Desktop\\IMPERIAL YEAR 4\\Final year project\\code\\PyalData\\pyaldata\\firing_rates.py:91: UserWarning: Assuming spikes are actually spikes and dividing by bin size.\n",
      "  utils.warnings.warn(\"Assuming spikes are actually spikes and dividing by bin size.\")\n",
      "C:\\Users\\MARA\\Desktop\\IMPERIAL YEAR 4\\Final year project\\code\\PyalData\\pyaldata\\firing_rates.py:91: UserWarning: Assuming spikes are actually spikes and dividing by bin size.\n",
      "  utils.warnings.warn(\"Assuming spikes are actually spikes and dividing by bin size.\")\n",
      "C:\\Users\\MARA\\Desktop\\IMPERIAL YEAR 4\\Final year project\\code\\PyalData\\pyaldata\\firing_rates.py:91: UserWarning: Assuming spikes are actually spikes and dividing by bin size.\n",
      "  utils.warnings.warn(\"Assuming spikes are actually spikes and dividing by bin size.\")\n"
     ]
    }
   ],
   "source": [
    "# consider all models, and no thalamus: \n",
    "\n",
    "activity_magn_strengths = {'WT-M350':{'m1':[], 'dcn':[], 'str':[]},\n",
    "                'WT-M355':{'m1':[], 'dcn':[], 'str':[]}, \n",
    "                'AS-M351':{'m1':[], 'dcn':[], 'str':[]},\n",
    "                'AS-M354':{'m1':[], 'dcn':[], 'str':[]},\n",
    "                'PS-M365':{'m1':[], 'dcn':[], 'str':[]},\n",
    "                'PS-M366':{'m1':[], 'dcn':[], 'str':[]}}\n",
    "\n",
    "for data_dir in [data_dir_WTM350, data_dir_WTM355, data_dir_ASM351, data_dir_ASM354, data_dir_PSM365, data_dir_PSM366]:\n",
    "    animal_model = data_dir[-17:-10]\n",
    "    files = os.listdir(data_dir)\n",
    "    for file_name in files:\n",
    "        fpath = os.path.join(data_dir, file_name)\n",
    "        df = pyaldata.mat2dataframe(fpath, shift_idx_fields=True)\n",
    "        df = pyaldata.select_trials(df, \"success == 1\")  # only consider successful trials\n",
    "        df[\"trial_id\"] = range(len(df))\n",
    "\n",
    "\n",
    "\n",
    "        if len(df)>4:\n",
    "            if df.m1_spikes[0].shape[1]>10 and df.dcn_spikes[0].shape[1]>10 and df.str_spikes[0].shape[1]>10:\n",
    "                print(fpath)\n",
    "                df = pyaldata.combine_time_bins(df, 5)\n",
    "                spike_fields = [\"m1_spikes\",\"dcn_spikes\",\"str_spikes\"]\n",
    "\n",
    "                for col in spike_fields:\n",
    "                    df = pyaldata.remove_low_firing_neurons(df, col,  1)\n",
    "\n",
    "                subsample_number_neurons = min([df.m1_spikes[0].shape[1], df.dcn_spikes[0].shape[1], df.str_spikes[0].shape[1]])\n",
    "\n",
    "                if subsample_number_neurons >= 20:\n",
    "\n",
    "                    indices_m1 = random.sample(range(df.m1_spikes[0].shape[1]), subsample_number_neurons)\n",
    "                    indices_dcn = random.sample(range(df.dcn_spikes[0].shape[1]), subsample_number_neurons)\n",
    "                    indices_str = random.sample(range(df.str_spikes[0].shape[1]), subsample_number_neurons)\n",
    "                    for i in range(len(df)):\n",
    "                        df.m1_spikes[i] = df.m1_spikes[i][:,indices_m1]\n",
    "                        df.dcn_spikes[i] = df.dcn_spikes[i][:,indices_dcn]\n",
    "                        df.str_spikes[i] = df.str_spikes[i][:,indices_str]\n",
    "\n",
    "\n",
    "\n",
    "                    for col in spike_fields:\n",
    "                        df = pyaldata.transform_signal(df, col,  'sqrt')\n",
    "\n",
    "                    df = pyaldata.merge_signals(df, spike_fields, \"all_spikes\")\n",
    "\n",
    "                    df = pyaldata.add_firing_rates(df, 'smooth')\n",
    "\n",
    "                    df = pyaldata.restrict_to_interval(df, \"idx_mo\", end_point_name=None, rel_start=-50, rel_end=300)  # consider half a second before and after movement onset\n",
    "\n",
    "\n",
    "\n",
    "\n",
    "                    # trial-average:\n",
    "                    avg_all_rates = df[\"all_rates\"].mean()\n",
    "                    avg_m1_rates = df[\"m1_rates\"].mean()\n",
    "                    avg_str_rates = df[\"str_rates\"].mean()\n",
    "                    avg_dcn_rates = df[\"dcn_rates\"].mean()\n",
    "\n",
    "\n",
    "                    magn_m1 = sum(abs(avg_m1_rates))\n",
    "                    baseline_m1 = np.mean(magn_m1[0:50])\n",
    "                    strength_m1 = math.sqrt(sum(np.power(((magn_m1[50:100]-baseline_m1)/baseline_m1),2))/50)\n",
    "                    activity_magn_strengths[animal_model]['m1'].append(strength_m1)\n",
    "\n",
    "                    magn_dcn = sum(abs(avg_dcn_rates))\n",
    "                    baseline_dcn = np.mean(magn_dcn[0:50])\n",
    "                    strength_dcn = math.sqrt(sum(np.power(((magn_dcn[50:100]-baseline_dcn)/baseline_dcn),2))/50)\n",
    "                    activity_magn_strengths[animal_model]['dcn'].append(strength_dcn)\n",
    "\n",
    "                    magn_str = sum(abs(avg_str_rates))\n",
    "                    baseline_str = np.mean(magn_str[0:50])\n",
    "                    strength_str = math.sqrt(sum(np.power(((magn_str[50:100]-baseline_str)/baseline_str),2))/50)\n",
    "                    activity_magn_strengths[animal_model]['str'].append(strength_str)\n"
   ]
  },
  {
   "cell_type": "code",
   "execution_count": 7,
   "metadata": {},
   "outputs": [
    {
     "ename": "StatisticsError",
     "evalue": "variance requires at least two data points",
     "output_type": "error",
     "traceback": [
      "\u001b[1;31m---------------------------------------------------------------------------\u001b[0m",
      "\u001b[1;31mStatisticsError\u001b[0m                           Traceback (most recent call last)",
      "Cell \u001b[1;32mIn[7], line 15\u001b[0m\n\u001b[0;32m     12\u001b[0m \u001b[38;5;28;01mfor\u001b[39;00m activity \u001b[38;5;129;01min\u001b[39;00m activity_list:\n\u001b[0;32m     13\u001b[0m     \u001b[38;5;66;03m#plt.scatter(i*np.ones(len(current_magn_strengths[animal_model][current])),current_magn_strengths[animal_model][current], color=colors_list[current_index], s=10)  # or should we plot the median for each session instead of mean?\u001b[39;00m\n\u001b[0;32m     14\u001b[0m     handle \u001b[38;5;241m=\u001b[39m plt\u001b[38;5;241m.\u001b[39mscatter(i,statistics\u001b[38;5;241m.\u001b[39mmean(activity_magn_strengths[animal_model][activity]), color\u001b[38;5;241m=\u001b[39mcolors_list[current_index], marker\u001b[38;5;241m=\u001b[39m\u001b[38;5;124m'\u001b[39m\u001b[38;5;124mx\u001b[39m\u001b[38;5;124m'\u001b[39m, s\u001b[38;5;241m=\u001b[39m\u001b[38;5;241m100\u001b[39m)  \u001b[38;5;66;03m# median of average (mean) duration of movement execution for each session\u001b[39;00m\n\u001b[1;32m---> 15\u001b[0m     plt\u001b[38;5;241m.\u001b[39mplot([i,i], [statistics\u001b[38;5;241m.\u001b[39mmean(activity_magn_strengths[animal_model][activity])\u001b[38;5;241m-\u001b[39m\u001b[43mstatistics\u001b[49m\u001b[38;5;241;43m.\u001b[39;49m\u001b[43mstdev\u001b[49m\u001b[43m(\u001b[49m\u001b[43mactivity_magn_strengths\u001b[49m\u001b[43m[\u001b[49m\u001b[43manimal_model\u001b[49m\u001b[43m]\u001b[49m\u001b[43m[\u001b[49m\u001b[43mactivity\u001b[49m\u001b[43m]\u001b[49m\u001b[43m)\u001b[49m\u001b[38;5;241m/\u001b[39m\u001b[38;5;241m2\u001b[39m,statistics\u001b[38;5;241m.\u001b[39mmean(activity_magn_strengths[animal_model][activity])\u001b[38;5;241m+\u001b[39mstatistics\u001b[38;5;241m.\u001b[39mstdev(activity_magn_strengths[animal_model][activity])\u001b[38;5;241m/\u001b[39m\u001b[38;5;241m2\u001b[39m], color\u001b[38;5;241m=\u001b[39mcolors_list[current_index])\n\u001b[0;32m     16\u001b[0m     current_index \u001b[38;5;241m+\u001b[39m\u001b[38;5;241m=\u001b[39m\u001b[38;5;241m1\u001b[39m\n\u001b[0;32m     17\u001b[0m     i \u001b[38;5;241m+\u001b[39m\u001b[38;5;241m=\u001b[39m\u001b[38;5;241m1\u001b[39m\n",
      "File \u001b[1;32mc:\\Users\\MARA\\AppData\\Local\\Programs\\Python\\Python310\\lib\\statistics.py:828\u001b[0m, in \u001b[0;36mstdev\u001b[1;34m(data, xbar)\u001b[0m\n\u001b[0;32m    817\u001b[0m \u001b[38;5;250m\u001b[39m\u001b[38;5;124;03m\"\"\"Return the square root of the sample variance.\u001b[39;00m\n\u001b[0;32m    818\u001b[0m \n\u001b[0;32m    819\u001b[0m \u001b[38;5;124;03mSee ``variance`` for arguments and other details.\u001b[39;00m\n\u001b[1;32m   (...)\u001b[0m\n\u001b[0;32m    823\u001b[0m \n\u001b[0;32m    824\u001b[0m \u001b[38;5;124;03m\"\"\"\u001b[39;00m\n\u001b[0;32m    825\u001b[0m \u001b[38;5;66;03m# Fixme: Despite the exact sum of squared deviations, some inaccuracy\u001b[39;00m\n\u001b[0;32m    826\u001b[0m \u001b[38;5;66;03m# remain because there are two rounding steps.  The first occurs in\u001b[39;00m\n\u001b[0;32m    827\u001b[0m \u001b[38;5;66;03m# the _convert() step for variance(), the second occurs in math.sqrt().\u001b[39;00m\n\u001b[1;32m--> 828\u001b[0m var \u001b[38;5;241m=\u001b[39m \u001b[43mvariance\u001b[49m\u001b[43m(\u001b[49m\u001b[43mdata\u001b[49m\u001b[43m,\u001b[49m\u001b[43m \u001b[49m\u001b[43mxbar\u001b[49m\u001b[43m)\u001b[49m\n\u001b[0;32m    829\u001b[0m \u001b[38;5;28;01mtry\u001b[39;00m:\n\u001b[0;32m    830\u001b[0m     \u001b[38;5;28;01mreturn\u001b[39;00m var\u001b[38;5;241m.\u001b[39msqrt()\n",
      "File \u001b[1;32mc:\\Users\\MARA\\AppData\\Local\\Programs\\Python\\Python310\\lib\\statistics.py:767\u001b[0m, in \u001b[0;36mvariance\u001b[1;34m(data, xbar)\u001b[0m\n\u001b[0;32m    765\u001b[0m n \u001b[38;5;241m=\u001b[39m \u001b[38;5;28mlen\u001b[39m(data)\n\u001b[0;32m    766\u001b[0m \u001b[38;5;28;01mif\u001b[39;00m n \u001b[38;5;241m<\u001b[39m \u001b[38;5;241m2\u001b[39m:\n\u001b[1;32m--> 767\u001b[0m     \u001b[38;5;28;01mraise\u001b[39;00m StatisticsError(\u001b[38;5;124m'\u001b[39m\u001b[38;5;124mvariance requires at least two data points\u001b[39m\u001b[38;5;124m'\u001b[39m)\n\u001b[0;32m    768\u001b[0m T, ss \u001b[38;5;241m=\u001b[39m _ss(data, xbar)\n\u001b[0;32m    769\u001b[0m \u001b[38;5;28;01mreturn\u001b[39;00m _convert(ss \u001b[38;5;241m/\u001b[39m (n \u001b[38;5;241m-\u001b[39m \u001b[38;5;241m1\u001b[39m), T)\n",
      "\u001b[1;31mStatisticsError\u001b[0m: variance requires at least two data points"
     ]
    },
    {
     "data": {
      "image/png": "[encoded data removed]",
      "text/plain": [
       "<Figure size 640x480 with 1 Axes>"
      ]
     },
     "metadata": {},
     "output_type": "display_data"
    }
   ],
   "source": [
    "import statistics\n",
    "\n",
    "# Using mean and standard deviation (obs: need normal distribution)\n",
    "\n",
    "activity_list = ['m1','dcn','str']\n",
    "colors_list = ['r','b','g']\n",
    "i = 1\n",
    "\n",
    "handles = []\n",
    "for animal_model in ['WT-M350','WT-M355','AS-M351','AS-M354','PS-M365','PS-M366']:\n",
    "    current_index = 0\n",
    "    for activity in activity_list:\n",
    "        #plt.scatter(i*np.ones(len(current_magn_strengths[animal_model][current])),current_magn_strengths[animal_model][current], color=colors_list[current_index], s=10)  # or should we plot the median for each session instead of mean?\n",
    "        handle = plt.scatter(i,statistics.mean(activity_magn_strengths[animal_model][activity]), color=colors_list[current_index], marker='x', s=100)  # median of average (mean) duration of movement execution for each session\n",
    "        plt.plot([i,i], [statistics.mean(activity_magn_strengths[animal_model][activity])-statistics.stdev(activity_magn_strengths[animal_model][activity])/2,statistics.mean(activity_magn_strengths[animal_model][activity])+statistics.stdev(activity_magn_strengths[animal_model][activity])/2], color=colors_list[current_index])\n",
    "        current_index +=1\n",
    "        i +=1\n",
    "        handles.append(handle)\n",
    "    i +=18\n",
    "\n",
    "plt.xticks([2,25,45,65,85,105],['WT-M350','WT-M355','AS-M351','AS-M354','PS-M365','PS-M366'])\n",
    "plt.xlabel('Mouse model')\n",
    "plt.ylabel('Change in activity magnitudes')\n",
    "plt.title('Change in activity magnitudes in the first half second after movement onset')\n",
    "plt.legend(handles[0:9], activity_list, fontsize='small')"
   ]
  },
  {
   "cell_type": "code",
   "execution_count": null,
   "metadata": {},
   "outputs": [],
   "source": []
  },
  {
   "cell_type": "code",
   "execution_count": 4,
   "metadata": {},
   "outputs": [
    {
     "name": "stdout",
     "output_type": "stream",
     "text": [
      "C:/Users/MARA/Desktop/IMPERIAL YEAR 4/Final year project/code/datasets/autism data/WT-M350/WT-M350-pyaldata2\\WT-M350_session1.mat\n"
     ]
    },
    {
     "name": "stderr",
     "output_type": "stream",
     "text": [
      "C:\\Users\\MARA\\Desktop\\IMPERIAL YEAR 4\\Final year project\\code\\PyalData\\pyaldata\\firing_rates.py:91: UserWarning: Assuming spikes are actually spikes and dividing by bin size.\n",
      "  utils.warnings.warn(\"Assuming spikes are actually spikes and dividing by bin size.\")\n",
      "C:\\Users\\MARA\\Desktop\\IMPERIAL YEAR 4\\Final year project\\code\\PyalData\\pyaldata\\firing_rates.py:91: UserWarning: Assuming spikes are actually spikes and dividing by bin size.\n",
      "  utils.warnings.warn(\"Assuming spikes are actually spikes and dividing by bin size.\")\n",
      "C:\\Users\\MARA\\Desktop\\IMPERIAL YEAR 4\\Final year project\\code\\PyalData\\pyaldata\\firing_rates.py:91: UserWarning: Assuming spikes are actually spikes and dividing by bin size.\n",
      "  utils.warnings.warn(\"Assuming spikes are actually spikes and dividing by bin size.\")\n"
     ]
    },
    {
     "name": "stdout",
     "output_type": "stream",
     "text": [
      "C:/Users/MARA/Desktop/IMPERIAL YEAR 4/Final year project/code/datasets/autism data/WT-M350/WT-M350-pyaldata2\\WT-M350_session2.mat\n"
     ]
    },
    {
     "name": "stderr",
     "output_type": "stream",
     "text": [
      "C:\\Users\\MARA\\Desktop\\IMPERIAL YEAR 4\\Final year project\\code\\PyalData\\pyaldata\\firing_rates.py:91: UserWarning: Assuming spikes are actually spikes and dividing by bin size.\n",
      "  utils.warnings.warn(\"Assuming spikes are actually spikes and dividing by bin size.\")\n",
      "C:\\Users\\MARA\\Desktop\\IMPERIAL YEAR 4\\Final year project\\code\\PyalData\\pyaldata\\firing_rates.py:91: UserWarning: Assuming spikes are actually spikes and dividing by bin size.\n",
      "  utils.warnings.warn(\"Assuming spikes are actually spikes and dividing by bin size.\")\n",
      "C:\\Users\\MARA\\Desktop\\IMPERIAL YEAR 4\\Final year project\\code\\PyalData\\pyaldata\\firing_rates.py:91: UserWarning: Assuming spikes are actually spikes and dividing by bin size.\n",
      "  utils.warnings.warn(\"Assuming spikes are actually spikes and dividing by bin size.\")\n"
     ]
    },
    {
     "name": "stdout",
     "output_type": "stream",
     "text": [
      "C:/Users/MARA/Desktop/IMPERIAL YEAR 4/Final year project/code/datasets/autism data/WT-M350/WT-M350-pyaldata2\\WT-M350_session3.mat\n"
     ]
    },
    {
     "name": "stderr",
     "output_type": "stream",
     "text": [
      "C:\\Users\\MARA\\Desktop\\IMPERIAL YEAR 4\\Final year project\\code\\PyalData\\pyaldata\\firing_rates.py:91: UserWarning: Assuming spikes are actually spikes and dividing by bin size.\n",
      "  utils.warnings.warn(\"Assuming spikes are actually spikes and dividing by bin size.\")\n",
      "C:\\Users\\MARA\\Desktop\\IMPERIAL YEAR 4\\Final year project\\code\\PyalData\\pyaldata\\firing_rates.py:91: UserWarning: Assuming spikes are actually spikes and dividing by bin size.\n",
      "  utils.warnings.warn(\"Assuming spikes are actually spikes and dividing by bin size.\")\n",
      "C:\\Users\\MARA\\Desktop\\IMPERIAL YEAR 4\\Final year project\\code\\PyalData\\pyaldata\\firing_rates.py:91: UserWarning: Assuming spikes are actually spikes and dividing by bin size.\n",
      "  utils.warnings.warn(\"Assuming spikes are actually spikes and dividing by bin size.\")\n"
     ]
    },
    {
     "name": "stdout",
     "output_type": "stream",
     "text": [
      "C:/Users/MARA/Desktop/IMPERIAL YEAR 4/Final year project/code/datasets/autism data/WT-M350/WT-M350-pyaldata2\\WT-M350_session4.mat\n"
     ]
    },
    {
     "name": "stderr",
     "output_type": "stream",
     "text": [
      "C:\\Users\\MARA\\Desktop\\IMPERIAL YEAR 4\\Final year project\\code\\PyalData\\pyaldata\\firing_rates.py:91: UserWarning: Assuming spikes are actually spikes and dividing by bin size.\n",
      "  utils.warnings.warn(\"Assuming spikes are actually spikes and dividing by bin size.\")\n",
      "C:\\Users\\MARA\\Desktop\\IMPERIAL YEAR 4\\Final year project\\code\\PyalData\\pyaldata\\firing_rates.py:91: UserWarning: Assuming spikes are actually spikes and dividing by bin size.\n",
      "  utils.warnings.warn(\"Assuming spikes are actually spikes and dividing by bin size.\")\n",
      "C:\\Users\\MARA\\Desktop\\IMPERIAL YEAR 4\\Final year project\\code\\PyalData\\pyaldata\\firing_rates.py:91: UserWarning: Assuming spikes are actually spikes and dividing by bin size.\n",
      "  utils.warnings.warn(\"Assuming spikes are actually spikes and dividing by bin size.\")\n"
     ]
    },
    {
     "name": "stdout",
     "output_type": "stream",
     "text": [
      "C:/Users/MARA/Desktop/IMPERIAL YEAR 4/Final year project/code/datasets/autism data/WT-M350/WT-M350-pyaldata2\\WT-M350_session5.mat\n"
     ]
    },
    {
     "name": "stderr",
     "output_type": "stream",
     "text": [
      "C:\\Users\\MARA\\Desktop\\IMPERIAL YEAR 4\\Final year project\\code\\PyalData\\pyaldata\\firing_rates.py:91: UserWarning: Assuming spikes are actually spikes and dividing by bin size.\n",
      "  utils.warnings.warn(\"Assuming spikes are actually spikes and dividing by bin size.\")\n",
      "C:\\Users\\MARA\\Desktop\\IMPERIAL YEAR 4\\Final year project\\code\\PyalData\\pyaldata\\firing_rates.py:91: UserWarning: Assuming spikes are actually spikes and dividing by bin size.\n",
      "  utils.warnings.warn(\"Assuming spikes are actually spikes and dividing by bin size.\")\n",
      "C:\\Users\\MARA\\Desktop\\IMPERIAL YEAR 4\\Final year project\\code\\PyalData\\pyaldata\\firing_rates.py:91: UserWarning: Assuming spikes are actually spikes and dividing by bin size.\n",
      "  utils.warnings.warn(\"Assuming spikes are actually spikes and dividing by bin size.\")\n"
     ]
    },
    {
     "name": "stdout",
     "output_type": "stream",
     "text": [
      "C:/Users/MARA/Desktop/IMPERIAL YEAR 4/Final year project/code/datasets/autism data/WT-M350/WT-M350-pyaldata2\\WT-M350_session6.mat\n"
     ]
    },
    {
     "name": "stderr",
     "output_type": "stream",
     "text": [
      "C:\\Users\\MARA\\Desktop\\IMPERIAL YEAR 4\\Final year project\\code\\PyalData\\pyaldata\\firing_rates.py:91: UserWarning: Assuming spikes are actually spikes and dividing by bin size.\n",
      "  utils.warnings.warn(\"Assuming spikes are actually spikes and dividing by bin size.\")\n",
      "C:\\Users\\MARA\\Desktop\\IMPERIAL YEAR 4\\Final year project\\code\\PyalData\\pyaldata\\firing_rates.py:91: UserWarning: Assuming spikes are actually spikes and dividing by bin size.\n",
      "  utils.warnings.warn(\"Assuming spikes are actually spikes and dividing by bin size.\")\n",
      "C:\\Users\\MARA\\Desktop\\IMPERIAL YEAR 4\\Final year project\\code\\PyalData\\pyaldata\\firing_rates.py:91: UserWarning: Assuming spikes are actually spikes and dividing by bin size.\n",
      "  utils.warnings.warn(\"Assuming spikes are actually spikes and dividing by bin size.\")\n"
     ]
    },
    {
     "name": "stdout",
     "output_type": "stream",
     "text": [
      "C:/Users/MARA/Desktop/IMPERIAL YEAR 4/Final year project/code/datasets/autism data/WT-M350/WT-M350-pyaldata2\\WT-M350_session8.mat\n"
     ]
    },
    {
     "name": "stderr",
     "output_type": "stream",
     "text": [
      "C:\\Users\\MARA\\Desktop\\IMPERIAL YEAR 4\\Final year project\\code\\PyalData\\pyaldata\\firing_rates.py:91: UserWarning: Assuming spikes are actually spikes and dividing by bin size.\n",
      "  utils.warnings.warn(\"Assuming spikes are actually spikes and dividing by bin size.\")\n",
      "C:\\Users\\MARA\\Desktop\\IMPERIAL YEAR 4\\Final year project\\code\\PyalData\\pyaldata\\firing_rates.py:91: UserWarning: Assuming spikes are actually spikes and dividing by bin size.\n",
      "  utils.warnings.warn(\"Assuming spikes are actually spikes and dividing by bin size.\")\n",
      "C:\\Users\\MARA\\Desktop\\IMPERIAL YEAR 4\\Final year project\\code\\PyalData\\pyaldata\\firing_rates.py:91: UserWarning: Assuming spikes are actually spikes and dividing by bin size.\n",
      "  utils.warnings.warn(\"Assuming spikes are actually spikes and dividing by bin size.\")\n"
     ]
    },
    {
     "name": "stdout",
     "output_type": "stream",
     "text": [
      "C:/Users/MARA/Desktop/IMPERIAL YEAR 4/Final year project/code/datasets/autism data/WT-M355/WT-M355-pyaldata2\\WT-M355_session1.mat\n"
     ]
    },
    {
     "name": "stderr",
     "output_type": "stream",
     "text": [
      "C:\\Users\\MARA\\Desktop\\IMPERIAL YEAR 4\\Final year project\\code\\PyalData\\pyaldata\\firing_rates.py:91: UserWarning: Assuming spikes are actually spikes and dividing by bin size.\n",
      "  utils.warnings.warn(\"Assuming spikes are actually spikes and dividing by bin size.\")\n",
      "C:\\Users\\MARA\\Desktop\\IMPERIAL YEAR 4\\Final year project\\code\\PyalData\\pyaldata\\firing_rates.py:91: UserWarning: Assuming spikes are actually spikes and dividing by bin size.\n",
      "  utils.warnings.warn(\"Assuming spikes are actually spikes and dividing by bin size.\")\n",
      "C:\\Users\\MARA\\Desktop\\IMPERIAL YEAR 4\\Final year project\\code\\PyalData\\pyaldata\\firing_rates.py:91: UserWarning: Assuming spikes are actually spikes and dividing by bin size.\n",
      "  utils.warnings.warn(\"Assuming spikes are actually spikes and dividing by bin size.\")\n"
     ]
    },
    {
     "name": "stdout",
     "output_type": "stream",
     "text": [
      "C:/Users/MARA/Desktop/IMPERIAL YEAR 4/Final year project/code/datasets/autism data/WT-M355/WT-M355-pyaldata2\\WT-M355_session10.mat\n"
     ]
    },
    {
     "name": "stderr",
     "output_type": "stream",
     "text": [
      "C:\\Users\\MARA\\Desktop\\IMPERIAL YEAR 4\\Final year project\\code\\PyalData\\pyaldata\\firing_rates.py:91: UserWarning: Assuming spikes are actually spikes and dividing by bin size.\n",
      "  utils.warnings.warn(\"Assuming spikes are actually spikes and dividing by bin size.\")\n",
      "C:\\Users\\MARA\\Desktop\\IMPERIAL YEAR 4\\Final year project\\code\\PyalData\\pyaldata\\firing_rates.py:91: UserWarning: Assuming spikes are actually spikes and dividing by bin size.\n",
      "  utils.warnings.warn(\"Assuming spikes are actually spikes and dividing by bin size.\")\n",
      "C:\\Users\\MARA\\Desktop\\IMPERIAL YEAR 4\\Final year project\\code\\PyalData\\pyaldata\\firing_rates.py:91: UserWarning: Assuming spikes are actually spikes and dividing by bin size.\n",
      "  utils.warnings.warn(\"Assuming spikes are actually spikes and dividing by bin size.\")\n",
      "C:\\Users\\MARA\\AppData\\Local\\Temp\\ipykernel_15780\\1851211300.py:35: UserWarning: Dropping the trials with the following IDs because of invalid time indexing. For more information, try warn_per_trial=True\n",
      "\n",
      "        [1 4 9]\n",
      "  df = pyaldata.restrict_to_interval(df, \"idx_mo\", end_point_name=None, rel_start=-50, rel_end=100)  # consider half a second before and after movement onset\n"
     ]
    },
    {
     "name": "stdout",
     "output_type": "stream",
     "text": [
      "C:/Users/MARA/Desktop/IMPERIAL YEAR 4/Final year project/code/datasets/autism data/WT-M355/WT-M355-pyaldata2\\WT-M355_session11.mat\n"
     ]
    },
    {
     "name": "stderr",
     "output_type": "stream",
     "text": [
      "C:\\Users\\MARA\\Desktop\\IMPERIAL YEAR 4\\Final year project\\code\\PyalData\\pyaldata\\firing_rates.py:91: UserWarning: Assuming spikes are actually spikes and dividing by bin size.\n",
      "  utils.warnings.warn(\"Assuming spikes are actually spikes and dividing by bin size.\")\n",
      "C:\\Users\\MARA\\Desktop\\IMPERIAL YEAR 4\\Final year project\\code\\PyalData\\pyaldata\\firing_rates.py:91: UserWarning: Assuming spikes are actually spikes and dividing by bin size.\n",
      "  utils.warnings.warn(\"Assuming spikes are actually spikes and dividing by bin size.\")\n",
      "C:\\Users\\MARA\\Desktop\\IMPERIAL YEAR 4\\Final year project\\code\\PyalData\\pyaldata\\firing_rates.py:91: UserWarning: Assuming spikes are actually spikes and dividing by bin size.\n",
      "  utils.warnings.warn(\"Assuming spikes are actually spikes and dividing by bin size.\")\n"
     ]
    },
    {
     "name": "stdout",
     "output_type": "stream",
     "text": [
      "C:/Users/MARA/Desktop/IMPERIAL YEAR 4/Final year project/code/datasets/autism data/WT-M355/WT-M355-pyaldata2\\WT-M355_session12.mat\n"
     ]
    },
    {
     "name": "stderr",
     "output_type": "stream",
     "text": [
      "C:\\Users\\MARA\\Desktop\\IMPERIAL YEAR 4\\Final year project\\code\\PyalData\\pyaldata\\firing_rates.py:91: UserWarning: Assuming spikes are actually spikes and dividing by bin size.\n",
      "  utils.warnings.warn(\"Assuming spikes are actually spikes and dividing by bin size.\")\n",
      "C:\\Users\\MARA\\Desktop\\IMPERIAL YEAR 4\\Final year project\\code\\PyalData\\pyaldata\\firing_rates.py:91: UserWarning: Assuming spikes are actually spikes and dividing by bin size.\n",
      "  utils.warnings.warn(\"Assuming spikes are actually spikes and dividing by bin size.\")\n",
      "C:\\Users\\MARA\\Desktop\\IMPERIAL YEAR 4\\Final year project\\code\\PyalData\\pyaldata\\firing_rates.py:91: UserWarning: Assuming spikes are actually spikes and dividing by bin size.\n",
      "  utils.warnings.warn(\"Assuming spikes are actually spikes and dividing by bin size.\")\n",
      "C:\\Users\\MARA\\AppData\\Local\\Temp\\ipykernel_15780\\1851211300.py:35: UserWarning: Dropping the trials with the following IDs because of invalid time indexing. For more information, try warn_per_trial=True\n",
      "\n",
      "        [3]\n",
      "  df = pyaldata.restrict_to_interval(df, \"idx_mo\", end_point_name=None, rel_start=-50, rel_end=100)  # consider half a second before and after movement onset\n"
     ]
    },
    {
     "name": "stdout",
     "output_type": "stream",
     "text": [
      "C:/Users/MARA/Desktop/IMPERIAL YEAR 4/Final year project/code/datasets/autism data/WT-M355/WT-M355-pyaldata2\\WT-M355_session13.mat\n"
     ]
    },
    {
     "name": "stderr",
     "output_type": "stream",
     "text": [
      "C:\\Users\\MARA\\Desktop\\IMPERIAL YEAR 4\\Final year project\\code\\PyalData\\pyaldata\\firing_rates.py:91: UserWarning: Assuming spikes are actually spikes and dividing by bin size.\n",
      "  utils.warnings.warn(\"Assuming spikes are actually spikes and dividing by bin size.\")\n",
      "C:\\Users\\MARA\\Desktop\\IMPERIAL YEAR 4\\Final year project\\code\\PyalData\\pyaldata\\firing_rates.py:91: UserWarning: Assuming spikes are actually spikes and dividing by bin size.\n",
      "  utils.warnings.warn(\"Assuming spikes are actually spikes and dividing by bin size.\")\n",
      "C:\\Users\\MARA\\Desktop\\IMPERIAL YEAR 4\\Final year project\\code\\PyalData\\pyaldata\\firing_rates.py:91: UserWarning: Assuming spikes are actually spikes and dividing by bin size.\n",
      "  utils.warnings.warn(\"Assuming spikes are actually spikes and dividing by bin size.\")\n",
      "C:\\Users\\MARA\\AppData\\Local\\Temp\\ipykernel_15780\\1851211300.py:35: UserWarning: Dropping the trials with the following IDs because of invalid time indexing. For more information, try warn_per_trial=True\n",
      "\n",
      "        [ 7 41 44]\n",
      "  df = pyaldata.restrict_to_interval(df, \"idx_mo\", end_point_name=None, rel_start=-50, rel_end=100)  # consider half a second before and after movement onset\n"
     ]
    },
    {
     "name": "stdout",
     "output_type": "stream",
     "text": [
      "C:/Users/MARA/Desktop/IMPERIAL YEAR 4/Final year project/code/datasets/autism data/WT-M355/WT-M355-pyaldata2\\WT-M355_session14.mat\n"
     ]
    },
    {
     "name": "stderr",
     "output_type": "stream",
     "text": [
      "C:\\Users\\MARA\\Desktop\\IMPERIAL YEAR 4\\Final year project\\code\\PyalData\\pyaldata\\firing_rates.py:91: UserWarning: Assuming spikes are actually spikes and dividing by bin size.\n",
      "  utils.warnings.warn(\"Assuming spikes are actually spikes and dividing by bin size.\")\n",
      "C:\\Users\\MARA\\Desktop\\IMPERIAL YEAR 4\\Final year project\\code\\PyalData\\pyaldata\\firing_rates.py:91: UserWarning: Assuming spikes are actually spikes and dividing by bin size.\n",
      "  utils.warnings.warn(\"Assuming spikes are actually spikes and dividing by bin size.\")\n",
      "C:\\Users\\MARA\\Desktop\\IMPERIAL YEAR 4\\Final year project\\code\\PyalData\\pyaldata\\firing_rates.py:91: UserWarning: Assuming spikes are actually spikes and dividing by bin size.\n",
      "  utils.warnings.warn(\"Assuming spikes are actually spikes and dividing by bin size.\")\n",
      "C:\\Users\\MARA\\AppData\\Local\\Temp\\ipykernel_15780\\1851211300.py:35: UserWarning: Dropping the trials with the following IDs because of invalid time indexing. For more information, try warn_per_trial=True\n",
      "\n",
      "        [11 12]\n",
      "  df = pyaldata.restrict_to_interval(df, \"idx_mo\", end_point_name=None, rel_start=-50, rel_end=100)  # consider half a second before and after movement onset\n"
     ]
    },
    {
     "name": "stdout",
     "output_type": "stream",
     "text": [
      "C:/Users/MARA/Desktop/IMPERIAL YEAR 4/Final year project/code/datasets/autism data/WT-M355/WT-M355-pyaldata2\\WT-M355_session15.mat\n"
     ]
    },
    {
     "name": "stderr",
     "output_type": "stream",
     "text": [
      "C:\\Users\\MARA\\Desktop\\IMPERIAL YEAR 4\\Final year project\\code\\PyalData\\pyaldata\\firing_rates.py:91: UserWarning: Assuming spikes are actually spikes and dividing by bin size.\n",
      "  utils.warnings.warn(\"Assuming spikes are actually spikes and dividing by bin size.\")\n",
      "C:\\Users\\MARA\\Desktop\\IMPERIAL YEAR 4\\Final year project\\code\\PyalData\\pyaldata\\firing_rates.py:91: UserWarning: Assuming spikes are actually spikes and dividing by bin size.\n",
      "  utils.warnings.warn(\"Assuming spikes are actually spikes and dividing by bin size.\")\n",
      "C:\\Users\\MARA\\Desktop\\IMPERIAL YEAR 4\\Final year project\\code\\PyalData\\pyaldata\\firing_rates.py:91: UserWarning: Assuming spikes are actually spikes and dividing by bin size.\n",
      "  utils.warnings.warn(\"Assuming spikes are actually spikes and dividing by bin size.\")\n",
      "C:\\Users\\MARA\\AppData\\Local\\Temp\\ipykernel_15780\\1851211300.py:35: UserWarning: Dropping the trials with the following IDs because of invalid time indexing. For more information, try warn_per_trial=True\n",
      "\n",
      "        [6]\n",
      "  df = pyaldata.restrict_to_interval(df, \"idx_mo\", end_point_name=None, rel_start=-50, rel_end=100)  # consider half a second before and after movement onset\n"
     ]
    },
    {
     "name": "stdout",
     "output_type": "stream",
     "text": [
      "C:/Users/MARA/Desktop/IMPERIAL YEAR 4/Final year project/code/datasets/autism data/WT-M355/WT-M355-pyaldata2\\WT-M355_session17.mat\n"
     ]
    },
    {
     "name": "stderr",
     "output_type": "stream",
     "text": [
      "C:\\Users\\MARA\\Desktop\\IMPERIAL YEAR 4\\Final year project\\code\\PyalData\\pyaldata\\firing_rates.py:91: UserWarning: Assuming spikes are actually spikes and dividing by bin size.\n",
      "  utils.warnings.warn(\"Assuming spikes are actually spikes and dividing by bin size.\")\n",
      "C:\\Users\\MARA\\Desktop\\IMPERIAL YEAR 4\\Final year project\\code\\PyalData\\pyaldata\\firing_rates.py:91: UserWarning: Assuming spikes are actually spikes and dividing by bin size.\n",
      "  utils.warnings.warn(\"Assuming spikes are actually spikes and dividing by bin size.\")\n",
      "C:\\Users\\MARA\\Desktop\\IMPERIAL YEAR 4\\Final year project\\code\\PyalData\\pyaldata\\firing_rates.py:91: UserWarning: Assuming spikes are actually spikes and dividing by bin size.\n",
      "  utils.warnings.warn(\"Assuming spikes are actually spikes and dividing by bin size.\")\n"
     ]
    },
    {
     "name": "stdout",
     "output_type": "stream",
     "text": [
      "C:/Users/MARA/Desktop/IMPERIAL YEAR 4/Final year project/code/datasets/autism data/WT-M355/WT-M355-pyaldata2\\WT-M355_session18.mat\n"
     ]
    },
    {
     "name": "stderr",
     "output_type": "stream",
     "text": [
      "C:\\Users\\MARA\\Desktop\\IMPERIAL YEAR 4\\Final year project\\code\\PyalData\\pyaldata\\firing_rates.py:91: UserWarning: Assuming spikes are actually spikes and dividing by bin size.\n",
      "  utils.warnings.warn(\"Assuming spikes are actually spikes and dividing by bin size.\")\n",
      "C:\\Users\\MARA\\Desktop\\IMPERIAL YEAR 4\\Final year project\\code\\PyalData\\pyaldata\\firing_rates.py:91: UserWarning: Assuming spikes are actually spikes and dividing by bin size.\n",
      "  utils.warnings.warn(\"Assuming spikes are actually spikes and dividing by bin size.\")\n",
      "C:\\Users\\MARA\\Desktop\\IMPERIAL YEAR 4\\Final year project\\code\\PyalData\\pyaldata\\firing_rates.py:91: UserWarning: Assuming spikes are actually spikes and dividing by bin size.\n",
      "  utils.warnings.warn(\"Assuming spikes are actually spikes and dividing by bin size.\")\n",
      "C:\\Users\\MARA\\AppData\\Local\\Temp\\ipykernel_15780\\1851211300.py:35: UserWarning: Dropping the trials with the following IDs because of invalid time indexing. For more information, try warn_per_trial=True\n",
      "\n",
      "        [13 17 23 30 33]\n",
      "  df = pyaldata.restrict_to_interval(df, \"idx_mo\", end_point_name=None, rel_start=-50, rel_end=100)  # consider half a second before and after movement onset\n"
     ]
    },
    {
     "name": "stdout",
     "output_type": "stream",
     "text": [
      "C:/Users/MARA/Desktop/IMPERIAL YEAR 4/Final year project/code/datasets/autism data/WT-M355/WT-M355-pyaldata2\\WT-M355_session19.mat\n"
     ]
    },
    {
     "name": "stderr",
     "output_type": "stream",
     "text": [
      "C:\\Users\\MARA\\Desktop\\IMPERIAL YEAR 4\\Final year project\\code\\PyalData\\pyaldata\\firing_rates.py:91: UserWarning: Assuming spikes are actually spikes and dividing by bin size.\n",
      "  utils.warnings.warn(\"Assuming spikes are actually spikes and dividing by bin size.\")\n",
      "C:\\Users\\MARA\\Desktop\\IMPERIAL YEAR 4\\Final year project\\code\\PyalData\\pyaldata\\firing_rates.py:91: UserWarning: Assuming spikes are actually spikes and dividing by bin size.\n",
      "  utils.warnings.warn(\"Assuming spikes are actually spikes and dividing by bin size.\")\n",
      "C:\\Users\\MARA\\Desktop\\IMPERIAL YEAR 4\\Final year project\\code\\PyalData\\pyaldata\\firing_rates.py:91: UserWarning: Assuming spikes are actually spikes and dividing by bin size.\n",
      "  utils.warnings.warn(\"Assuming spikes are actually spikes and dividing by bin size.\")\n",
      "C:\\Users\\MARA\\AppData\\Local\\Temp\\ipykernel_15780\\1851211300.py:35: UserWarning: Dropping the trials with the following IDs because of invalid time indexing. For more information, try warn_per_trial=True\n",
      "\n",
      "        [4]\n",
      "  df = pyaldata.restrict_to_interval(df, \"idx_mo\", end_point_name=None, rel_start=-50, rel_end=100)  # consider half a second before and after movement onset\n"
     ]
    },
    {
     "name": "stdout",
     "output_type": "stream",
     "text": [
      "C:/Users/MARA/Desktop/IMPERIAL YEAR 4/Final year project/code/datasets/autism data/WT-M355/WT-M355-pyaldata2\\WT-M355_session2.mat\n"
     ]
    },
    {
     "name": "stderr",
     "output_type": "stream",
     "text": [
      "C:\\Users\\MARA\\Desktop\\IMPERIAL YEAR 4\\Final year project\\code\\PyalData\\pyaldata\\firing_rates.py:91: UserWarning: Assuming spikes are actually spikes and dividing by bin size.\n",
      "  utils.warnings.warn(\"Assuming spikes are actually spikes and dividing by bin size.\")\n",
      "C:\\Users\\MARA\\Desktop\\IMPERIAL YEAR 4\\Final year project\\code\\PyalData\\pyaldata\\firing_rates.py:91: UserWarning: Assuming spikes are actually spikes and dividing by bin size.\n",
      "  utils.warnings.warn(\"Assuming spikes are actually spikes and dividing by bin size.\")\n",
      "C:\\Users\\MARA\\Desktop\\IMPERIAL YEAR 4\\Final year project\\code\\PyalData\\pyaldata\\firing_rates.py:91: UserWarning: Assuming spikes are actually spikes and dividing by bin size.\n",
      "  utils.warnings.warn(\"Assuming spikes are actually spikes and dividing by bin size.\")\n"
     ]
    },
    {
     "name": "stdout",
     "output_type": "stream",
     "text": [
      "C:/Users/MARA/Desktop/IMPERIAL YEAR 4/Final year project/code/datasets/autism data/WT-M355/WT-M355-pyaldata2\\WT-M355_session20.mat\n"
     ]
    },
    {
     "name": "stderr",
     "output_type": "stream",
     "text": [
      "C:\\Users\\MARA\\Desktop\\IMPERIAL YEAR 4\\Final year project\\code\\PyalData\\pyaldata\\firing_rates.py:91: UserWarning: Assuming spikes are actually spikes and dividing by bin size.\n",
      "  utils.warnings.warn(\"Assuming spikes are actually spikes and dividing by bin size.\")\n",
      "C:\\Users\\MARA\\Desktop\\IMPERIAL YEAR 4\\Final year project\\code\\PyalData\\pyaldata\\firing_rates.py:91: UserWarning: Assuming spikes are actually spikes and dividing by bin size.\n",
      "  utils.warnings.warn(\"Assuming spikes are actually spikes and dividing by bin size.\")\n",
      "C:\\Users\\MARA\\Desktop\\IMPERIAL YEAR 4\\Final year project\\code\\PyalData\\pyaldata\\firing_rates.py:91: UserWarning: Assuming spikes are actually spikes and dividing by bin size.\n",
      "  utils.warnings.warn(\"Assuming spikes are actually spikes and dividing by bin size.\")\n"
     ]
    },
    {
     "name": "stdout",
     "output_type": "stream",
     "text": [
      "C:/Users/MARA/Desktop/IMPERIAL YEAR 4/Final year project/code/datasets/autism data/WT-M355/WT-M355-pyaldata2\\WT-M355_session21.mat\n"
     ]
    },
    {
     "name": "stderr",
     "output_type": "stream",
     "text": [
      "C:\\Users\\MARA\\Desktop\\IMPERIAL YEAR 4\\Final year project\\code\\PyalData\\pyaldata\\firing_rates.py:91: UserWarning: Assuming spikes are actually spikes and dividing by bin size.\n",
      "  utils.warnings.warn(\"Assuming spikes are actually spikes and dividing by bin size.\")\n",
      "C:\\Users\\MARA\\Desktop\\IMPERIAL YEAR 4\\Final year project\\code\\PyalData\\pyaldata\\firing_rates.py:91: UserWarning: Assuming spikes are actually spikes and dividing by bin size.\n",
      "  utils.warnings.warn(\"Assuming spikes are actually spikes and dividing by bin size.\")\n",
      "C:\\Users\\MARA\\Desktop\\IMPERIAL YEAR 4\\Final year project\\code\\PyalData\\pyaldata\\firing_rates.py:91: UserWarning: Assuming spikes are actually spikes and dividing by bin size.\n",
      "  utils.warnings.warn(\"Assuming spikes are actually spikes and dividing by bin size.\")\n"
     ]
    },
    {
     "name": "stdout",
     "output_type": "stream",
     "text": [
      "C:/Users/MARA/Desktop/IMPERIAL YEAR 4/Final year project/code/datasets/autism data/WT-M355/WT-M355-pyaldata2\\WT-M355_session23.mat\n"
     ]
    },
    {
     "name": "stderr",
     "output_type": "stream",
     "text": [
      "C:\\Users\\MARA\\Desktop\\IMPERIAL YEAR 4\\Final year project\\code\\PyalData\\pyaldata\\firing_rates.py:91: UserWarning: Assuming spikes are actually spikes and dividing by bin size.\n",
      "  utils.warnings.warn(\"Assuming spikes are actually spikes and dividing by bin size.\")\n",
      "C:\\Users\\MARA\\Desktop\\IMPERIAL YEAR 4\\Final year project\\code\\PyalData\\pyaldata\\firing_rates.py:91: UserWarning: Assuming spikes are actually spikes and dividing by bin size.\n",
      "  utils.warnings.warn(\"Assuming spikes are actually spikes and dividing by bin size.\")\n",
      "C:\\Users\\MARA\\Desktop\\IMPERIAL YEAR 4\\Final year project\\code\\PyalData\\pyaldata\\firing_rates.py:91: UserWarning: Assuming spikes are actually spikes and dividing by bin size.\n",
      "  utils.warnings.warn(\"Assuming spikes are actually spikes and dividing by bin size.\")\n"
     ]
    },
    {
     "name": "stdout",
     "output_type": "stream",
     "text": [
      "C:/Users/MARA/Desktop/IMPERIAL YEAR 4/Final year project/code/datasets/autism data/WT-M355/WT-M355-pyaldata2\\WT-M355_session3.mat\n"
     ]
    },
    {
     "name": "stderr",
     "output_type": "stream",
     "text": [
      "C:\\Users\\MARA\\Desktop\\IMPERIAL YEAR 4\\Final year project\\code\\PyalData\\pyaldata\\firing_rates.py:91: UserWarning: Assuming spikes are actually spikes and dividing by bin size.\n",
      "  utils.warnings.warn(\"Assuming spikes are actually spikes and dividing by bin size.\")\n",
      "C:\\Users\\MARA\\Desktop\\IMPERIAL YEAR 4\\Final year project\\code\\PyalData\\pyaldata\\firing_rates.py:91: UserWarning: Assuming spikes are actually spikes and dividing by bin size.\n",
      "  utils.warnings.warn(\"Assuming spikes are actually spikes and dividing by bin size.\")\n",
      "C:\\Users\\MARA\\Desktop\\IMPERIAL YEAR 4\\Final year project\\code\\PyalData\\pyaldata\\firing_rates.py:91: UserWarning: Assuming spikes are actually spikes and dividing by bin size.\n",
      "  utils.warnings.warn(\"Assuming spikes are actually spikes and dividing by bin size.\")\n"
     ]
    },
    {
     "name": "stdout",
     "output_type": "stream",
     "text": [
      "C:/Users/MARA/Desktop/IMPERIAL YEAR 4/Final year project/code/datasets/autism data/WT-M355/WT-M355-pyaldata2\\WT-M355_session4.mat\n"
     ]
    },
    {
     "name": "stderr",
     "output_type": "stream",
     "text": [
      "C:\\Users\\MARA\\Desktop\\IMPERIAL YEAR 4\\Final year project\\code\\PyalData\\pyaldata\\firing_rates.py:91: UserWarning: Assuming spikes are actually spikes and dividing by bin size.\n",
      "  utils.warnings.warn(\"Assuming spikes are actually spikes and dividing by bin size.\")\n",
      "C:\\Users\\MARA\\Desktop\\IMPERIAL YEAR 4\\Final year project\\code\\PyalData\\pyaldata\\firing_rates.py:91: UserWarning: Assuming spikes are actually spikes and dividing by bin size.\n",
      "  utils.warnings.warn(\"Assuming spikes are actually spikes and dividing by bin size.\")\n",
      "C:\\Users\\MARA\\Desktop\\IMPERIAL YEAR 4\\Final year project\\code\\PyalData\\pyaldata\\firing_rates.py:91: UserWarning: Assuming spikes are actually spikes and dividing by bin size.\n",
      "  utils.warnings.warn(\"Assuming spikes are actually spikes and dividing by bin size.\")\n",
      "C:\\Users\\MARA\\AppData\\Local\\Temp\\ipykernel_15780\\1851211300.py:35: UserWarning: Dropping the trials with the following IDs because of invalid time indexing. For more information, try warn_per_trial=True\n",
      "\n",
      "        [31]\n",
      "  df = pyaldata.restrict_to_interval(df, \"idx_mo\", end_point_name=None, rel_start=-50, rel_end=100)  # consider half a second before and after movement onset\n"
     ]
    },
    {
     "name": "stdout",
     "output_type": "stream",
     "text": [
      "C:/Users/MARA/Desktop/IMPERIAL YEAR 4/Final year project/code/datasets/autism data/WT-M355/WT-M355-pyaldata2\\WT-M355_session5.mat\n"
     ]
    },
    {
     "name": "stderr",
     "output_type": "stream",
     "text": [
      "C:\\Users\\MARA\\Desktop\\IMPERIAL YEAR 4\\Final year project\\code\\PyalData\\pyaldata\\firing_rates.py:91: UserWarning: Assuming spikes are actually spikes and dividing by bin size.\n",
      "  utils.warnings.warn(\"Assuming spikes are actually spikes and dividing by bin size.\")\n",
      "C:\\Users\\MARA\\Desktop\\IMPERIAL YEAR 4\\Final year project\\code\\PyalData\\pyaldata\\firing_rates.py:91: UserWarning: Assuming spikes are actually spikes and dividing by bin size.\n",
      "  utils.warnings.warn(\"Assuming spikes are actually spikes and dividing by bin size.\")\n",
      "C:\\Users\\MARA\\Desktop\\IMPERIAL YEAR 4\\Final year project\\code\\PyalData\\pyaldata\\firing_rates.py:91: UserWarning: Assuming spikes are actually spikes and dividing by bin size.\n",
      "  utils.warnings.warn(\"Assuming spikes are actually spikes and dividing by bin size.\")\n",
      "C:\\Users\\MARA\\AppData\\Local\\Temp\\ipykernel_15780\\1851211300.py:35: UserWarning: Dropping the trials with the following IDs because of invalid time indexing. For more information, try warn_per_trial=True\n",
      "\n",
      "        [35]\n",
      "  df = pyaldata.restrict_to_interval(df, \"idx_mo\", end_point_name=None, rel_start=-50, rel_end=100)  # consider half a second before and after movement onset\n"
     ]
    },
    {
     "name": "stdout",
     "output_type": "stream",
     "text": [
      "C:/Users/MARA/Desktop/IMPERIAL YEAR 4/Final year project/code/datasets/autism data/WT-M355/WT-M355-pyaldata2\\WT-M355_session6.mat\n"
     ]
    },
    {
     "name": "stderr",
     "output_type": "stream",
     "text": [
      "C:\\Users\\MARA\\Desktop\\IMPERIAL YEAR 4\\Final year project\\code\\PyalData\\pyaldata\\firing_rates.py:91: UserWarning: Assuming spikes are actually spikes and dividing by bin size.\n",
      "  utils.warnings.warn(\"Assuming spikes are actually spikes and dividing by bin size.\")\n",
      "C:\\Users\\MARA\\Desktop\\IMPERIAL YEAR 4\\Final year project\\code\\PyalData\\pyaldata\\firing_rates.py:91: UserWarning: Assuming spikes are actually spikes and dividing by bin size.\n",
      "  utils.warnings.warn(\"Assuming spikes are actually spikes and dividing by bin size.\")\n",
      "C:\\Users\\MARA\\Desktop\\IMPERIAL YEAR 4\\Final year project\\code\\PyalData\\pyaldata\\firing_rates.py:91: UserWarning: Assuming spikes are actually spikes and dividing by bin size.\n",
      "  utils.warnings.warn(\"Assuming spikes are actually spikes and dividing by bin size.\")\n",
      "C:\\Users\\MARA\\AppData\\Local\\Temp\\ipykernel_15780\\1851211300.py:35: UserWarning: Dropping the trials with the following IDs because of invalid time indexing. For more information, try warn_per_trial=True\n",
      "\n",
      "        [10 18 22 25 26]\n",
      "  df = pyaldata.restrict_to_interval(df, \"idx_mo\", end_point_name=None, rel_start=-50, rel_end=100)  # consider half a second before and after movement onset\n"
     ]
    },
    {
     "name": "stdout",
     "output_type": "stream",
     "text": [
      "C:/Users/MARA/Desktop/IMPERIAL YEAR 4/Final year project/code/datasets/autism data/WT-M355/WT-M355-pyaldata2\\WT-M355_session7.mat\n"
     ]
    },
    {
     "name": "stderr",
     "output_type": "stream",
     "text": [
      "C:\\Users\\MARA\\Desktop\\IMPERIAL YEAR 4\\Final year project\\code\\PyalData\\pyaldata\\firing_rates.py:91: UserWarning: Assuming spikes are actually spikes and dividing by bin size.\n",
      "  utils.warnings.warn(\"Assuming spikes are actually spikes and dividing by bin size.\")\n",
      "C:\\Users\\MARA\\Desktop\\IMPERIAL YEAR 4\\Final year project\\code\\PyalData\\pyaldata\\firing_rates.py:91: UserWarning: Assuming spikes are actually spikes and dividing by bin size.\n",
      "  utils.warnings.warn(\"Assuming spikes are actually spikes and dividing by bin size.\")\n",
      "C:\\Users\\MARA\\Desktop\\IMPERIAL YEAR 4\\Final year project\\code\\PyalData\\pyaldata\\firing_rates.py:91: UserWarning: Assuming spikes are actually spikes and dividing by bin size.\n",
      "  utils.warnings.warn(\"Assuming spikes are actually spikes and dividing by bin size.\")\n",
      "C:\\Users\\MARA\\AppData\\Local\\Temp\\ipykernel_15780\\1851211300.py:35: UserWarning: Dropping the trials with the following IDs because of invalid time indexing. For more information, try warn_per_trial=True\n",
      "\n",
      "        [16]\n",
      "  df = pyaldata.restrict_to_interval(df, \"idx_mo\", end_point_name=None, rel_start=-50, rel_end=100)  # consider half a second before and after movement onset\n"
     ]
    },
    {
     "name": "stdout",
     "output_type": "stream",
     "text": [
      "C:/Users/MARA/Desktop/IMPERIAL YEAR 4/Final year project/code/datasets/autism data/WT-M355/WT-M355-pyaldata2\\WT-M355_session9.mat\n"
     ]
    },
    {
     "name": "stderr",
     "output_type": "stream",
     "text": [
      "C:\\Users\\MARA\\Desktop\\IMPERIAL YEAR 4\\Final year project\\code\\PyalData\\pyaldata\\firing_rates.py:91: UserWarning: Assuming spikes are actually spikes and dividing by bin size.\n",
      "  utils.warnings.warn(\"Assuming spikes are actually spikes and dividing by bin size.\")\n",
      "C:\\Users\\MARA\\Desktop\\IMPERIAL YEAR 4\\Final year project\\code\\PyalData\\pyaldata\\firing_rates.py:91: UserWarning: Assuming spikes are actually spikes and dividing by bin size.\n",
      "  utils.warnings.warn(\"Assuming spikes are actually spikes and dividing by bin size.\")\n",
      "C:\\Users\\MARA\\Desktop\\IMPERIAL YEAR 4\\Final year project\\code\\PyalData\\pyaldata\\firing_rates.py:91: UserWarning: Assuming spikes are actually spikes and dividing by bin size.\n",
      "  utils.warnings.warn(\"Assuming spikes are actually spikes and dividing by bin size.\")\n",
      "C:\\Users\\MARA\\AppData\\Local\\Temp\\ipykernel_15780\\1851211300.py:35: UserWarning: Dropping the trials with the following IDs because of invalid time indexing. For more information, try warn_per_trial=True\n",
      "\n",
      "        [1]\n",
      "  df = pyaldata.restrict_to_interval(df, \"idx_mo\", end_point_name=None, rel_start=-50, rel_end=100)  # consider half a second before and after movement onset\n"
     ]
    },
    {
     "name": "stdout",
     "output_type": "stream",
     "text": [
      "C:/Users/MARA/Desktop/IMPERIAL YEAR 4/Final year project/code/datasets/autism data/AS-M351/AS-M351-pyaldata2\\AS-M351_session1.mat\n"
     ]
    },
    {
     "name": "stderr",
     "output_type": "stream",
     "text": [
      "C:\\Users\\MARA\\Desktop\\IMPERIAL YEAR 4\\Final year project\\code\\PyalData\\pyaldata\\firing_rates.py:91: UserWarning: Assuming spikes are actually spikes and dividing by bin size.\n",
      "  utils.warnings.warn(\"Assuming spikes are actually spikes and dividing by bin size.\")\n",
      "C:\\Users\\MARA\\Desktop\\IMPERIAL YEAR 4\\Final year project\\code\\PyalData\\pyaldata\\firing_rates.py:91: UserWarning: Assuming spikes are actually spikes and dividing by bin size.\n",
      "  utils.warnings.warn(\"Assuming spikes are actually spikes and dividing by bin size.\")\n",
      "C:\\Users\\MARA\\Desktop\\IMPERIAL YEAR 4\\Final year project\\code\\PyalData\\pyaldata\\firing_rates.py:91: UserWarning: Assuming spikes are actually spikes and dividing by bin size.\n",
      "  utils.warnings.warn(\"Assuming spikes are actually spikes and dividing by bin size.\")\n"
     ]
    },
    {
     "name": "stdout",
     "output_type": "stream",
     "text": [
      "C:/Users/MARA/Desktop/IMPERIAL YEAR 4/Final year project/code/datasets/autism data/AS-M351/AS-M351-pyaldata2\\AS-M351_session2.mat\n"
     ]
    },
    {
     "name": "stderr",
     "output_type": "stream",
     "text": [
      "C:\\Users\\MARA\\Desktop\\IMPERIAL YEAR 4\\Final year project\\code\\PyalData\\pyaldata\\firing_rates.py:91: UserWarning: Assuming spikes are actually spikes and dividing by bin size.\n",
      "  utils.warnings.warn(\"Assuming spikes are actually spikes and dividing by bin size.\")\n",
      "C:\\Users\\MARA\\Desktop\\IMPERIAL YEAR 4\\Final year project\\code\\PyalData\\pyaldata\\firing_rates.py:91: UserWarning: Assuming spikes are actually spikes and dividing by bin size.\n",
      "  utils.warnings.warn(\"Assuming spikes are actually spikes and dividing by bin size.\")\n",
      "C:\\Users\\MARA\\Desktop\\IMPERIAL YEAR 4\\Final year project\\code\\PyalData\\pyaldata\\firing_rates.py:91: UserWarning: Assuming spikes are actually spikes and dividing by bin size.\n",
      "  utils.warnings.warn(\"Assuming spikes are actually spikes and dividing by bin size.\")\n"
     ]
    },
    {
     "name": "stdout",
     "output_type": "stream",
     "text": [
      "C:/Users/MARA/Desktop/IMPERIAL YEAR 4/Final year project/code/datasets/autism data/AS-M351/AS-M351-pyaldata2\\AS-M351_session3.mat\n"
     ]
    },
    {
     "name": "stderr",
     "output_type": "stream",
     "text": [
      "C:\\Users\\MARA\\Desktop\\IMPERIAL YEAR 4\\Final year project\\code\\PyalData\\pyaldata\\firing_rates.py:91: UserWarning: Assuming spikes are actually spikes and dividing by bin size.\n",
      "  utils.warnings.warn(\"Assuming spikes are actually spikes and dividing by bin size.\")\n",
      "C:\\Users\\MARA\\Desktop\\IMPERIAL YEAR 4\\Final year project\\code\\PyalData\\pyaldata\\firing_rates.py:91: UserWarning: Assuming spikes are actually spikes and dividing by bin size.\n",
      "  utils.warnings.warn(\"Assuming spikes are actually spikes and dividing by bin size.\")\n",
      "C:\\Users\\MARA\\Desktop\\IMPERIAL YEAR 4\\Final year project\\code\\PyalData\\pyaldata\\firing_rates.py:91: UserWarning: Assuming spikes are actually spikes and dividing by bin size.\n",
      "  utils.warnings.warn(\"Assuming spikes are actually spikes and dividing by bin size.\")\n"
     ]
    },
    {
     "name": "stdout",
     "output_type": "stream",
     "text": [
      "C:/Users/MARA/Desktop/IMPERIAL YEAR 4/Final year project/code/datasets/autism data/AS-M351/AS-M351-pyaldata2\\AS-M351_session4.mat\n"
     ]
    },
    {
     "name": "stderr",
     "output_type": "stream",
     "text": [
      "C:\\Users\\MARA\\Desktop\\IMPERIAL YEAR 4\\Final year project\\code\\PyalData\\pyaldata\\firing_rates.py:91: UserWarning: Assuming spikes are actually spikes and dividing by bin size.\n",
      "  utils.warnings.warn(\"Assuming spikes are actually spikes and dividing by bin size.\")\n",
      "C:\\Users\\MARA\\Desktop\\IMPERIAL YEAR 4\\Final year project\\code\\PyalData\\pyaldata\\firing_rates.py:91: UserWarning: Assuming spikes are actually spikes and dividing by bin size.\n",
      "  utils.warnings.warn(\"Assuming spikes are actually spikes and dividing by bin size.\")\n",
      "C:\\Users\\MARA\\Desktop\\IMPERIAL YEAR 4\\Final year project\\code\\PyalData\\pyaldata\\firing_rates.py:91: UserWarning: Assuming spikes are actually spikes and dividing by bin size.\n",
      "  utils.warnings.warn(\"Assuming spikes are actually spikes and dividing by bin size.\")\n",
      "C:\\Users\\MARA\\AppData\\Local\\Temp\\ipykernel_15780\\1851211300.py:35: UserWarning: Dropping the trials with the following IDs because of invalid time indexing. For more information, try warn_per_trial=True\n",
      "\n",
      "        [10]\n",
      "  df = pyaldata.restrict_to_interval(df, \"idx_mo\", end_point_name=None, rel_start=-50, rel_end=100)  # consider half a second before and after movement onset\n"
     ]
    },
    {
     "name": "stdout",
     "output_type": "stream",
     "text": [
      "C:/Users/MARA/Desktop/IMPERIAL YEAR 4/Final year project/code/datasets/autism data/AS-M351/AS-M351-pyaldata2\\AS-M351_session7.mat\n"
     ]
    },
    {
     "name": "stderr",
     "output_type": "stream",
     "text": [
      "C:\\Users\\MARA\\Desktop\\IMPERIAL YEAR 4\\Final year project\\code\\PyalData\\pyaldata\\firing_rates.py:91: UserWarning: Assuming spikes are actually spikes and dividing by bin size.\n",
      "  utils.warnings.warn(\"Assuming spikes are actually spikes and dividing by bin size.\")\n",
      "C:\\Users\\MARA\\Desktop\\IMPERIAL YEAR 4\\Final year project\\code\\PyalData\\pyaldata\\firing_rates.py:91: UserWarning: Assuming spikes are actually spikes and dividing by bin size.\n",
      "  utils.warnings.warn(\"Assuming spikes are actually spikes and dividing by bin size.\")\n",
      "C:\\Users\\MARA\\Desktop\\IMPERIAL YEAR 4\\Final year project\\code\\PyalData\\pyaldata\\firing_rates.py:91: UserWarning: Assuming spikes are actually spikes and dividing by bin size.\n",
      "  utils.warnings.warn(\"Assuming spikes are actually spikes and dividing by bin size.\")\n"
     ]
    },
    {
     "name": "stdout",
     "output_type": "stream",
     "text": [
      "C:/Users/MARA/Desktop/IMPERIAL YEAR 4/Final year project/code/datasets/autism data/AS-M351/AS-M351-pyaldata2\\AS-M351_session8.mat\n"
     ]
    },
    {
     "name": "stderr",
     "output_type": "stream",
     "text": [
      "C:\\Users\\MARA\\Desktop\\IMPERIAL YEAR 4\\Final year project\\code\\PyalData\\pyaldata\\firing_rates.py:91: UserWarning: Assuming spikes are actually spikes and dividing by bin size.\n",
      "  utils.warnings.warn(\"Assuming spikes are actually spikes and dividing by bin size.\")\n",
      "C:\\Users\\MARA\\Desktop\\IMPERIAL YEAR 4\\Final year project\\code\\PyalData\\pyaldata\\firing_rates.py:91: UserWarning: Assuming spikes are actually spikes and dividing by bin size.\n",
      "  utils.warnings.warn(\"Assuming spikes are actually spikes and dividing by bin size.\")\n",
      "C:\\Users\\MARA\\Desktop\\IMPERIAL YEAR 4\\Final year project\\code\\PyalData\\pyaldata\\firing_rates.py:91: UserWarning: Assuming spikes are actually spikes and dividing by bin size.\n",
      "  utils.warnings.warn(\"Assuming spikes are actually spikes and dividing by bin size.\")\n",
      "C:\\Users\\MARA\\AppData\\Local\\Temp\\ipykernel_15780\\1851211300.py:35: UserWarning: Dropping the trials with the following IDs because of invalid time indexing. For more information, try warn_per_trial=True\n",
      "\n",
      "        [1]\n",
      "  df = pyaldata.restrict_to_interval(df, \"idx_mo\", end_point_name=None, rel_start=-50, rel_end=100)  # consider half a second before and after movement onset\n"
     ]
    },
    {
     "name": "stdout",
     "output_type": "stream",
     "text": [
      "C:/Users/MARA/Desktop/IMPERIAL YEAR 4/Final year project/code/datasets/autism data/AS-M354/AS-M354-pyaldata2\\AS-M354_session1.mat\n"
     ]
    },
    {
     "name": "stderr",
     "output_type": "stream",
     "text": [
      "C:\\Users\\MARA\\Desktop\\IMPERIAL YEAR 4\\Final year project\\code\\PyalData\\pyaldata\\firing_rates.py:91: UserWarning: Assuming spikes are actually spikes and dividing by bin size.\n",
      "  utils.warnings.warn(\"Assuming spikes are actually spikes and dividing by bin size.\")\n",
      "C:\\Users\\MARA\\Desktop\\IMPERIAL YEAR 4\\Final year project\\code\\PyalData\\pyaldata\\firing_rates.py:91: UserWarning: Assuming spikes are actually spikes and dividing by bin size.\n",
      "  utils.warnings.warn(\"Assuming spikes are actually spikes and dividing by bin size.\")\n",
      "C:\\Users\\MARA\\Desktop\\IMPERIAL YEAR 4\\Final year project\\code\\PyalData\\pyaldata\\firing_rates.py:91: UserWarning: Assuming spikes are actually spikes and dividing by bin size.\n",
      "  utils.warnings.warn(\"Assuming spikes are actually spikes and dividing by bin size.\")\n"
     ]
    },
    {
     "name": "stdout",
     "output_type": "stream",
     "text": [
      "C:/Users/MARA/Desktop/IMPERIAL YEAR 4/Final year project/code/datasets/autism data/AS-M354/AS-M354-pyaldata2\\AS-M354_session2.mat\n"
     ]
    },
    {
     "name": "stderr",
     "output_type": "stream",
     "text": [
      "C:\\Users\\MARA\\Desktop\\IMPERIAL YEAR 4\\Final year project\\code\\PyalData\\pyaldata\\firing_rates.py:91: UserWarning: Assuming spikes are actually spikes and dividing by bin size.\n",
      "  utils.warnings.warn(\"Assuming spikes are actually spikes and dividing by bin size.\")\n",
      "C:\\Users\\MARA\\Desktop\\IMPERIAL YEAR 4\\Final year project\\code\\PyalData\\pyaldata\\firing_rates.py:91: UserWarning: Assuming spikes are actually spikes and dividing by bin size.\n",
      "  utils.warnings.warn(\"Assuming spikes are actually spikes and dividing by bin size.\")\n",
      "C:\\Users\\MARA\\Desktop\\IMPERIAL YEAR 4\\Final year project\\code\\PyalData\\pyaldata\\firing_rates.py:91: UserWarning: Assuming spikes are actually spikes and dividing by bin size.\n",
      "  utils.warnings.warn(\"Assuming spikes are actually spikes and dividing by bin size.\")\n"
     ]
    },
    {
     "name": "stdout",
     "output_type": "stream",
     "text": [
      "C:/Users/MARA/Desktop/IMPERIAL YEAR 4/Final year project/code/datasets/autism data/AS-M354/AS-M354-pyaldata2\\AS-M354_session4.mat\n"
     ]
    },
    {
     "name": "stderr",
     "output_type": "stream",
     "text": [
      "C:\\Users\\MARA\\Desktop\\IMPERIAL YEAR 4\\Final year project\\code\\PyalData\\pyaldata\\firing_rates.py:91: UserWarning: Assuming spikes are actually spikes and dividing by bin size.\n",
      "  utils.warnings.warn(\"Assuming spikes are actually spikes and dividing by bin size.\")\n",
      "C:\\Users\\MARA\\Desktop\\IMPERIAL YEAR 4\\Final year project\\code\\PyalData\\pyaldata\\firing_rates.py:91: UserWarning: Assuming spikes are actually spikes and dividing by bin size.\n",
      "  utils.warnings.warn(\"Assuming spikes are actually spikes and dividing by bin size.\")\n",
      "C:\\Users\\MARA\\Desktop\\IMPERIAL YEAR 4\\Final year project\\code\\PyalData\\pyaldata\\firing_rates.py:91: UserWarning: Assuming spikes are actually spikes and dividing by bin size.\n",
      "  utils.warnings.warn(\"Assuming spikes are actually spikes and dividing by bin size.\")\n"
     ]
    },
    {
     "name": "stdout",
     "output_type": "stream",
     "text": [
      "C:/Users/MARA/Desktop/IMPERIAL YEAR 4/Final year project/code/datasets/autism data/AS-M354/AS-M354-pyaldata2\\AS-M354_session5.mat\n"
     ]
    },
    {
     "name": "stderr",
     "output_type": "stream",
     "text": [
      "C:\\Users\\MARA\\Desktop\\IMPERIAL YEAR 4\\Final year project\\code\\PyalData\\pyaldata\\firing_rates.py:91: UserWarning: Assuming spikes are actually spikes and dividing by bin size.\n",
      "  utils.warnings.warn(\"Assuming spikes are actually spikes and dividing by bin size.\")\n",
      "C:\\Users\\MARA\\Desktop\\IMPERIAL YEAR 4\\Final year project\\code\\PyalData\\pyaldata\\firing_rates.py:91: UserWarning: Assuming spikes are actually spikes and dividing by bin size.\n",
      "  utils.warnings.warn(\"Assuming spikes are actually spikes and dividing by bin size.\")\n",
      "C:\\Users\\MARA\\Desktop\\IMPERIAL YEAR 4\\Final year project\\code\\PyalData\\pyaldata\\firing_rates.py:91: UserWarning: Assuming spikes are actually spikes and dividing by bin size.\n",
      "  utils.warnings.warn(\"Assuming spikes are actually spikes and dividing by bin size.\")\n"
     ]
    },
    {
     "name": "stdout",
     "output_type": "stream",
     "text": [
      "C:/Users/MARA/Desktop/IMPERIAL YEAR 4/Final year project/code/datasets/autism data/AS-M354/AS-M354-pyaldata2\\AS-M354_session6.mat\n"
     ]
    },
    {
     "name": "stderr",
     "output_type": "stream",
     "text": [
      "C:\\Users\\MARA\\Desktop\\IMPERIAL YEAR 4\\Final year project\\code\\PyalData\\pyaldata\\firing_rates.py:91: UserWarning: Assuming spikes are actually spikes and dividing by bin size.\n",
      "  utils.warnings.warn(\"Assuming spikes are actually spikes and dividing by bin size.\")\n",
      "C:\\Users\\MARA\\Desktop\\IMPERIAL YEAR 4\\Final year project\\code\\PyalData\\pyaldata\\firing_rates.py:91: UserWarning: Assuming spikes are actually spikes and dividing by bin size.\n",
      "  utils.warnings.warn(\"Assuming spikes are actually spikes and dividing by bin size.\")\n",
      "C:\\Users\\MARA\\Desktop\\IMPERIAL YEAR 4\\Final year project\\code\\PyalData\\pyaldata\\firing_rates.py:91: UserWarning: Assuming spikes are actually spikes and dividing by bin size.\n",
      "  utils.warnings.warn(\"Assuming spikes are actually spikes and dividing by bin size.\")\n"
     ]
    },
    {
     "name": "stdout",
     "output_type": "stream",
     "text": [
      "C:/Users/MARA/Desktop/IMPERIAL YEAR 4/Final year project/code/datasets/autism data/AS-M354/AS-M354-pyaldata2\\AS-M354_session7.mat\n"
     ]
    },
    {
     "name": "stderr",
     "output_type": "stream",
     "text": [
      "C:\\Users\\MARA\\Desktop\\IMPERIAL YEAR 4\\Final year project\\code\\PyalData\\pyaldata\\firing_rates.py:91: UserWarning: Assuming spikes are actually spikes and dividing by bin size.\n",
      "  utils.warnings.warn(\"Assuming spikes are actually spikes and dividing by bin size.\")\n",
      "C:\\Users\\MARA\\Desktop\\IMPERIAL YEAR 4\\Final year project\\code\\PyalData\\pyaldata\\firing_rates.py:91: UserWarning: Assuming spikes are actually spikes and dividing by bin size.\n",
      "  utils.warnings.warn(\"Assuming spikes are actually spikes and dividing by bin size.\")\n",
      "C:\\Users\\MARA\\Desktop\\IMPERIAL YEAR 4\\Final year project\\code\\PyalData\\pyaldata\\firing_rates.py:91: UserWarning: Assuming spikes are actually spikes and dividing by bin size.\n",
      "  utils.warnings.warn(\"Assuming spikes are actually spikes and dividing by bin size.\")\n"
     ]
    },
    {
     "name": "stdout",
     "output_type": "stream",
     "text": [
      "C:/Users/MARA/Desktop/IMPERIAL YEAR 4/Final year project/code/datasets/autism data/AS-M354/AS-M354-pyaldata2\\AS-M354_session8.mat\n"
     ]
    },
    {
     "name": "stderr",
     "output_type": "stream",
     "text": [
      "C:\\Users\\MARA\\Desktop\\IMPERIAL YEAR 4\\Final year project\\code\\PyalData\\pyaldata\\firing_rates.py:91: UserWarning: Assuming spikes are actually spikes and dividing by bin size.\n",
      "  utils.warnings.warn(\"Assuming spikes are actually spikes and dividing by bin size.\")\n",
      "C:\\Users\\MARA\\Desktop\\IMPERIAL YEAR 4\\Final year project\\code\\PyalData\\pyaldata\\firing_rates.py:91: UserWarning: Assuming spikes are actually spikes and dividing by bin size.\n",
      "  utils.warnings.warn(\"Assuming spikes are actually spikes and dividing by bin size.\")\n",
      "C:\\Users\\MARA\\Desktop\\IMPERIAL YEAR 4\\Final year project\\code\\PyalData\\pyaldata\\firing_rates.py:91: UserWarning: Assuming spikes are actually spikes and dividing by bin size.\n",
      "  utils.warnings.warn(\"Assuming spikes are actually spikes and dividing by bin size.\")\n"
     ]
    },
    {
     "name": "stdout",
     "output_type": "stream",
     "text": [
      "C:/Users/MARA/Desktop/IMPERIAL YEAR 4/Final year project/code/datasets/autism data/PS-M365/PS-M365-pyaldata2\\PS-M365_session1.mat\n"
     ]
    },
    {
     "name": "stderr",
     "output_type": "stream",
     "text": [
      "C:\\Users\\MARA\\Desktop\\IMPERIAL YEAR 4\\Final year project\\code\\PyalData\\pyaldata\\firing_rates.py:91: UserWarning: Assuming spikes are actually spikes and dividing by bin size.\n",
      "  utils.warnings.warn(\"Assuming spikes are actually spikes and dividing by bin size.\")\n",
      "C:\\Users\\MARA\\Desktop\\IMPERIAL YEAR 4\\Final year project\\code\\PyalData\\pyaldata\\firing_rates.py:91: UserWarning: Assuming spikes are actually spikes and dividing by bin size.\n",
      "  utils.warnings.warn(\"Assuming spikes are actually spikes and dividing by bin size.\")\n",
      "C:\\Users\\MARA\\Desktop\\IMPERIAL YEAR 4\\Final year project\\code\\PyalData\\pyaldata\\firing_rates.py:91: UserWarning: Assuming spikes are actually spikes and dividing by bin size.\n",
      "  utils.warnings.warn(\"Assuming spikes are actually spikes and dividing by bin size.\")\n",
      "C:\\Users\\MARA\\AppData\\Local\\Temp\\ipykernel_15780\\1851211300.py:35: UserWarning: Dropping the trials with the following IDs because of invalid time indexing. For more information, try warn_per_trial=True\n",
      "\n",
      "        [20]\n",
      "  df = pyaldata.restrict_to_interval(df, \"idx_mo\", end_point_name=None, rel_start=-50, rel_end=100)  # consider half a second before and after movement onset\n"
     ]
    },
    {
     "name": "stdout",
     "output_type": "stream",
     "text": [
      "C:/Users/MARA/Desktop/IMPERIAL YEAR 4/Final year project/code/datasets/autism data/PS-M365/PS-M365-pyaldata2\\PS-M365_session2.mat\n"
     ]
    },
    {
     "name": "stderr",
     "output_type": "stream",
     "text": [
      "C:\\Users\\MARA\\Desktop\\IMPERIAL YEAR 4\\Final year project\\code\\PyalData\\pyaldata\\firing_rates.py:91: UserWarning: Assuming spikes are actually spikes and dividing by bin size.\n",
      "  utils.warnings.warn(\"Assuming spikes are actually spikes and dividing by bin size.\")\n",
      "C:\\Users\\MARA\\Desktop\\IMPERIAL YEAR 4\\Final year project\\code\\PyalData\\pyaldata\\firing_rates.py:91: UserWarning: Assuming spikes are actually spikes and dividing by bin size.\n",
      "  utils.warnings.warn(\"Assuming spikes are actually spikes and dividing by bin size.\")\n",
      "C:\\Users\\MARA\\Desktop\\IMPERIAL YEAR 4\\Final year project\\code\\PyalData\\pyaldata\\firing_rates.py:91: UserWarning: Assuming spikes are actually spikes and dividing by bin size.\n",
      "  utils.warnings.warn(\"Assuming spikes are actually spikes and dividing by bin size.\")\n"
     ]
    },
    {
     "name": "stdout",
     "output_type": "stream",
     "text": [
      "C:/Users/MARA/Desktop/IMPERIAL YEAR 4/Final year project/code/datasets/autism data/PS-M365/PS-M365-pyaldata2\\PS-M365_session4.mat\n"
     ]
    },
    {
     "name": "stderr",
     "output_type": "stream",
     "text": [
      "C:\\Users\\MARA\\Desktop\\IMPERIAL YEAR 4\\Final year project\\code\\PyalData\\pyaldata\\firing_rates.py:91: UserWarning: Assuming spikes are actually spikes and dividing by bin size.\n",
      "  utils.warnings.warn(\"Assuming spikes are actually spikes and dividing by bin size.\")\n",
      "C:\\Users\\MARA\\Desktop\\IMPERIAL YEAR 4\\Final year project\\code\\PyalData\\pyaldata\\firing_rates.py:91: UserWarning: Assuming spikes are actually spikes and dividing by bin size.\n",
      "  utils.warnings.warn(\"Assuming spikes are actually spikes and dividing by bin size.\")\n",
      "C:\\Users\\MARA\\Desktop\\IMPERIAL YEAR 4\\Final year project\\code\\PyalData\\pyaldata\\firing_rates.py:91: UserWarning: Assuming spikes are actually spikes and dividing by bin size.\n",
      "  utils.warnings.warn(\"Assuming spikes are actually spikes and dividing by bin size.\")\n"
     ]
    },
    {
     "name": "stdout",
     "output_type": "stream",
     "text": [
      "C:/Users/MARA/Desktop/IMPERIAL YEAR 4/Final year project/code/datasets/autism data/PS-M366/PS-M366-pyaldata2\\PS-M366_session4.mat\n"
     ]
    },
    {
     "name": "stderr",
     "output_type": "stream",
     "text": [
      "C:\\Users\\MARA\\Desktop\\IMPERIAL YEAR 4\\Final year project\\code\\PyalData\\pyaldata\\firing_rates.py:91: UserWarning: Assuming spikes are actually spikes and dividing by bin size.\n",
      "  utils.warnings.warn(\"Assuming spikes are actually spikes and dividing by bin size.\")\n",
      "C:\\Users\\MARA\\Desktop\\IMPERIAL YEAR 4\\Final year project\\code\\PyalData\\pyaldata\\firing_rates.py:91: UserWarning: Assuming spikes are actually spikes and dividing by bin size.\n",
      "  utils.warnings.warn(\"Assuming spikes are actually spikes and dividing by bin size.\")\n",
      "C:\\Users\\MARA\\Desktop\\IMPERIAL YEAR 4\\Final year project\\code\\PyalData\\pyaldata\\firing_rates.py:91: UserWarning: Assuming spikes are actually spikes and dividing by bin size.\n",
      "  utils.warnings.warn(\"Assuming spikes are actually spikes and dividing by bin size.\")\n",
      "C:\\Users\\MARA\\AppData\\Local\\Temp\\ipykernel_15780\\1851211300.py:35: UserWarning: Dropping the trials with the following IDs because of invalid time indexing. For more information, try warn_per_trial=True\n",
      "\n",
      "        [41]\n",
      "  df = pyaldata.restrict_to_interval(df, \"idx_mo\", end_point_name=None, rel_start=-50, rel_end=100)  # consider half a second before and after movement onset\n"
     ]
    },
    {
     "name": "stdout",
     "output_type": "stream",
     "text": [
      "C:/Users/MARA/Desktop/IMPERIAL YEAR 4/Final year project/code/datasets/autism data/PS-M366/PS-M366-pyaldata2\\PS-M366_session5.mat\n"
     ]
    },
    {
     "name": "stderr",
     "output_type": "stream",
     "text": [
      "C:\\Users\\MARA\\Desktop\\IMPERIAL YEAR 4\\Final year project\\code\\PyalData\\pyaldata\\firing_rates.py:91: UserWarning: Assuming spikes are actually spikes and dividing by bin size.\n",
      "  utils.warnings.warn(\"Assuming spikes are actually spikes and dividing by bin size.\")\n",
      "C:\\Users\\MARA\\Desktop\\IMPERIAL YEAR 4\\Final year project\\code\\PyalData\\pyaldata\\firing_rates.py:91: UserWarning: Assuming spikes are actually spikes and dividing by bin size.\n",
      "  utils.warnings.warn(\"Assuming spikes are actually spikes and dividing by bin size.\")\n",
      "C:\\Users\\MARA\\Desktop\\IMPERIAL YEAR 4\\Final year project\\code\\PyalData\\pyaldata\\firing_rates.py:91: UserWarning: Assuming spikes are actually spikes and dividing by bin size.\n",
      "  utils.warnings.warn(\"Assuming spikes are actually spikes and dividing by bin size.\")\n"
     ]
    },
    {
     "name": "stdout",
     "output_type": "stream",
     "text": [
      "C:/Users/MARA/Desktop/IMPERIAL YEAR 4/Final year project/code/datasets/autism data/PS-M366/PS-M366-pyaldata2\\PS-M366_session6.mat\n"
     ]
    },
    {
     "name": "stderr",
     "output_type": "stream",
     "text": [
      "C:\\Users\\MARA\\Desktop\\IMPERIAL YEAR 4\\Final year project\\code\\PyalData\\pyaldata\\firing_rates.py:91: UserWarning: Assuming spikes are actually spikes and dividing by bin size.\n",
      "  utils.warnings.warn(\"Assuming spikes are actually spikes and dividing by bin size.\")\n",
      "C:\\Users\\MARA\\Desktop\\IMPERIAL YEAR 4\\Final year project\\code\\PyalData\\pyaldata\\firing_rates.py:91: UserWarning: Assuming spikes are actually spikes and dividing by bin size.\n",
      "  utils.warnings.warn(\"Assuming spikes are actually spikes and dividing by bin size.\")\n",
      "C:\\Users\\MARA\\Desktop\\IMPERIAL YEAR 4\\Final year project\\code\\PyalData\\pyaldata\\firing_rates.py:91: UserWarning: Assuming spikes are actually spikes and dividing by bin size.\n",
      "  utils.warnings.warn(\"Assuming spikes are actually spikes and dividing by bin size.\")\n"
     ]
    }
   ],
   "source": [
    "# consider all models, and no thalamus: \n",
    "\n",
    "activity_magn_strengths = {'WT-M350':{'m1':[], 'dcn':[], 'str':[]},\n",
    "                'WT-M355':{'m1':[], 'dcn':[], 'str':[]}, \n",
    "                'AS-M351':{'m1':[], 'dcn':[], 'str':[]},\n",
    "                'AS-M354':{'m1':[], 'dcn':[], 'str':[]},\n",
    "                'PS-M365':{'m1':[], 'dcn':[], 'str':[]},\n",
    "                'PS-M366':{'m1':[], 'dcn':[], 'str':[]}}\n",
    "\n",
    "for data_dir in [data_dir_WTM350, data_dir_WTM355, data_dir_ASM351, data_dir_ASM354, data_dir_PSM365, data_dir_PSM366]:\n",
    "    animal_model = data_dir[-17:-10]\n",
    "    files = os.listdir(data_dir)\n",
    "    for file_name in files:\n",
    "        fpath = os.path.join(data_dir, file_name)\n",
    "        df = pyaldata.mat2dataframe(fpath, shift_idx_fields=True)\n",
    "        df = pyaldata.select_trials(df, \"success == 1\")  # only consider successful trials\n",
    "        df[\"trial_id\"] = range(len(df))\n",
    "\n",
    "        if len(df)>4:\n",
    "            if df.m1_spikes[0].shape[1]>8 and df.dcn_spikes[0].shape[1]>8 and df.str_spikes[0].shape[1]>8:\n",
    "                print(fpath)\n",
    "                df = pyaldata.combine_time_bins(df, 5)\n",
    "                spike_fields = [\"m1_spikes\",\"dcn_spikes\",\"str_spikes\"]\n",
    "\n",
    "                for col in spike_fields:\n",
    "                    df = pyaldata.remove_low_firing_neurons(df, col,  1)\n",
    "\n",
    "                for col in spike_fields:\n",
    "                    df = pyaldata.transform_signal(df, col,  'sqrt')\n",
    "\n",
    "                df = pyaldata.merge_signals(df, spike_fields, \"all_spikes\")\n",
    "\n",
    "                df = pyaldata.add_firing_rates(df, 'smooth')\n",
    "\n",
    "                df = pyaldata.restrict_to_interval(df, \"idx_mo\", end_point_name=None, rel_start=-50, rel_end=100)  # consider half a second before and after movement onset\n",
    "\n",
    "                # trial-average:\n",
    "                avg_all_rates = df[\"all_rates\"].mean()\n",
    "                avg_m1_rates = df[\"m1_rates\"].mean()\n",
    "                avg_str_rates = df[\"str_rates\"].mean()\n",
    "                avg_dcn_rates = df[\"dcn_rates\"].mean()\n",
    "\n",
    "\n",
    "                magn_m1 = sum(abs(avg_m1_rates))\n",
    "                baseline_m1 = np.mean(magn_m1[0:50])\n",
    "                strength_m1 = math.sqrt(sum(np.power(((magn_m1[50:100]-baseline_m1)/baseline_m1),2))/50)\n",
    "                activity_magn_strengths[animal_model]['m1'].append(strength_m1)\n",
    "\n",
    "                magn_dcn = sum(abs(avg_dcn_rates))\n",
    "                baseline_dcn = np.mean(magn_dcn[0:50])\n",
    "                strength_dcn = math.sqrt(sum(np.power(((magn_dcn[50:100]-baseline_dcn)/baseline_dcn),2))/50)\n",
    "                activity_magn_strengths[animal_model]['dcn'].append(strength_dcn)\n",
    "\n",
    "                magn_str = sum(abs(avg_str_rates))\n",
    "                baseline_str = np.mean(magn_str[0:50])\n",
    "                strength_str = math.sqrt(sum(np.power(((magn_str[50:100]-baseline_str)/baseline_str),2))/50)\n",
    "                activity_magn_strengths[animal_model]['str'].append(strength_str)\n"
   ]
  },
  {
   "cell_type": "code",
   "execution_count": 11,
   "metadata": {},
   "outputs": [
    {
     "data": {
      "text/plain": [
       "<matplotlib.legend.Legend at 0x23229eadfc0>"
      ]
     },
     "execution_count": 11,
     "metadata": {},
     "output_type": "execute_result"
    },
    {
     "data": {
      "image/png": "[encoded data removed]",
      "text/plain": [
       "<Figure size 640x480 with 1 Axes>"
      ]
     },
     "metadata": {},
     "output_type": "display_data"
    }
   ],
   "source": [
    "import statistics\n",
    "\n",
    "# Using mean and standard deviation (obs: need normal distribution)\n",
    "\n",
    "activity_list = ['m1','dcn','str']\n",
    "colors_list = ['r','b','g']\n",
    "i = 1\n",
    "\n",
    "handles = []\n",
    "for animal_model in ['WT-M350','WT-M355','AS-M351','AS-M354','PS-M365','PS-M366']:\n",
    "    current_index = 0\n",
    "    for activity in activity_list:\n",
    "        #plt.scatter(i*np.ones(len(current_magn_strengths[animal_model][current])),current_magn_strengths[animal_model][current], color=colors_list[current_index], s=10)  # or should we plot the median for each session instead of mean?\n",
    "        handle = plt.scatter(i,statistics.mean(activity_magn_strengths[animal_model][activity]), color=colors_list[current_index], marker='x', s=100)  # median of average (mean) duration of movement execution for each session\n",
    "        plt.plot([i,i], [statistics.mean(activity_magn_strengths[animal_model][activity])-statistics.stdev(activity_magn_strengths[animal_model][activity])/2,statistics.mean(activity_magn_strengths[animal_model][activity])+statistics.stdev(activity_magn_strengths[animal_model][activity])/2], color=colors_list[current_index])\n",
    "        current_index +=1\n",
    "        i +=1\n",
    "        handles.append(handle)\n",
    "    i +=18\n",
    "\n",
    "plt.xticks([2,25,45,65,85,105],['WT-M350','WT-M355','AS-M351','AS-M354','PS-M365','PS-M366'])\n",
    "plt.xlabel('Mouse model')\n",
    "plt.ylabel('Change in activity magnitudes')\n",
    "plt.title('Change in activity magnitudes in the first half second after movement onset')\n",
    "plt.legend(handles[0:9], activity_list, fontsize='small')"
   ]
  },
  {
   "cell_type": "code",
   "execution_count": null,
   "metadata": {},
   "outputs": [],
   "source": []
  }
 ],
 "metadata": {
  "kernelspec": {
   "display_name": "Python 3",
   "language": "python",
   "name": "python3"
  },
  "language_info": {
   "codemirror_mode": {
    "name": "ipython",
    "version": 3
   },
   "file_extension": ".py",
   "mimetype": "text/x-python",
   "name": "python",
   "nbconvert_exporter": "python",
   "pygments_lexer": "ipython3",
   "version": "3.10.5"
  }
 },
 "nbformat": 4,
 "nbformat_minor": 2
}
